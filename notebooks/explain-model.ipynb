{
 "metadata": {
  "language_info": {
   "codemirror_mode": {
    "name": "ipython",
    "version": 3
   },
   "file_extension": ".py",
   "mimetype": "text/x-python",
   "name": "python",
   "nbconvert_exporter": "python",
   "pygments_lexer": "ipython3",
   "version": "3.8.6"
  },
  "orig_nbformat": 2,
  "kernelspec": {
   "name": "python386jvsc74a57bd06881fbaa3db696493887a2d97896b503a75d6586f2e95d6238e7c9bbfcefce6d",
   "display_name": "Python 3.8.6 64-bit ('explainable-ai-with-dalex-xuKG8Tin-py3.8': poetry)"
  },
  "metadata": {
   "interpreter": {
    "hash": "6881fbaa3db696493887a2d97896b503a75d6586f2e95d6238e7c9bbfcefce6d"
   }
  }
 },
 "nbformat": 4,
 "nbformat_minor": 2,
 "cells": [
  {
   "cell_type": "code",
   "execution_count": 1,
   "metadata": {},
   "outputs": [],
   "source": [
    "import joblib\n",
    "import pandas as pd\n",
    "\n",
    "model = joblib.load('../models/classifier.bin')\n",
    "df_test = pd.read_csv('../data/processed/test.csv').sample(385)\n",
    "\n",
    "x_test = df_test.drop('LABEL', axis=1)\n",
    "y_test = df_test['LABEL']"
   ]
  },
  {
   "cell_type": "code",
   "execution_count": 2,
   "metadata": {},
   "outputs": [],
   "source": [
    "import dalex as dx"
   ]
  },
  {
   "cell_type": "code",
   "execution_count": 3,
   "metadata": {},
   "outputs": [
    {
     "output_type": "stream",
     "name": "stdout",
     "text": [
      "Preparation of a new explainer is initiated\n\n  -> data              : 385 rows 29 cols\n  -> target variable   : Parameter 'y' was a pandas.Series. Converted to a numpy.ndarray.\n  -> target variable   : 385 values\n  -> model_class       : sklearn.ensemble._forest.RandomForestClassifier (default)\n  -> label             : Not specified, model's class short name will be used. (default)\n  -> predict function  : <function yhat_proba_default at 0x000002B552C95040> will be used (default)\n  -> predict function  : Accepts pandas.DataFrame and numpy.ndarray.\n  -> predicted values  : min = 0.0, mean = 0.227, max = 0.87\n  -> model type        : classification will be used (default)\n  -> residual function : difference between y and yhat (default)\n  -> residuals         : min = -0.835, mean = -0.0189, max = 0.92\n  -> model_info        : package sklearn\n\nA new explainer has been created!\n"
     ]
    }
   ],
   "source": [
    "explainer = dx.Explainer(model, x_test , y_test)"
   ]
  },
  {
   "cell_type": "code",
   "execution_count": 4,
   "metadata": {},
   "outputs": [
    {
     "output_type": "execute_result",
     "data": {
      "text/plain": [
       "<dalex.model_explanations._model_performance.object.ModelPerformance at 0x2b50d0caaf0>"
      ],
      "text/html": "<div>\n<style scoped>\n    .dataframe tbody tr th:only-of-type {\n        vertical-align: middle;\n    }\n\n    .dataframe tbody tr th {\n        vertical-align: top;\n    }\n\n    .dataframe thead th {\n        text-align: right;\n    }\n</style>\n<table border=\"1\" class=\"dataframe\">\n  <thead>\n    <tr style=\"text-align: right;\">\n      <th></th>\n      <th>recall</th>\n      <th>precision</th>\n      <th>f1</th>\n      <th>accuracy</th>\n      <th>auc</th>\n    </tr>\n  </thead>\n  <tbody>\n    <tr>\n      <th>RandomForestClassifier</th>\n      <td>0.3375</td>\n      <td>0.642857</td>\n      <td>0.442623</td>\n      <td>0.823377</td>\n      <td>0.817992</td>\n    </tr>\n  </tbody>\n</table>\n</div>"
     },
     "metadata": {},
     "execution_count": 4
    }
   ],
   "source": [
    "explainer.model_performance()"
   ]
  },
  {
   "cell_type": "code",
   "execution_count": 5,
   "metadata": {},
   "outputs": [
    {
     "output_type": "display_data",
     "data": {
      "application/vnd.plotly.v1+json": {
       "config": {
        "displaylogo": false,
        "modeBarButtonsToRemove": [
         "sendDataToCloud",
         "lasso2d",
         "autoScale2d",
         "select2d",
         "zoom2d",
         "pan2d",
         "zoomIn2d",
         "zoomOut2d",
         "resetScale2d",
         "toggleSpikelines",
         "hoverCompareCartesian",
         "hoverClosestCartesian"
        ],
        "plotlyServerURL": "https://plot.ly",
        "staticPlot": false,
        "toImageButtonOptions": {
         "height": null,
         "width": null
        }
       },
       "data": [
        {
         "base": 0.18151229508196726,
         "hoverinfo": "text",
         "hoverlabel": {
          "bgcolor": "rgba(0,0,0,0.8)"
         },
         "hovertext": [
          "Model: RandomForestClassifier loss after<br>variable: PAY_1 is permuted: 0.239<br>Drop-out loss change: +0.057",
          "Model: RandomForestClassifier loss after<br>variable: LIMIT_BAL is permuted: 0.209<br>Drop-out loss change: +0.028",
          "Model: RandomForestClassifier loss after<br>variable: PAY_AMT1 is permuted: 0.207<br>Drop-out loss change: +0.025",
          "Model: RandomForestClassifier loss after<br>variable: PAY_2 is permuted: 0.203<br>Drop-out loss change: +0.021",
          "Model: RandomForestClassifier loss after<br>variable: PAY_5 is permuted: 0.197<br>Drop-out loss change: +0.016"
         ],
         "marker": {
          "color": "#46bac2"
         },
         "orientation": "h",
         "showlegend": false,
         "text": [
          "+0.057",
          "+0.028",
          "+0.025",
          "+0.021",
          "+0.016"
         ],
         "textposition": "outside",
         "type": "bar",
         "x": [
          0.05727459016393438,
          0.02761475409836056,
          0.025012295081967145,
          0.02130327868852458,
          0.015581967213114695
         ],
         "xaxis": "x",
         "y": [
          "PAY_1",
          "LIMIT_BAL",
          "PAY_AMT1",
          "PAY_2",
          "PAY_5"
         ],
         "yaxis": "y"
        }
       ],
       "layout": {
        "annotations": [
         {
          "font": {
           "size": 16
          },
          "showarrow": false,
          "text": "RandomForestClassifier",
          "x": 0.5,
          "xanchor": "center",
          "xref": "paper",
          "y": 1,
          "yanchor": "bottom",
          "yref": "paper"
         },
         {
          "font": {
           "size": 16
          },
          "showarrow": false,
          "text": "drop-out loss",
          "x": 0.5,
          "xanchor": "center",
          "xref": "paper",
          "y": 0,
          "yanchor": "top",
          "yref": "paper",
          "yshift": -30
         }
        ],
        "font": {
         "color": "#371ea3"
        },
        "height": 283,
        "margin": {
         "b": 71,
         "r": 30,
         "t": 78
        },
        "shapes": [
         {
          "line": {
           "color": "#371ea3",
           "dash": "dot",
           "width": 1.5
          },
          "type": "line",
          "x0": 0.18151229508196726,
          "x1": 0.18151229508196726,
          "xref": "x",
          "y0": -1,
          "y1": 5,
          "yref": "y"
         }
        ],
        "template": {
         "data": {
          "scatter": [
           {
            "type": "scatter"
           }
          ]
         }
        },
        "title": {
         "text": "Variable Importance",
         "x": 0.15
        },
        "xaxis": {
         "anchor": "y",
         "automargin": true,
         "domain": [
          0,
          1
         ],
         "fixedrange": true,
         "gridwidth": 2,
         "range": [
          0.16552151639344262,
          0.24834323770491804
         ],
         "tickcolor": "white",
         "ticklen": 3,
         "ticks": "outside",
         "type": "linear",
         "zeroline": false
        },
        "yaxis": {
         "anchor": "x",
         "automargin": true,
         "autorange": "reversed",
         "domain": [
          0,
          1
         ],
         "fixedrange": true,
         "gridwidth": 2,
         "tickcolor": "white",
         "ticklen": 10,
         "ticks": "outside",
         "type": "category"
        }
       }
      }
     },
     "metadata": {}
    }
   ],
   "source": [
    "explainer.model_parts().plot(max_vars=5)"
   ]
  },
  {
   "cell_type": "code",
   "execution_count": 17,
   "metadata": {},
   "outputs": [
    {
     "output_type": "stream",
     "name": "stderr",
     "text": [
      "Calculating ceteris paribus: 100%|██████████| 29/29 [00:06<00:00,  4.75it/s]\n",
      "Calculating accumulated dependency: 100%|██████████| 29/29 [00:02<00:00, 13.39it/s]\n"
     ]
    },
    {
     "output_type": "display_data",
     "data": {
      "application/vnd.plotly.v1+json": {
       "config": {
        "displaylogo": false,
        "modeBarButtonsToRemove": [
         "sendDataToCloud",
         "lasso2d",
         "autoScale2d",
         "select2d",
         "zoom2d",
         "pan2d",
         "zoomIn2d",
         "zoomOut2d",
         "resetScale2d",
         "toggleSpikelines",
         "hoverCompareCartesian",
         "hoverClosestCartesian"
        ],
        "plotlyServerURL": "https://plot.ly",
        "staticPlot": false,
        "toImageButtonOptions": {
         "height": null,
         "width": null
        }
       },
       "data": [
        {
         "customdata": [
          [
           0.23155111111111112,
           "RandomForestClassifier",
           "AGE"
          ],
          [
           0.23155111111111112,
           "RandomForestClassifier",
           "AGE"
          ],
          [
           0.23155111111111112,
           "RandomForestClassifier",
           "AGE"
          ],
          [
           0.23155111111111112,
           "RandomForestClassifier",
           "AGE"
          ],
          [
           0.23155111111111112,
           "RandomForestClassifier",
           "AGE"
          ],
          [
           0.23155111111111112,
           "RandomForestClassifier",
           "AGE"
          ],
          [
           0.23155111111111112,
           "RandomForestClassifier",
           "AGE"
          ],
          [
           0.23155111111111112,
           "RandomForestClassifier",
           "AGE"
          ],
          [
           0.23155111111111112,
           "RandomForestClassifier",
           "AGE"
          ],
          [
           0.23155111111111112,
           "RandomForestClassifier",
           "AGE"
          ],
          [
           0.23155111111111112,
           "RandomForestClassifier",
           "AGE"
          ],
          [
           0.23155111111111112,
           "RandomForestClassifier",
           "AGE"
          ],
          [
           0.23155111111111112,
           "RandomForestClassifier",
           "AGE"
          ],
          [
           0.23155111111111112,
           "RandomForestClassifier",
           "AGE"
          ],
          [
           0.23155111111111112,
           "RandomForestClassifier",
           "AGE"
          ],
          [
           0.23155111111111112,
           "RandomForestClassifier",
           "AGE"
          ],
          [
           0.23155111111111112,
           "RandomForestClassifier",
           "AGE"
          ],
          [
           0.23155111111111112,
           "RandomForestClassifier",
           "AGE"
          ],
          [
           0.23155111111111112,
           "RandomForestClassifier",
           "AGE"
          ],
          [
           0.23155111111111112,
           "RandomForestClassifier",
           "AGE"
          ],
          [
           0.23155111111111112,
           "RandomForestClassifier",
           "AGE"
          ],
          [
           0.23155111111111112,
           "RandomForestClassifier",
           "AGE"
          ],
          [
           0.23155111111111112,
           "RandomForestClassifier",
           "AGE"
          ],
          [
           0.23155111111111112,
           "RandomForestClassifier",
           "AGE"
          ],
          [
           0.23155111111111112,
           "RandomForestClassifier",
           "AGE"
          ],
          [
           0.23155111111111112,
           "RandomForestClassifier",
           "AGE"
          ],
          [
           0.23155111111111112,
           "RandomForestClassifier",
           "AGE"
          ],
          [
           0.23155111111111112,
           "RandomForestClassifier",
           "AGE"
          ],
          [
           0.23155111111111112,
           "RandomForestClassifier",
           "AGE"
          ],
          [
           0.23155111111111112,
           "RandomForestClassifier",
           "AGE"
          ],
          [
           0.23155111111111112,
           "RandomForestClassifier",
           "AGE"
          ],
          [
           0.23155111111111112,
           "RandomForestClassifier",
           "AGE"
          ],
          [
           0.23155111111111112,
           "RandomForestClassifier",
           "AGE"
          ],
          [
           0.23155111111111112,
           "RandomForestClassifier",
           "AGE"
          ],
          [
           0.23155111111111112,
           "RandomForestClassifier",
           "AGE"
          ],
          [
           0.23155111111111112,
           "RandomForestClassifier",
           "AGE"
          ],
          [
           0.23155111111111112,
           "RandomForestClassifier",
           "AGE"
          ],
          [
           0.23155111111111112,
           "RandomForestClassifier",
           "AGE"
          ],
          [
           0.23155111111111112,
           "RandomForestClassifier",
           "AGE"
          ],
          [
           0.23155111111111112,
           "RandomForestClassifier",
           "AGE"
          ],
          [
           0.23155111111111112,
           "RandomForestClassifier",
           "AGE"
          ],
          [
           0.23155111111111112,
           "RandomForestClassifier",
           "AGE"
          ],
          [
           0.23155111111111112,
           "RandomForestClassifier",
           "AGE"
          ],
          [
           0.23155111111111112,
           "RandomForestClassifier",
           "AGE"
          ],
          [
           0.23155111111111112,
           "RandomForestClassifier",
           "AGE"
          ],
          [
           0.23155111111111112,
           "RandomForestClassifier",
           "AGE"
          ],
          [
           0.23155111111111112,
           "RandomForestClassifier",
           "AGE"
          ],
          [
           0.23155111111111112,
           "RandomForestClassifier",
           "AGE"
          ],
          [
           0.23155111111111112,
           "RandomForestClassifier",
           "AGE"
          ],
          [
           0.23155111111111112,
           "RandomForestClassifier",
           "AGE"
          ],
          [
           0.23155111111111112,
           "RandomForestClassifier",
           "AGE"
          ],
          [
           0.23155111111111112,
           "RandomForestClassifier",
           "AGE"
          ],
          [
           0.23155111111111112,
           "RandomForestClassifier",
           "AGE"
          ],
          [
           0.23155111111111112,
           "RandomForestClassifier",
           "AGE"
          ],
          [
           0.23155111111111112,
           "RandomForestClassifier",
           "AGE"
          ],
          [
           0.23155111111111112,
           "RandomForestClassifier",
           "AGE"
          ],
          [
           0.23155111111111112,
           "RandomForestClassifier",
           "AGE"
          ],
          [
           0.23155111111111112,
           "RandomForestClassifier",
           "AGE"
          ],
          [
           0.23155111111111112,
           "RandomForestClassifier",
           "AGE"
          ],
          [
           0.23155111111111112,
           "RandomForestClassifier",
           "AGE"
          ],
          [
           0.23155111111111112,
           "RandomForestClassifier",
           "AGE"
          ],
          [
           0.23155111111111112,
           "RandomForestClassifier",
           "AGE"
          ],
          [
           0.23155111111111112,
           "RandomForestClassifier",
           "AGE"
          ],
          [
           0.23155111111111112,
           "RandomForestClassifier",
           "AGE"
          ],
          [
           0.23155111111111112,
           "RandomForestClassifier",
           "AGE"
          ],
          [
           0.23155111111111112,
           "RandomForestClassifier",
           "AGE"
          ],
          [
           0.23155111111111112,
           "RandomForestClassifier",
           "AGE"
          ],
          [
           0.23155111111111112,
           "RandomForestClassifier",
           "AGE"
          ],
          [
           0.23155111111111112,
           "RandomForestClassifier",
           "AGE"
          ],
          [
           0.23155111111111112,
           "RandomForestClassifier",
           "AGE"
          ],
          [
           0.23155111111111112,
           "RandomForestClassifier",
           "AGE"
          ],
          [
           0.23155111111111112,
           "RandomForestClassifier",
           "AGE"
          ],
          [
           0.23155111111111112,
           "RandomForestClassifier",
           "AGE"
          ],
          [
           0.23155111111111112,
           "RandomForestClassifier",
           "AGE"
          ],
          [
           0.23155111111111112,
           "RandomForestClassifier",
           "AGE"
          ],
          [
           0.23155111111111112,
           "RandomForestClassifier",
           "AGE"
          ],
          [
           0.23155111111111112,
           "RandomForestClassifier",
           "AGE"
          ],
          [
           0.23155111111111112,
           "RandomForestClassifier",
           "AGE"
          ],
          [
           0.23155111111111112,
           "RandomForestClassifier",
           "AGE"
          ],
          [
           0.23155111111111112,
           "RandomForestClassifier",
           "AGE"
          ],
          [
           0.23155111111111112,
           "RandomForestClassifier",
           "AGE"
          ],
          [
           0.23155111111111112,
           "RandomForestClassifier",
           "AGE"
          ],
          [
           0.23155111111111112,
           "RandomForestClassifier",
           "AGE"
          ],
          [
           0.23155111111111112,
           "RandomForestClassifier",
           "AGE"
          ],
          [
           0.23155111111111112,
           "RandomForestClassifier",
           "AGE"
          ],
          [
           0.23155111111111112,
           "RandomForestClassifier",
           "AGE"
          ],
          [
           0.23155111111111112,
           "RandomForestClassifier",
           "AGE"
          ],
          [
           0.23155111111111112,
           "RandomForestClassifier",
           "AGE"
          ],
          [
           0.23155111111111112,
           "RandomForestClassifier",
           "AGE"
          ],
          [
           0.23155111111111112,
           "RandomForestClassifier",
           "AGE"
          ],
          [
           0.23155111111111112,
           "RandomForestClassifier",
           "AGE"
          ],
          [
           0.23155111111111112,
           "RandomForestClassifier",
           "AGE"
          ],
          [
           0.23155111111111112,
           "RandomForestClassifier",
           "AGE"
          ],
          [
           0.23155111111111112,
           "RandomForestClassifier",
           "AGE"
          ],
          [
           0.23155111111111112,
           "RandomForestClassifier",
           "AGE"
          ],
          [
           0.23155111111111112,
           "RandomForestClassifier",
           "AGE"
          ],
          [
           0.23155111111111112,
           "RandomForestClassifier",
           "AGE"
          ],
          [
           0.23155111111111112,
           "RandomForestClassifier",
           "AGE"
          ],
          [
           0.23155111111111112,
           "RandomForestClassifier",
           "AGE"
          ],
          [
           0.23155111111111112,
           "RandomForestClassifier",
           "AGE"
          ],
          [
           0.23155111111111112,
           "RandomForestClassifier",
           "AGE"
          ]
         ],
         "hovertemplate": "<b>%{hovertext}</b><br><br>prediction=%{y:.3f}<br>mean_prediction=%{customdata[0]:.3f}<extra></extra>",
         "hovertext": [
          "RandomForestClassifier",
          "RandomForestClassifier",
          "RandomForestClassifier",
          "RandomForestClassifier",
          "RandomForestClassifier",
          "RandomForestClassifier",
          "RandomForestClassifier",
          "RandomForestClassifier",
          "RandomForestClassifier",
          "RandomForestClassifier",
          "RandomForestClassifier",
          "RandomForestClassifier",
          "RandomForestClassifier",
          "RandomForestClassifier",
          "RandomForestClassifier",
          "RandomForestClassifier",
          "RandomForestClassifier",
          "RandomForestClassifier",
          "RandomForestClassifier",
          "RandomForestClassifier",
          "RandomForestClassifier",
          "RandomForestClassifier",
          "RandomForestClassifier",
          "RandomForestClassifier",
          "RandomForestClassifier",
          "RandomForestClassifier",
          "RandomForestClassifier",
          "RandomForestClassifier",
          "RandomForestClassifier",
          "RandomForestClassifier",
          "RandomForestClassifier",
          "RandomForestClassifier",
          "RandomForestClassifier",
          "RandomForestClassifier",
          "RandomForestClassifier",
          "RandomForestClassifier",
          "RandomForestClassifier",
          "RandomForestClassifier",
          "RandomForestClassifier",
          "RandomForestClassifier",
          "RandomForestClassifier",
          "RandomForestClassifier",
          "RandomForestClassifier",
          "RandomForestClassifier",
          "RandomForestClassifier",
          "RandomForestClassifier",
          "RandomForestClassifier",
          "RandomForestClassifier",
          "RandomForestClassifier",
          "RandomForestClassifier",
          "RandomForestClassifier",
          "RandomForestClassifier",
          "RandomForestClassifier",
          "RandomForestClassifier",
          "RandomForestClassifier",
          "RandomForestClassifier",
          "RandomForestClassifier",
          "RandomForestClassifier",
          "RandomForestClassifier",
          "RandomForestClassifier",
          "RandomForestClassifier",
          "RandomForestClassifier",
          "RandomForestClassifier",
          "RandomForestClassifier",
          "RandomForestClassifier",
          "RandomForestClassifier",
          "RandomForestClassifier",
          "RandomForestClassifier",
          "RandomForestClassifier",
          "RandomForestClassifier",
          "RandomForestClassifier",
          "RandomForestClassifier",
          "RandomForestClassifier",
          "RandomForestClassifier",
          "RandomForestClassifier",
          "RandomForestClassifier",
          "RandomForestClassifier",
          "RandomForestClassifier",
          "RandomForestClassifier",
          "RandomForestClassifier",
          "RandomForestClassifier",
          "RandomForestClassifier",
          "RandomForestClassifier",
          "RandomForestClassifier",
          "RandomForestClassifier",
          "RandomForestClassifier",
          "RandomForestClassifier",
          "RandomForestClassifier",
          "RandomForestClassifier",
          "RandomForestClassifier",
          "RandomForestClassifier",
          "RandomForestClassifier",
          "RandomForestClassifier",
          "RandomForestClassifier",
          "RandomForestClassifier",
          "RandomForestClassifier",
          "RandomForestClassifier",
          "RandomForestClassifier",
          "RandomForestClassifier",
          "RandomForestClassifier",
          "RandomForestClassifier"
         ],
         "legendgroup": "RandomForestClassifier",
         "line": {
          "color": "#46bac2",
          "dash": "solid",
          "width": 2
         },
         "mode": "lines",
         "name": "RandomForestClassifier",
         "opacity": 1,
         "orientation": "v",
         "showlegend": true,
         "type": "scatter",
         "x": [
          22,
          22.42,
          22.84,
          23.26,
          23.68,
          24.1,
          24.52,
          24.94,
          25.36,
          25.78,
          26.2,
          26.62,
          27.04,
          27.46,
          27.88,
          28.3,
          28.72,
          29.14,
          29.56,
          29.98,
          30.4,
          30.82,
          31.240000000000002,
          31.66,
          32.08,
          32.5,
          32.92,
          33.34,
          33.76,
          34.18,
          34.6,
          35.019999999999996,
          35.44,
          35.86,
          36.28,
          36.7,
          37.12,
          37.54,
          37.96,
          38.379999999999995,
          38.8,
          39.22,
          39.64,
          40.06,
          40.480000000000004,
          40.9,
          41.32,
          41.739999999999995,
          42.16,
          42.58,
          43,
          43.42,
          43.84,
          44.26,
          44.68,
          45.099999999999994,
          45.519999999999996,
          45.94,
          46.36,
          46.78,
          47.2,
          47.62,
          48.04,
          48.459999999999994,
          48.879999999999995,
          49.3,
          49.72,
          50.14,
          50.56,
          50.980000000000004,
          51.4,
          51.82,
          52.239999999999995,
          52.66,
          53.08,
          53.5,
          53.92,
          54.339999999999996,
          54.76,
          55.18,
          55.6,
          56.019999999999996,
          56.44,
          56.86,
          57.28,
          57.699999999999996,
          58.12,
          58.54,
          58.96,
          59.379999999999995,
          59.8,
          60.22,
          60.64,
          61.059999999999995,
          61.48,
          61.9,
          62.32,
          62.74,
          63.16,
          63.58,
          64
         ],
         "xaxis": "x",
         "y": [
          0.22371590968403024,
          0.22378491262688777,
          0.20947721635609012,
          0.20818927907522372,
          0.20246510712360594,
          0.20174004922087183,
          0.19939198182366658,
          0.19939198182366658,
          0.1989443899394194,
          0.19300264187539792,
          0.19247761044569672,
          0.19169711004924955,
          0.19173868011607992,
          0.19173868011607992,
          0.19057915371828277,
          0.1901070284651383,
          0.18800889936905152,
          0.18796495235081584,
          0.18718769128852475,
          0.18718769128852475,
          0.1869549838771915,
          0.18523504274333763,
          0.18525188259142922,
          0.18658547805994027,
          0.18654985101878016,
          0.18654985101878016,
          0.18829476383582575,
          0.18818666750755508,
          0.18867318487566026,
          0.18742333798318558,
          0.18752049303312662,
          0.18768502760786343,
          0.18768502760786343,
          0.1889812646569524,
          0.18938780306631892,
          0.19196818909332314,
          0.19207990982693007,
          0.19397764085829702,
          0.19397764085829702,
          0.19414348894655287,
          0.19566867070143154,
          0.19539187679078907,
          0.19315526018716375,
          0.1930318600165496,
          0.1930318600165496,
          0.19552948104320103,
          0.19587806007359737,
          0.19640778014962895,
          0.19653090785508043,
          0.19871673694484016,
          0.19871673694484016,
          0.19825827372830315,
          0.19765782096863985,
          0.1977682540142091,
          0.1992695710001772,
          0.1996257584701291,
          0.20035519197727023,
          0.20035519197727023,
          0.19862673967081973,
          0.19926110318602328,
          0.1998472414109907,
          0.20028716475221453,
          0.2015057417620153,
          0.2015057417620153,
          0.20299061671733007,
          0.20400174642995397,
          0.2040643418507884,
          0.20517831780232626,
          0.2084701902631002,
          0.2084701902631002,
          0.20879043264791466,
          0.20919501648926536,
          0.20985360527214744,
          0.21462110480098184,
          0.21454627186219122,
          0.21454627186219122,
          0.21817195022073177,
          0.2189764320563632,
          0.220450472353525,
          0.22166877104827037,
          0.2253288129651099,
          0.2271354389181786,
          0.2271354389181786,
          0.22815646725530184,
          0.2286866285155707,
          0.22983791183206878,
          0.23040467690787694,
          0.23029634634693794,
          0.23029634634693794,
          0.23013246753370983,
          0.23110113788369135,
          0.23275228299725312,
          0.2373639456596656,
          0.23741077002063485,
          0.23741077002063485,
          0.2373630999772312,
          0.23859531993933708,
          0.2425168309225719,
          0.24268961233382305,
          0.24709062076075747,
          0.24709062076075747
         ],
         "yaxis": "y"
        },
        {
         "customdata": [
          [
           0.23155111111111112,
           "RandomForestClassifier",
           "PAY_1"
          ],
          [
           0.23155111111111112,
           "RandomForestClassifier",
           "PAY_1"
          ],
          [
           0.23155111111111112,
           "RandomForestClassifier",
           "PAY_1"
          ],
          [
           0.23155111111111112,
           "RandomForestClassifier",
           "PAY_1"
          ],
          [
           0.23155111111111112,
           "RandomForestClassifier",
           "PAY_1"
          ],
          [
           0.23155111111111112,
           "RandomForestClassifier",
           "PAY_1"
          ],
          [
           0.23155111111111112,
           "RandomForestClassifier",
           "PAY_1"
          ],
          [
           0.23155111111111112,
           "RandomForestClassifier",
           "PAY_1"
          ],
          [
           0.23155111111111112,
           "RandomForestClassifier",
           "PAY_1"
          ],
          [
           0.23155111111111112,
           "RandomForestClassifier",
           "PAY_1"
          ],
          [
           0.23155111111111112,
           "RandomForestClassifier",
           "PAY_1"
          ],
          [
           0.23155111111111112,
           "RandomForestClassifier",
           "PAY_1"
          ],
          [
           0.23155111111111112,
           "RandomForestClassifier",
           "PAY_1"
          ],
          [
           0.23155111111111112,
           "RandomForestClassifier",
           "PAY_1"
          ],
          [
           0.23155111111111112,
           "RandomForestClassifier",
           "PAY_1"
          ],
          [
           0.23155111111111112,
           "RandomForestClassifier",
           "PAY_1"
          ],
          [
           0.23155111111111112,
           "RandomForestClassifier",
           "PAY_1"
          ],
          [
           0.23155111111111112,
           "RandomForestClassifier",
           "PAY_1"
          ],
          [
           0.23155111111111112,
           "RandomForestClassifier",
           "PAY_1"
          ],
          [
           0.23155111111111112,
           "RandomForestClassifier",
           "PAY_1"
          ],
          [
           0.23155111111111112,
           "RandomForestClassifier",
           "PAY_1"
          ],
          [
           0.23155111111111112,
           "RandomForestClassifier",
           "PAY_1"
          ],
          [
           0.23155111111111112,
           "RandomForestClassifier",
           "PAY_1"
          ],
          [
           0.23155111111111112,
           "RandomForestClassifier",
           "PAY_1"
          ],
          [
           0.23155111111111112,
           "RandomForestClassifier",
           "PAY_1"
          ],
          [
           0.23155111111111112,
           "RandomForestClassifier",
           "PAY_1"
          ],
          [
           0.23155111111111112,
           "RandomForestClassifier",
           "PAY_1"
          ],
          [
           0.23155111111111112,
           "RandomForestClassifier",
           "PAY_1"
          ],
          [
           0.23155111111111112,
           "RandomForestClassifier",
           "PAY_1"
          ],
          [
           0.23155111111111112,
           "RandomForestClassifier",
           "PAY_1"
          ],
          [
           0.23155111111111112,
           "RandomForestClassifier",
           "PAY_1"
          ],
          [
           0.23155111111111112,
           "RandomForestClassifier",
           "PAY_1"
          ],
          [
           0.23155111111111112,
           "RandomForestClassifier",
           "PAY_1"
          ],
          [
           0.23155111111111112,
           "RandomForestClassifier",
           "PAY_1"
          ],
          [
           0.23155111111111112,
           "RandomForestClassifier",
           "PAY_1"
          ],
          [
           0.23155111111111112,
           "RandomForestClassifier",
           "PAY_1"
          ],
          [
           0.23155111111111112,
           "RandomForestClassifier",
           "PAY_1"
          ],
          [
           0.23155111111111112,
           "RandomForestClassifier",
           "PAY_1"
          ],
          [
           0.23155111111111112,
           "RandomForestClassifier",
           "PAY_1"
          ],
          [
           0.23155111111111112,
           "RandomForestClassifier",
           "PAY_1"
          ],
          [
           0.23155111111111112,
           "RandomForestClassifier",
           "PAY_1"
          ],
          [
           0.23155111111111112,
           "RandomForestClassifier",
           "PAY_1"
          ],
          [
           0.23155111111111112,
           "RandomForestClassifier",
           "PAY_1"
          ],
          [
           0.23155111111111112,
           "RandomForestClassifier",
           "PAY_1"
          ],
          [
           0.23155111111111112,
           "RandomForestClassifier",
           "PAY_1"
          ],
          [
           0.23155111111111112,
           "RandomForestClassifier",
           "PAY_1"
          ],
          [
           0.23155111111111112,
           "RandomForestClassifier",
           "PAY_1"
          ],
          [
           0.23155111111111112,
           "RandomForestClassifier",
           "PAY_1"
          ],
          [
           0.23155111111111112,
           "RandomForestClassifier",
           "PAY_1"
          ],
          [
           0.23155111111111112,
           "RandomForestClassifier",
           "PAY_1"
          ],
          [
           0.23155111111111112,
           "RandomForestClassifier",
           "PAY_1"
          ],
          [
           0.23155111111111112,
           "RandomForestClassifier",
           "PAY_1"
          ],
          [
           0.23155111111111112,
           "RandomForestClassifier",
           "PAY_1"
          ],
          [
           0.23155111111111112,
           "RandomForestClassifier",
           "PAY_1"
          ],
          [
           0.23155111111111112,
           "RandomForestClassifier",
           "PAY_1"
          ],
          [
           0.23155111111111112,
           "RandomForestClassifier",
           "PAY_1"
          ],
          [
           0.23155111111111112,
           "RandomForestClassifier",
           "PAY_1"
          ],
          [
           0.23155111111111112,
           "RandomForestClassifier",
           "PAY_1"
          ],
          [
           0.23155111111111112,
           "RandomForestClassifier",
           "PAY_1"
          ],
          [
           0.23155111111111112,
           "RandomForestClassifier",
           "PAY_1"
          ],
          [
           0.23155111111111112,
           "RandomForestClassifier",
           "PAY_1"
          ],
          [
           0.23155111111111112,
           "RandomForestClassifier",
           "PAY_1"
          ],
          [
           0.23155111111111112,
           "RandomForestClassifier",
           "PAY_1"
          ],
          [
           0.23155111111111112,
           "RandomForestClassifier",
           "PAY_1"
          ],
          [
           0.23155111111111112,
           "RandomForestClassifier",
           "PAY_1"
          ],
          [
           0.23155111111111112,
           "RandomForestClassifier",
           "PAY_1"
          ],
          [
           0.23155111111111112,
           "RandomForestClassifier",
           "PAY_1"
          ],
          [
           0.23155111111111112,
           "RandomForestClassifier",
           "PAY_1"
          ],
          [
           0.23155111111111112,
           "RandomForestClassifier",
           "PAY_1"
          ],
          [
           0.23155111111111112,
           "RandomForestClassifier",
           "PAY_1"
          ],
          [
           0.23155111111111112,
           "RandomForestClassifier",
           "PAY_1"
          ],
          [
           0.23155111111111112,
           "RandomForestClassifier",
           "PAY_1"
          ],
          [
           0.23155111111111112,
           "RandomForestClassifier",
           "PAY_1"
          ],
          [
           0.23155111111111112,
           "RandomForestClassifier",
           "PAY_1"
          ],
          [
           0.23155111111111112,
           "RandomForestClassifier",
           "PAY_1"
          ],
          [
           0.23155111111111112,
           "RandomForestClassifier",
           "PAY_1"
          ],
          [
           0.23155111111111112,
           "RandomForestClassifier",
           "PAY_1"
          ],
          [
           0.23155111111111112,
           "RandomForestClassifier",
           "PAY_1"
          ],
          [
           0.23155111111111112,
           "RandomForestClassifier",
           "PAY_1"
          ],
          [
           0.23155111111111112,
           "RandomForestClassifier",
           "PAY_1"
          ],
          [
           0.23155111111111112,
           "RandomForestClassifier",
           "PAY_1"
          ],
          [
           0.23155111111111112,
           "RandomForestClassifier",
           "PAY_1"
          ],
          [
           0.23155111111111112,
           "RandomForestClassifier",
           "PAY_1"
          ],
          [
           0.23155111111111112,
           "RandomForestClassifier",
           "PAY_1"
          ],
          [
           0.23155111111111112,
           "RandomForestClassifier",
           "PAY_1"
          ],
          [
           0.23155111111111112,
           "RandomForestClassifier",
           "PAY_1"
          ],
          [
           0.23155111111111112,
           "RandomForestClassifier",
           "PAY_1"
          ],
          [
           0.23155111111111112,
           "RandomForestClassifier",
           "PAY_1"
          ],
          [
           0.23155111111111112,
           "RandomForestClassifier",
           "PAY_1"
          ],
          [
           0.23155111111111112,
           "RandomForestClassifier",
           "PAY_1"
          ],
          [
           0.23155111111111112,
           "RandomForestClassifier",
           "PAY_1"
          ],
          [
           0.23155111111111112,
           "RandomForestClassifier",
           "PAY_1"
          ],
          [
           0.23155111111111112,
           "RandomForestClassifier",
           "PAY_1"
          ],
          [
           0.23155111111111112,
           "RandomForestClassifier",
           "PAY_1"
          ],
          [
           0.23155111111111112,
           "RandomForestClassifier",
           "PAY_1"
          ],
          [
           0.23155111111111112,
           "RandomForestClassifier",
           "PAY_1"
          ],
          [
           0.23155111111111112,
           "RandomForestClassifier",
           "PAY_1"
          ],
          [
           0.23155111111111112,
           "RandomForestClassifier",
           "PAY_1"
          ],
          [
           0.23155111111111112,
           "RandomForestClassifier",
           "PAY_1"
          ],
          [
           0.23155111111111112,
           "RandomForestClassifier",
           "PAY_1"
          ],
          [
           0.23155111111111112,
           "RandomForestClassifier",
           "PAY_1"
          ]
         ],
         "hovertemplate": "<b>%{hovertext}</b><br><br>prediction=%{y:.3f}<br>mean_prediction=%{customdata[0]:.3f}<extra></extra>",
         "hovertext": [
          "RandomForestClassifier",
          "RandomForestClassifier",
          "RandomForestClassifier",
          "RandomForestClassifier",
          "RandomForestClassifier",
          "RandomForestClassifier",
          "RandomForestClassifier",
          "RandomForestClassifier",
          "RandomForestClassifier",
          "RandomForestClassifier",
          "RandomForestClassifier",
          "RandomForestClassifier",
          "RandomForestClassifier",
          "RandomForestClassifier",
          "RandomForestClassifier",
          "RandomForestClassifier",
          "RandomForestClassifier",
          "RandomForestClassifier",
          "RandomForestClassifier",
          "RandomForestClassifier",
          "RandomForestClassifier",
          "RandomForestClassifier",
          "RandomForestClassifier",
          "RandomForestClassifier",
          "RandomForestClassifier",
          "RandomForestClassifier",
          "RandomForestClassifier",
          "RandomForestClassifier",
          "RandomForestClassifier",
          "RandomForestClassifier",
          "RandomForestClassifier",
          "RandomForestClassifier",
          "RandomForestClassifier",
          "RandomForestClassifier",
          "RandomForestClassifier",
          "RandomForestClassifier",
          "RandomForestClassifier",
          "RandomForestClassifier",
          "RandomForestClassifier",
          "RandomForestClassifier",
          "RandomForestClassifier",
          "RandomForestClassifier",
          "RandomForestClassifier",
          "RandomForestClassifier",
          "RandomForestClassifier",
          "RandomForestClassifier",
          "RandomForestClassifier",
          "RandomForestClassifier",
          "RandomForestClassifier",
          "RandomForestClassifier",
          "RandomForestClassifier",
          "RandomForestClassifier",
          "RandomForestClassifier",
          "RandomForestClassifier",
          "RandomForestClassifier",
          "RandomForestClassifier",
          "RandomForestClassifier",
          "RandomForestClassifier",
          "RandomForestClassifier",
          "RandomForestClassifier",
          "RandomForestClassifier",
          "RandomForestClassifier",
          "RandomForestClassifier",
          "RandomForestClassifier",
          "RandomForestClassifier",
          "RandomForestClassifier",
          "RandomForestClassifier",
          "RandomForestClassifier",
          "RandomForestClassifier",
          "RandomForestClassifier",
          "RandomForestClassifier",
          "RandomForestClassifier",
          "RandomForestClassifier",
          "RandomForestClassifier",
          "RandomForestClassifier",
          "RandomForestClassifier",
          "RandomForestClassifier",
          "RandomForestClassifier",
          "RandomForestClassifier",
          "RandomForestClassifier",
          "RandomForestClassifier",
          "RandomForestClassifier",
          "RandomForestClassifier",
          "RandomForestClassifier",
          "RandomForestClassifier",
          "RandomForestClassifier",
          "RandomForestClassifier",
          "RandomForestClassifier",
          "RandomForestClassifier",
          "RandomForestClassifier",
          "RandomForestClassifier",
          "RandomForestClassifier",
          "RandomForestClassifier",
          "RandomForestClassifier",
          "RandomForestClassifier",
          "RandomForestClassifier",
          "RandomForestClassifier",
          "RandomForestClassifier",
          "RandomForestClassifier",
          "RandomForestClassifier",
          "RandomForestClassifier"
         ],
         "legendgroup": "RandomForestClassifier",
         "line": {
          "color": "#46bac2",
          "dash": "solid",
          "width": 2
         },
         "mode": "lines",
         "name": "RandomForestClassifier",
         "opacity": 1,
         "orientation": "v",
         "showlegend": false,
         "type": "scatter",
         "x": [
          -2,
          -1.94,
          -1.88,
          -1.82,
          -1.76,
          -1.7,
          -1.6400000000000001,
          -1.58,
          -1.52,
          -1.46,
          -1.4,
          -1.34,
          -1.28,
          -1.22,
          -1.1600000000000001,
          -1.1,
          -1.04,
          -0.98,
          -0.9199999999999999,
          -0.8600000000000001,
          -0.8,
          -0.74,
          -0.6800000000000002,
          -0.6200000000000001,
          -0.56,
          -0.5,
          -0.43999999999999995,
          -0.3800000000000001,
          -0.32000000000000006,
          -0.26,
          -0.20000000000000018,
          -0.14000000000000012,
          -0.08000000000000007,
          -0.020000000000000018,
          0.040000000000000036,
          0.10000000000000009,
          0.16000000000000014,
          0.21999999999999975,
          0.2799999999999998,
          0.33999999999999986,
          0.3999999999999999,
          0.45999999999999996,
          0.52,
          0.5800000000000001,
          0.6399999999999997,
          0.6999999999999997,
          0.7599999999999998,
          0.8199999999999998,
          0.8799999999999999,
          0.94,
          1,
          1.06,
          1.12,
          1.1799999999999997,
          1.2399999999999998,
          1.2999999999999998,
          1.3599999999999999,
          1.42,
          1.48,
          1.54,
          1.5999999999999996,
          1.6599999999999997,
          1.7199999999999998,
          1.7799999999999998,
          1.8399999999999999,
          1.9,
          1.96,
          2.0199999999999996,
          2.08,
          2.1399999999999997,
          2.2,
          2.26,
          2.3200000000000003,
          2.38,
          2.4399999999999995,
          2.5,
          2.5599999999999996,
          2.62,
          2.6799999999999997,
          2.74,
          2.8,
          2.8599999999999994,
          2.92,
          2.9799999999999995,
          3.04,
          3.0999999999999996,
          3.16,
          3.2199999999999998,
          3.2799999999999994,
          3.34,
          3.3999999999999995,
          3.46,
          3.5199999999999996,
          3.58,
          3.6399999999999997,
          3.7,
          3.76,
          3.8199999999999994,
          3.88,
          3.9399999999999995,
          4
         ],
         "xaxis": "x2",
         "y": [
          0.22371590968403024,
          0.22371590968403024,
          0.22371590968403024,
          0.22371590968403024,
          0.22371590968403024,
          0.22371590968403024,
          0.22371590968403024,
          0.22371590968403024,
          0.22371590968403024,
          0.22541452896228503,
          0.22541452896228503,
          0.22541452896228503,
          0.22541452896228503,
          0.22541452896228503,
          0.22541452896228503,
          0.22541452896228503,
          0.22541452896228503,
          0.2254511989520818,
          0.2254511989520818,
          0.2254511989520818,
          0.2254511989520818,
          0.2254511989520818,
          0.2254511989520818,
          0.2254511989520818,
          0.2254511989520818,
          0.2254511989520818,
          0.21969499190112843,
          0.21969499190112843,
          0.21969499190112843,
          0.21969499190112843,
          0.21969499190112843,
          0.21969499190112843,
          0.21969499190112843,
          0.21969499190112843,
          0.2205176446819613,
          0.2205176446819613,
          0.2205176446819613,
          0.2205176446819613,
          0.2205176446819613,
          0.2205176446819613,
          0.2205176446819613,
          0.2205176446819613,
          0.25927666081186507,
          0.25927666081186507,
          0.25927666081186507,
          0.25927666081186507,
          0.25927666081186507,
          0.25927666081186507,
          0.25927666081186507,
          0.25927666081186507,
          0.25927666081186507,
          0.2669589940560498,
          0.2669589940560498,
          0.2669589940560498,
          0.2669589940560498,
          0.2669589940560498,
          0.2669589940560498,
          0.2669589940560498,
          0.2669589940560498,
          0.5894996332927764,
          0.5894996332927764,
          0.5894996332927764,
          0.5894996332927764,
          0.5894996332927764,
          0.5894996332927764,
          0.5894996332927764,
          0.5894996332927764,
          0.5895820788738181,
          0.5895820788738181,
          0.5895820788738181,
          0.5895820788738181,
          0.5895820788738181,
          0.5895820788738181,
          0.5895820788738181,
          0.5895820788738181,
          0.5895820788738181,
          0.5896588228407852,
          0.5896588228407852,
          0.5896588228407852,
          0.5896588228407852,
          0.5896588228407852,
          0.5896588228407852,
          0.5896588228407852,
          0.5896588228407852,
          0.5894993334427078,
          0.5894993334427078,
          0.5894993334427078,
          0.5894993334427078,
          0.5894993334427078,
          0.5894993334427078,
          0.5894993334427078,
          0.5894993334427078,
          0.5815724278197788,
          0.5815724278197788,
          0.5815724278197788,
          0.5815724278197788,
          0.5815724278197788,
          0.5815724278197788,
          0.5815724278197788,
          0.5815724278197788,
          0.5815724278197788
         ],
         "yaxis": "y2"
        }
       ],
       "layout": {
        "annotations": [
         {
          "font": {
           "size": 13
          },
          "showarrow": false,
          "text": "AGE",
          "x": 0.2375,
          "xanchor": "center",
          "xref": "paper",
          "y": 1,
          "yanchor": "bottom",
          "yref": "paper"
         },
         {
          "font": {
           "size": 13
          },
          "showarrow": false,
          "text": "PAY_1",
          "x": 0.7625,
          "xanchor": "center",
          "xref": "paper",
          "y": 1,
          "yanchor": "bottom",
          "yref": "paper"
         },
         {
          "font": {
           "size": 13
          },
          "showarrow": false,
          "text": "prediction",
          "textangle": -90,
          "x": -0.07,
          "xref": "paper",
          "y": 0.5,
          "yref": "paper"
         }
        ],
        "font": {
         "color": "#371ea3"
        },
        "height": 489,
        "hovermode": "x unified",
        "legend": {
         "font": {
          "size": 11
         },
         "itemsizing": "constant",
         "orientation": "h",
         "title": {
          "font": {
           "size": 12
          },
          "text": "label"
         },
         "tracegroupgap": 0,
         "x": 1,
         "xanchor": "right",
         "y": 1.0613496932515338,
         "yanchor": "bottom"
        },
        "margin": {
         "b": 71,
         "r": 30,
         "t": 78
        },
        "template": {
         "data": {
          "scatter": [
           {
            "type": "scatter"
           }
          ]
         }
        },
        "title": {
         "font": {
          "size": 16
         },
         "text": "Aggregated Profiles",
         "x": 0.15
        },
        "xaxis": {
         "anchor": "y",
         "automargin": true,
         "domain": [
          0,
          0.475
         ],
         "fixedrange": true,
         "gridwidth": 2,
         "showticklabels": true,
         "tickcolor": "white",
         "ticklen": 3,
         "ticks": "outside",
         "title": {
          "text": ""
         },
         "type": "linear",
         "zeroline": false
        },
        "xaxis2": {
         "anchor": "y2",
         "automargin": true,
         "domain": [
          0.525,
          1
         ],
         "fixedrange": true,
         "gridwidth": 2,
         "showticklabels": true,
         "tickcolor": "white",
         "ticklen": 3,
         "ticks": "outside",
         "title": {
          "text": ""
         },
         "type": "linear",
         "zeroline": false
        },
        "yaxis": {
         "anchor": "x",
         "automargin": true,
         "domain": [
          0,
          1
         ],
         "fixedrange": true,
         "gridwidth": 2,
         "range": [
          0.14479266473359287,
          0.63010120085053
         ],
         "tickcolor": "white",
         "ticklen": 3,
         "ticks": "outside",
         "title": {
          "text": ""
         },
         "type": "linear",
         "zeroline": false
        },
        "yaxis2": {
         "anchor": "x2",
         "automargin": true,
         "domain": [
          0,
          1
         ],
         "fixedrange": true,
         "gridwidth": 2,
         "matches": "y",
         "range": [
          0.14479266473359287,
          0.63010120085053
         ],
         "showticklabels": false,
         "tickcolor": "white",
         "ticklen": 3,
         "ticks": "outside",
         "title": {
          "text": ""
         },
         "type": "linear",
         "zeroline": false
        }
       }
      }
     },
     "metadata": {}
    }
   ],
   "source": [
    "explainer.model_profile(type='accumulated').plot(variables=['AGE', 'PAY_1'])"
   ]
  },
  {
   "cell_type": "code",
   "execution_count": 7,
   "metadata": {},
   "outputs": [
    {
     "output_type": "display_data",
     "data": {
      "application/vnd.plotly.v1+json": {
       "config": {
        "displaylogo": false,
        "modeBarButtonsToRemove": [
         "sendDataToCloud",
         "lasso2d",
         "autoScale2d",
         "select2d",
         "zoom2d",
         "pan2d",
         "zoomIn2d",
         "zoomOut2d",
         "resetScale2d",
         "toggleSpikelines",
         "hoverCompareCartesian",
         "hoverClosestCartesian"
        ],
        "plotlyServerURL": "https://plot.ly",
        "staticPlot": false,
        "toImageButtonOptions": {
         "height": null,
         "width": null
        }
       },
       "data": [
        {
         "base": 0.22668917748917747,
         "connector": {
          "line": {
           "color": "#371ea3",
           "dash": "solid",
           "width": 1
          },
          "mode": "spanning"
         },
         "decreasing": {
          "marker": {
           "color": "#f05a71"
          }
         },
         "hoverinfo": "text+delta",
         "hoverlabel": {
          "bgcolor": "rgba(0,0,0,0.8)"
         },
         "hovertext": [
          "Average response: 0.227<br>Prediction: 0.11",
          "LIMIT_BAL = 70000.0<br>increases average response by",
          "BILL_AMT2 = 69120.0<br>increases average response by",
          "BILL_AMT3 = 68380.0<br>increases average response by",
          "BILL_AMT4 = 30160.0<br>decreases average response by",
          "BILL_AMT5 = 14310.0<br>increases average response by",
          "PAY_AMT5 = 3000.0<br>increases average response by",
          "BILL_AMT6 = 15080.0<br>decreases average response by",
          "EDUCATION_university = 1.0<br>increases average response by",
          "PAY_AMT1 = 4483.0<br>decreases average response by",
          "EDUCATION_other = 0.0<br>decreases average response by",
          "+ all other factors<br>decreases average response by",
          "Average response: 0.227<br>Prediction: 0.11"
         ],
         "increasing": {
          "marker": {
           "color": "#8bdcbe"
          }
         },
         "measure": [
          "relative",
          "relative",
          "relative",
          "relative",
          "relative",
          "relative",
          "relative",
          "relative",
          "relative",
          "relative",
          "relative",
          "relative",
          "total"
         ],
         "orientation": "h",
         "showlegend": false,
         "text": [
          "0.227",
          "+0.034",
          "+0.03",
          "+0.017",
          "-0.005",
          "+0.001",
          "+0.001",
          "-0.012",
          "+0.003",
          "-0.017",
          "-0.0",
          "-0.169",
          "0.11"
         ],
         "textposition": "outside",
         "totals": {
          "marker": {
           "color": "#371ea3"
          }
         },
         "type": "waterfall",
         "x": [
          0,
          0.034,
          0.03,
          0.017,
          -0.005,
          0.001,
          0.001,
          -0.012,
          0.003,
          -0.017,
          0,
          -0.169,
          -0.117
         ],
         "xaxis": "x",
         "y": [
          "intercept",
          "LIMIT_BAL = 70000.0",
          "BILL_AMT2 = 69120.0",
          "BILL_AMT3 = 68380.0",
          "BILL_AMT4 = 30160.0",
          "BILL_AMT5 = 14310.0",
          "PAY_AMT5 = 3000.0",
          "BILL_AMT6 = 15080.0",
          "EDUCATION_university = 1.0",
          "PAY_AMT1 = 4483.0",
          "EDUCATION_other = 0.0",
          "+ all other factors",
          "prediction"
         ],
         "yaxis": "y"
        }
       ],
       "layout": {
        "annotations": [
         {
          "font": {
           "size": 16
          },
          "showarrow": false,
          "text": "RandomForestClassifier",
          "x": 0.5,
          "xanchor": "center",
          "xref": "paper",
          "y": 1,
          "yanchor": "bottom",
          "yref": "paper"
         },
         {
          "font": {
           "size": 16
          },
          "showarrow": false,
          "text": "contribution",
          "x": 0.5,
          "xanchor": "center",
          "xref": "paper",
          "y": 0,
          "yanchor": "top",
          "yref": "paper",
          "yshift": -30
         }
        ],
        "font": {
         "color": "#371ea3"
        },
        "height": 413,
        "margin": {
         "b": 71,
         "r": 30,
         "t": 78
        },
        "shapes": [
         {
          "line": {
           "color": "#371ea3",
           "dash": "dot",
           "width": 1.5
          },
          "type": "line",
          "x0": 0.22668917748917747,
          "x1": 0.22668917748917747,
          "xref": "x",
          "y0": -1,
          "y1": 13,
          "yref": "y"
         }
        ],
        "template": {
         "data": {
          "scatter": [
           {
            "type": "scatter"
           }
          ]
         }
        },
        "title": {
         "text": "Break Down",
         "x": 0.15
        },
        "xaxis": {
         "anchor": "y",
         "automargin": true,
         "domain": [
          0,
          1
         ],
         "fixedrange": true,
         "gridwidth": 2,
         "range": [
          0.08045,
          0.33655
         ],
         "tickcolor": "white",
         "ticklen": 3,
         "ticks": "outside",
         "type": "linear",
         "zeroline": false
        },
        "yaxis": {
         "anchor": "x",
         "automargin": true,
         "autorange": "reversed",
         "domain": [
          0,
          1
         ],
         "fixedrange": true,
         "gridwidth": 2,
         "tickcolor": "white",
         "ticklen": 10,
         "ticks": "outside",
         "type": "category"
        }
       }
      }
     },
     "metadata": {}
    }
   ],
   "source": [
    "explainer.predict_parts(x_test.iloc[[0]], type='break_down').plot()"
   ]
  },
  {
   "cell_type": "code",
   "execution_count": 19,
   "metadata": {},
   "outputs": [
    {
     "output_type": "stream",
     "name": "stderr",
     "text": [
      "Calculating ceteris paribus: 100%|██████████| 29/29 [00:00<00:00, 109.85it/s]\n"
     ]
    },
    {
     "output_type": "display_data",
     "data": {
      "application/vnd.plotly.v1+json": {
       "config": {
        "displaylogo": false,
        "modeBarButtonsToRemove": [
         "sendDataToCloud",
         "lasso2d",
         "autoScale2d",
         "select2d",
         "zoom2d",
         "pan2d",
         "zoomIn2d",
         "zoomOut2d",
         "resetScale2d",
         "toggleSpikelines",
         "hoverCompareCartesian",
         "hoverClosestCartesian"
        ],
        "plotlyServerURL": "https://plot.ly",
        "staticPlot": false,
        "toImageButtonOptions": {
         "height": null,
         "width": null
        }
       },
       "data": [
        {
         "customdata": [
          [
           "</br>id: 2251</br>prediction: 0.15</br>AGE: 22.0</br></br>LIMIT_BAL: 70000</br>PAY_1: 0.0</br>PAY_2: 0.0</br>PAY_3: 0.0</br>PAY_4: 0.0</br>PAY_5: 0.0</br>PAY_6: 0.0</br>BILL_AMT1: 68699.0</br>BILL_AMT2: 69120.0</br>BILL_AMT3: 68376.0</br>BILL_AMT4: 30163.0</br>BILL_AMT5: 14310.0</br>BILL_AMT6: 15085.0</br>PAY_AMT1: 4483.0</br>PAY_AMT2: 12496</br>PAY_AMT3: 3268.0</br>PAY_AMT4: 3000</br>PAY_AMT5: 3000.0</br>PAY_AMT6: 2000</br>GENDER_female: 1.0</br>GENDER_male: 0.0</br>EDUCATION_graduate: 0.0</br>EDUCATION_highschool: 0.0</br>... too many variables"
          ],
          [
           "</br>id: 2251</br>prediction: 0.15</br>AGE: 22.42</br></br>LIMIT_BAL: 70000</br>PAY_1: 0.0</br>PAY_2: 0.0</br>PAY_3: 0.0</br>PAY_4: 0.0</br>PAY_5: 0.0</br>PAY_6: 0.0</br>BILL_AMT1: 68699.0</br>BILL_AMT2: 69120.0</br>BILL_AMT3: 68376.0</br>BILL_AMT4: 30163.0</br>BILL_AMT5: 14310.0</br>BILL_AMT6: 15085.0</br>PAY_AMT1: 4483.0</br>PAY_AMT2: 12496</br>PAY_AMT3: 3268.0</br>PAY_AMT4: 3000</br>PAY_AMT5: 3000.0</br>PAY_AMT6: 2000</br>GENDER_female: 1.0</br>GENDER_male: 0.0</br>EDUCATION_graduate: 0.0</br>... too many variables"
          ],
          [
           "</br>id: 2251</br>prediction: 0.13</br>AGE: 22.84</br></br>LIMIT_BAL: 70000</br>PAY_1: 0.0</br>PAY_2: 0.0</br>PAY_3: 0.0</br>PAY_4: 0.0</br>PAY_5: 0.0</br>PAY_6: 0.0</br>BILL_AMT1: 68699.0</br>BILL_AMT2: 69120.0</br>BILL_AMT3: 68376.0</br>BILL_AMT4: 30163.0</br>BILL_AMT5: 14310.0</br>BILL_AMT6: 15085.0</br>PAY_AMT1: 4483.0</br>PAY_AMT2: 12496</br>PAY_AMT3: 3268.0</br>PAY_AMT4: 3000</br>PAY_AMT5: 3000.0</br>PAY_AMT6: 2000</br>GENDER_female: 1.0</br>GENDER_male: 0.0</br>EDUCATION_graduate: 0.0</br>... too many variables"
          ],
          [
           "</br>id: 2251</br>prediction: 0.13</br>AGE: 23.26</br></br>LIMIT_BAL: 70000</br>PAY_1: 0.0</br>PAY_2: 0.0</br>PAY_3: 0.0</br>PAY_4: 0.0</br>PAY_5: 0.0</br>PAY_6: 0.0</br>BILL_AMT1: 68699.0</br>BILL_AMT2: 69120.0</br>BILL_AMT3: 68376.0</br>BILL_AMT4: 30163.0</br>BILL_AMT5: 14310.0</br>BILL_AMT6: 15085.0</br>PAY_AMT1: 4483.0</br>PAY_AMT2: 12496</br>PAY_AMT3: 3268.0</br>PAY_AMT4: 3000</br>PAY_AMT5: 3000.0</br>PAY_AMT6: 2000</br>GENDER_female: 1.0</br>GENDER_male: 0.0</br>EDUCATION_graduate: 0.0</br>... too many variables"
          ],
          [
           "</br>id: 2251</br>prediction: 0.14</br>AGE: 23.68</br></br>LIMIT_BAL: 70000</br>PAY_1: 0.0</br>PAY_2: 0.0</br>PAY_3: 0.0</br>PAY_4: 0.0</br>PAY_5: 0.0</br>PAY_6: 0.0</br>BILL_AMT1: 68699.0</br>BILL_AMT2: 69120.0</br>BILL_AMT3: 68376.0</br>BILL_AMT4: 30163.0</br>BILL_AMT5: 14310.0</br>BILL_AMT6: 15085.0</br>PAY_AMT1: 4483.0</br>PAY_AMT2: 12496</br>PAY_AMT3: 3268.0</br>PAY_AMT4: 3000</br>PAY_AMT5: 3000.0</br>PAY_AMT6: 2000</br>GENDER_female: 1.0</br>GENDER_male: 0.0</br>EDUCATION_graduate: 0.0</br>... too many variables"
          ],
          [
           "</br>id: 2251</br>prediction: 0.14</br>AGE: 24.1</br></br>LIMIT_BAL: 70000</br>PAY_1: 0.0</br>PAY_2: 0.0</br>PAY_3: 0.0</br>PAY_4: 0.0</br>PAY_5: 0.0</br>PAY_6: 0.0</br>BILL_AMT1: 68699.0</br>BILL_AMT2: 69120.0</br>BILL_AMT3: 68376.0</br>BILL_AMT4: 30163.0</br>BILL_AMT5: 14310.0</br>BILL_AMT6: 15085.0</br>PAY_AMT1: 4483.0</br>PAY_AMT2: 12496</br>PAY_AMT3: 3268.0</br>PAY_AMT4: 3000</br>PAY_AMT5: 3000.0</br>PAY_AMT6: 2000</br>GENDER_female: 1.0</br>GENDER_male: 0.0</br>EDUCATION_graduate: 0.0</br>EDUCATION_highschool: 0.0</br>... too many variables"
          ],
          [
           "</br>id: 2251</br>prediction: 0.15</br>AGE: 24.52</br></br>LIMIT_BAL: 70000</br>PAY_1: 0.0</br>PAY_2: 0.0</br>PAY_3: 0.0</br>PAY_4: 0.0</br>PAY_5: 0.0</br>PAY_6: 0.0</br>BILL_AMT1: 68699.0</br>BILL_AMT2: 69120.0</br>BILL_AMT3: 68376.0</br>BILL_AMT4: 30163.0</br>BILL_AMT5: 14310.0</br>BILL_AMT6: 15085.0</br>PAY_AMT1: 4483.0</br>PAY_AMT2: 12496</br>PAY_AMT3: 3268.0</br>PAY_AMT4: 3000</br>PAY_AMT5: 3000.0</br>PAY_AMT6: 2000</br>GENDER_female: 1.0</br>GENDER_male: 0.0</br>EDUCATION_graduate: 0.0</br>... too many variables"
          ],
          [
           "</br>id: 2251</br>prediction: 0.15</br>AGE: 24.94</br></br>LIMIT_BAL: 70000</br>PAY_1: 0.0</br>PAY_2: 0.0</br>PAY_3: 0.0</br>PAY_4: 0.0</br>PAY_5: 0.0</br>PAY_6: 0.0</br>BILL_AMT1: 68699.0</br>BILL_AMT2: 69120.0</br>BILL_AMT3: 68376.0</br>BILL_AMT4: 30163.0</br>BILL_AMT5: 14310.0</br>BILL_AMT6: 15085.0</br>PAY_AMT1: 4483.0</br>PAY_AMT2: 12496</br>PAY_AMT3: 3268.0</br>PAY_AMT4: 3000</br>PAY_AMT5: 3000.0</br>PAY_AMT6: 2000</br>GENDER_female: 1.0</br>GENDER_male: 0.0</br>EDUCATION_graduate: 0.0</br>... too many variables"
          ],
          [
           "</br>id: 2251</br>prediction: 0.15</br>AGE: 25.36</br></br>LIMIT_BAL: 70000</br>PAY_1: 0.0</br>PAY_2: 0.0</br>PAY_3: 0.0</br>PAY_4: 0.0</br>PAY_5: 0.0</br>PAY_6: 0.0</br>BILL_AMT1: 68699.0</br>BILL_AMT2: 69120.0</br>BILL_AMT3: 68376.0</br>BILL_AMT4: 30163.0</br>BILL_AMT5: 14310.0</br>BILL_AMT6: 15085.0</br>PAY_AMT1: 4483.0</br>PAY_AMT2: 12496</br>PAY_AMT3: 3268.0</br>PAY_AMT4: 3000</br>PAY_AMT5: 3000.0</br>PAY_AMT6: 2000</br>GENDER_female: 1.0</br>GENDER_male: 0.0</br>EDUCATION_graduate: 0.0</br>... too many variables"
          ],
          [
           "</br>id: 2251</br>prediction: 0.14</br>AGE: 25.78</br></br>LIMIT_BAL: 70000</br>PAY_1: 0.0</br>PAY_2: 0.0</br>PAY_3: 0.0</br>PAY_4: 0.0</br>PAY_5: 0.0</br>PAY_6: 0.0</br>BILL_AMT1: 68699.0</br>BILL_AMT2: 69120.0</br>BILL_AMT3: 68376.0</br>BILL_AMT4: 30163.0</br>BILL_AMT5: 14310.0</br>BILL_AMT6: 15085.0</br>PAY_AMT1: 4483.0</br>PAY_AMT2: 12496</br>PAY_AMT3: 3268.0</br>PAY_AMT4: 3000</br>PAY_AMT5: 3000.0</br>PAY_AMT6: 2000</br>GENDER_female: 1.0</br>GENDER_male: 0.0</br>EDUCATION_graduate: 0.0</br>... too many variables"
          ],
          [
           "</br>id: 2251</br>prediction: 0.14</br>AGE: 26.2</br></br>LIMIT_BAL: 70000</br>PAY_1: 0.0</br>PAY_2: 0.0</br>PAY_3: 0.0</br>PAY_4: 0.0</br>PAY_5: 0.0</br>PAY_6: 0.0</br>BILL_AMT1: 68699.0</br>BILL_AMT2: 69120.0</br>BILL_AMT3: 68376.0</br>BILL_AMT4: 30163.0</br>BILL_AMT5: 14310.0</br>BILL_AMT6: 15085.0</br>PAY_AMT1: 4483.0</br>PAY_AMT2: 12496</br>PAY_AMT3: 3268.0</br>PAY_AMT4: 3000</br>PAY_AMT5: 3000.0</br>PAY_AMT6: 2000</br>GENDER_female: 1.0</br>GENDER_male: 0.0</br>EDUCATION_graduate: 0.0</br>EDUCATION_highschool: 0.0</br>... too many variables"
          ],
          [
           "</br>id: 2251</br>prediction: 0.15</br>AGE: 26.62</br></br>LIMIT_BAL: 70000</br>PAY_1: 0.0</br>PAY_2: 0.0</br>PAY_3: 0.0</br>PAY_4: 0.0</br>PAY_5: 0.0</br>PAY_6: 0.0</br>BILL_AMT1: 68699.0</br>BILL_AMT2: 69120.0</br>BILL_AMT3: 68376.0</br>BILL_AMT4: 30163.0</br>BILL_AMT5: 14310.0</br>BILL_AMT6: 15085.0</br>PAY_AMT1: 4483.0</br>PAY_AMT2: 12496</br>PAY_AMT3: 3268.0</br>PAY_AMT4: 3000</br>PAY_AMT5: 3000.0</br>PAY_AMT6: 2000</br>GENDER_female: 1.0</br>GENDER_male: 0.0</br>EDUCATION_graduate: 0.0</br>... too many variables"
          ],
          [
           "</br>id: 2251</br>prediction: 0.15</br>AGE: 27.04</br></br>LIMIT_BAL: 70000</br>PAY_1: 0.0</br>PAY_2: 0.0</br>PAY_3: 0.0</br>PAY_4: 0.0</br>PAY_5: 0.0</br>PAY_6: 0.0</br>BILL_AMT1: 68699.0</br>BILL_AMT2: 69120.0</br>BILL_AMT3: 68376.0</br>BILL_AMT4: 30163.0</br>BILL_AMT5: 14310.0</br>BILL_AMT6: 15085.0</br>PAY_AMT1: 4483.0</br>PAY_AMT2: 12496</br>PAY_AMT3: 3268.0</br>PAY_AMT4: 3000</br>PAY_AMT5: 3000.0</br>PAY_AMT6: 2000</br>GENDER_female: 1.0</br>GENDER_male: 0.0</br>EDUCATION_graduate: 0.0</br>... too many variables"
          ],
          [
           "</br>id: 2251</br>prediction: 0.15</br>AGE: 27.46</br></br>LIMIT_BAL: 70000</br>PAY_1: 0.0</br>PAY_2: 0.0</br>PAY_3: 0.0</br>PAY_4: 0.0</br>PAY_5: 0.0</br>PAY_6: 0.0</br>BILL_AMT1: 68699.0</br>BILL_AMT2: 69120.0</br>BILL_AMT3: 68376.0</br>BILL_AMT4: 30163.0</br>BILL_AMT5: 14310.0</br>BILL_AMT6: 15085.0</br>PAY_AMT1: 4483.0</br>PAY_AMT2: 12496</br>PAY_AMT3: 3268.0</br>PAY_AMT4: 3000</br>PAY_AMT5: 3000.0</br>PAY_AMT6: 2000</br>GENDER_female: 1.0</br>GENDER_male: 0.0</br>EDUCATION_graduate: 0.0</br>... too many variables"
          ],
          [
           "</br>id: 2251</br>prediction: 0.15</br>AGE: 27.88</br></br>LIMIT_BAL: 70000</br>PAY_1: 0.0</br>PAY_2: 0.0</br>PAY_3: 0.0</br>PAY_4: 0.0</br>PAY_5: 0.0</br>PAY_6: 0.0</br>BILL_AMT1: 68699.0</br>BILL_AMT2: 69120.0</br>BILL_AMT3: 68376.0</br>BILL_AMT4: 30163.0</br>BILL_AMT5: 14310.0</br>BILL_AMT6: 15085.0</br>PAY_AMT1: 4483.0</br>PAY_AMT2: 12496</br>PAY_AMT3: 3268.0</br>PAY_AMT4: 3000</br>PAY_AMT5: 3000.0</br>PAY_AMT6: 2000</br>GENDER_female: 1.0</br>GENDER_male: 0.0</br>EDUCATION_graduate: 0.0</br>... too many variables"
          ],
          [
           "</br>id: 2251</br>prediction: 0.15</br>AGE: 28.3</br></br>LIMIT_BAL: 70000</br>PAY_1: 0.0</br>PAY_2: 0.0</br>PAY_3: 0.0</br>PAY_4: 0.0</br>PAY_5: 0.0</br>PAY_6: 0.0</br>BILL_AMT1: 68699.0</br>BILL_AMT2: 69120.0</br>BILL_AMT3: 68376.0</br>BILL_AMT4: 30163.0</br>BILL_AMT5: 14310.0</br>BILL_AMT6: 15085.0</br>PAY_AMT1: 4483.0</br>PAY_AMT2: 12496</br>PAY_AMT3: 3268.0</br>PAY_AMT4: 3000</br>PAY_AMT5: 3000.0</br>PAY_AMT6: 2000</br>GENDER_female: 1.0</br>GENDER_male: 0.0</br>EDUCATION_graduate: 0.0</br>EDUCATION_highschool: 0.0</br>... too many variables"
          ],
          [
           "</br>id: 2251</br>prediction: 0.14</br>AGE: 28.72</br></br>LIMIT_BAL: 70000</br>PAY_1: 0.0</br>PAY_2: 0.0</br>PAY_3: 0.0</br>PAY_4: 0.0</br>PAY_5: 0.0</br>PAY_6: 0.0</br>BILL_AMT1: 68699.0</br>BILL_AMT2: 69120.0</br>BILL_AMT3: 68376.0</br>BILL_AMT4: 30163.0</br>BILL_AMT5: 14310.0</br>BILL_AMT6: 15085.0</br>PAY_AMT1: 4483.0</br>PAY_AMT2: 12496</br>PAY_AMT3: 3268.0</br>PAY_AMT4: 3000</br>PAY_AMT5: 3000.0</br>PAY_AMT6: 2000</br>GENDER_female: 1.0</br>GENDER_male: 0.0</br>EDUCATION_graduate: 0.0</br>... too many variables"
          ],
          [
           "</br>id: 2251</br>prediction: 0.14</br>AGE: 29.14</br></br>LIMIT_BAL: 70000</br>PAY_1: 0.0</br>PAY_2: 0.0</br>PAY_3: 0.0</br>PAY_4: 0.0</br>PAY_5: 0.0</br>PAY_6: 0.0</br>BILL_AMT1: 68699.0</br>BILL_AMT2: 69120.0</br>BILL_AMT3: 68376.0</br>BILL_AMT4: 30163.0</br>BILL_AMT5: 14310.0</br>BILL_AMT6: 15085.0</br>PAY_AMT1: 4483.0</br>PAY_AMT2: 12496</br>PAY_AMT3: 3268.0</br>PAY_AMT4: 3000</br>PAY_AMT5: 3000.0</br>PAY_AMT6: 2000</br>GENDER_female: 1.0</br>GENDER_male: 0.0</br>EDUCATION_graduate: 0.0</br>... too many variables"
          ],
          [
           "</br>id: 2251</br>prediction: 0.14</br>AGE: 29.56</br></br>LIMIT_BAL: 70000</br>PAY_1: 0.0</br>PAY_2: 0.0</br>PAY_3: 0.0</br>PAY_4: 0.0</br>PAY_5: 0.0</br>PAY_6: 0.0</br>BILL_AMT1: 68699.0</br>BILL_AMT2: 69120.0</br>BILL_AMT3: 68376.0</br>BILL_AMT4: 30163.0</br>BILL_AMT5: 14310.0</br>BILL_AMT6: 15085.0</br>PAY_AMT1: 4483.0</br>PAY_AMT2: 12496</br>PAY_AMT3: 3268.0</br>PAY_AMT4: 3000</br>PAY_AMT5: 3000.0</br>PAY_AMT6: 2000</br>GENDER_female: 1.0</br>GENDER_male: 0.0</br>EDUCATION_graduate: 0.0</br>... too many variables"
          ],
          [
           "</br>id: 2251</br>prediction: 0.14</br>AGE: 29.98</br></br>LIMIT_BAL: 70000</br>PAY_1: 0.0</br>PAY_2: 0.0</br>PAY_3: 0.0</br>PAY_4: 0.0</br>PAY_5: 0.0</br>PAY_6: 0.0</br>BILL_AMT1: 68699.0</br>BILL_AMT2: 69120.0</br>BILL_AMT3: 68376.0</br>BILL_AMT4: 30163.0</br>BILL_AMT5: 14310.0</br>BILL_AMT6: 15085.0</br>PAY_AMT1: 4483.0</br>PAY_AMT2: 12496</br>PAY_AMT3: 3268.0</br>PAY_AMT4: 3000</br>PAY_AMT5: 3000.0</br>PAY_AMT6: 2000</br>GENDER_female: 1.0</br>GENDER_male: 0.0</br>EDUCATION_graduate: 0.0</br>... too many variables"
          ],
          [
           "</br>id: 2251</br>prediction: 0.14</br>AGE: 30.4</br></br>LIMIT_BAL: 70000</br>PAY_1: 0.0</br>PAY_2: 0.0</br>PAY_3: 0.0</br>PAY_4: 0.0</br>PAY_5: 0.0</br>PAY_6: 0.0</br>BILL_AMT1: 68699.0</br>BILL_AMT2: 69120.0</br>BILL_AMT3: 68376.0</br>BILL_AMT4: 30163.0</br>BILL_AMT5: 14310.0</br>BILL_AMT6: 15085.0</br>PAY_AMT1: 4483.0</br>PAY_AMT2: 12496</br>PAY_AMT3: 3268.0</br>PAY_AMT4: 3000</br>PAY_AMT5: 3000.0</br>PAY_AMT6: 2000</br>GENDER_female: 1.0</br>GENDER_male: 0.0</br>EDUCATION_graduate: 0.0</br>EDUCATION_highschool: 0.0</br>... too many variables"
          ],
          [
           "</br>id: 2251</br>prediction: 0.14</br>AGE: 30.82</br></br>LIMIT_BAL: 70000</br>PAY_1: 0.0</br>PAY_2: 0.0</br>PAY_3: 0.0</br>PAY_4: 0.0</br>PAY_5: 0.0</br>PAY_6: 0.0</br>BILL_AMT1: 68699.0</br>BILL_AMT2: 69120.0</br>BILL_AMT3: 68376.0</br>BILL_AMT4: 30163.0</br>BILL_AMT5: 14310.0</br>BILL_AMT6: 15085.0</br>PAY_AMT1: 4483.0</br>PAY_AMT2: 12496</br>PAY_AMT3: 3268.0</br>PAY_AMT4: 3000</br>PAY_AMT5: 3000.0</br>PAY_AMT6: 2000</br>GENDER_female: 1.0</br>GENDER_male: 0.0</br>EDUCATION_graduate: 0.0</br>... too many variables"
          ],
          [
           "</br>id: 2251</br>prediction: 0.14</br>AGE: 31.240000000000002</br></br>LIMIT_BAL: 70000</br>PAY_1: 0.0</br>PAY_2: 0.0</br>PAY_3: 0.0</br>PAY_4: 0.0</br>PAY_5: 0.0</br>PAY_6: 0.0</br>BILL_AMT1: 68699.0</br>BILL_AMT2: 69120.0</br>BILL_AMT3: 68376.0</br>BILL_AMT4: 30163.0</br>BILL_AMT5: 14310.0</br>BILL_AMT6: 15085.0</br>PAY_AMT1: 4483.0</br>PAY_AMT2: 12496</br>PAY_AMT3: 3268.0</br>PAY_AMT4: 3000</br>PAY_AMT5: 3000.0</br>PAY_AMT6: 2000</br>GENDER_female: 1.0</br>GENDER_male: 0.0</br>EDUCATION_graduate: 0.0</br>... too many variables"
          ],
          [
           "</br>id: 2251</br>prediction: 0.12</br>AGE: 31.66</br></br>LIMIT_BAL: 70000</br>PAY_1: 0.0</br>PAY_2: 0.0</br>PAY_3: 0.0</br>PAY_4: 0.0</br>PAY_5: 0.0</br>PAY_6: 0.0</br>BILL_AMT1: 68699.0</br>BILL_AMT2: 69120.0</br>BILL_AMT3: 68376.0</br>BILL_AMT4: 30163.0</br>BILL_AMT5: 14310.0</br>BILL_AMT6: 15085.0</br>PAY_AMT1: 4483.0</br>PAY_AMT2: 12496</br>PAY_AMT3: 3268.0</br>PAY_AMT4: 3000</br>PAY_AMT5: 3000.0</br>PAY_AMT6: 2000</br>GENDER_female: 1.0</br>GENDER_male: 0.0</br>EDUCATION_graduate: 0.0</br>... too many variables"
          ],
          [
           "</br>id: 2251</br>prediction: 0.12</br>AGE: 32.08</br></br>LIMIT_BAL: 70000</br>PAY_1: 0.0</br>PAY_2: 0.0</br>PAY_3: 0.0</br>PAY_4: 0.0</br>PAY_5: 0.0</br>PAY_6: 0.0</br>BILL_AMT1: 68699.0</br>BILL_AMT2: 69120.0</br>BILL_AMT3: 68376.0</br>BILL_AMT4: 30163.0</br>BILL_AMT5: 14310.0</br>BILL_AMT6: 15085.0</br>PAY_AMT1: 4483.0</br>PAY_AMT2: 12496</br>PAY_AMT3: 3268.0</br>PAY_AMT4: 3000</br>PAY_AMT5: 3000.0</br>PAY_AMT6: 2000</br>GENDER_female: 1.0</br>GENDER_male: 0.0</br>EDUCATION_graduate: 0.0</br>... too many variables"
          ],
          [
           "</br>id: 2251</br>prediction: 0.12</br>AGE: 32.5</br></br>LIMIT_BAL: 70000</br>PAY_1: 0.0</br>PAY_2: 0.0</br>PAY_3: 0.0</br>PAY_4: 0.0</br>PAY_5: 0.0</br>PAY_6: 0.0</br>BILL_AMT1: 68699.0</br>BILL_AMT2: 69120.0</br>BILL_AMT3: 68376.0</br>BILL_AMT4: 30163.0</br>BILL_AMT5: 14310.0</br>BILL_AMT6: 15085.0</br>PAY_AMT1: 4483.0</br>PAY_AMT2: 12496</br>PAY_AMT3: 3268.0</br>PAY_AMT4: 3000</br>PAY_AMT5: 3000.0</br>PAY_AMT6: 2000</br>GENDER_female: 1.0</br>GENDER_male: 0.0</br>EDUCATION_graduate: 0.0</br>EDUCATION_highschool: 0.0</br>... too many variables"
          ],
          [
           "</br>id: 2251</br>prediction: 0.11</br>AGE: 32.92</br></br>LIMIT_BAL: 70000</br>PAY_1: 0.0</br>PAY_2: 0.0</br>PAY_3: 0.0</br>PAY_4: 0.0</br>PAY_5: 0.0</br>PAY_6: 0.0</br>BILL_AMT1: 68699.0</br>BILL_AMT2: 69120.0</br>BILL_AMT3: 68376.0</br>BILL_AMT4: 30163.0</br>BILL_AMT5: 14310.0</br>BILL_AMT6: 15085.0</br>PAY_AMT1: 4483.0</br>PAY_AMT2: 12496</br>PAY_AMT3: 3268.0</br>PAY_AMT4: 3000</br>PAY_AMT5: 3000.0</br>PAY_AMT6: 2000</br>GENDER_female: 1.0</br>GENDER_male: 0.0</br>EDUCATION_graduate: 0.0</br>... too many variables"
          ],
          [
           "</br>id: 2251</br>prediction: 0.11</br>AGE: 33.34</br></br>LIMIT_BAL: 70000</br>PAY_1: 0.0</br>PAY_2: 0.0</br>PAY_3: 0.0</br>PAY_4: 0.0</br>PAY_5: 0.0</br>PAY_6: 0.0</br>BILL_AMT1: 68699.0</br>BILL_AMT2: 69120.0</br>BILL_AMT3: 68376.0</br>BILL_AMT4: 30163.0</br>BILL_AMT5: 14310.0</br>BILL_AMT6: 15085.0</br>PAY_AMT1: 4483.0</br>PAY_AMT2: 12496</br>PAY_AMT3: 3268.0</br>PAY_AMT4: 3000</br>PAY_AMT5: 3000.0</br>PAY_AMT6: 2000</br>GENDER_female: 1.0</br>GENDER_male: 0.0</br>EDUCATION_graduate: 0.0</br>... too many variables"
          ],
          [
           "</br>id: 2251</br>prediction: 0.11</br>AGE: 33.76</br></br>LIMIT_BAL: 70000</br>PAY_1: 0.0</br>PAY_2: 0.0</br>PAY_3: 0.0</br>PAY_4: 0.0</br>PAY_5: 0.0</br>PAY_6: 0.0</br>BILL_AMT1: 68699.0</br>BILL_AMT2: 69120.0</br>BILL_AMT3: 68376.0</br>BILL_AMT4: 30163.0</br>BILL_AMT5: 14310.0</br>BILL_AMT6: 15085.0</br>PAY_AMT1: 4483.0</br>PAY_AMT2: 12496</br>PAY_AMT3: 3268.0</br>PAY_AMT4: 3000</br>PAY_AMT5: 3000.0</br>PAY_AMT6: 2000</br>GENDER_female: 1.0</br>GENDER_male: 0.0</br>EDUCATION_graduate: 0.0</br>... too many variables"
          ],
          [
           "</br>id: 2251</br>prediction: 0.11</br>AGE: 34.18</br></br>LIMIT_BAL: 70000</br>PAY_1: 0.0</br>PAY_2: 0.0</br>PAY_3: 0.0</br>PAY_4: 0.0</br>PAY_5: 0.0</br>PAY_6: 0.0</br>BILL_AMT1: 68699.0</br>BILL_AMT2: 69120.0</br>BILL_AMT3: 68376.0</br>BILL_AMT4: 30163.0</br>BILL_AMT5: 14310.0</br>BILL_AMT6: 15085.0</br>PAY_AMT1: 4483.0</br>PAY_AMT2: 12496</br>PAY_AMT3: 3268.0</br>PAY_AMT4: 3000</br>PAY_AMT5: 3000.0</br>PAY_AMT6: 2000</br>GENDER_female: 1.0</br>GENDER_male: 0.0</br>EDUCATION_graduate: 0.0</br>... too many variables"
          ],
          [
           "</br>id: 2251</br>prediction: 0.11</br>AGE: 34.6</br></br>LIMIT_BAL: 70000</br>PAY_1: 0.0</br>PAY_2: 0.0</br>PAY_3: 0.0</br>PAY_4: 0.0</br>PAY_5: 0.0</br>PAY_6: 0.0</br>BILL_AMT1: 68699.0</br>BILL_AMT2: 69120.0</br>BILL_AMT3: 68376.0</br>BILL_AMT4: 30163.0</br>BILL_AMT5: 14310.0</br>BILL_AMT6: 15085.0</br>PAY_AMT1: 4483.0</br>PAY_AMT2: 12496</br>PAY_AMT3: 3268.0</br>PAY_AMT4: 3000</br>PAY_AMT5: 3000.0</br>PAY_AMT6: 2000</br>GENDER_female: 1.0</br>GENDER_male: 0.0</br>EDUCATION_graduate: 0.0</br>EDUCATION_highschool: 0.0</br>... too many variables"
          ],
          [
           "</br>id: 2251</br>prediction: 0.11</br>AGE: 35.019999999999996</br></br>LIMIT_BAL: 70000</br>PAY_1: 0.0</br>PAY_2: 0.0</br>PAY_3: 0.0</br>PAY_4: 0.0</br>PAY_5: 0.0</br>PAY_6: 0.0</br>BILL_AMT1: 68699.0</br>BILL_AMT2: 69120.0</br>BILL_AMT3: 68376.0</br>BILL_AMT4: 30163.0</br>BILL_AMT5: 14310.0</br>BILL_AMT6: 15085.0</br>PAY_AMT1: 4483.0</br>PAY_AMT2: 12496</br>PAY_AMT3: 3268.0</br>PAY_AMT4: 3000</br>PAY_AMT5: 3000.0</br>PAY_AMT6: 2000</br>GENDER_female: 1.0</br>GENDER_male: 0.0</br>EDUCATION_graduate: 0.0</br>... too many variables"
          ],
          [
           "</br>id: 2251</br>prediction: 0.11</br>AGE: 35.44</br></br>LIMIT_BAL: 70000</br>PAY_1: 0.0</br>PAY_2: 0.0</br>PAY_3: 0.0</br>PAY_4: 0.0</br>PAY_5: 0.0</br>PAY_6: 0.0</br>BILL_AMT1: 68699.0</br>BILL_AMT2: 69120.0</br>BILL_AMT3: 68376.0</br>BILL_AMT4: 30163.0</br>BILL_AMT5: 14310.0</br>BILL_AMT6: 15085.0</br>PAY_AMT1: 4483.0</br>PAY_AMT2: 12496</br>PAY_AMT3: 3268.0</br>PAY_AMT4: 3000</br>PAY_AMT5: 3000.0</br>PAY_AMT6: 2000</br>GENDER_female: 1.0</br>GENDER_male: 0.0</br>EDUCATION_graduate: 0.0</br>... too many variables"
          ],
          [
           "</br>id: 2251</br>prediction: 0.11</br>AGE: 35.86</br></br>LIMIT_BAL: 70000</br>PAY_1: 0.0</br>PAY_2: 0.0</br>PAY_3: 0.0</br>PAY_4: 0.0</br>PAY_5: 0.0</br>PAY_6: 0.0</br>BILL_AMT1: 68699.0</br>BILL_AMT2: 69120.0</br>BILL_AMT3: 68376.0</br>BILL_AMT4: 30163.0</br>BILL_AMT5: 14310.0</br>BILL_AMT6: 15085.0</br>PAY_AMT1: 4483.0</br>PAY_AMT2: 12496</br>PAY_AMT3: 3268.0</br>PAY_AMT4: 3000</br>PAY_AMT5: 3000.0</br>PAY_AMT6: 2000</br>GENDER_female: 1.0</br>GENDER_male: 0.0</br>EDUCATION_graduate: 0.0</br>... too many variables"
          ],
          [
           "</br>id: 2251</br>prediction: 0.11</br>AGE: 36.0</br></br>LIMIT_BAL: 70000</br>PAY_1: 0.0</br>PAY_2: 0.0</br>PAY_3: 0.0</br>PAY_4: 0.0</br>PAY_5: 0.0</br>PAY_6: 0.0</br>BILL_AMT1: 68699.0</br>BILL_AMT2: 69120.0</br>BILL_AMT3: 68376.0</br>BILL_AMT4: 30163.0</br>BILL_AMT5: 14310.0</br>BILL_AMT6: 15085.0</br>PAY_AMT1: 4483.0</br>PAY_AMT2: 12496</br>PAY_AMT3: 3268.0</br>PAY_AMT4: 3000</br>PAY_AMT5: 3000.0</br>PAY_AMT6: 2000</br>GENDER_female: 1.0</br>GENDER_male: 0.0</br>EDUCATION_graduate: 0.0</br>EDUCATION_highschool: 0.0</br>... too many variables"
          ],
          [
           "</br>id: 2251</br>prediction: 0.11</br>AGE: 36.28</br></br>LIMIT_BAL: 70000</br>PAY_1: 0.0</br>PAY_2: 0.0</br>PAY_3: 0.0</br>PAY_4: 0.0</br>PAY_5: 0.0</br>PAY_6: 0.0</br>BILL_AMT1: 68699.0</br>BILL_AMT2: 69120.0</br>BILL_AMT3: 68376.0</br>BILL_AMT4: 30163.0</br>BILL_AMT5: 14310.0</br>BILL_AMT6: 15085.0</br>PAY_AMT1: 4483.0</br>PAY_AMT2: 12496</br>PAY_AMT3: 3268.0</br>PAY_AMT4: 3000</br>PAY_AMT5: 3000.0</br>PAY_AMT6: 2000</br>GENDER_female: 1.0</br>GENDER_male: 0.0</br>EDUCATION_graduate: 0.0</br>... too many variables"
          ],
          [
           "</br>id: 2251</br>prediction: 0.11</br>AGE: 36.7</br></br>LIMIT_BAL: 70000</br>PAY_1: 0.0</br>PAY_2: 0.0</br>PAY_3: 0.0</br>PAY_4: 0.0</br>PAY_5: 0.0</br>PAY_6: 0.0</br>BILL_AMT1: 68699.0</br>BILL_AMT2: 69120.0</br>BILL_AMT3: 68376.0</br>BILL_AMT4: 30163.0</br>BILL_AMT5: 14310.0</br>BILL_AMT6: 15085.0</br>PAY_AMT1: 4483.0</br>PAY_AMT2: 12496</br>PAY_AMT3: 3268.0</br>PAY_AMT4: 3000</br>PAY_AMT5: 3000.0</br>PAY_AMT6: 2000</br>GENDER_female: 1.0</br>GENDER_male: 0.0</br>EDUCATION_graduate: 0.0</br>EDUCATION_highschool: 0.0</br>... too many variables"
          ],
          [
           "</br>id: 2251</br>prediction: 0.11</br>AGE: 37.12</br></br>LIMIT_BAL: 70000</br>PAY_1: 0.0</br>PAY_2: 0.0</br>PAY_3: 0.0</br>PAY_4: 0.0</br>PAY_5: 0.0</br>PAY_6: 0.0</br>BILL_AMT1: 68699.0</br>BILL_AMT2: 69120.0</br>BILL_AMT3: 68376.0</br>BILL_AMT4: 30163.0</br>BILL_AMT5: 14310.0</br>BILL_AMT6: 15085.0</br>PAY_AMT1: 4483.0</br>PAY_AMT2: 12496</br>PAY_AMT3: 3268.0</br>PAY_AMT4: 3000</br>PAY_AMT5: 3000.0</br>PAY_AMT6: 2000</br>GENDER_female: 1.0</br>GENDER_male: 0.0</br>EDUCATION_graduate: 0.0</br>... too many variables"
          ],
          [
           "</br>id: 2251</br>prediction: 0.1</br>AGE: 37.54</br></br>LIMIT_BAL: 70000</br>PAY_1: 0.0</br>PAY_2: 0.0</br>PAY_3: 0.0</br>PAY_4: 0.0</br>PAY_5: 0.0</br>PAY_6: 0.0</br>BILL_AMT1: 68699.0</br>BILL_AMT2: 69120.0</br>BILL_AMT3: 68376.0</br>BILL_AMT4: 30163.0</br>BILL_AMT5: 14310.0</br>BILL_AMT6: 15085.0</br>PAY_AMT1: 4483.0</br>PAY_AMT2: 12496</br>PAY_AMT3: 3268.0</br>PAY_AMT4: 3000</br>PAY_AMT5: 3000.0</br>PAY_AMT6: 2000</br>GENDER_female: 1.0</br>GENDER_male: 0.0</br>EDUCATION_graduate: 0.0</br>EDUCATION_highschool: 0.0</br>... too many variables"
          ],
          [
           "</br>id: 2251</br>prediction: 0.1</br>AGE: 37.96</br></br>LIMIT_BAL: 70000</br>PAY_1: 0.0</br>PAY_2: 0.0</br>PAY_3: 0.0</br>PAY_4: 0.0</br>PAY_5: 0.0</br>PAY_6: 0.0</br>BILL_AMT1: 68699.0</br>BILL_AMT2: 69120.0</br>BILL_AMT3: 68376.0</br>BILL_AMT4: 30163.0</br>BILL_AMT5: 14310.0</br>BILL_AMT6: 15085.0</br>PAY_AMT1: 4483.0</br>PAY_AMT2: 12496</br>PAY_AMT3: 3268.0</br>PAY_AMT4: 3000</br>PAY_AMT5: 3000.0</br>PAY_AMT6: 2000</br>GENDER_female: 1.0</br>GENDER_male: 0.0</br>EDUCATION_graduate: 0.0</br>EDUCATION_highschool: 0.0</br>... too many variables"
          ],
          [
           "</br>id: 2251</br>prediction: 0.1</br>AGE: 38.379999999999995</br></br>LIMIT_BAL: 70000</br>PAY_1: 0.0</br>PAY_2: 0.0</br>PAY_3: 0.0</br>PAY_4: 0.0</br>PAY_5: 0.0</br>PAY_6: 0.0</br>BILL_AMT1: 68699.0</br>BILL_AMT2: 69120.0</br>BILL_AMT3: 68376.0</br>BILL_AMT4: 30163.0</br>BILL_AMT5: 14310.0</br>BILL_AMT6: 15085.0</br>PAY_AMT1: 4483.0</br>PAY_AMT2: 12496</br>PAY_AMT3: 3268.0</br>PAY_AMT4: 3000</br>PAY_AMT5: 3000.0</br>PAY_AMT6: 2000</br>GENDER_female: 1.0</br>GENDER_male: 0.0</br>EDUCATION_graduate: 0.0</br>... too many variables"
          ],
          [
           "</br>id: 2251</br>prediction: 0.09</br>AGE: 38.8</br></br>LIMIT_BAL: 70000</br>PAY_1: 0.0</br>PAY_2: 0.0</br>PAY_3: 0.0</br>PAY_4: 0.0</br>PAY_5: 0.0</br>PAY_6: 0.0</br>BILL_AMT1: 68699.0</br>BILL_AMT2: 69120.0</br>BILL_AMT3: 68376.0</br>BILL_AMT4: 30163.0</br>BILL_AMT5: 14310.0</br>BILL_AMT6: 15085.0</br>PAY_AMT1: 4483.0</br>PAY_AMT2: 12496</br>PAY_AMT3: 3268.0</br>PAY_AMT4: 3000</br>PAY_AMT5: 3000.0</br>PAY_AMT6: 2000</br>GENDER_female: 1.0</br>GENDER_male: 0.0</br>EDUCATION_graduate: 0.0</br>EDUCATION_highschool: 0.0</br>... too many variables"
          ],
          [
           "</br>id: 2251</br>prediction: 0.09</br>AGE: 39.22</br></br>LIMIT_BAL: 70000</br>PAY_1: 0.0</br>PAY_2: 0.0</br>PAY_3: 0.0</br>PAY_4: 0.0</br>PAY_5: 0.0</br>PAY_6: 0.0</br>BILL_AMT1: 68699.0</br>BILL_AMT2: 69120.0</br>BILL_AMT3: 68376.0</br>BILL_AMT4: 30163.0</br>BILL_AMT5: 14310.0</br>BILL_AMT6: 15085.0</br>PAY_AMT1: 4483.0</br>PAY_AMT2: 12496</br>PAY_AMT3: 3268.0</br>PAY_AMT4: 3000</br>PAY_AMT5: 3000.0</br>PAY_AMT6: 2000</br>GENDER_female: 1.0</br>GENDER_male: 0.0</br>EDUCATION_graduate: 0.0</br>... too many variables"
          ],
          [
           "</br>id: 2251</br>prediction: 0.09</br>AGE: 39.64</br></br>LIMIT_BAL: 70000</br>PAY_1: 0.0</br>PAY_2: 0.0</br>PAY_3: 0.0</br>PAY_4: 0.0</br>PAY_5: 0.0</br>PAY_6: 0.0</br>BILL_AMT1: 68699.0</br>BILL_AMT2: 69120.0</br>BILL_AMT3: 68376.0</br>BILL_AMT4: 30163.0</br>BILL_AMT5: 14310.0</br>BILL_AMT6: 15085.0</br>PAY_AMT1: 4483.0</br>PAY_AMT2: 12496</br>PAY_AMT3: 3268.0</br>PAY_AMT4: 3000</br>PAY_AMT5: 3000.0</br>PAY_AMT6: 2000</br>GENDER_female: 1.0</br>GENDER_male: 0.0</br>EDUCATION_graduate: 0.0</br>... too many variables"
          ],
          [
           "</br>id: 2251</br>prediction: 0.09</br>AGE: 40.06</br></br>LIMIT_BAL: 70000</br>PAY_1: 0.0</br>PAY_2: 0.0</br>PAY_3: 0.0</br>PAY_4: 0.0</br>PAY_5: 0.0</br>PAY_6: 0.0</br>BILL_AMT1: 68699.0</br>BILL_AMT2: 69120.0</br>BILL_AMT3: 68376.0</br>BILL_AMT4: 30163.0</br>BILL_AMT5: 14310.0</br>BILL_AMT6: 15085.0</br>PAY_AMT1: 4483.0</br>PAY_AMT2: 12496</br>PAY_AMT3: 3268.0</br>PAY_AMT4: 3000</br>PAY_AMT5: 3000.0</br>PAY_AMT6: 2000</br>GENDER_female: 1.0</br>GENDER_male: 0.0</br>EDUCATION_graduate: 0.0</br>... too many variables"
          ],
          [
           "</br>id: 2251</br>prediction: 0.09</br>AGE: 40.480000000000004</br></br>LIMIT_BAL: 70000</br>PAY_1: 0.0</br>PAY_2: 0.0</br>PAY_3: 0.0</br>PAY_4: 0.0</br>PAY_5: 0.0</br>PAY_6: 0.0</br>BILL_AMT1: 68699.0</br>BILL_AMT2: 69120.0</br>BILL_AMT3: 68376.0</br>BILL_AMT4: 30163.0</br>BILL_AMT5: 14310.0</br>BILL_AMT6: 15085.0</br>PAY_AMT1: 4483.0</br>PAY_AMT2: 12496</br>PAY_AMT3: 3268.0</br>PAY_AMT4: 3000</br>PAY_AMT5: 3000.0</br>PAY_AMT6: 2000</br>GENDER_female: 1.0</br>GENDER_male: 0.0</br>EDUCATION_graduate: 0.0</br>... too many variables"
          ],
          [
           "</br>id: 2251</br>prediction: 0.1</br>AGE: 40.9</br></br>LIMIT_BAL: 70000</br>PAY_1: 0.0</br>PAY_2: 0.0</br>PAY_3: 0.0</br>PAY_4: 0.0</br>PAY_5: 0.0</br>PAY_6: 0.0</br>BILL_AMT1: 68699.0</br>BILL_AMT2: 69120.0</br>BILL_AMT3: 68376.0</br>BILL_AMT4: 30163.0</br>BILL_AMT5: 14310.0</br>BILL_AMT6: 15085.0</br>PAY_AMT1: 4483.0</br>PAY_AMT2: 12496</br>PAY_AMT3: 3268.0</br>PAY_AMT4: 3000</br>PAY_AMT5: 3000.0</br>PAY_AMT6: 2000</br>GENDER_female: 1.0</br>GENDER_male: 0.0</br>EDUCATION_graduate: 0.0</br>EDUCATION_highschool: 0.0</br>... too many variables"
          ],
          [
           "</br>id: 2251</br>prediction: 0.1</br>AGE: 41.32</br></br>LIMIT_BAL: 70000</br>PAY_1: 0.0</br>PAY_2: 0.0</br>PAY_3: 0.0</br>PAY_4: 0.0</br>PAY_5: 0.0</br>PAY_6: 0.0</br>BILL_AMT1: 68699.0</br>BILL_AMT2: 69120.0</br>BILL_AMT3: 68376.0</br>BILL_AMT4: 30163.0</br>BILL_AMT5: 14310.0</br>BILL_AMT6: 15085.0</br>PAY_AMT1: 4483.0</br>PAY_AMT2: 12496</br>PAY_AMT3: 3268.0</br>PAY_AMT4: 3000</br>PAY_AMT5: 3000.0</br>PAY_AMT6: 2000</br>GENDER_female: 1.0</br>GENDER_male: 0.0</br>EDUCATION_graduate: 0.0</br>EDUCATION_highschool: 0.0</br>... too many variables"
          ],
          [
           "</br>id: 2251</br>prediction: 0.1</br>AGE: 41.739999999999995</br></br>LIMIT_BAL: 70000</br>PAY_1: 0.0</br>PAY_2: 0.0</br>PAY_3: 0.0</br>PAY_4: 0.0</br>PAY_5: 0.0</br>PAY_6: 0.0</br>BILL_AMT1: 68699.0</br>BILL_AMT2: 69120.0</br>BILL_AMT3: 68376.0</br>BILL_AMT4: 30163.0</br>BILL_AMT5: 14310.0</br>BILL_AMT6: 15085.0</br>PAY_AMT1: 4483.0</br>PAY_AMT2: 12496</br>PAY_AMT3: 3268.0</br>PAY_AMT4: 3000</br>PAY_AMT5: 3000.0</br>PAY_AMT6: 2000</br>GENDER_female: 1.0</br>GENDER_male: 0.0</br>EDUCATION_graduate: 0.0</br>... too many variables"
          ],
          [
           "</br>id: 2251</br>prediction: 0.1</br>AGE: 42.16</br></br>LIMIT_BAL: 70000</br>PAY_1: 0.0</br>PAY_2: 0.0</br>PAY_3: 0.0</br>PAY_4: 0.0</br>PAY_5: 0.0</br>PAY_6: 0.0</br>BILL_AMT1: 68699.0</br>BILL_AMT2: 69120.0</br>BILL_AMT3: 68376.0</br>BILL_AMT4: 30163.0</br>BILL_AMT5: 14310.0</br>BILL_AMT6: 15085.0</br>PAY_AMT1: 4483.0</br>PAY_AMT2: 12496</br>PAY_AMT3: 3268.0</br>PAY_AMT4: 3000</br>PAY_AMT5: 3000.0</br>PAY_AMT6: 2000</br>GENDER_female: 1.0</br>GENDER_male: 0.0</br>EDUCATION_graduate: 0.0</br>EDUCATION_highschool: 0.0</br>... too many variables"
          ],
          [
           "</br>id: 2251</br>prediction: 0.1</br>AGE: 42.58</br></br>LIMIT_BAL: 70000</br>PAY_1: 0.0</br>PAY_2: 0.0</br>PAY_3: 0.0</br>PAY_4: 0.0</br>PAY_5: 0.0</br>PAY_6: 0.0</br>BILL_AMT1: 68699.0</br>BILL_AMT2: 69120.0</br>BILL_AMT3: 68376.0</br>BILL_AMT4: 30163.0</br>BILL_AMT5: 14310.0</br>BILL_AMT6: 15085.0</br>PAY_AMT1: 4483.0</br>PAY_AMT2: 12496</br>PAY_AMT3: 3268.0</br>PAY_AMT4: 3000</br>PAY_AMT5: 3000.0</br>PAY_AMT6: 2000</br>GENDER_female: 1.0</br>GENDER_male: 0.0</br>EDUCATION_graduate: 0.0</br>EDUCATION_highschool: 0.0</br>... too many variables"
          ],
          [
           "</br>id: 2251</br>prediction: 0.1</br>AGE: 43.0</br></br>LIMIT_BAL: 70000</br>PAY_1: 0.0</br>PAY_2: 0.0</br>PAY_3: 0.0</br>PAY_4: 0.0</br>PAY_5: 0.0</br>PAY_6: 0.0</br>BILL_AMT1: 68699.0</br>BILL_AMT2: 69120.0</br>BILL_AMT3: 68376.0</br>BILL_AMT4: 30163.0</br>BILL_AMT5: 14310.0</br>BILL_AMT6: 15085.0</br>PAY_AMT1: 4483.0</br>PAY_AMT2: 12496</br>PAY_AMT3: 3268.0</br>PAY_AMT4: 3000</br>PAY_AMT5: 3000.0</br>PAY_AMT6: 2000</br>GENDER_female: 1.0</br>GENDER_male: 0.0</br>EDUCATION_graduate: 0.0</br>EDUCATION_highschool: 0.0</br>... too many variables"
          ],
          [
           "</br>id: 2251</br>prediction: 0.1</br>AGE: 43.42</br></br>LIMIT_BAL: 70000</br>PAY_1: 0.0</br>PAY_2: 0.0</br>PAY_3: 0.0</br>PAY_4: 0.0</br>PAY_5: 0.0</br>PAY_6: 0.0</br>BILL_AMT1: 68699.0</br>BILL_AMT2: 69120.0</br>BILL_AMT3: 68376.0</br>BILL_AMT4: 30163.0</br>BILL_AMT5: 14310.0</br>BILL_AMT6: 15085.0</br>PAY_AMT1: 4483.0</br>PAY_AMT2: 12496</br>PAY_AMT3: 3268.0</br>PAY_AMT4: 3000</br>PAY_AMT5: 3000.0</br>PAY_AMT6: 2000</br>GENDER_female: 1.0</br>GENDER_male: 0.0</br>EDUCATION_graduate: 0.0</br>EDUCATION_highschool: 0.0</br>... too many variables"
          ],
          [
           "</br>id: 2251</br>prediction: 0.1</br>AGE: 43.84</br></br>LIMIT_BAL: 70000</br>PAY_1: 0.0</br>PAY_2: 0.0</br>PAY_3: 0.0</br>PAY_4: 0.0</br>PAY_5: 0.0</br>PAY_6: 0.0</br>BILL_AMT1: 68699.0</br>BILL_AMT2: 69120.0</br>BILL_AMT3: 68376.0</br>BILL_AMT4: 30163.0</br>BILL_AMT5: 14310.0</br>BILL_AMT6: 15085.0</br>PAY_AMT1: 4483.0</br>PAY_AMT2: 12496</br>PAY_AMT3: 3268.0</br>PAY_AMT4: 3000</br>PAY_AMT5: 3000.0</br>PAY_AMT6: 2000</br>GENDER_female: 1.0</br>GENDER_male: 0.0</br>EDUCATION_graduate: 0.0</br>EDUCATION_highschool: 0.0</br>... too many variables"
          ],
          [
           "</br>id: 2251</br>prediction: 0.1</br>AGE: 44.26</br></br>LIMIT_BAL: 70000</br>PAY_1: 0.0</br>PAY_2: 0.0</br>PAY_3: 0.0</br>PAY_4: 0.0</br>PAY_5: 0.0</br>PAY_6: 0.0</br>BILL_AMT1: 68699.0</br>BILL_AMT2: 69120.0</br>BILL_AMT3: 68376.0</br>BILL_AMT4: 30163.0</br>BILL_AMT5: 14310.0</br>BILL_AMT6: 15085.0</br>PAY_AMT1: 4483.0</br>PAY_AMT2: 12496</br>PAY_AMT3: 3268.0</br>PAY_AMT4: 3000</br>PAY_AMT5: 3000.0</br>PAY_AMT6: 2000</br>GENDER_female: 1.0</br>GENDER_male: 0.0</br>EDUCATION_graduate: 0.0</br>EDUCATION_highschool: 0.0</br>... too many variables"
          ],
          [
           "</br>id: 2251</br>prediction: 0.1</br>AGE: 44.68</br></br>LIMIT_BAL: 70000</br>PAY_1: 0.0</br>PAY_2: 0.0</br>PAY_3: 0.0</br>PAY_4: 0.0</br>PAY_5: 0.0</br>PAY_6: 0.0</br>BILL_AMT1: 68699.0</br>BILL_AMT2: 69120.0</br>BILL_AMT3: 68376.0</br>BILL_AMT4: 30163.0</br>BILL_AMT5: 14310.0</br>BILL_AMT6: 15085.0</br>PAY_AMT1: 4483.0</br>PAY_AMT2: 12496</br>PAY_AMT3: 3268.0</br>PAY_AMT4: 3000</br>PAY_AMT5: 3000.0</br>PAY_AMT6: 2000</br>GENDER_female: 1.0</br>GENDER_male: 0.0</br>EDUCATION_graduate: 0.0</br>EDUCATION_highschool: 0.0</br>... too many variables"
          ],
          [
           "</br>id: 2251</br>prediction: 0.1</br>AGE: 45.099999999999994</br></br>LIMIT_BAL: 70000</br>PAY_1: 0.0</br>PAY_2: 0.0</br>PAY_3: 0.0</br>PAY_4: 0.0</br>PAY_5: 0.0</br>PAY_6: 0.0</br>BILL_AMT1: 68699.0</br>BILL_AMT2: 69120.0</br>BILL_AMT3: 68376.0</br>BILL_AMT4: 30163.0</br>BILL_AMT5: 14310.0</br>BILL_AMT6: 15085.0</br>PAY_AMT1: 4483.0</br>PAY_AMT2: 12496</br>PAY_AMT3: 3268.0</br>PAY_AMT4: 3000</br>PAY_AMT5: 3000.0</br>PAY_AMT6: 2000</br>GENDER_female: 1.0</br>GENDER_male: 0.0</br>EDUCATION_graduate: 0.0</br>... too many variables"
          ],
          [
           "</br>id: 2251</br>prediction: 0.11</br>AGE: 45.519999999999996</br></br>LIMIT_BAL: 70000</br>PAY_1: 0.0</br>PAY_2: 0.0</br>PAY_3: 0.0</br>PAY_4: 0.0</br>PAY_5: 0.0</br>PAY_6: 0.0</br>BILL_AMT1: 68699.0</br>BILL_AMT2: 69120.0</br>BILL_AMT3: 68376.0</br>BILL_AMT4: 30163.0</br>BILL_AMT5: 14310.0</br>BILL_AMT6: 15085.0</br>PAY_AMT1: 4483.0</br>PAY_AMT2: 12496</br>PAY_AMT3: 3268.0</br>PAY_AMT4: 3000</br>PAY_AMT5: 3000.0</br>PAY_AMT6: 2000</br>GENDER_female: 1.0</br>GENDER_male: 0.0</br>EDUCATION_graduate: 0.0</br>... too many variables"
          ],
          [
           "</br>id: 2251</br>prediction: 0.11</br>AGE: 45.94</br></br>LIMIT_BAL: 70000</br>PAY_1: 0.0</br>PAY_2: 0.0</br>PAY_3: 0.0</br>PAY_4: 0.0</br>PAY_5: 0.0</br>PAY_6: 0.0</br>BILL_AMT1: 68699.0</br>BILL_AMT2: 69120.0</br>BILL_AMT3: 68376.0</br>BILL_AMT4: 30163.0</br>BILL_AMT5: 14310.0</br>BILL_AMT6: 15085.0</br>PAY_AMT1: 4483.0</br>PAY_AMT2: 12496</br>PAY_AMT3: 3268.0</br>PAY_AMT4: 3000</br>PAY_AMT5: 3000.0</br>PAY_AMT6: 2000</br>GENDER_female: 1.0</br>GENDER_male: 0.0</br>EDUCATION_graduate: 0.0</br>... too many variables"
          ],
          [
           "</br>id: 2251</br>prediction: 0.11</br>AGE: 46.36</br></br>LIMIT_BAL: 70000</br>PAY_1: 0.0</br>PAY_2: 0.0</br>PAY_3: 0.0</br>PAY_4: 0.0</br>PAY_5: 0.0</br>PAY_6: 0.0</br>BILL_AMT1: 68699.0</br>BILL_AMT2: 69120.0</br>BILL_AMT3: 68376.0</br>BILL_AMT4: 30163.0</br>BILL_AMT5: 14310.0</br>BILL_AMT6: 15085.0</br>PAY_AMT1: 4483.0</br>PAY_AMT2: 12496</br>PAY_AMT3: 3268.0</br>PAY_AMT4: 3000</br>PAY_AMT5: 3000.0</br>PAY_AMT6: 2000</br>GENDER_female: 1.0</br>GENDER_male: 0.0</br>EDUCATION_graduate: 0.0</br>... too many variables"
          ],
          [
           "</br>id: 2251</br>prediction: 0.11</br>AGE: 46.78</br></br>LIMIT_BAL: 70000</br>PAY_1: 0.0</br>PAY_2: 0.0</br>PAY_3: 0.0</br>PAY_4: 0.0</br>PAY_5: 0.0</br>PAY_6: 0.0</br>BILL_AMT1: 68699.0</br>BILL_AMT2: 69120.0</br>BILL_AMT3: 68376.0</br>BILL_AMT4: 30163.0</br>BILL_AMT5: 14310.0</br>BILL_AMT6: 15085.0</br>PAY_AMT1: 4483.0</br>PAY_AMT2: 12496</br>PAY_AMT3: 3268.0</br>PAY_AMT4: 3000</br>PAY_AMT5: 3000.0</br>PAY_AMT6: 2000</br>GENDER_female: 1.0</br>GENDER_male: 0.0</br>EDUCATION_graduate: 0.0</br>... too many variables"
          ],
          [
           "</br>id: 2251</br>prediction: 0.11</br>AGE: 47.2</br></br>LIMIT_BAL: 70000</br>PAY_1: 0.0</br>PAY_2: 0.0</br>PAY_3: 0.0</br>PAY_4: 0.0</br>PAY_5: 0.0</br>PAY_6: 0.0</br>BILL_AMT1: 68699.0</br>BILL_AMT2: 69120.0</br>BILL_AMT3: 68376.0</br>BILL_AMT4: 30163.0</br>BILL_AMT5: 14310.0</br>BILL_AMT6: 15085.0</br>PAY_AMT1: 4483.0</br>PAY_AMT2: 12496</br>PAY_AMT3: 3268.0</br>PAY_AMT4: 3000</br>PAY_AMT5: 3000.0</br>PAY_AMT6: 2000</br>GENDER_female: 1.0</br>GENDER_male: 0.0</br>EDUCATION_graduate: 0.0</br>EDUCATION_highschool: 0.0</br>... too many variables"
          ],
          [
           "</br>id: 2251</br>prediction: 0.11</br>AGE: 47.62</br></br>LIMIT_BAL: 70000</br>PAY_1: 0.0</br>PAY_2: 0.0</br>PAY_3: 0.0</br>PAY_4: 0.0</br>PAY_5: 0.0</br>PAY_6: 0.0</br>BILL_AMT1: 68699.0</br>BILL_AMT2: 69120.0</br>BILL_AMT3: 68376.0</br>BILL_AMT4: 30163.0</br>BILL_AMT5: 14310.0</br>BILL_AMT6: 15085.0</br>PAY_AMT1: 4483.0</br>PAY_AMT2: 12496</br>PAY_AMT3: 3268.0</br>PAY_AMT4: 3000</br>PAY_AMT5: 3000.0</br>PAY_AMT6: 2000</br>GENDER_female: 1.0</br>GENDER_male: 0.0</br>EDUCATION_graduate: 0.0</br>... too many variables"
          ],
          [
           "</br>id: 2251</br>prediction: 0.11</br>AGE: 48.04</br></br>LIMIT_BAL: 70000</br>PAY_1: 0.0</br>PAY_2: 0.0</br>PAY_3: 0.0</br>PAY_4: 0.0</br>PAY_5: 0.0</br>PAY_6: 0.0</br>BILL_AMT1: 68699.0</br>BILL_AMT2: 69120.0</br>BILL_AMT3: 68376.0</br>BILL_AMT4: 30163.0</br>BILL_AMT5: 14310.0</br>BILL_AMT6: 15085.0</br>PAY_AMT1: 4483.0</br>PAY_AMT2: 12496</br>PAY_AMT3: 3268.0</br>PAY_AMT4: 3000</br>PAY_AMT5: 3000.0</br>PAY_AMT6: 2000</br>GENDER_female: 1.0</br>GENDER_male: 0.0</br>EDUCATION_graduate: 0.0</br>... too many variables"
          ],
          [
           "</br>id: 2251</br>prediction: 0.11</br>AGE: 48.459999999999994</br></br>LIMIT_BAL: 70000</br>PAY_1: 0.0</br>PAY_2: 0.0</br>PAY_3: 0.0</br>PAY_4: 0.0</br>PAY_5: 0.0</br>PAY_6: 0.0</br>BILL_AMT1: 68699.0</br>BILL_AMT2: 69120.0</br>BILL_AMT3: 68376.0</br>BILL_AMT4: 30163.0</br>BILL_AMT5: 14310.0</br>BILL_AMT6: 15085.0</br>PAY_AMT1: 4483.0</br>PAY_AMT2: 12496</br>PAY_AMT3: 3268.0</br>PAY_AMT4: 3000</br>PAY_AMT5: 3000.0</br>PAY_AMT6: 2000</br>GENDER_female: 1.0</br>GENDER_male: 0.0</br>EDUCATION_graduate: 0.0</br>... too many variables"
          ],
          [
           "</br>id: 2251</br>prediction: 0.12</br>AGE: 48.879999999999995</br></br>LIMIT_BAL: 70000</br>PAY_1: 0.0</br>PAY_2: 0.0</br>PAY_3: 0.0</br>PAY_4: 0.0</br>PAY_5: 0.0</br>PAY_6: 0.0</br>BILL_AMT1: 68699.0</br>BILL_AMT2: 69120.0</br>BILL_AMT3: 68376.0</br>BILL_AMT4: 30163.0</br>BILL_AMT5: 14310.0</br>BILL_AMT6: 15085.0</br>PAY_AMT1: 4483.0</br>PAY_AMT2: 12496</br>PAY_AMT3: 3268.0</br>PAY_AMT4: 3000</br>PAY_AMT5: 3000.0</br>PAY_AMT6: 2000</br>GENDER_female: 1.0</br>GENDER_male: 0.0</br>EDUCATION_graduate: 0.0</br>... too many variables"
          ],
          [
           "</br>id: 2251</br>prediction: 0.12</br>AGE: 49.3</br></br>LIMIT_BAL: 70000</br>PAY_1: 0.0</br>PAY_2: 0.0</br>PAY_3: 0.0</br>PAY_4: 0.0</br>PAY_5: 0.0</br>PAY_6: 0.0</br>BILL_AMT1: 68699.0</br>BILL_AMT2: 69120.0</br>BILL_AMT3: 68376.0</br>BILL_AMT4: 30163.0</br>BILL_AMT5: 14310.0</br>BILL_AMT6: 15085.0</br>PAY_AMT1: 4483.0</br>PAY_AMT2: 12496</br>PAY_AMT3: 3268.0</br>PAY_AMT4: 3000</br>PAY_AMT5: 3000.0</br>PAY_AMT6: 2000</br>GENDER_female: 1.0</br>GENDER_male: 0.0</br>EDUCATION_graduate: 0.0</br>EDUCATION_highschool: 0.0</br>... too many variables"
          ],
          [
           "</br>id: 2251</br>prediction: 0.12</br>AGE: 49.72</br></br>LIMIT_BAL: 70000</br>PAY_1: 0.0</br>PAY_2: 0.0</br>PAY_3: 0.0</br>PAY_4: 0.0</br>PAY_5: 0.0</br>PAY_6: 0.0</br>BILL_AMT1: 68699.0</br>BILL_AMT2: 69120.0</br>BILL_AMT3: 68376.0</br>BILL_AMT4: 30163.0</br>BILL_AMT5: 14310.0</br>BILL_AMT6: 15085.0</br>PAY_AMT1: 4483.0</br>PAY_AMT2: 12496</br>PAY_AMT3: 3268.0</br>PAY_AMT4: 3000</br>PAY_AMT5: 3000.0</br>PAY_AMT6: 2000</br>GENDER_female: 1.0</br>GENDER_male: 0.0</br>EDUCATION_graduate: 0.0</br>... too many variables"
          ],
          [
           "</br>id: 2251</br>prediction: 0.12</br>AGE: 50.14</br></br>LIMIT_BAL: 70000</br>PAY_1: 0.0</br>PAY_2: 0.0</br>PAY_3: 0.0</br>PAY_4: 0.0</br>PAY_5: 0.0</br>PAY_6: 0.0</br>BILL_AMT1: 68699.0</br>BILL_AMT2: 69120.0</br>BILL_AMT3: 68376.0</br>BILL_AMT4: 30163.0</br>BILL_AMT5: 14310.0</br>BILL_AMT6: 15085.0</br>PAY_AMT1: 4483.0</br>PAY_AMT2: 12496</br>PAY_AMT3: 3268.0</br>PAY_AMT4: 3000</br>PAY_AMT5: 3000.0</br>PAY_AMT6: 2000</br>GENDER_female: 1.0</br>GENDER_male: 0.0</br>EDUCATION_graduate: 0.0</br>... too many variables"
          ],
          [
           "</br>id: 2251</br>prediction: 0.12</br>AGE: 50.56</br></br>LIMIT_BAL: 70000</br>PAY_1: 0.0</br>PAY_2: 0.0</br>PAY_3: 0.0</br>PAY_4: 0.0</br>PAY_5: 0.0</br>PAY_6: 0.0</br>BILL_AMT1: 68699.0</br>BILL_AMT2: 69120.0</br>BILL_AMT3: 68376.0</br>BILL_AMT4: 30163.0</br>BILL_AMT5: 14310.0</br>BILL_AMT6: 15085.0</br>PAY_AMT1: 4483.0</br>PAY_AMT2: 12496</br>PAY_AMT3: 3268.0</br>PAY_AMT4: 3000</br>PAY_AMT5: 3000.0</br>PAY_AMT6: 2000</br>GENDER_female: 1.0</br>GENDER_male: 0.0</br>EDUCATION_graduate: 0.0</br>... too many variables"
          ],
          [
           "</br>id: 2251</br>prediction: 0.12</br>AGE: 50.980000000000004</br></br>LIMIT_BAL: 70000</br>PAY_1: 0.0</br>PAY_2: 0.0</br>PAY_3: 0.0</br>PAY_4: 0.0</br>PAY_5: 0.0</br>PAY_6: 0.0</br>BILL_AMT1: 68699.0</br>BILL_AMT2: 69120.0</br>BILL_AMT3: 68376.0</br>BILL_AMT4: 30163.0</br>BILL_AMT5: 14310.0</br>BILL_AMT6: 15085.0</br>PAY_AMT1: 4483.0</br>PAY_AMT2: 12496</br>PAY_AMT3: 3268.0</br>PAY_AMT4: 3000</br>PAY_AMT5: 3000.0</br>PAY_AMT6: 2000</br>GENDER_female: 1.0</br>GENDER_male: 0.0</br>EDUCATION_graduate: 0.0</br>... too many variables"
          ],
          [
           "</br>id: 2251</br>prediction: 0.13</br>AGE: 51.4</br></br>LIMIT_BAL: 70000</br>PAY_1: 0.0</br>PAY_2: 0.0</br>PAY_3: 0.0</br>PAY_4: 0.0</br>PAY_5: 0.0</br>PAY_6: 0.0</br>BILL_AMT1: 68699.0</br>BILL_AMT2: 69120.0</br>BILL_AMT3: 68376.0</br>BILL_AMT4: 30163.0</br>BILL_AMT5: 14310.0</br>BILL_AMT6: 15085.0</br>PAY_AMT1: 4483.0</br>PAY_AMT2: 12496</br>PAY_AMT3: 3268.0</br>PAY_AMT4: 3000</br>PAY_AMT5: 3000.0</br>PAY_AMT6: 2000</br>GENDER_female: 1.0</br>GENDER_male: 0.0</br>EDUCATION_graduate: 0.0</br>EDUCATION_highschool: 0.0</br>... too many variables"
          ],
          [
           "</br>id: 2251</br>prediction: 0.13</br>AGE: 51.82</br></br>LIMIT_BAL: 70000</br>PAY_1: 0.0</br>PAY_2: 0.0</br>PAY_3: 0.0</br>PAY_4: 0.0</br>PAY_5: 0.0</br>PAY_6: 0.0</br>BILL_AMT1: 68699.0</br>BILL_AMT2: 69120.0</br>BILL_AMT3: 68376.0</br>BILL_AMT4: 30163.0</br>BILL_AMT5: 14310.0</br>BILL_AMT6: 15085.0</br>PAY_AMT1: 4483.0</br>PAY_AMT2: 12496</br>PAY_AMT3: 3268.0</br>PAY_AMT4: 3000</br>PAY_AMT5: 3000.0</br>PAY_AMT6: 2000</br>GENDER_female: 1.0</br>GENDER_male: 0.0</br>EDUCATION_graduate: 0.0</br>... too many variables"
          ],
          [
           "</br>id: 2251</br>prediction: 0.13</br>AGE: 52.239999999999995</br></br>LIMIT_BAL: 70000</br>PAY_1: 0.0</br>PAY_2: 0.0</br>PAY_3: 0.0</br>PAY_4: 0.0</br>PAY_5: 0.0</br>PAY_6: 0.0</br>BILL_AMT1: 68699.0</br>BILL_AMT2: 69120.0</br>BILL_AMT3: 68376.0</br>BILL_AMT4: 30163.0</br>BILL_AMT5: 14310.0</br>BILL_AMT6: 15085.0</br>PAY_AMT1: 4483.0</br>PAY_AMT2: 12496</br>PAY_AMT3: 3268.0</br>PAY_AMT4: 3000</br>PAY_AMT5: 3000.0</br>PAY_AMT6: 2000</br>GENDER_female: 1.0</br>GENDER_male: 0.0</br>EDUCATION_graduate: 0.0</br>... too many variables"
          ],
          [
           "</br>id: 2251</br>prediction: 0.12</br>AGE: 52.66</br></br>LIMIT_BAL: 70000</br>PAY_1: 0.0</br>PAY_2: 0.0</br>PAY_3: 0.0</br>PAY_4: 0.0</br>PAY_5: 0.0</br>PAY_6: 0.0</br>BILL_AMT1: 68699.0</br>BILL_AMT2: 69120.0</br>BILL_AMT3: 68376.0</br>BILL_AMT4: 30163.0</br>BILL_AMT5: 14310.0</br>BILL_AMT6: 15085.0</br>PAY_AMT1: 4483.0</br>PAY_AMT2: 12496</br>PAY_AMT3: 3268.0</br>PAY_AMT4: 3000</br>PAY_AMT5: 3000.0</br>PAY_AMT6: 2000</br>GENDER_female: 1.0</br>GENDER_male: 0.0</br>EDUCATION_graduate: 0.0</br>... too many variables"
          ],
          [
           "</br>id: 2251</br>prediction: 0.12</br>AGE: 53.08</br></br>LIMIT_BAL: 70000</br>PAY_1: 0.0</br>PAY_2: 0.0</br>PAY_3: 0.0</br>PAY_4: 0.0</br>PAY_5: 0.0</br>PAY_6: 0.0</br>BILL_AMT1: 68699.0</br>BILL_AMT2: 69120.0</br>BILL_AMT3: 68376.0</br>BILL_AMT4: 30163.0</br>BILL_AMT5: 14310.0</br>BILL_AMT6: 15085.0</br>PAY_AMT1: 4483.0</br>PAY_AMT2: 12496</br>PAY_AMT3: 3268.0</br>PAY_AMT4: 3000</br>PAY_AMT5: 3000.0</br>PAY_AMT6: 2000</br>GENDER_female: 1.0</br>GENDER_male: 0.0</br>EDUCATION_graduate: 0.0</br>... too many variables"
          ],
          [
           "</br>id: 2251</br>prediction: 0.12</br>AGE: 53.5</br></br>LIMIT_BAL: 70000</br>PAY_1: 0.0</br>PAY_2: 0.0</br>PAY_3: 0.0</br>PAY_4: 0.0</br>PAY_5: 0.0</br>PAY_6: 0.0</br>BILL_AMT1: 68699.0</br>BILL_AMT2: 69120.0</br>BILL_AMT3: 68376.0</br>BILL_AMT4: 30163.0</br>BILL_AMT5: 14310.0</br>BILL_AMT6: 15085.0</br>PAY_AMT1: 4483.0</br>PAY_AMT2: 12496</br>PAY_AMT3: 3268.0</br>PAY_AMT4: 3000</br>PAY_AMT5: 3000.0</br>PAY_AMT6: 2000</br>GENDER_female: 1.0</br>GENDER_male: 0.0</br>EDUCATION_graduate: 0.0</br>EDUCATION_highschool: 0.0</br>... too many variables"
          ],
          [
           "</br>id: 2251</br>prediction: 0.13</br>AGE: 53.92</br></br>LIMIT_BAL: 70000</br>PAY_1: 0.0</br>PAY_2: 0.0</br>PAY_3: 0.0</br>PAY_4: 0.0</br>PAY_5: 0.0</br>PAY_6: 0.0</br>BILL_AMT1: 68699.0</br>BILL_AMT2: 69120.0</br>BILL_AMT3: 68376.0</br>BILL_AMT4: 30163.0</br>BILL_AMT5: 14310.0</br>BILL_AMT6: 15085.0</br>PAY_AMT1: 4483.0</br>PAY_AMT2: 12496</br>PAY_AMT3: 3268.0</br>PAY_AMT4: 3000</br>PAY_AMT5: 3000.0</br>PAY_AMT6: 2000</br>GENDER_female: 1.0</br>GENDER_male: 0.0</br>EDUCATION_graduate: 0.0</br>... too many variables"
          ],
          [
           "</br>id: 2251</br>prediction: 0.13</br>AGE: 54.339999999999996</br></br>LIMIT_BAL: 70000</br>PAY_1: 0.0</br>PAY_2: 0.0</br>PAY_3: 0.0</br>PAY_4: 0.0</br>PAY_5: 0.0</br>PAY_6: 0.0</br>BILL_AMT1: 68699.0</br>BILL_AMT2: 69120.0</br>BILL_AMT3: 68376.0</br>BILL_AMT4: 30163.0</br>BILL_AMT5: 14310.0</br>BILL_AMT6: 15085.0</br>PAY_AMT1: 4483.0</br>PAY_AMT2: 12496</br>PAY_AMT3: 3268.0</br>PAY_AMT4: 3000</br>PAY_AMT5: 3000.0</br>PAY_AMT6: 2000</br>GENDER_female: 1.0</br>GENDER_male: 0.0</br>EDUCATION_graduate: 0.0</br>... too many variables"
          ],
          [
           "</br>id: 2251</br>prediction: 0.13</br>AGE: 54.76</br></br>LIMIT_BAL: 70000</br>PAY_1: 0.0</br>PAY_2: 0.0</br>PAY_3: 0.0</br>PAY_4: 0.0</br>PAY_5: 0.0</br>PAY_6: 0.0</br>BILL_AMT1: 68699.0</br>BILL_AMT2: 69120.0</br>BILL_AMT3: 68376.0</br>BILL_AMT4: 30163.0</br>BILL_AMT5: 14310.0</br>BILL_AMT6: 15085.0</br>PAY_AMT1: 4483.0</br>PAY_AMT2: 12496</br>PAY_AMT3: 3268.0</br>PAY_AMT4: 3000</br>PAY_AMT5: 3000.0</br>PAY_AMT6: 2000</br>GENDER_female: 1.0</br>GENDER_male: 0.0</br>EDUCATION_graduate: 0.0</br>... too many variables"
          ],
          [
           "</br>id: 2251</br>prediction: 0.13</br>AGE: 55.18</br></br>LIMIT_BAL: 70000</br>PAY_1: 0.0</br>PAY_2: 0.0</br>PAY_3: 0.0</br>PAY_4: 0.0</br>PAY_5: 0.0</br>PAY_6: 0.0</br>BILL_AMT1: 68699.0</br>BILL_AMT2: 69120.0</br>BILL_AMT3: 68376.0</br>BILL_AMT4: 30163.0</br>BILL_AMT5: 14310.0</br>BILL_AMT6: 15085.0</br>PAY_AMT1: 4483.0</br>PAY_AMT2: 12496</br>PAY_AMT3: 3268.0</br>PAY_AMT4: 3000</br>PAY_AMT5: 3000.0</br>PAY_AMT6: 2000</br>GENDER_female: 1.0</br>GENDER_male: 0.0</br>EDUCATION_graduate: 0.0</br>... too many variables"
          ],
          [
           "</br>id: 2251</br>prediction: 0.15</br>AGE: 55.6</br></br>LIMIT_BAL: 70000</br>PAY_1: 0.0</br>PAY_2: 0.0</br>PAY_3: 0.0</br>PAY_4: 0.0</br>PAY_5: 0.0</br>PAY_6: 0.0</br>BILL_AMT1: 68699.0</br>BILL_AMT2: 69120.0</br>BILL_AMT3: 68376.0</br>BILL_AMT4: 30163.0</br>BILL_AMT5: 14310.0</br>BILL_AMT6: 15085.0</br>PAY_AMT1: 4483.0</br>PAY_AMT2: 12496</br>PAY_AMT3: 3268.0</br>PAY_AMT4: 3000</br>PAY_AMT5: 3000.0</br>PAY_AMT6: 2000</br>GENDER_female: 1.0</br>GENDER_male: 0.0</br>EDUCATION_graduate: 0.0</br>EDUCATION_highschool: 0.0</br>... too many variables"
          ],
          [
           "</br>id: 2251</br>prediction: 0.15</br>AGE: 56.019999999999996</br></br>LIMIT_BAL: 70000</br>PAY_1: 0.0</br>PAY_2: 0.0</br>PAY_3: 0.0</br>PAY_4: 0.0</br>PAY_5: 0.0</br>PAY_6: 0.0</br>BILL_AMT1: 68699.0</br>BILL_AMT2: 69120.0</br>BILL_AMT3: 68376.0</br>BILL_AMT4: 30163.0</br>BILL_AMT5: 14310.0</br>BILL_AMT6: 15085.0</br>PAY_AMT1: 4483.0</br>PAY_AMT2: 12496</br>PAY_AMT3: 3268.0</br>PAY_AMT4: 3000</br>PAY_AMT5: 3000.0</br>PAY_AMT6: 2000</br>GENDER_female: 1.0</br>GENDER_male: 0.0</br>EDUCATION_graduate: 0.0</br>... too many variables"
          ],
          [
           "</br>id: 2251</br>prediction: 0.15</br>AGE: 56.44</br></br>LIMIT_BAL: 70000</br>PAY_1: 0.0</br>PAY_2: 0.0</br>PAY_3: 0.0</br>PAY_4: 0.0</br>PAY_5: 0.0</br>PAY_6: 0.0</br>BILL_AMT1: 68699.0</br>BILL_AMT2: 69120.0</br>BILL_AMT3: 68376.0</br>BILL_AMT4: 30163.0</br>BILL_AMT5: 14310.0</br>BILL_AMT6: 15085.0</br>PAY_AMT1: 4483.0</br>PAY_AMT2: 12496</br>PAY_AMT3: 3268.0</br>PAY_AMT4: 3000</br>PAY_AMT5: 3000.0</br>PAY_AMT6: 2000</br>GENDER_female: 1.0</br>GENDER_male: 0.0</br>EDUCATION_graduate: 0.0</br>... too many variables"
          ],
          [
           "</br>id: 2251</br>prediction: 0.15</br>AGE: 56.86</br></br>LIMIT_BAL: 70000</br>PAY_1: 0.0</br>PAY_2: 0.0</br>PAY_3: 0.0</br>PAY_4: 0.0</br>PAY_5: 0.0</br>PAY_6: 0.0</br>BILL_AMT1: 68699.0</br>BILL_AMT2: 69120.0</br>BILL_AMT3: 68376.0</br>BILL_AMT4: 30163.0</br>BILL_AMT5: 14310.0</br>BILL_AMT6: 15085.0</br>PAY_AMT1: 4483.0</br>PAY_AMT2: 12496</br>PAY_AMT3: 3268.0</br>PAY_AMT4: 3000</br>PAY_AMT5: 3000.0</br>PAY_AMT6: 2000</br>GENDER_female: 1.0</br>GENDER_male: 0.0</br>EDUCATION_graduate: 0.0</br>... too many variables"
          ],
          [
           "</br>id: 2251</br>prediction: 0.15</br>AGE: 57.28</br></br>LIMIT_BAL: 70000</br>PAY_1: 0.0</br>PAY_2: 0.0</br>PAY_3: 0.0</br>PAY_4: 0.0</br>PAY_5: 0.0</br>PAY_6: 0.0</br>BILL_AMT1: 68699.0</br>BILL_AMT2: 69120.0</br>BILL_AMT3: 68376.0</br>BILL_AMT4: 30163.0</br>BILL_AMT5: 14310.0</br>BILL_AMT6: 15085.0</br>PAY_AMT1: 4483.0</br>PAY_AMT2: 12496</br>PAY_AMT3: 3268.0</br>PAY_AMT4: 3000</br>PAY_AMT5: 3000.0</br>PAY_AMT6: 2000</br>GENDER_female: 1.0</br>GENDER_male: 0.0</br>EDUCATION_graduate: 0.0</br>... too many variables"
          ],
          [
           "</br>id: 2251</br>prediction: 0.15</br>AGE: 57.699999999999996</br></br>LIMIT_BAL: 70000</br>PAY_1: 0.0</br>PAY_2: 0.0</br>PAY_3: 0.0</br>PAY_4: 0.0</br>PAY_5: 0.0</br>PAY_6: 0.0</br>BILL_AMT1: 68699.0</br>BILL_AMT2: 69120.0</br>BILL_AMT3: 68376.0</br>BILL_AMT4: 30163.0</br>BILL_AMT5: 14310.0</br>BILL_AMT6: 15085.0</br>PAY_AMT1: 4483.0</br>PAY_AMT2: 12496</br>PAY_AMT3: 3268.0</br>PAY_AMT4: 3000</br>PAY_AMT5: 3000.0</br>PAY_AMT6: 2000</br>GENDER_female: 1.0</br>GENDER_male: 0.0</br>EDUCATION_graduate: 0.0</br>... too many variables"
          ],
          [
           "</br>id: 2251</br>prediction: 0.15</br>AGE: 58.12</br></br>LIMIT_BAL: 70000</br>PAY_1: 0.0</br>PAY_2: 0.0</br>PAY_3: 0.0</br>PAY_4: 0.0</br>PAY_5: 0.0</br>PAY_6: 0.0</br>BILL_AMT1: 68699.0</br>BILL_AMT2: 69120.0</br>BILL_AMT3: 68376.0</br>BILL_AMT4: 30163.0</br>BILL_AMT5: 14310.0</br>BILL_AMT6: 15085.0</br>PAY_AMT1: 4483.0</br>PAY_AMT2: 12496</br>PAY_AMT3: 3268.0</br>PAY_AMT4: 3000</br>PAY_AMT5: 3000.0</br>PAY_AMT6: 2000</br>GENDER_female: 1.0</br>GENDER_male: 0.0</br>EDUCATION_graduate: 0.0</br>... too many variables"
          ],
          [
           "</br>id: 2251</br>prediction: 0.15</br>AGE: 58.54</br></br>LIMIT_BAL: 70000</br>PAY_1: 0.0</br>PAY_2: 0.0</br>PAY_3: 0.0</br>PAY_4: 0.0</br>PAY_5: 0.0</br>PAY_6: 0.0</br>BILL_AMT1: 68699.0</br>BILL_AMT2: 69120.0</br>BILL_AMT3: 68376.0</br>BILL_AMT4: 30163.0</br>BILL_AMT5: 14310.0</br>BILL_AMT6: 15085.0</br>PAY_AMT1: 4483.0</br>PAY_AMT2: 12496</br>PAY_AMT3: 3268.0</br>PAY_AMT4: 3000</br>PAY_AMT5: 3000.0</br>PAY_AMT6: 2000</br>GENDER_female: 1.0</br>GENDER_male: 0.0</br>EDUCATION_graduate: 0.0</br>... too many variables"
          ],
          [
           "</br>id: 2251</br>prediction: 0.15</br>AGE: 58.96</br></br>LIMIT_BAL: 70000</br>PAY_1: 0.0</br>PAY_2: 0.0</br>PAY_3: 0.0</br>PAY_4: 0.0</br>PAY_5: 0.0</br>PAY_6: 0.0</br>BILL_AMT1: 68699.0</br>BILL_AMT2: 69120.0</br>BILL_AMT3: 68376.0</br>BILL_AMT4: 30163.0</br>BILL_AMT5: 14310.0</br>BILL_AMT6: 15085.0</br>PAY_AMT1: 4483.0</br>PAY_AMT2: 12496</br>PAY_AMT3: 3268.0</br>PAY_AMT4: 3000</br>PAY_AMT5: 3000.0</br>PAY_AMT6: 2000</br>GENDER_female: 1.0</br>GENDER_male: 0.0</br>EDUCATION_graduate: 0.0</br>... too many variables"
          ],
          [
           "</br>id: 2251</br>prediction: 0.15</br>AGE: 59.379999999999995</br></br>LIMIT_BAL: 70000</br>PAY_1: 0.0</br>PAY_2: 0.0</br>PAY_3: 0.0</br>PAY_4: 0.0</br>PAY_5: 0.0</br>PAY_6: 0.0</br>BILL_AMT1: 68699.0</br>BILL_AMT2: 69120.0</br>BILL_AMT3: 68376.0</br>BILL_AMT4: 30163.0</br>BILL_AMT5: 14310.0</br>BILL_AMT6: 15085.0</br>PAY_AMT1: 4483.0</br>PAY_AMT2: 12496</br>PAY_AMT3: 3268.0</br>PAY_AMT4: 3000</br>PAY_AMT5: 3000.0</br>PAY_AMT6: 2000</br>GENDER_female: 1.0</br>GENDER_male: 0.0</br>EDUCATION_graduate: 0.0</br>... too many variables"
          ],
          [
           "</br>id: 2251</br>prediction: 0.18</br>AGE: 59.8</br></br>LIMIT_BAL: 70000</br>PAY_1: 0.0</br>PAY_2: 0.0</br>PAY_3: 0.0</br>PAY_4: 0.0</br>PAY_5: 0.0</br>PAY_6: 0.0</br>BILL_AMT1: 68699.0</br>BILL_AMT2: 69120.0</br>BILL_AMT3: 68376.0</br>BILL_AMT4: 30163.0</br>BILL_AMT5: 14310.0</br>BILL_AMT6: 15085.0</br>PAY_AMT1: 4483.0</br>PAY_AMT2: 12496</br>PAY_AMT3: 3268.0</br>PAY_AMT4: 3000</br>PAY_AMT5: 3000.0</br>PAY_AMT6: 2000</br>GENDER_female: 1.0</br>GENDER_male: 0.0</br>EDUCATION_graduate: 0.0</br>EDUCATION_highschool: 0.0</br>... too many variables"
          ],
          [
           "</br>id: 2251</br>prediction: 0.2</br>AGE: 60.22</br></br>LIMIT_BAL: 70000</br>PAY_1: 0.0</br>PAY_2: 0.0</br>PAY_3: 0.0</br>PAY_4: 0.0</br>PAY_5: 0.0</br>PAY_6: 0.0</br>BILL_AMT1: 68699.0</br>BILL_AMT2: 69120.0</br>BILL_AMT3: 68376.0</br>BILL_AMT4: 30163.0</br>BILL_AMT5: 14310.0</br>BILL_AMT6: 15085.0</br>PAY_AMT1: 4483.0</br>PAY_AMT2: 12496</br>PAY_AMT3: 3268.0</br>PAY_AMT4: 3000</br>PAY_AMT5: 3000.0</br>PAY_AMT6: 2000</br>GENDER_female: 1.0</br>GENDER_male: 0.0</br>EDUCATION_graduate: 0.0</br>EDUCATION_highschool: 0.0</br>... too many variables"
          ],
          [
           "</br>id: 2251</br>prediction: 0.21</br>AGE: 60.64</br></br>LIMIT_BAL: 70000</br>PAY_1: 0.0</br>PAY_2: 0.0</br>PAY_3: 0.0</br>PAY_4: 0.0</br>PAY_5: 0.0</br>PAY_6: 0.0</br>BILL_AMT1: 68699.0</br>BILL_AMT2: 69120.0</br>BILL_AMT3: 68376.0</br>BILL_AMT4: 30163.0</br>BILL_AMT5: 14310.0</br>BILL_AMT6: 15085.0</br>PAY_AMT1: 4483.0</br>PAY_AMT2: 12496</br>PAY_AMT3: 3268.0</br>PAY_AMT4: 3000</br>PAY_AMT5: 3000.0</br>PAY_AMT6: 2000</br>GENDER_female: 1.0</br>GENDER_male: 0.0</br>EDUCATION_graduate: 0.0</br>... too many variables"
          ],
          [
           "</br>id: 2251</br>prediction: 0.21</br>AGE: 61.059999999999995</br></br>LIMIT_BAL: 70000</br>PAY_1: 0.0</br>PAY_2: 0.0</br>PAY_3: 0.0</br>PAY_4: 0.0</br>PAY_5: 0.0</br>PAY_6: 0.0</br>BILL_AMT1: 68699.0</br>BILL_AMT2: 69120.0</br>BILL_AMT3: 68376.0</br>BILL_AMT4: 30163.0</br>BILL_AMT5: 14310.0</br>BILL_AMT6: 15085.0</br>PAY_AMT1: 4483.0</br>PAY_AMT2: 12496</br>PAY_AMT3: 3268.0</br>PAY_AMT4: 3000</br>PAY_AMT5: 3000.0</br>PAY_AMT6: 2000</br>GENDER_female: 1.0</br>GENDER_male: 0.0</br>EDUCATION_graduate: 0.0</br>... too many variables"
          ],
          [
           "</br>id: 2251</br>prediction: 0.21</br>AGE: 61.48</br></br>LIMIT_BAL: 70000</br>PAY_1: 0.0</br>PAY_2: 0.0</br>PAY_3: 0.0</br>PAY_4: 0.0</br>PAY_5: 0.0</br>PAY_6: 0.0</br>BILL_AMT1: 68699.0</br>BILL_AMT2: 69120.0</br>BILL_AMT3: 68376.0</br>BILL_AMT4: 30163.0</br>BILL_AMT5: 14310.0</br>BILL_AMT6: 15085.0</br>PAY_AMT1: 4483.0</br>PAY_AMT2: 12496</br>PAY_AMT3: 3268.0</br>PAY_AMT4: 3000</br>PAY_AMT5: 3000.0</br>PAY_AMT6: 2000</br>GENDER_female: 1.0</br>GENDER_male: 0.0</br>EDUCATION_graduate: 0.0</br>... too many variables"
          ],
          [
           "</br>id: 2251</br>prediction: 0.22</br>AGE: 61.9</br></br>LIMIT_BAL: 70000</br>PAY_1: 0.0</br>PAY_2: 0.0</br>PAY_3: 0.0</br>PAY_4: 0.0</br>PAY_5: 0.0</br>PAY_6: 0.0</br>BILL_AMT1: 68699.0</br>BILL_AMT2: 69120.0</br>BILL_AMT3: 68376.0</br>BILL_AMT4: 30163.0</br>BILL_AMT5: 14310.0</br>BILL_AMT6: 15085.0</br>PAY_AMT1: 4483.0</br>PAY_AMT2: 12496</br>PAY_AMT3: 3268.0</br>PAY_AMT4: 3000</br>PAY_AMT5: 3000.0</br>PAY_AMT6: 2000</br>GENDER_female: 1.0</br>GENDER_male: 0.0</br>EDUCATION_graduate: 0.0</br>EDUCATION_highschool: 0.0</br>... too many variables"
          ],
          [
           "</br>id: 2251</br>prediction: 0.22</br>AGE: 62.32</br></br>LIMIT_BAL: 70000</br>PAY_1: 0.0</br>PAY_2: 0.0</br>PAY_3: 0.0</br>PAY_4: 0.0</br>PAY_5: 0.0</br>PAY_6: 0.0</br>BILL_AMT1: 68699.0</br>BILL_AMT2: 69120.0</br>BILL_AMT3: 68376.0</br>BILL_AMT4: 30163.0</br>BILL_AMT5: 14310.0</br>BILL_AMT6: 15085.0</br>PAY_AMT1: 4483.0</br>PAY_AMT2: 12496</br>PAY_AMT3: 3268.0</br>PAY_AMT4: 3000</br>PAY_AMT5: 3000.0</br>PAY_AMT6: 2000</br>GENDER_female: 1.0</br>GENDER_male: 0.0</br>EDUCATION_graduate: 0.0</br>... too many variables"
          ],
          [
           "</br>id: 2251</br>prediction: 0.22</br>AGE: 62.74</br></br>LIMIT_BAL: 70000</br>PAY_1: 0.0</br>PAY_2: 0.0</br>PAY_3: 0.0</br>PAY_4: 0.0</br>PAY_5: 0.0</br>PAY_6: 0.0</br>BILL_AMT1: 68699.0</br>BILL_AMT2: 69120.0</br>BILL_AMT3: 68376.0</br>BILL_AMT4: 30163.0</br>BILL_AMT5: 14310.0</br>BILL_AMT6: 15085.0</br>PAY_AMT1: 4483.0</br>PAY_AMT2: 12496</br>PAY_AMT3: 3268.0</br>PAY_AMT4: 3000</br>PAY_AMT5: 3000.0</br>PAY_AMT6: 2000</br>GENDER_female: 1.0</br>GENDER_male: 0.0</br>EDUCATION_graduate: 0.0</br>... too many variables"
          ],
          [
           "</br>id: 2251</br>prediction: 0.21</br>AGE: 63.16</br></br>LIMIT_BAL: 70000</br>PAY_1: 0.0</br>PAY_2: 0.0</br>PAY_3: 0.0</br>PAY_4: 0.0</br>PAY_5: 0.0</br>PAY_6: 0.0</br>BILL_AMT1: 68699.0</br>BILL_AMT2: 69120.0</br>BILL_AMT3: 68376.0</br>BILL_AMT4: 30163.0</br>BILL_AMT5: 14310.0</br>BILL_AMT6: 15085.0</br>PAY_AMT1: 4483.0</br>PAY_AMT2: 12496</br>PAY_AMT3: 3268.0</br>PAY_AMT4: 3000</br>PAY_AMT5: 3000.0</br>PAY_AMT6: 2000</br>GENDER_female: 1.0</br>GENDER_male: 0.0</br>EDUCATION_graduate: 0.0</br>... too many variables"
          ],
          [
           "</br>id: 2251</br>prediction: 0.21</br>AGE: 63.58</br></br>LIMIT_BAL: 70000</br>PAY_1: 0.0</br>PAY_2: 0.0</br>PAY_3: 0.0</br>PAY_4: 0.0</br>PAY_5: 0.0</br>PAY_6: 0.0</br>BILL_AMT1: 68699.0</br>BILL_AMT2: 69120.0</br>BILL_AMT3: 68376.0</br>BILL_AMT4: 30163.0</br>BILL_AMT5: 14310.0</br>BILL_AMT6: 15085.0</br>PAY_AMT1: 4483.0</br>PAY_AMT2: 12496</br>PAY_AMT3: 3268.0</br>PAY_AMT4: 3000</br>PAY_AMT5: 3000.0</br>PAY_AMT6: 2000</br>GENDER_female: 1.0</br>GENDER_male: 0.0</br>EDUCATION_graduate: 0.0</br>... too many variables"
          ],
          [
           "</br>id: 2251</br>prediction: 0.21</br>AGE: 64.0</br></br>LIMIT_BAL: 70000</br>PAY_1: 0.0</br>PAY_2: 0.0</br>PAY_3: 0.0</br>PAY_4: 0.0</br>PAY_5: 0.0</br>PAY_6: 0.0</br>BILL_AMT1: 68699.0</br>BILL_AMT2: 69120.0</br>BILL_AMT3: 68376.0</br>BILL_AMT4: 30163.0</br>BILL_AMT5: 14310.0</br>BILL_AMT6: 15085.0</br>PAY_AMT1: 4483.0</br>PAY_AMT2: 12496</br>PAY_AMT3: 3268.0</br>PAY_AMT4: 3000</br>PAY_AMT5: 3000.0</br>PAY_AMT6: 2000</br>GENDER_female: 1.0</br>GENDER_male: 0.0</br>EDUCATION_graduate: 0.0</br>EDUCATION_highschool: 0.0</br>... too many variables"
          ]
         ],
         "hovertemplate": "%{customdata[0]}<extra></extra>",
         "legendgroup": "RandomForestClassifier",
         "line": {
          "color": "#46bac2",
          "dash": "solid",
          "width": 2
         },
         "mode": "lines",
         "name": "RandomForestClassifier",
         "opacity": 1,
         "orientation": "v",
         "showlegend": true,
         "type": "scatter",
         "x": [
          22,
          22.42,
          22.84,
          23.26,
          23.68,
          24.1,
          24.52,
          24.94,
          25.36,
          25.78,
          26.2,
          26.62,
          27.04,
          27.46,
          27.88,
          28.3,
          28.72,
          29.14,
          29.56,
          29.98,
          30.4,
          30.82,
          31.240000000000002,
          31.66,
          32.08,
          32.5,
          32.92,
          33.34,
          33.76,
          34.18,
          34.6,
          35.019999999999996,
          35.44,
          35.86,
          36,
          36.28,
          36.7,
          37.12,
          37.54,
          37.96,
          38.379999999999995,
          38.8,
          39.22,
          39.64,
          40.06,
          40.480000000000004,
          40.9,
          41.32,
          41.739999999999995,
          42.16,
          42.58,
          43,
          43.42,
          43.84,
          44.26,
          44.68,
          45.099999999999994,
          45.519999999999996,
          45.94,
          46.36,
          46.78,
          47.2,
          47.62,
          48.04,
          48.459999999999994,
          48.879999999999995,
          49.3,
          49.72,
          50.14,
          50.56,
          50.980000000000004,
          51.4,
          51.82,
          52.239999999999995,
          52.66,
          53.08,
          53.5,
          53.92,
          54.339999999999996,
          54.76,
          55.18,
          55.6,
          56.019999999999996,
          56.44,
          56.86,
          57.28,
          57.699999999999996,
          58.12,
          58.54,
          58.96,
          59.379999999999995,
          59.8,
          60.22,
          60.64,
          61.059999999999995,
          61.48,
          61.9,
          62.32,
          62.74,
          63.16,
          63.58,
          64
         ],
         "xaxis": "x",
         "y": [
          0.15,
          0.15,
          0.13,
          0.13,
          0.14,
          0.14,
          0.15,
          0.15,
          0.15,
          0.14,
          0.14,
          0.15,
          0.15,
          0.15,
          0.15,
          0.15,
          0.14,
          0.14,
          0.14,
          0.14,
          0.14,
          0.14,
          0.14,
          0.12,
          0.12,
          0.12,
          0.11,
          0.11,
          0.11,
          0.11,
          0.11,
          0.11,
          0.11,
          0.11,
          0.11,
          0.11,
          0.11,
          0.11,
          0.1,
          0.1,
          0.1,
          0.09,
          0.09,
          0.09,
          0.09,
          0.09,
          0.1,
          0.1,
          0.1,
          0.1,
          0.1,
          0.1,
          0.1,
          0.1,
          0.1,
          0.1,
          0.1,
          0.11,
          0.11,
          0.11,
          0.11,
          0.11,
          0.11,
          0.11,
          0.11,
          0.12,
          0.12,
          0.12,
          0.12,
          0.12,
          0.12,
          0.13,
          0.13,
          0.13,
          0.12,
          0.12,
          0.12,
          0.13,
          0.13,
          0.13,
          0.13,
          0.15,
          0.15,
          0.15,
          0.15,
          0.15,
          0.15,
          0.15,
          0.15,
          0.15,
          0.15,
          0.18,
          0.2,
          0.21,
          0.21,
          0.21,
          0.22,
          0.22,
          0.22,
          0.21,
          0.21,
          0.21
         ],
         "yaxis": "y"
        },
        {
         "customdata": [
          [
           "</br>id: 2251</br>prediction: 0.13</br>PAY_1: -2.0</br></br>LIMIT_BAL: 70000</br>AGE: 36.0</br>PAY_2: 0.0</br>PAY_3: 0.0</br>PAY_4: 0.0</br>PAY_5: 0.0</br>PAY_6: 0.0</br>BILL_AMT1: 68699.0</br>BILL_AMT2: 69120.0</br>BILL_AMT3: 68376.0</br>BILL_AMT4: 30163.0</br>BILL_AMT5: 14310.0</br>BILL_AMT6: 15085.0</br>PAY_AMT1: 4483.0</br>PAY_AMT2: 12496</br>PAY_AMT3: 3268.0</br>PAY_AMT4: 3000</br>PAY_AMT5: 3000.0</br>PAY_AMT6: 2000</br>GENDER_female: 1.0</br>GENDER_male: 0.0</br>EDUCATION_graduate: 0.0</br>... too many variables"
          ],
          [
           "</br>id: 2251</br>prediction: 0.13</br>PAY_1: -1.94</br></br>LIMIT_BAL: 70000</br>AGE: 36.0</br>PAY_2: 0.0</br>PAY_3: 0.0</br>PAY_4: 0.0</br>PAY_5: 0.0</br>PAY_6: 0.0</br>BILL_AMT1: 68699.0</br>BILL_AMT2: 69120.0</br>BILL_AMT3: 68376.0</br>BILL_AMT4: 30163.0</br>BILL_AMT5: 14310.0</br>BILL_AMT6: 15085.0</br>PAY_AMT1: 4483.0</br>PAY_AMT2: 12496</br>PAY_AMT3: 3268.0</br>PAY_AMT4: 3000</br>PAY_AMT5: 3000.0</br>PAY_AMT6: 2000</br>GENDER_female: 1.0</br>GENDER_male: 0.0</br>EDUCATION_graduate: 0.0</br>... too many variables"
          ],
          [
           "</br>id: 2251</br>prediction: 0.13</br>PAY_1: -1.88</br></br>LIMIT_BAL: 70000</br>AGE: 36.0</br>PAY_2: 0.0</br>PAY_3: 0.0</br>PAY_4: 0.0</br>PAY_5: 0.0</br>PAY_6: 0.0</br>BILL_AMT1: 68699.0</br>BILL_AMT2: 69120.0</br>BILL_AMT3: 68376.0</br>BILL_AMT4: 30163.0</br>BILL_AMT5: 14310.0</br>BILL_AMT6: 15085.0</br>PAY_AMT1: 4483.0</br>PAY_AMT2: 12496</br>PAY_AMT3: 3268.0</br>PAY_AMT4: 3000</br>PAY_AMT5: 3000.0</br>PAY_AMT6: 2000</br>GENDER_female: 1.0</br>GENDER_male: 0.0</br>EDUCATION_graduate: 0.0</br>... too many variables"
          ],
          [
           "</br>id: 2251</br>prediction: 0.13</br>PAY_1: -1.82</br></br>LIMIT_BAL: 70000</br>AGE: 36.0</br>PAY_2: 0.0</br>PAY_3: 0.0</br>PAY_4: 0.0</br>PAY_5: 0.0</br>PAY_6: 0.0</br>BILL_AMT1: 68699.0</br>BILL_AMT2: 69120.0</br>BILL_AMT3: 68376.0</br>BILL_AMT4: 30163.0</br>BILL_AMT5: 14310.0</br>BILL_AMT6: 15085.0</br>PAY_AMT1: 4483.0</br>PAY_AMT2: 12496</br>PAY_AMT3: 3268.0</br>PAY_AMT4: 3000</br>PAY_AMT5: 3000.0</br>PAY_AMT6: 2000</br>GENDER_female: 1.0</br>GENDER_male: 0.0</br>EDUCATION_graduate: 0.0</br>... too many variables"
          ],
          [
           "</br>id: 2251</br>prediction: 0.13</br>PAY_1: -1.76</br></br>LIMIT_BAL: 70000</br>AGE: 36.0</br>PAY_2: 0.0</br>PAY_3: 0.0</br>PAY_4: 0.0</br>PAY_5: 0.0</br>PAY_6: 0.0</br>BILL_AMT1: 68699.0</br>BILL_AMT2: 69120.0</br>BILL_AMT3: 68376.0</br>BILL_AMT4: 30163.0</br>BILL_AMT5: 14310.0</br>BILL_AMT6: 15085.0</br>PAY_AMT1: 4483.0</br>PAY_AMT2: 12496</br>PAY_AMT3: 3268.0</br>PAY_AMT4: 3000</br>PAY_AMT5: 3000.0</br>PAY_AMT6: 2000</br>GENDER_female: 1.0</br>GENDER_male: 0.0</br>EDUCATION_graduate: 0.0</br>... too many variables"
          ],
          [
           "</br>id: 2251</br>prediction: 0.13</br>PAY_1: -1.7</br></br>LIMIT_BAL: 70000</br>AGE: 36.0</br>PAY_2: 0.0</br>PAY_3: 0.0</br>PAY_4: 0.0</br>PAY_5: 0.0</br>PAY_6: 0.0</br>BILL_AMT1: 68699.0</br>BILL_AMT2: 69120.0</br>BILL_AMT3: 68376.0</br>BILL_AMT4: 30163.0</br>BILL_AMT5: 14310.0</br>BILL_AMT6: 15085.0</br>PAY_AMT1: 4483.0</br>PAY_AMT2: 12496</br>PAY_AMT3: 3268.0</br>PAY_AMT4: 3000</br>PAY_AMT5: 3000.0</br>PAY_AMT6: 2000</br>GENDER_female: 1.0</br>GENDER_male: 0.0</br>EDUCATION_graduate: 0.0</br>... too many variables"
          ],
          [
           "</br>id: 2251</br>prediction: 0.13</br>PAY_1: -1.6400000000000001</br></br>LIMIT_BAL: 70000</br>AGE: 36.0</br>PAY_2: 0.0</br>PAY_3: 0.0</br>PAY_4: 0.0</br>PAY_5: 0.0</br>PAY_6: 0.0</br>BILL_AMT1: 68699.0</br>BILL_AMT2: 69120.0</br>BILL_AMT3: 68376.0</br>BILL_AMT4: 30163.0</br>BILL_AMT5: 14310.0</br>BILL_AMT6: 15085.0</br>PAY_AMT1: 4483.0</br>PAY_AMT2: 12496</br>PAY_AMT3: 3268.0</br>PAY_AMT4: 3000</br>PAY_AMT5: 3000.0</br>PAY_AMT6: 2000</br>GENDER_female: 1.0</br>GENDER_male: 0.0</br>EDUCATION_graduate: 0.0</br>... too many variables"
          ],
          [
           "</br>id: 2251</br>prediction: 0.13</br>PAY_1: -1.58</br></br>LIMIT_BAL: 70000</br>AGE: 36.0</br>PAY_2: 0.0</br>PAY_3: 0.0</br>PAY_4: 0.0</br>PAY_5: 0.0</br>PAY_6: 0.0</br>BILL_AMT1: 68699.0</br>BILL_AMT2: 69120.0</br>BILL_AMT3: 68376.0</br>BILL_AMT4: 30163.0</br>BILL_AMT5: 14310.0</br>BILL_AMT6: 15085.0</br>PAY_AMT1: 4483.0</br>PAY_AMT2: 12496</br>PAY_AMT3: 3268.0</br>PAY_AMT4: 3000</br>PAY_AMT5: 3000.0</br>PAY_AMT6: 2000</br>GENDER_female: 1.0</br>GENDER_male: 0.0</br>EDUCATION_graduate: 0.0</br>... too many variables"
          ],
          [
           "</br>id: 2251</br>prediction: 0.13</br>PAY_1: -1.52</br></br>LIMIT_BAL: 70000</br>AGE: 36.0</br>PAY_2: 0.0</br>PAY_3: 0.0</br>PAY_4: 0.0</br>PAY_5: 0.0</br>PAY_6: 0.0</br>BILL_AMT1: 68699.0</br>BILL_AMT2: 69120.0</br>BILL_AMT3: 68376.0</br>BILL_AMT4: 30163.0</br>BILL_AMT5: 14310.0</br>BILL_AMT6: 15085.0</br>PAY_AMT1: 4483.0</br>PAY_AMT2: 12496</br>PAY_AMT3: 3268.0</br>PAY_AMT4: 3000</br>PAY_AMT5: 3000.0</br>PAY_AMT6: 2000</br>GENDER_female: 1.0</br>GENDER_male: 0.0</br>EDUCATION_graduate: 0.0</br>... too many variables"
          ],
          [
           "</br>id: 2251</br>prediction: 0.13</br>PAY_1: -1.46</br></br>LIMIT_BAL: 70000</br>AGE: 36.0</br>PAY_2: 0.0</br>PAY_3: 0.0</br>PAY_4: 0.0</br>PAY_5: 0.0</br>PAY_6: 0.0</br>BILL_AMT1: 68699.0</br>BILL_AMT2: 69120.0</br>BILL_AMT3: 68376.0</br>BILL_AMT4: 30163.0</br>BILL_AMT5: 14310.0</br>BILL_AMT6: 15085.0</br>PAY_AMT1: 4483.0</br>PAY_AMT2: 12496</br>PAY_AMT3: 3268.0</br>PAY_AMT4: 3000</br>PAY_AMT5: 3000.0</br>PAY_AMT6: 2000</br>GENDER_female: 1.0</br>GENDER_male: 0.0</br>EDUCATION_graduate: 0.0</br>... too many variables"
          ],
          [
           "</br>id: 2251</br>prediction: 0.13</br>PAY_1: -1.4</br></br>LIMIT_BAL: 70000</br>AGE: 36.0</br>PAY_2: 0.0</br>PAY_3: 0.0</br>PAY_4: 0.0</br>PAY_5: 0.0</br>PAY_6: 0.0</br>BILL_AMT1: 68699.0</br>BILL_AMT2: 69120.0</br>BILL_AMT3: 68376.0</br>BILL_AMT4: 30163.0</br>BILL_AMT5: 14310.0</br>BILL_AMT6: 15085.0</br>PAY_AMT1: 4483.0</br>PAY_AMT2: 12496</br>PAY_AMT3: 3268.0</br>PAY_AMT4: 3000</br>PAY_AMT5: 3000.0</br>PAY_AMT6: 2000</br>GENDER_female: 1.0</br>GENDER_male: 0.0</br>EDUCATION_graduate: 0.0</br>... too many variables"
          ],
          [
           "</br>id: 2251</br>prediction: 0.13</br>PAY_1: -1.34</br></br>LIMIT_BAL: 70000</br>AGE: 36.0</br>PAY_2: 0.0</br>PAY_3: 0.0</br>PAY_4: 0.0</br>PAY_5: 0.0</br>PAY_6: 0.0</br>BILL_AMT1: 68699.0</br>BILL_AMT2: 69120.0</br>BILL_AMT3: 68376.0</br>BILL_AMT4: 30163.0</br>BILL_AMT5: 14310.0</br>BILL_AMT6: 15085.0</br>PAY_AMT1: 4483.0</br>PAY_AMT2: 12496</br>PAY_AMT3: 3268.0</br>PAY_AMT4: 3000</br>PAY_AMT5: 3000.0</br>PAY_AMT6: 2000</br>GENDER_female: 1.0</br>GENDER_male: 0.0</br>EDUCATION_graduate: 0.0</br>... too many variables"
          ],
          [
           "</br>id: 2251</br>prediction: 0.13</br>PAY_1: -1.28</br></br>LIMIT_BAL: 70000</br>AGE: 36.0</br>PAY_2: 0.0</br>PAY_3: 0.0</br>PAY_4: 0.0</br>PAY_5: 0.0</br>PAY_6: 0.0</br>BILL_AMT1: 68699.0</br>BILL_AMT2: 69120.0</br>BILL_AMT3: 68376.0</br>BILL_AMT4: 30163.0</br>BILL_AMT5: 14310.0</br>BILL_AMT6: 15085.0</br>PAY_AMT1: 4483.0</br>PAY_AMT2: 12496</br>PAY_AMT3: 3268.0</br>PAY_AMT4: 3000</br>PAY_AMT5: 3000.0</br>PAY_AMT6: 2000</br>GENDER_female: 1.0</br>GENDER_male: 0.0</br>EDUCATION_graduate: 0.0</br>... too many variables"
          ],
          [
           "</br>id: 2251</br>prediction: 0.13</br>PAY_1: -1.22</br></br>LIMIT_BAL: 70000</br>AGE: 36.0</br>PAY_2: 0.0</br>PAY_3: 0.0</br>PAY_4: 0.0</br>PAY_5: 0.0</br>PAY_6: 0.0</br>BILL_AMT1: 68699.0</br>BILL_AMT2: 69120.0</br>BILL_AMT3: 68376.0</br>BILL_AMT4: 30163.0</br>BILL_AMT5: 14310.0</br>BILL_AMT6: 15085.0</br>PAY_AMT1: 4483.0</br>PAY_AMT2: 12496</br>PAY_AMT3: 3268.0</br>PAY_AMT4: 3000</br>PAY_AMT5: 3000.0</br>PAY_AMT6: 2000</br>GENDER_female: 1.0</br>GENDER_male: 0.0</br>EDUCATION_graduate: 0.0</br>... too many variables"
          ],
          [
           "</br>id: 2251</br>prediction: 0.13</br>PAY_1: -1.1600000000000001</br></br>LIMIT_BAL: 70000</br>AGE: 36.0</br>PAY_2: 0.0</br>PAY_3: 0.0</br>PAY_4: 0.0</br>PAY_5: 0.0</br>PAY_6: 0.0</br>BILL_AMT1: 68699.0</br>BILL_AMT2: 69120.0</br>BILL_AMT3: 68376.0</br>BILL_AMT4: 30163.0</br>BILL_AMT5: 14310.0</br>BILL_AMT6: 15085.0</br>PAY_AMT1: 4483.0</br>PAY_AMT2: 12496</br>PAY_AMT3: 3268.0</br>PAY_AMT4: 3000</br>PAY_AMT5: 3000.0</br>PAY_AMT6: 2000</br>GENDER_female: 1.0</br>GENDER_male: 0.0</br>EDUCATION_graduate: 0.0</br>... too many variables"
          ],
          [
           "</br>id: 2251</br>prediction: 0.13</br>PAY_1: -1.1</br></br>LIMIT_BAL: 70000</br>AGE: 36.0</br>PAY_2: 0.0</br>PAY_3: 0.0</br>PAY_4: 0.0</br>PAY_5: 0.0</br>PAY_6: 0.0</br>BILL_AMT1: 68699.0</br>BILL_AMT2: 69120.0</br>BILL_AMT3: 68376.0</br>BILL_AMT4: 30163.0</br>BILL_AMT5: 14310.0</br>BILL_AMT6: 15085.0</br>PAY_AMT1: 4483.0</br>PAY_AMT2: 12496</br>PAY_AMT3: 3268.0</br>PAY_AMT4: 3000</br>PAY_AMT5: 3000.0</br>PAY_AMT6: 2000</br>GENDER_female: 1.0</br>GENDER_male: 0.0</br>EDUCATION_graduate: 0.0</br>... too many variables"
          ],
          [
           "</br>id: 2251</br>prediction: 0.13</br>PAY_1: -1.04</br></br>LIMIT_BAL: 70000</br>AGE: 36.0</br>PAY_2: 0.0</br>PAY_3: 0.0</br>PAY_4: 0.0</br>PAY_5: 0.0</br>PAY_6: 0.0</br>BILL_AMT1: 68699.0</br>BILL_AMT2: 69120.0</br>BILL_AMT3: 68376.0</br>BILL_AMT4: 30163.0</br>BILL_AMT5: 14310.0</br>BILL_AMT6: 15085.0</br>PAY_AMT1: 4483.0</br>PAY_AMT2: 12496</br>PAY_AMT3: 3268.0</br>PAY_AMT4: 3000</br>PAY_AMT5: 3000.0</br>PAY_AMT6: 2000</br>GENDER_female: 1.0</br>GENDER_male: 0.0</br>EDUCATION_graduate: 0.0</br>... too many variables"
          ],
          [
           "</br>id: 2251</br>prediction: 0.13</br>PAY_1: -0.98</br></br>LIMIT_BAL: 70000</br>AGE: 36.0</br>PAY_2: 0.0</br>PAY_3: 0.0</br>PAY_4: 0.0</br>PAY_5: 0.0</br>PAY_6: 0.0</br>BILL_AMT1: 68699.0</br>BILL_AMT2: 69120.0</br>BILL_AMT3: 68376.0</br>BILL_AMT4: 30163.0</br>BILL_AMT5: 14310.0</br>BILL_AMT6: 15085.0</br>PAY_AMT1: 4483.0</br>PAY_AMT2: 12496</br>PAY_AMT3: 3268.0</br>PAY_AMT4: 3000</br>PAY_AMT5: 3000.0</br>PAY_AMT6: 2000</br>GENDER_female: 1.0</br>GENDER_male: 0.0</br>EDUCATION_graduate: 0.0</br>... too many variables"
          ],
          [
           "</br>id: 2251</br>prediction: 0.13</br>PAY_1: -0.9199999999999999</br></br>LIMIT_BAL: 70000</br>AGE: 36.0</br>PAY_2: 0.0</br>PAY_3: 0.0</br>PAY_4: 0.0</br>PAY_5: 0.0</br>PAY_6: 0.0</br>BILL_AMT1: 68699.0</br>BILL_AMT2: 69120.0</br>BILL_AMT3: 68376.0</br>BILL_AMT4: 30163.0</br>BILL_AMT5: 14310.0</br>BILL_AMT6: 15085.0</br>PAY_AMT1: 4483.0</br>PAY_AMT2: 12496</br>PAY_AMT3: 3268.0</br>PAY_AMT4: 3000</br>PAY_AMT5: 3000.0</br>PAY_AMT6: 2000</br>GENDER_female: 1.0</br>GENDER_male: 0.0</br>EDUCATION_graduate: 0.0</br>... too many variables"
          ],
          [
           "</br>id: 2251</br>prediction: 0.13</br>PAY_1: -0.8600000000000001</br></br>LIMIT_BAL: 70000</br>AGE: 36.0</br>PAY_2: 0.0</br>PAY_3: 0.0</br>PAY_4: 0.0</br>PAY_5: 0.0</br>PAY_6: 0.0</br>BILL_AMT1: 68699.0</br>BILL_AMT2: 69120.0</br>BILL_AMT3: 68376.0</br>BILL_AMT4: 30163.0</br>BILL_AMT5: 14310.0</br>BILL_AMT6: 15085.0</br>PAY_AMT1: 4483.0</br>PAY_AMT2: 12496</br>PAY_AMT3: 3268.0</br>PAY_AMT4: 3000</br>PAY_AMT5: 3000.0</br>PAY_AMT6: 2000</br>GENDER_female: 1.0</br>GENDER_male: 0.0</br>EDUCATION_graduate: 0.0</br>... too many variables"
          ],
          [
           "</br>id: 2251</br>prediction: 0.13</br>PAY_1: -0.8</br></br>LIMIT_BAL: 70000</br>AGE: 36.0</br>PAY_2: 0.0</br>PAY_3: 0.0</br>PAY_4: 0.0</br>PAY_5: 0.0</br>PAY_6: 0.0</br>BILL_AMT1: 68699.0</br>BILL_AMT2: 69120.0</br>BILL_AMT3: 68376.0</br>BILL_AMT4: 30163.0</br>BILL_AMT5: 14310.0</br>BILL_AMT6: 15085.0</br>PAY_AMT1: 4483.0</br>PAY_AMT2: 12496</br>PAY_AMT3: 3268.0</br>PAY_AMT4: 3000</br>PAY_AMT5: 3000.0</br>PAY_AMT6: 2000</br>GENDER_female: 1.0</br>GENDER_male: 0.0</br>EDUCATION_graduate: 0.0</br>... too many variables"
          ],
          [
           "</br>id: 2251</br>prediction: 0.13</br>PAY_1: -0.74</br></br>LIMIT_BAL: 70000</br>AGE: 36.0</br>PAY_2: 0.0</br>PAY_3: 0.0</br>PAY_4: 0.0</br>PAY_5: 0.0</br>PAY_6: 0.0</br>BILL_AMT1: 68699.0</br>BILL_AMT2: 69120.0</br>BILL_AMT3: 68376.0</br>BILL_AMT4: 30163.0</br>BILL_AMT5: 14310.0</br>BILL_AMT6: 15085.0</br>PAY_AMT1: 4483.0</br>PAY_AMT2: 12496</br>PAY_AMT3: 3268.0</br>PAY_AMT4: 3000</br>PAY_AMT5: 3000.0</br>PAY_AMT6: 2000</br>GENDER_female: 1.0</br>GENDER_male: 0.0</br>EDUCATION_graduate: 0.0</br>... too many variables"
          ],
          [
           "</br>id: 2251</br>prediction: 0.13</br>PAY_1: -0.6800000000000002</br></br>LIMIT_BAL: 70000</br>AGE: 36.0</br>PAY_2: 0.0</br>PAY_3: 0.0</br>PAY_4: 0.0</br>PAY_5: 0.0</br>PAY_6: 0.0</br>BILL_AMT1: 68699.0</br>BILL_AMT2: 69120.0</br>BILL_AMT3: 68376.0</br>BILL_AMT4: 30163.0</br>BILL_AMT5: 14310.0</br>BILL_AMT6: 15085.0</br>PAY_AMT1: 4483.0</br>PAY_AMT2: 12496</br>PAY_AMT3: 3268.0</br>PAY_AMT4: 3000</br>PAY_AMT5: 3000.0</br>PAY_AMT6: 2000</br>GENDER_female: 1.0</br>GENDER_male: 0.0</br>EDUCATION_graduate: 0.0</br>... too many variables"
          ],
          [
           "</br>id: 2251</br>prediction: 0.13</br>PAY_1: -0.6200000000000001</br></br>LIMIT_BAL: 70000</br>AGE: 36.0</br>PAY_2: 0.0</br>PAY_3: 0.0</br>PAY_4: 0.0</br>PAY_5: 0.0</br>PAY_6: 0.0</br>BILL_AMT1: 68699.0</br>BILL_AMT2: 69120.0</br>BILL_AMT3: 68376.0</br>BILL_AMT4: 30163.0</br>BILL_AMT5: 14310.0</br>BILL_AMT6: 15085.0</br>PAY_AMT1: 4483.0</br>PAY_AMT2: 12496</br>PAY_AMT3: 3268.0</br>PAY_AMT4: 3000</br>PAY_AMT5: 3000.0</br>PAY_AMT6: 2000</br>GENDER_female: 1.0</br>GENDER_male: 0.0</br>EDUCATION_graduate: 0.0</br>... too many variables"
          ],
          [
           "</br>id: 2251</br>prediction: 0.13</br>PAY_1: -0.56</br></br>LIMIT_BAL: 70000</br>AGE: 36.0</br>PAY_2: 0.0</br>PAY_3: 0.0</br>PAY_4: 0.0</br>PAY_5: 0.0</br>PAY_6: 0.0</br>BILL_AMT1: 68699.0</br>BILL_AMT2: 69120.0</br>BILL_AMT3: 68376.0</br>BILL_AMT4: 30163.0</br>BILL_AMT5: 14310.0</br>BILL_AMT6: 15085.0</br>PAY_AMT1: 4483.0</br>PAY_AMT2: 12496</br>PAY_AMT3: 3268.0</br>PAY_AMT4: 3000</br>PAY_AMT5: 3000.0</br>PAY_AMT6: 2000</br>GENDER_female: 1.0</br>GENDER_male: 0.0</br>EDUCATION_graduate: 0.0</br>... too many variables"
          ],
          [
           "</br>id: 2251</br>prediction: 0.13</br>PAY_1: -0.5</br></br>LIMIT_BAL: 70000</br>AGE: 36.0</br>PAY_2: 0.0</br>PAY_3: 0.0</br>PAY_4: 0.0</br>PAY_5: 0.0</br>PAY_6: 0.0</br>BILL_AMT1: 68699.0</br>BILL_AMT2: 69120.0</br>BILL_AMT3: 68376.0</br>BILL_AMT4: 30163.0</br>BILL_AMT5: 14310.0</br>BILL_AMT6: 15085.0</br>PAY_AMT1: 4483.0</br>PAY_AMT2: 12496</br>PAY_AMT3: 3268.0</br>PAY_AMT4: 3000</br>PAY_AMT5: 3000.0</br>PAY_AMT6: 2000</br>GENDER_female: 1.0</br>GENDER_male: 0.0</br>EDUCATION_graduate: 0.0</br>... too many variables"
          ],
          [
           "</br>id: 2251</br>prediction: 0.11</br>PAY_1: -0.43999999999999995</br></br>LIMIT_BAL: 70000</br>AGE: 36.0</br>PAY_2: 0.0</br>PAY_3: 0.0</br>PAY_4: 0.0</br>PAY_5: 0.0</br>PAY_6: 0.0</br>BILL_AMT1: 68699.0</br>BILL_AMT2: 69120.0</br>BILL_AMT3: 68376.0</br>BILL_AMT4: 30163.0</br>BILL_AMT5: 14310.0</br>BILL_AMT6: 15085.0</br>PAY_AMT1: 4483.0</br>PAY_AMT2: 12496</br>PAY_AMT3: 3268.0</br>PAY_AMT4: 3000</br>PAY_AMT5: 3000.0</br>PAY_AMT6: 2000</br>GENDER_female: 1.0</br>GENDER_male: 0.0</br>EDUCATION_graduate: 0.0</br>... too many variables"
          ],
          [
           "</br>id: 2251</br>prediction: 0.11</br>PAY_1: -0.3800000000000001</br></br>LIMIT_BAL: 70000</br>AGE: 36.0</br>PAY_2: 0.0</br>PAY_3: 0.0</br>PAY_4: 0.0</br>PAY_5: 0.0</br>PAY_6: 0.0</br>BILL_AMT1: 68699.0</br>BILL_AMT2: 69120.0</br>BILL_AMT3: 68376.0</br>BILL_AMT4: 30163.0</br>BILL_AMT5: 14310.0</br>BILL_AMT6: 15085.0</br>PAY_AMT1: 4483.0</br>PAY_AMT2: 12496</br>PAY_AMT3: 3268.0</br>PAY_AMT4: 3000</br>PAY_AMT5: 3000.0</br>PAY_AMT6: 2000</br>GENDER_female: 1.0</br>GENDER_male: 0.0</br>EDUCATION_graduate: 0.0</br>... too many variables"
          ],
          [
           "</br>id: 2251</br>prediction: 0.11</br>PAY_1: -0.32000000000000006</br></br>LIMIT_BAL: 70000</br>AGE: 36.0</br>PAY_2: 0.0</br>PAY_3: 0.0</br>PAY_4: 0.0</br>PAY_5: 0.0</br>PAY_6: 0.0</br>BILL_AMT1: 68699.0</br>BILL_AMT2: 69120.0</br>BILL_AMT3: 68376.0</br>BILL_AMT4: 30163.0</br>BILL_AMT5: 14310.0</br>BILL_AMT6: 15085.0</br>PAY_AMT1: 4483.0</br>PAY_AMT2: 12496</br>PAY_AMT3: 3268.0</br>PAY_AMT4: 3000</br>PAY_AMT5: 3000.0</br>PAY_AMT6: 2000</br>GENDER_female: 1.0</br>GENDER_male: 0.0</br>EDUCATION_graduate: 0.0</br>... too many variables"
          ],
          [
           "</br>id: 2251</br>prediction: 0.11</br>PAY_1: -0.26</br></br>LIMIT_BAL: 70000</br>AGE: 36.0</br>PAY_2: 0.0</br>PAY_3: 0.0</br>PAY_4: 0.0</br>PAY_5: 0.0</br>PAY_6: 0.0</br>BILL_AMT1: 68699.0</br>BILL_AMT2: 69120.0</br>BILL_AMT3: 68376.0</br>BILL_AMT4: 30163.0</br>BILL_AMT5: 14310.0</br>BILL_AMT6: 15085.0</br>PAY_AMT1: 4483.0</br>PAY_AMT2: 12496</br>PAY_AMT3: 3268.0</br>PAY_AMT4: 3000</br>PAY_AMT5: 3000.0</br>PAY_AMT6: 2000</br>GENDER_female: 1.0</br>GENDER_male: 0.0</br>EDUCATION_graduate: 0.0</br>... too many variables"
          ],
          [
           "</br>id: 2251</br>prediction: 0.11</br>PAY_1: -0.20000000000000018</br></br>LIMIT_BAL: 70000</br>AGE: 36.0</br>PAY_2: 0.0</br>PAY_3: 0.0</br>PAY_4: 0.0</br>PAY_5: 0.0</br>PAY_6: 0.0</br>BILL_AMT1: 68699.0</br>BILL_AMT2: 69120.0</br>BILL_AMT3: 68376.0</br>BILL_AMT4: 30163.0</br>BILL_AMT5: 14310.0</br>BILL_AMT6: 15085.0</br>PAY_AMT1: 4483.0</br>PAY_AMT2: 12496</br>PAY_AMT3: 3268.0</br>PAY_AMT4: 3000</br>PAY_AMT5: 3000.0</br>PAY_AMT6: 2000</br>GENDER_female: 1.0</br>GENDER_male: 0.0</br>EDUCATION_graduate: 0.0</br>... too many variables"
          ],
          [
           "</br>id: 2251</br>prediction: 0.11</br>PAY_1: -0.14000000000000012</br></br>LIMIT_BAL: 70000</br>AGE: 36.0</br>PAY_2: 0.0</br>PAY_3: 0.0</br>PAY_4: 0.0</br>PAY_5: 0.0</br>PAY_6: 0.0</br>BILL_AMT1: 68699.0</br>BILL_AMT2: 69120.0</br>BILL_AMT3: 68376.0</br>BILL_AMT4: 30163.0</br>BILL_AMT5: 14310.0</br>BILL_AMT6: 15085.0</br>PAY_AMT1: 4483.0</br>PAY_AMT2: 12496</br>PAY_AMT3: 3268.0</br>PAY_AMT4: 3000</br>PAY_AMT5: 3000.0</br>PAY_AMT6: 2000</br>GENDER_female: 1.0</br>GENDER_male: 0.0</br>EDUCATION_graduate: 0.0</br>... too many variables"
          ],
          [
           "</br>id: 2251</br>prediction: 0.11</br>PAY_1: -0.08000000000000007</br></br>LIMIT_BAL: 70000</br>AGE: 36.0</br>PAY_2: 0.0</br>PAY_3: 0.0</br>PAY_4: 0.0</br>PAY_5: 0.0</br>PAY_6: 0.0</br>BILL_AMT1: 68699.0</br>BILL_AMT2: 69120.0</br>BILL_AMT3: 68376.0</br>BILL_AMT4: 30163.0</br>BILL_AMT5: 14310.0</br>BILL_AMT6: 15085.0</br>PAY_AMT1: 4483.0</br>PAY_AMT2: 12496</br>PAY_AMT3: 3268.0</br>PAY_AMT4: 3000</br>PAY_AMT5: 3000.0</br>PAY_AMT6: 2000</br>GENDER_female: 1.0</br>GENDER_male: 0.0</br>EDUCATION_graduate: 0.0</br>... too many variables"
          ],
          [
           "</br>id: 2251</br>prediction: 0.11</br>PAY_1: -0.020000000000000018</br></br>LIMIT_BAL: 70000</br>AGE: 36.0</br>PAY_2: 0.0</br>PAY_3: 0.0</br>PAY_4: 0.0</br>PAY_5: 0.0</br>PAY_6: 0.0</br>BILL_AMT1: 68699.0</br>BILL_AMT2: 69120.0</br>BILL_AMT3: 68376.0</br>BILL_AMT4: 30163.0</br>BILL_AMT5: 14310.0</br>BILL_AMT6: 15085.0</br>PAY_AMT1: 4483.0</br>PAY_AMT2: 12496</br>PAY_AMT3: 3268.0</br>PAY_AMT4: 3000</br>PAY_AMT5: 3000.0</br>PAY_AMT6: 2000</br>GENDER_female: 1.0</br>GENDER_male: 0.0</br>EDUCATION_graduate: 0.0</br>... too many variables"
          ],
          [
           "</br>id: 2251</br>prediction: 0.11</br>PAY_1: 0.0</br></br>LIMIT_BAL: 70000</br>AGE: 36.0</br>PAY_2: 0.0</br>PAY_3: 0.0</br>PAY_4: 0.0</br>PAY_5: 0.0</br>PAY_6: 0.0</br>BILL_AMT1: 68699.0</br>BILL_AMT2: 69120.0</br>BILL_AMT3: 68376.0</br>BILL_AMT4: 30163.0</br>BILL_AMT5: 14310.0</br>BILL_AMT6: 15085.0</br>PAY_AMT1: 4483.0</br>PAY_AMT2: 12496</br>PAY_AMT3: 3268.0</br>PAY_AMT4: 3000</br>PAY_AMT5: 3000.0</br>PAY_AMT6: 2000</br>GENDER_female: 1.0</br>GENDER_male: 0.0</br>EDUCATION_graduate: 0.0</br>EDUCATION_highschool: 0.0</br>... too many variables"
          ],
          [
           "</br>id: 2251</br>prediction: 0.11</br>PAY_1: 0.040000000000000036</br></br>LIMIT_BAL: 70000</br>AGE: 36.0</br>PAY_2: 0.0</br>PAY_3: 0.0</br>PAY_4: 0.0</br>PAY_5: 0.0</br>PAY_6: 0.0</br>BILL_AMT1: 68699.0</br>BILL_AMT2: 69120.0</br>BILL_AMT3: 68376.0</br>BILL_AMT4: 30163.0</br>BILL_AMT5: 14310.0</br>BILL_AMT6: 15085.0</br>PAY_AMT1: 4483.0</br>PAY_AMT2: 12496</br>PAY_AMT3: 3268.0</br>PAY_AMT4: 3000</br>PAY_AMT5: 3000.0</br>PAY_AMT6: 2000</br>GENDER_female: 1.0</br>GENDER_male: 0.0</br>EDUCATION_graduate: 0.0</br>... too many variables"
          ],
          [
           "</br>id: 2251</br>prediction: 0.11</br>PAY_1: 0.10000000000000009</br></br>LIMIT_BAL: 70000</br>AGE: 36.0</br>PAY_2: 0.0</br>PAY_3: 0.0</br>PAY_4: 0.0</br>PAY_5: 0.0</br>PAY_6: 0.0</br>BILL_AMT1: 68699.0</br>BILL_AMT2: 69120.0</br>BILL_AMT3: 68376.0</br>BILL_AMT4: 30163.0</br>BILL_AMT5: 14310.0</br>BILL_AMT6: 15085.0</br>PAY_AMT1: 4483.0</br>PAY_AMT2: 12496</br>PAY_AMT3: 3268.0</br>PAY_AMT4: 3000</br>PAY_AMT5: 3000.0</br>PAY_AMT6: 2000</br>GENDER_female: 1.0</br>GENDER_male: 0.0</br>EDUCATION_graduate: 0.0</br>... too many variables"
          ],
          [
           "</br>id: 2251</br>prediction: 0.11</br>PAY_1: 0.16000000000000014</br></br>LIMIT_BAL: 70000</br>AGE: 36.0</br>PAY_2: 0.0</br>PAY_3: 0.0</br>PAY_4: 0.0</br>PAY_5: 0.0</br>PAY_6: 0.0</br>BILL_AMT1: 68699.0</br>BILL_AMT2: 69120.0</br>BILL_AMT3: 68376.0</br>BILL_AMT4: 30163.0</br>BILL_AMT5: 14310.0</br>BILL_AMT6: 15085.0</br>PAY_AMT1: 4483.0</br>PAY_AMT2: 12496</br>PAY_AMT3: 3268.0</br>PAY_AMT4: 3000</br>PAY_AMT5: 3000.0</br>PAY_AMT6: 2000</br>GENDER_female: 1.0</br>GENDER_male: 0.0</br>EDUCATION_graduate: 0.0</br>... too many variables"
          ],
          [
           "</br>id: 2251</br>prediction: 0.11</br>PAY_1: 0.21999999999999975</br></br>LIMIT_BAL: 70000</br>AGE: 36.0</br>PAY_2: 0.0</br>PAY_3: 0.0</br>PAY_4: 0.0</br>PAY_5: 0.0</br>PAY_6: 0.0</br>BILL_AMT1: 68699.0</br>BILL_AMT2: 69120.0</br>BILL_AMT3: 68376.0</br>BILL_AMT4: 30163.0</br>BILL_AMT5: 14310.0</br>BILL_AMT6: 15085.0</br>PAY_AMT1: 4483.0</br>PAY_AMT2: 12496</br>PAY_AMT3: 3268.0</br>PAY_AMT4: 3000</br>PAY_AMT5: 3000.0</br>PAY_AMT6: 2000</br>GENDER_female: 1.0</br>GENDER_male: 0.0</br>EDUCATION_graduate: 0.0</br>... too many variables"
          ],
          [
           "</br>id: 2251</br>prediction: 0.11</br>PAY_1: 0.2799999999999998</br></br>LIMIT_BAL: 70000</br>AGE: 36.0</br>PAY_2: 0.0</br>PAY_3: 0.0</br>PAY_4: 0.0</br>PAY_5: 0.0</br>PAY_6: 0.0</br>BILL_AMT1: 68699.0</br>BILL_AMT2: 69120.0</br>BILL_AMT3: 68376.0</br>BILL_AMT4: 30163.0</br>BILL_AMT5: 14310.0</br>BILL_AMT6: 15085.0</br>PAY_AMT1: 4483.0</br>PAY_AMT2: 12496</br>PAY_AMT3: 3268.0</br>PAY_AMT4: 3000</br>PAY_AMT5: 3000.0</br>PAY_AMT6: 2000</br>GENDER_female: 1.0</br>GENDER_male: 0.0</br>EDUCATION_graduate: 0.0</br>... too many variables"
          ],
          [
           "</br>id: 2251</br>prediction: 0.11</br>PAY_1: 0.33999999999999986</br></br>LIMIT_BAL: 70000</br>AGE: 36.0</br>PAY_2: 0.0</br>PAY_3: 0.0</br>PAY_4: 0.0</br>PAY_5: 0.0</br>PAY_6: 0.0</br>BILL_AMT1: 68699.0</br>BILL_AMT2: 69120.0</br>BILL_AMT3: 68376.0</br>BILL_AMT4: 30163.0</br>BILL_AMT5: 14310.0</br>BILL_AMT6: 15085.0</br>PAY_AMT1: 4483.0</br>PAY_AMT2: 12496</br>PAY_AMT3: 3268.0</br>PAY_AMT4: 3000</br>PAY_AMT5: 3000.0</br>PAY_AMT6: 2000</br>GENDER_female: 1.0</br>GENDER_male: 0.0</br>EDUCATION_graduate: 0.0</br>... too many variables"
          ],
          [
           "</br>id: 2251</br>prediction: 0.11</br>PAY_1: 0.3999999999999999</br></br>LIMIT_BAL: 70000</br>AGE: 36.0</br>PAY_2: 0.0</br>PAY_3: 0.0</br>PAY_4: 0.0</br>PAY_5: 0.0</br>PAY_6: 0.0</br>BILL_AMT1: 68699.0</br>BILL_AMT2: 69120.0</br>BILL_AMT3: 68376.0</br>BILL_AMT4: 30163.0</br>BILL_AMT5: 14310.0</br>BILL_AMT6: 15085.0</br>PAY_AMT1: 4483.0</br>PAY_AMT2: 12496</br>PAY_AMT3: 3268.0</br>PAY_AMT4: 3000</br>PAY_AMT5: 3000.0</br>PAY_AMT6: 2000</br>GENDER_female: 1.0</br>GENDER_male: 0.0</br>EDUCATION_graduate: 0.0</br>... too many variables"
          ],
          [
           "</br>id: 2251</br>prediction: 0.11</br>PAY_1: 0.45999999999999996</br></br>LIMIT_BAL: 70000</br>AGE: 36.0</br>PAY_2: 0.0</br>PAY_3: 0.0</br>PAY_4: 0.0</br>PAY_5: 0.0</br>PAY_6: 0.0</br>BILL_AMT1: 68699.0</br>BILL_AMT2: 69120.0</br>BILL_AMT3: 68376.0</br>BILL_AMT4: 30163.0</br>BILL_AMT5: 14310.0</br>BILL_AMT6: 15085.0</br>PAY_AMT1: 4483.0</br>PAY_AMT2: 12496</br>PAY_AMT3: 3268.0</br>PAY_AMT4: 3000</br>PAY_AMT5: 3000.0</br>PAY_AMT6: 2000</br>GENDER_female: 1.0</br>GENDER_male: 0.0</br>EDUCATION_graduate: 0.0</br>... too many variables"
          ],
          [
           "</br>id: 2251</br>prediction: 0.17</br>PAY_1: 0.52</br></br>LIMIT_BAL: 70000</br>AGE: 36.0</br>PAY_2: 0.0</br>PAY_3: 0.0</br>PAY_4: 0.0</br>PAY_5: 0.0</br>PAY_6: 0.0</br>BILL_AMT1: 68699.0</br>BILL_AMT2: 69120.0</br>BILL_AMT3: 68376.0</br>BILL_AMT4: 30163.0</br>BILL_AMT5: 14310.0</br>BILL_AMT6: 15085.0</br>PAY_AMT1: 4483.0</br>PAY_AMT2: 12496</br>PAY_AMT3: 3268.0</br>PAY_AMT4: 3000</br>PAY_AMT5: 3000.0</br>PAY_AMT6: 2000</br>GENDER_female: 1.0</br>GENDER_male: 0.0</br>EDUCATION_graduate: 0.0</br>... too many variables"
          ],
          [
           "</br>id: 2251</br>prediction: 0.17</br>PAY_1: 0.5800000000000001</br></br>LIMIT_BAL: 70000</br>AGE: 36.0</br>PAY_2: 0.0</br>PAY_3: 0.0</br>PAY_4: 0.0</br>PAY_5: 0.0</br>PAY_6: 0.0</br>BILL_AMT1: 68699.0</br>BILL_AMT2: 69120.0</br>BILL_AMT3: 68376.0</br>BILL_AMT4: 30163.0</br>BILL_AMT5: 14310.0</br>BILL_AMT6: 15085.0</br>PAY_AMT1: 4483.0</br>PAY_AMT2: 12496</br>PAY_AMT3: 3268.0</br>PAY_AMT4: 3000</br>PAY_AMT5: 3000.0</br>PAY_AMT6: 2000</br>GENDER_female: 1.0</br>GENDER_male: 0.0</br>EDUCATION_graduate: 0.0</br>... too many variables"
          ],
          [
           "</br>id: 2251</br>prediction: 0.17</br>PAY_1: 0.6399999999999997</br></br>LIMIT_BAL: 70000</br>AGE: 36.0</br>PAY_2: 0.0</br>PAY_3: 0.0</br>PAY_4: 0.0</br>PAY_5: 0.0</br>PAY_6: 0.0</br>BILL_AMT1: 68699.0</br>BILL_AMT2: 69120.0</br>BILL_AMT3: 68376.0</br>BILL_AMT4: 30163.0</br>BILL_AMT5: 14310.0</br>BILL_AMT6: 15085.0</br>PAY_AMT1: 4483.0</br>PAY_AMT2: 12496</br>PAY_AMT3: 3268.0</br>PAY_AMT4: 3000</br>PAY_AMT5: 3000.0</br>PAY_AMT6: 2000</br>GENDER_female: 1.0</br>GENDER_male: 0.0</br>EDUCATION_graduate: 0.0</br>... too many variables"
          ],
          [
           "</br>id: 2251</br>prediction: 0.17</br>PAY_1: 0.6999999999999997</br></br>LIMIT_BAL: 70000</br>AGE: 36.0</br>PAY_2: 0.0</br>PAY_3: 0.0</br>PAY_4: 0.0</br>PAY_5: 0.0</br>PAY_6: 0.0</br>BILL_AMT1: 68699.0</br>BILL_AMT2: 69120.0</br>BILL_AMT3: 68376.0</br>BILL_AMT4: 30163.0</br>BILL_AMT5: 14310.0</br>BILL_AMT6: 15085.0</br>PAY_AMT1: 4483.0</br>PAY_AMT2: 12496</br>PAY_AMT3: 3268.0</br>PAY_AMT4: 3000</br>PAY_AMT5: 3000.0</br>PAY_AMT6: 2000</br>GENDER_female: 1.0</br>GENDER_male: 0.0</br>EDUCATION_graduate: 0.0</br>... too many variables"
          ],
          [
           "</br>id: 2251</br>prediction: 0.17</br>PAY_1: 0.7599999999999998</br></br>LIMIT_BAL: 70000</br>AGE: 36.0</br>PAY_2: 0.0</br>PAY_3: 0.0</br>PAY_4: 0.0</br>PAY_5: 0.0</br>PAY_6: 0.0</br>BILL_AMT1: 68699.0</br>BILL_AMT2: 69120.0</br>BILL_AMT3: 68376.0</br>BILL_AMT4: 30163.0</br>BILL_AMT5: 14310.0</br>BILL_AMT6: 15085.0</br>PAY_AMT1: 4483.0</br>PAY_AMT2: 12496</br>PAY_AMT3: 3268.0</br>PAY_AMT4: 3000</br>PAY_AMT5: 3000.0</br>PAY_AMT6: 2000</br>GENDER_female: 1.0</br>GENDER_male: 0.0</br>EDUCATION_graduate: 0.0</br>... too many variables"
          ],
          [
           "</br>id: 2251</br>prediction: 0.17</br>PAY_1: 0.8199999999999998</br></br>LIMIT_BAL: 70000</br>AGE: 36.0</br>PAY_2: 0.0</br>PAY_3: 0.0</br>PAY_4: 0.0</br>PAY_5: 0.0</br>PAY_6: 0.0</br>BILL_AMT1: 68699.0</br>BILL_AMT2: 69120.0</br>BILL_AMT3: 68376.0</br>BILL_AMT4: 30163.0</br>BILL_AMT5: 14310.0</br>BILL_AMT6: 15085.0</br>PAY_AMT1: 4483.0</br>PAY_AMT2: 12496</br>PAY_AMT3: 3268.0</br>PAY_AMT4: 3000</br>PAY_AMT5: 3000.0</br>PAY_AMT6: 2000</br>GENDER_female: 1.0</br>GENDER_male: 0.0</br>EDUCATION_graduate: 0.0</br>... too many variables"
          ],
          [
           "</br>id: 2251</br>prediction: 0.17</br>PAY_1: 0.8799999999999999</br></br>LIMIT_BAL: 70000</br>AGE: 36.0</br>PAY_2: 0.0</br>PAY_3: 0.0</br>PAY_4: 0.0</br>PAY_5: 0.0</br>PAY_6: 0.0</br>BILL_AMT1: 68699.0</br>BILL_AMT2: 69120.0</br>BILL_AMT3: 68376.0</br>BILL_AMT4: 30163.0</br>BILL_AMT5: 14310.0</br>BILL_AMT6: 15085.0</br>PAY_AMT1: 4483.0</br>PAY_AMT2: 12496</br>PAY_AMT3: 3268.0</br>PAY_AMT4: 3000</br>PAY_AMT5: 3000.0</br>PAY_AMT6: 2000</br>GENDER_female: 1.0</br>GENDER_male: 0.0</br>EDUCATION_graduate: 0.0</br>... too many variables"
          ],
          [
           "</br>id: 2251</br>prediction: 0.17</br>PAY_1: 0.94</br></br>LIMIT_BAL: 70000</br>AGE: 36.0</br>PAY_2: 0.0</br>PAY_3: 0.0</br>PAY_4: 0.0</br>PAY_5: 0.0</br>PAY_6: 0.0</br>BILL_AMT1: 68699.0</br>BILL_AMT2: 69120.0</br>BILL_AMT3: 68376.0</br>BILL_AMT4: 30163.0</br>BILL_AMT5: 14310.0</br>BILL_AMT6: 15085.0</br>PAY_AMT1: 4483.0</br>PAY_AMT2: 12496</br>PAY_AMT3: 3268.0</br>PAY_AMT4: 3000</br>PAY_AMT5: 3000.0</br>PAY_AMT6: 2000</br>GENDER_female: 1.0</br>GENDER_male: 0.0</br>EDUCATION_graduate: 0.0</br>... too many variables"
          ],
          [
           "</br>id: 2251</br>prediction: 0.17</br>PAY_1: 1.0</br></br>LIMIT_BAL: 70000</br>AGE: 36.0</br>PAY_2: 0.0</br>PAY_3: 0.0</br>PAY_4: 0.0</br>PAY_5: 0.0</br>PAY_6: 0.0</br>BILL_AMT1: 68699.0</br>BILL_AMT2: 69120.0</br>BILL_AMT3: 68376.0</br>BILL_AMT4: 30163.0</br>BILL_AMT5: 14310.0</br>BILL_AMT6: 15085.0</br>PAY_AMT1: 4483.0</br>PAY_AMT2: 12496</br>PAY_AMT3: 3268.0</br>PAY_AMT4: 3000</br>PAY_AMT5: 3000.0</br>PAY_AMT6: 2000</br>GENDER_female: 1.0</br>GENDER_male: 0.0</br>EDUCATION_graduate: 0.0</br>EDUCATION_highschool: 0.0</br>... too many variables"
          ],
          [
           "</br>id: 2251</br>prediction: 0.18</br>PAY_1: 1.06</br></br>LIMIT_BAL: 70000</br>AGE: 36.0</br>PAY_2: 0.0</br>PAY_3: 0.0</br>PAY_4: 0.0</br>PAY_5: 0.0</br>PAY_6: 0.0</br>BILL_AMT1: 68699.0</br>BILL_AMT2: 69120.0</br>BILL_AMT3: 68376.0</br>BILL_AMT4: 30163.0</br>BILL_AMT5: 14310.0</br>BILL_AMT6: 15085.0</br>PAY_AMT1: 4483.0</br>PAY_AMT2: 12496</br>PAY_AMT3: 3268.0</br>PAY_AMT4: 3000</br>PAY_AMT5: 3000.0</br>PAY_AMT6: 2000</br>GENDER_female: 1.0</br>GENDER_male: 0.0</br>EDUCATION_graduate: 0.0</br>... too many variables"
          ],
          [
           "</br>id: 2251</br>prediction: 0.18</br>PAY_1: 1.12</br></br>LIMIT_BAL: 70000</br>AGE: 36.0</br>PAY_2: 0.0</br>PAY_3: 0.0</br>PAY_4: 0.0</br>PAY_5: 0.0</br>PAY_6: 0.0</br>BILL_AMT1: 68699.0</br>BILL_AMT2: 69120.0</br>BILL_AMT3: 68376.0</br>BILL_AMT4: 30163.0</br>BILL_AMT5: 14310.0</br>BILL_AMT6: 15085.0</br>PAY_AMT1: 4483.0</br>PAY_AMT2: 12496</br>PAY_AMT3: 3268.0</br>PAY_AMT4: 3000</br>PAY_AMT5: 3000.0</br>PAY_AMT6: 2000</br>GENDER_female: 1.0</br>GENDER_male: 0.0</br>EDUCATION_graduate: 0.0</br>... too many variables"
          ],
          [
           "</br>id: 2251</br>prediction: 0.18</br>PAY_1: 1.1799999999999997</br></br>LIMIT_BAL: 70000</br>AGE: 36.0</br>PAY_2: 0.0</br>PAY_3: 0.0</br>PAY_4: 0.0</br>PAY_5: 0.0</br>PAY_6: 0.0</br>BILL_AMT1: 68699.0</br>BILL_AMT2: 69120.0</br>BILL_AMT3: 68376.0</br>BILL_AMT4: 30163.0</br>BILL_AMT5: 14310.0</br>BILL_AMT6: 15085.0</br>PAY_AMT1: 4483.0</br>PAY_AMT2: 12496</br>PAY_AMT3: 3268.0</br>PAY_AMT4: 3000</br>PAY_AMT5: 3000.0</br>PAY_AMT6: 2000</br>GENDER_female: 1.0</br>GENDER_male: 0.0</br>EDUCATION_graduate: 0.0</br>... too many variables"
          ],
          [
           "</br>id: 2251</br>prediction: 0.18</br>PAY_1: 1.2399999999999998</br></br>LIMIT_BAL: 70000</br>AGE: 36.0</br>PAY_2: 0.0</br>PAY_3: 0.0</br>PAY_4: 0.0</br>PAY_5: 0.0</br>PAY_6: 0.0</br>BILL_AMT1: 68699.0</br>BILL_AMT2: 69120.0</br>BILL_AMT3: 68376.0</br>BILL_AMT4: 30163.0</br>BILL_AMT5: 14310.0</br>BILL_AMT6: 15085.0</br>PAY_AMT1: 4483.0</br>PAY_AMT2: 12496</br>PAY_AMT3: 3268.0</br>PAY_AMT4: 3000</br>PAY_AMT5: 3000.0</br>PAY_AMT6: 2000</br>GENDER_female: 1.0</br>GENDER_male: 0.0</br>EDUCATION_graduate: 0.0</br>... too many variables"
          ],
          [
           "</br>id: 2251</br>prediction: 0.18</br>PAY_1: 1.2999999999999998</br></br>LIMIT_BAL: 70000</br>AGE: 36.0</br>PAY_2: 0.0</br>PAY_3: 0.0</br>PAY_4: 0.0</br>PAY_5: 0.0</br>PAY_6: 0.0</br>BILL_AMT1: 68699.0</br>BILL_AMT2: 69120.0</br>BILL_AMT3: 68376.0</br>BILL_AMT4: 30163.0</br>BILL_AMT5: 14310.0</br>BILL_AMT6: 15085.0</br>PAY_AMT1: 4483.0</br>PAY_AMT2: 12496</br>PAY_AMT3: 3268.0</br>PAY_AMT4: 3000</br>PAY_AMT5: 3000.0</br>PAY_AMT6: 2000</br>GENDER_female: 1.0</br>GENDER_male: 0.0</br>EDUCATION_graduate: 0.0</br>... too many variables"
          ],
          [
           "</br>id: 2251</br>prediction: 0.18</br>PAY_1: 1.3599999999999999</br></br>LIMIT_BAL: 70000</br>AGE: 36.0</br>PAY_2: 0.0</br>PAY_3: 0.0</br>PAY_4: 0.0</br>PAY_5: 0.0</br>PAY_6: 0.0</br>BILL_AMT1: 68699.0</br>BILL_AMT2: 69120.0</br>BILL_AMT3: 68376.0</br>BILL_AMT4: 30163.0</br>BILL_AMT5: 14310.0</br>BILL_AMT6: 15085.0</br>PAY_AMT1: 4483.0</br>PAY_AMT2: 12496</br>PAY_AMT3: 3268.0</br>PAY_AMT4: 3000</br>PAY_AMT5: 3000.0</br>PAY_AMT6: 2000</br>GENDER_female: 1.0</br>GENDER_male: 0.0</br>EDUCATION_graduate: 0.0</br>... too many variables"
          ],
          [
           "</br>id: 2251</br>prediction: 0.18</br>PAY_1: 1.42</br></br>LIMIT_BAL: 70000</br>AGE: 36.0</br>PAY_2: 0.0</br>PAY_3: 0.0</br>PAY_4: 0.0</br>PAY_5: 0.0</br>PAY_6: 0.0</br>BILL_AMT1: 68699.0</br>BILL_AMT2: 69120.0</br>BILL_AMT3: 68376.0</br>BILL_AMT4: 30163.0</br>BILL_AMT5: 14310.0</br>BILL_AMT6: 15085.0</br>PAY_AMT1: 4483.0</br>PAY_AMT2: 12496</br>PAY_AMT3: 3268.0</br>PAY_AMT4: 3000</br>PAY_AMT5: 3000.0</br>PAY_AMT6: 2000</br>GENDER_female: 1.0</br>GENDER_male: 0.0</br>EDUCATION_graduate: 0.0</br>... too many variables"
          ],
          [
           "</br>id: 2251</br>prediction: 0.18</br>PAY_1: 1.48</br></br>LIMIT_BAL: 70000</br>AGE: 36.0</br>PAY_2: 0.0</br>PAY_3: 0.0</br>PAY_4: 0.0</br>PAY_5: 0.0</br>PAY_6: 0.0</br>BILL_AMT1: 68699.0</br>BILL_AMT2: 69120.0</br>BILL_AMT3: 68376.0</br>BILL_AMT4: 30163.0</br>BILL_AMT5: 14310.0</br>BILL_AMT6: 15085.0</br>PAY_AMT1: 4483.0</br>PAY_AMT2: 12496</br>PAY_AMT3: 3268.0</br>PAY_AMT4: 3000</br>PAY_AMT5: 3000.0</br>PAY_AMT6: 2000</br>GENDER_female: 1.0</br>GENDER_male: 0.0</br>EDUCATION_graduate: 0.0</br>... too many variables"
          ],
          [
           "</br>id: 2251</br>prediction: 0.61</br>PAY_1: 1.54</br></br>LIMIT_BAL: 70000</br>AGE: 36.0</br>PAY_2: 0.0</br>PAY_3: 0.0</br>PAY_4: 0.0</br>PAY_5: 0.0</br>PAY_6: 0.0</br>BILL_AMT1: 68699.0</br>BILL_AMT2: 69120.0</br>BILL_AMT3: 68376.0</br>BILL_AMT4: 30163.0</br>BILL_AMT5: 14310.0</br>BILL_AMT6: 15085.0</br>PAY_AMT1: 4483.0</br>PAY_AMT2: 12496</br>PAY_AMT3: 3268.0</br>PAY_AMT4: 3000</br>PAY_AMT5: 3000.0</br>PAY_AMT6: 2000</br>GENDER_female: 1.0</br>GENDER_male: 0.0</br>EDUCATION_graduate: 0.0</br>... too many variables"
          ],
          [
           "</br>id: 2251</br>prediction: 0.61</br>PAY_1: 1.5999999999999996</br></br>LIMIT_BAL: 70000</br>AGE: 36.0</br>PAY_2: 0.0</br>PAY_3: 0.0</br>PAY_4: 0.0</br>PAY_5: 0.0</br>PAY_6: 0.0</br>BILL_AMT1: 68699.0</br>BILL_AMT2: 69120.0</br>BILL_AMT3: 68376.0</br>BILL_AMT4: 30163.0</br>BILL_AMT5: 14310.0</br>BILL_AMT6: 15085.0</br>PAY_AMT1: 4483.0</br>PAY_AMT2: 12496</br>PAY_AMT3: 3268.0</br>PAY_AMT4: 3000</br>PAY_AMT5: 3000.0</br>PAY_AMT6: 2000</br>GENDER_female: 1.0</br>GENDER_male: 0.0</br>EDUCATION_graduate: 0.0</br>... too many variables"
          ],
          [
           "</br>id: 2251</br>prediction: 0.61</br>PAY_1: 1.6599999999999997</br></br>LIMIT_BAL: 70000</br>AGE: 36.0</br>PAY_2: 0.0</br>PAY_3: 0.0</br>PAY_4: 0.0</br>PAY_5: 0.0</br>PAY_6: 0.0</br>BILL_AMT1: 68699.0</br>BILL_AMT2: 69120.0</br>BILL_AMT3: 68376.0</br>BILL_AMT4: 30163.0</br>BILL_AMT5: 14310.0</br>BILL_AMT6: 15085.0</br>PAY_AMT1: 4483.0</br>PAY_AMT2: 12496</br>PAY_AMT3: 3268.0</br>PAY_AMT4: 3000</br>PAY_AMT5: 3000.0</br>PAY_AMT6: 2000</br>GENDER_female: 1.0</br>GENDER_male: 0.0</br>EDUCATION_graduate: 0.0</br>... too many variables"
          ],
          [
           "</br>id: 2251</br>prediction: 0.61</br>PAY_1: 1.7199999999999998</br></br>LIMIT_BAL: 70000</br>AGE: 36.0</br>PAY_2: 0.0</br>PAY_3: 0.0</br>PAY_4: 0.0</br>PAY_5: 0.0</br>PAY_6: 0.0</br>BILL_AMT1: 68699.0</br>BILL_AMT2: 69120.0</br>BILL_AMT3: 68376.0</br>BILL_AMT4: 30163.0</br>BILL_AMT5: 14310.0</br>BILL_AMT6: 15085.0</br>PAY_AMT1: 4483.0</br>PAY_AMT2: 12496</br>PAY_AMT3: 3268.0</br>PAY_AMT4: 3000</br>PAY_AMT5: 3000.0</br>PAY_AMT6: 2000</br>GENDER_female: 1.0</br>GENDER_male: 0.0</br>EDUCATION_graduate: 0.0</br>... too many variables"
          ],
          [
           "</br>id: 2251</br>prediction: 0.61</br>PAY_1: 1.7799999999999998</br></br>LIMIT_BAL: 70000</br>AGE: 36.0</br>PAY_2: 0.0</br>PAY_3: 0.0</br>PAY_4: 0.0</br>PAY_5: 0.0</br>PAY_6: 0.0</br>BILL_AMT1: 68699.0</br>BILL_AMT2: 69120.0</br>BILL_AMT3: 68376.0</br>BILL_AMT4: 30163.0</br>BILL_AMT5: 14310.0</br>BILL_AMT6: 15085.0</br>PAY_AMT1: 4483.0</br>PAY_AMT2: 12496</br>PAY_AMT3: 3268.0</br>PAY_AMT4: 3000</br>PAY_AMT5: 3000.0</br>PAY_AMT6: 2000</br>GENDER_female: 1.0</br>GENDER_male: 0.0</br>EDUCATION_graduate: 0.0</br>... too many variables"
          ],
          [
           "</br>id: 2251</br>prediction: 0.61</br>PAY_1: 1.8399999999999999</br></br>LIMIT_BAL: 70000</br>AGE: 36.0</br>PAY_2: 0.0</br>PAY_3: 0.0</br>PAY_4: 0.0</br>PAY_5: 0.0</br>PAY_6: 0.0</br>BILL_AMT1: 68699.0</br>BILL_AMT2: 69120.0</br>BILL_AMT3: 68376.0</br>BILL_AMT4: 30163.0</br>BILL_AMT5: 14310.0</br>BILL_AMT6: 15085.0</br>PAY_AMT1: 4483.0</br>PAY_AMT2: 12496</br>PAY_AMT3: 3268.0</br>PAY_AMT4: 3000</br>PAY_AMT5: 3000.0</br>PAY_AMT6: 2000</br>GENDER_female: 1.0</br>GENDER_male: 0.0</br>EDUCATION_graduate: 0.0</br>... too many variables"
          ],
          [
           "</br>id: 2251</br>prediction: 0.61</br>PAY_1: 1.9</br></br>LIMIT_BAL: 70000</br>AGE: 36.0</br>PAY_2: 0.0</br>PAY_3: 0.0</br>PAY_4: 0.0</br>PAY_5: 0.0</br>PAY_6: 0.0</br>BILL_AMT1: 68699.0</br>BILL_AMT2: 69120.0</br>BILL_AMT3: 68376.0</br>BILL_AMT4: 30163.0</br>BILL_AMT5: 14310.0</br>BILL_AMT6: 15085.0</br>PAY_AMT1: 4483.0</br>PAY_AMT2: 12496</br>PAY_AMT3: 3268.0</br>PAY_AMT4: 3000</br>PAY_AMT5: 3000.0</br>PAY_AMT6: 2000</br>GENDER_female: 1.0</br>GENDER_male: 0.0</br>EDUCATION_graduate: 0.0</br>EDUCATION_highschool: 0.0</br>... too many variables"
          ],
          [
           "</br>id: 2251</br>prediction: 0.61</br>PAY_1: 1.96</br></br>LIMIT_BAL: 70000</br>AGE: 36.0</br>PAY_2: 0.0</br>PAY_3: 0.0</br>PAY_4: 0.0</br>PAY_5: 0.0</br>PAY_6: 0.0</br>BILL_AMT1: 68699.0</br>BILL_AMT2: 69120.0</br>BILL_AMT3: 68376.0</br>BILL_AMT4: 30163.0</br>BILL_AMT5: 14310.0</br>BILL_AMT6: 15085.0</br>PAY_AMT1: 4483.0</br>PAY_AMT2: 12496</br>PAY_AMT3: 3268.0</br>PAY_AMT4: 3000</br>PAY_AMT5: 3000.0</br>PAY_AMT6: 2000</br>GENDER_female: 1.0</br>GENDER_male: 0.0</br>EDUCATION_graduate: 0.0</br>... too many variables"
          ],
          [
           "</br>id: 2251</br>prediction: 0.61</br>PAY_1: 2.0199999999999996</br></br>LIMIT_BAL: 70000</br>AGE: 36.0</br>PAY_2: 0.0</br>PAY_3: 0.0</br>PAY_4: 0.0</br>PAY_5: 0.0</br>PAY_6: 0.0</br>BILL_AMT1: 68699.0</br>BILL_AMT2: 69120.0</br>BILL_AMT3: 68376.0</br>BILL_AMT4: 30163.0</br>BILL_AMT5: 14310.0</br>BILL_AMT6: 15085.0</br>PAY_AMT1: 4483.0</br>PAY_AMT2: 12496</br>PAY_AMT3: 3268.0</br>PAY_AMT4: 3000</br>PAY_AMT5: 3000.0</br>PAY_AMT6: 2000</br>GENDER_female: 1.0</br>GENDER_male: 0.0</br>EDUCATION_graduate: 0.0</br>... too many variables"
          ],
          [
           "</br>id: 2251</br>prediction: 0.61</br>PAY_1: 2.08</br></br>LIMIT_BAL: 70000</br>AGE: 36.0</br>PAY_2: 0.0</br>PAY_3: 0.0</br>PAY_4: 0.0</br>PAY_5: 0.0</br>PAY_6: 0.0</br>BILL_AMT1: 68699.0</br>BILL_AMT2: 69120.0</br>BILL_AMT3: 68376.0</br>BILL_AMT4: 30163.0</br>BILL_AMT5: 14310.0</br>BILL_AMT6: 15085.0</br>PAY_AMT1: 4483.0</br>PAY_AMT2: 12496</br>PAY_AMT3: 3268.0</br>PAY_AMT4: 3000</br>PAY_AMT5: 3000.0</br>PAY_AMT6: 2000</br>GENDER_female: 1.0</br>GENDER_male: 0.0</br>EDUCATION_graduate: 0.0</br>... too many variables"
          ],
          [
           "</br>id: 2251</br>prediction: 0.61</br>PAY_1: 2.1399999999999997</br></br>LIMIT_BAL: 70000</br>AGE: 36.0</br>PAY_2: 0.0</br>PAY_3: 0.0</br>PAY_4: 0.0</br>PAY_5: 0.0</br>PAY_6: 0.0</br>BILL_AMT1: 68699.0</br>BILL_AMT2: 69120.0</br>BILL_AMT3: 68376.0</br>BILL_AMT4: 30163.0</br>BILL_AMT5: 14310.0</br>BILL_AMT6: 15085.0</br>PAY_AMT1: 4483.0</br>PAY_AMT2: 12496</br>PAY_AMT3: 3268.0</br>PAY_AMT4: 3000</br>PAY_AMT5: 3000.0</br>PAY_AMT6: 2000</br>GENDER_female: 1.0</br>GENDER_male: 0.0</br>EDUCATION_graduate: 0.0</br>... too many variables"
          ],
          [
           "</br>id: 2251</br>prediction: 0.61</br>PAY_1: 2.2</br></br>LIMIT_BAL: 70000</br>AGE: 36.0</br>PAY_2: 0.0</br>PAY_3: 0.0</br>PAY_4: 0.0</br>PAY_5: 0.0</br>PAY_6: 0.0</br>BILL_AMT1: 68699.0</br>BILL_AMT2: 69120.0</br>BILL_AMT3: 68376.0</br>BILL_AMT4: 30163.0</br>BILL_AMT5: 14310.0</br>BILL_AMT6: 15085.0</br>PAY_AMT1: 4483.0</br>PAY_AMT2: 12496</br>PAY_AMT3: 3268.0</br>PAY_AMT4: 3000</br>PAY_AMT5: 3000.0</br>PAY_AMT6: 2000</br>GENDER_female: 1.0</br>GENDER_male: 0.0</br>EDUCATION_graduate: 0.0</br>EDUCATION_highschool: 0.0</br>... too many variables"
          ],
          [
           "</br>id: 2251</br>prediction: 0.61</br>PAY_1: 2.26</br></br>LIMIT_BAL: 70000</br>AGE: 36.0</br>PAY_2: 0.0</br>PAY_3: 0.0</br>PAY_4: 0.0</br>PAY_5: 0.0</br>PAY_6: 0.0</br>BILL_AMT1: 68699.0</br>BILL_AMT2: 69120.0</br>BILL_AMT3: 68376.0</br>BILL_AMT4: 30163.0</br>BILL_AMT5: 14310.0</br>BILL_AMT6: 15085.0</br>PAY_AMT1: 4483.0</br>PAY_AMT2: 12496</br>PAY_AMT3: 3268.0</br>PAY_AMT4: 3000</br>PAY_AMT5: 3000.0</br>PAY_AMT6: 2000</br>GENDER_female: 1.0</br>GENDER_male: 0.0</br>EDUCATION_graduate: 0.0</br>... too many variables"
          ],
          [
           "</br>id: 2251</br>prediction: 0.61</br>PAY_1: 2.3200000000000003</br></br>LIMIT_BAL: 70000</br>AGE: 36.0</br>PAY_2: 0.0</br>PAY_3: 0.0</br>PAY_4: 0.0</br>PAY_5: 0.0</br>PAY_6: 0.0</br>BILL_AMT1: 68699.0</br>BILL_AMT2: 69120.0</br>BILL_AMT3: 68376.0</br>BILL_AMT4: 30163.0</br>BILL_AMT5: 14310.0</br>BILL_AMT6: 15085.0</br>PAY_AMT1: 4483.0</br>PAY_AMT2: 12496</br>PAY_AMT3: 3268.0</br>PAY_AMT4: 3000</br>PAY_AMT5: 3000.0</br>PAY_AMT6: 2000</br>GENDER_female: 1.0</br>GENDER_male: 0.0</br>EDUCATION_graduate: 0.0</br>... too many variables"
          ],
          [
           "</br>id: 2251</br>prediction: 0.61</br>PAY_1: 2.38</br></br>LIMIT_BAL: 70000</br>AGE: 36.0</br>PAY_2: 0.0</br>PAY_3: 0.0</br>PAY_4: 0.0</br>PAY_5: 0.0</br>PAY_6: 0.0</br>BILL_AMT1: 68699.0</br>BILL_AMT2: 69120.0</br>BILL_AMT3: 68376.0</br>BILL_AMT4: 30163.0</br>BILL_AMT5: 14310.0</br>BILL_AMT6: 15085.0</br>PAY_AMT1: 4483.0</br>PAY_AMT2: 12496</br>PAY_AMT3: 3268.0</br>PAY_AMT4: 3000</br>PAY_AMT5: 3000.0</br>PAY_AMT6: 2000</br>GENDER_female: 1.0</br>GENDER_male: 0.0</br>EDUCATION_graduate: 0.0</br>... too many variables"
          ],
          [
           "</br>id: 2251</br>prediction: 0.61</br>PAY_1: 2.4399999999999995</br></br>LIMIT_BAL: 70000</br>AGE: 36.0</br>PAY_2: 0.0</br>PAY_3: 0.0</br>PAY_4: 0.0</br>PAY_5: 0.0</br>PAY_6: 0.0</br>BILL_AMT1: 68699.0</br>BILL_AMT2: 69120.0</br>BILL_AMT3: 68376.0</br>BILL_AMT4: 30163.0</br>BILL_AMT5: 14310.0</br>BILL_AMT6: 15085.0</br>PAY_AMT1: 4483.0</br>PAY_AMT2: 12496</br>PAY_AMT3: 3268.0</br>PAY_AMT4: 3000</br>PAY_AMT5: 3000.0</br>PAY_AMT6: 2000</br>GENDER_female: 1.0</br>GENDER_male: 0.0</br>EDUCATION_graduate: 0.0</br>... too many variables"
          ],
          [
           "</br>id: 2251</br>prediction: 0.61</br>PAY_1: 2.5</br></br>LIMIT_BAL: 70000</br>AGE: 36.0</br>PAY_2: 0.0</br>PAY_3: 0.0</br>PAY_4: 0.0</br>PAY_5: 0.0</br>PAY_6: 0.0</br>BILL_AMT1: 68699.0</br>BILL_AMT2: 69120.0</br>BILL_AMT3: 68376.0</br>BILL_AMT4: 30163.0</br>BILL_AMT5: 14310.0</br>BILL_AMT6: 15085.0</br>PAY_AMT1: 4483.0</br>PAY_AMT2: 12496</br>PAY_AMT3: 3268.0</br>PAY_AMT4: 3000</br>PAY_AMT5: 3000.0</br>PAY_AMT6: 2000</br>GENDER_female: 1.0</br>GENDER_male: 0.0</br>EDUCATION_graduate: 0.0</br>EDUCATION_highschool: 0.0</br>... too many variables"
          ],
          [
           "</br>id: 2251</br>prediction: 0.61</br>PAY_1: 2.5599999999999996</br></br>LIMIT_BAL: 70000</br>AGE: 36.0</br>PAY_2: 0.0</br>PAY_3: 0.0</br>PAY_4: 0.0</br>PAY_5: 0.0</br>PAY_6: 0.0</br>BILL_AMT1: 68699.0</br>BILL_AMT2: 69120.0</br>BILL_AMT3: 68376.0</br>BILL_AMT4: 30163.0</br>BILL_AMT5: 14310.0</br>BILL_AMT6: 15085.0</br>PAY_AMT1: 4483.0</br>PAY_AMT2: 12496</br>PAY_AMT3: 3268.0</br>PAY_AMT4: 3000</br>PAY_AMT5: 3000.0</br>PAY_AMT6: 2000</br>GENDER_female: 1.0</br>GENDER_male: 0.0</br>EDUCATION_graduate: 0.0</br>... too many variables"
          ],
          [
           "</br>id: 2251</br>prediction: 0.61</br>PAY_1: 2.62</br></br>LIMIT_BAL: 70000</br>AGE: 36.0</br>PAY_2: 0.0</br>PAY_3: 0.0</br>PAY_4: 0.0</br>PAY_5: 0.0</br>PAY_6: 0.0</br>BILL_AMT1: 68699.0</br>BILL_AMT2: 69120.0</br>BILL_AMT3: 68376.0</br>BILL_AMT4: 30163.0</br>BILL_AMT5: 14310.0</br>BILL_AMT6: 15085.0</br>PAY_AMT1: 4483.0</br>PAY_AMT2: 12496</br>PAY_AMT3: 3268.0</br>PAY_AMT4: 3000</br>PAY_AMT5: 3000.0</br>PAY_AMT6: 2000</br>GENDER_female: 1.0</br>GENDER_male: 0.0</br>EDUCATION_graduate: 0.0</br>... too many variables"
          ],
          [
           "</br>id: 2251</br>prediction: 0.61</br>PAY_1: 2.6799999999999997</br></br>LIMIT_BAL: 70000</br>AGE: 36.0</br>PAY_2: 0.0</br>PAY_3: 0.0</br>PAY_4: 0.0</br>PAY_5: 0.0</br>PAY_6: 0.0</br>BILL_AMT1: 68699.0</br>BILL_AMT2: 69120.0</br>BILL_AMT3: 68376.0</br>BILL_AMT4: 30163.0</br>BILL_AMT5: 14310.0</br>BILL_AMT6: 15085.0</br>PAY_AMT1: 4483.0</br>PAY_AMT2: 12496</br>PAY_AMT3: 3268.0</br>PAY_AMT4: 3000</br>PAY_AMT5: 3000.0</br>PAY_AMT6: 2000</br>GENDER_female: 1.0</br>GENDER_male: 0.0</br>EDUCATION_graduate: 0.0</br>... too many variables"
          ],
          [
           "</br>id: 2251</br>prediction: 0.61</br>PAY_1: 2.74</br></br>LIMIT_BAL: 70000</br>AGE: 36.0</br>PAY_2: 0.0</br>PAY_3: 0.0</br>PAY_4: 0.0</br>PAY_5: 0.0</br>PAY_6: 0.0</br>BILL_AMT1: 68699.0</br>BILL_AMT2: 69120.0</br>BILL_AMT3: 68376.0</br>BILL_AMT4: 30163.0</br>BILL_AMT5: 14310.0</br>BILL_AMT6: 15085.0</br>PAY_AMT1: 4483.0</br>PAY_AMT2: 12496</br>PAY_AMT3: 3268.0</br>PAY_AMT4: 3000</br>PAY_AMT5: 3000.0</br>PAY_AMT6: 2000</br>GENDER_female: 1.0</br>GENDER_male: 0.0</br>EDUCATION_graduate: 0.0</br>... too many variables"
          ],
          [
           "</br>id: 2251</br>prediction: 0.61</br>PAY_1: 2.8</br></br>LIMIT_BAL: 70000</br>AGE: 36.0</br>PAY_2: 0.0</br>PAY_3: 0.0</br>PAY_4: 0.0</br>PAY_5: 0.0</br>PAY_6: 0.0</br>BILL_AMT1: 68699.0</br>BILL_AMT2: 69120.0</br>BILL_AMT3: 68376.0</br>BILL_AMT4: 30163.0</br>BILL_AMT5: 14310.0</br>BILL_AMT6: 15085.0</br>PAY_AMT1: 4483.0</br>PAY_AMT2: 12496</br>PAY_AMT3: 3268.0</br>PAY_AMT4: 3000</br>PAY_AMT5: 3000.0</br>PAY_AMT6: 2000</br>GENDER_female: 1.0</br>GENDER_male: 0.0</br>EDUCATION_graduate: 0.0</br>EDUCATION_highschool: 0.0</br>... too many variables"
          ],
          [
           "</br>id: 2251</br>prediction: 0.61</br>PAY_1: 2.8599999999999994</br></br>LIMIT_BAL: 70000</br>AGE: 36.0</br>PAY_2: 0.0</br>PAY_3: 0.0</br>PAY_4: 0.0</br>PAY_5: 0.0</br>PAY_6: 0.0</br>BILL_AMT1: 68699.0</br>BILL_AMT2: 69120.0</br>BILL_AMT3: 68376.0</br>BILL_AMT4: 30163.0</br>BILL_AMT5: 14310.0</br>BILL_AMT6: 15085.0</br>PAY_AMT1: 4483.0</br>PAY_AMT2: 12496</br>PAY_AMT3: 3268.0</br>PAY_AMT4: 3000</br>PAY_AMT5: 3000.0</br>PAY_AMT6: 2000</br>GENDER_female: 1.0</br>GENDER_male: 0.0</br>EDUCATION_graduate: 0.0</br>... too many variables"
          ],
          [
           "</br>id: 2251</br>prediction: 0.61</br>PAY_1: 2.92</br></br>LIMIT_BAL: 70000</br>AGE: 36.0</br>PAY_2: 0.0</br>PAY_3: 0.0</br>PAY_4: 0.0</br>PAY_5: 0.0</br>PAY_6: 0.0</br>BILL_AMT1: 68699.0</br>BILL_AMT2: 69120.0</br>BILL_AMT3: 68376.0</br>BILL_AMT4: 30163.0</br>BILL_AMT5: 14310.0</br>BILL_AMT6: 15085.0</br>PAY_AMT1: 4483.0</br>PAY_AMT2: 12496</br>PAY_AMT3: 3268.0</br>PAY_AMT4: 3000</br>PAY_AMT5: 3000.0</br>PAY_AMT6: 2000</br>GENDER_female: 1.0</br>GENDER_male: 0.0</br>EDUCATION_graduate: 0.0</br>... too many variables"
          ],
          [
           "</br>id: 2251</br>prediction: 0.61</br>PAY_1: 2.9799999999999995</br></br>LIMIT_BAL: 70000</br>AGE: 36.0</br>PAY_2: 0.0</br>PAY_3: 0.0</br>PAY_4: 0.0</br>PAY_5: 0.0</br>PAY_6: 0.0</br>BILL_AMT1: 68699.0</br>BILL_AMT2: 69120.0</br>BILL_AMT3: 68376.0</br>BILL_AMT4: 30163.0</br>BILL_AMT5: 14310.0</br>BILL_AMT6: 15085.0</br>PAY_AMT1: 4483.0</br>PAY_AMT2: 12496</br>PAY_AMT3: 3268.0</br>PAY_AMT4: 3000</br>PAY_AMT5: 3000.0</br>PAY_AMT6: 2000</br>GENDER_female: 1.0</br>GENDER_male: 0.0</br>EDUCATION_graduate: 0.0</br>... too many variables"
          ],
          [
           "</br>id: 2251</br>prediction: 0.61</br>PAY_1: 3.04</br></br>LIMIT_BAL: 70000</br>AGE: 36.0</br>PAY_2: 0.0</br>PAY_3: 0.0</br>PAY_4: 0.0</br>PAY_5: 0.0</br>PAY_6: 0.0</br>BILL_AMT1: 68699.0</br>BILL_AMT2: 69120.0</br>BILL_AMT3: 68376.0</br>BILL_AMT4: 30163.0</br>BILL_AMT5: 14310.0</br>BILL_AMT6: 15085.0</br>PAY_AMT1: 4483.0</br>PAY_AMT2: 12496</br>PAY_AMT3: 3268.0</br>PAY_AMT4: 3000</br>PAY_AMT5: 3000.0</br>PAY_AMT6: 2000</br>GENDER_female: 1.0</br>GENDER_male: 0.0</br>EDUCATION_graduate: 0.0</br>... too many variables"
          ],
          [
           "</br>id: 2251</br>prediction: 0.61</br>PAY_1: 3.0999999999999996</br></br>LIMIT_BAL: 70000</br>AGE: 36.0</br>PAY_2: 0.0</br>PAY_3: 0.0</br>PAY_4: 0.0</br>PAY_5: 0.0</br>PAY_6: 0.0</br>BILL_AMT1: 68699.0</br>BILL_AMT2: 69120.0</br>BILL_AMT3: 68376.0</br>BILL_AMT4: 30163.0</br>BILL_AMT5: 14310.0</br>BILL_AMT6: 15085.0</br>PAY_AMT1: 4483.0</br>PAY_AMT2: 12496</br>PAY_AMT3: 3268.0</br>PAY_AMT4: 3000</br>PAY_AMT5: 3000.0</br>PAY_AMT6: 2000</br>GENDER_female: 1.0</br>GENDER_male: 0.0</br>EDUCATION_graduate: 0.0</br>... too many variables"
          ],
          [
           "</br>id: 2251</br>prediction: 0.61</br>PAY_1: 3.16</br></br>LIMIT_BAL: 70000</br>AGE: 36.0</br>PAY_2: 0.0</br>PAY_3: 0.0</br>PAY_4: 0.0</br>PAY_5: 0.0</br>PAY_6: 0.0</br>BILL_AMT1: 68699.0</br>BILL_AMT2: 69120.0</br>BILL_AMT3: 68376.0</br>BILL_AMT4: 30163.0</br>BILL_AMT5: 14310.0</br>BILL_AMT6: 15085.0</br>PAY_AMT1: 4483.0</br>PAY_AMT2: 12496</br>PAY_AMT3: 3268.0</br>PAY_AMT4: 3000</br>PAY_AMT5: 3000.0</br>PAY_AMT6: 2000</br>GENDER_female: 1.0</br>GENDER_male: 0.0</br>EDUCATION_graduate: 0.0</br>... too many variables"
          ],
          [
           "</br>id: 2251</br>prediction: 0.61</br>PAY_1: 3.2199999999999998</br></br>LIMIT_BAL: 70000</br>AGE: 36.0</br>PAY_2: 0.0</br>PAY_3: 0.0</br>PAY_4: 0.0</br>PAY_5: 0.0</br>PAY_6: 0.0</br>BILL_AMT1: 68699.0</br>BILL_AMT2: 69120.0</br>BILL_AMT3: 68376.0</br>BILL_AMT4: 30163.0</br>BILL_AMT5: 14310.0</br>BILL_AMT6: 15085.0</br>PAY_AMT1: 4483.0</br>PAY_AMT2: 12496</br>PAY_AMT3: 3268.0</br>PAY_AMT4: 3000</br>PAY_AMT5: 3000.0</br>PAY_AMT6: 2000</br>GENDER_female: 1.0</br>GENDER_male: 0.0</br>EDUCATION_graduate: 0.0</br>... too many variables"
          ],
          [
           "</br>id: 2251</br>prediction: 0.61</br>PAY_1: 3.2799999999999994</br></br>LIMIT_BAL: 70000</br>AGE: 36.0</br>PAY_2: 0.0</br>PAY_3: 0.0</br>PAY_4: 0.0</br>PAY_5: 0.0</br>PAY_6: 0.0</br>BILL_AMT1: 68699.0</br>BILL_AMT2: 69120.0</br>BILL_AMT3: 68376.0</br>BILL_AMT4: 30163.0</br>BILL_AMT5: 14310.0</br>BILL_AMT6: 15085.0</br>PAY_AMT1: 4483.0</br>PAY_AMT2: 12496</br>PAY_AMT3: 3268.0</br>PAY_AMT4: 3000</br>PAY_AMT5: 3000.0</br>PAY_AMT6: 2000</br>GENDER_female: 1.0</br>GENDER_male: 0.0</br>EDUCATION_graduate: 0.0</br>... too many variables"
          ],
          [
           "</br>id: 2251</br>prediction: 0.61</br>PAY_1: 3.34</br></br>LIMIT_BAL: 70000</br>AGE: 36.0</br>PAY_2: 0.0</br>PAY_3: 0.0</br>PAY_4: 0.0</br>PAY_5: 0.0</br>PAY_6: 0.0</br>BILL_AMT1: 68699.0</br>BILL_AMT2: 69120.0</br>BILL_AMT3: 68376.0</br>BILL_AMT4: 30163.0</br>BILL_AMT5: 14310.0</br>BILL_AMT6: 15085.0</br>PAY_AMT1: 4483.0</br>PAY_AMT2: 12496</br>PAY_AMT3: 3268.0</br>PAY_AMT4: 3000</br>PAY_AMT5: 3000.0</br>PAY_AMT6: 2000</br>GENDER_female: 1.0</br>GENDER_male: 0.0</br>EDUCATION_graduate: 0.0</br>... too many variables"
          ],
          [
           "</br>id: 2251</br>prediction: 0.61</br>PAY_1: 3.3999999999999995</br></br>LIMIT_BAL: 70000</br>AGE: 36.0</br>PAY_2: 0.0</br>PAY_3: 0.0</br>PAY_4: 0.0</br>PAY_5: 0.0</br>PAY_6: 0.0</br>BILL_AMT1: 68699.0</br>BILL_AMT2: 69120.0</br>BILL_AMT3: 68376.0</br>BILL_AMT4: 30163.0</br>BILL_AMT5: 14310.0</br>BILL_AMT6: 15085.0</br>PAY_AMT1: 4483.0</br>PAY_AMT2: 12496</br>PAY_AMT3: 3268.0</br>PAY_AMT4: 3000</br>PAY_AMT5: 3000.0</br>PAY_AMT6: 2000</br>GENDER_female: 1.0</br>GENDER_male: 0.0</br>EDUCATION_graduate: 0.0</br>... too many variables"
          ],
          [
           "</br>id: 2251</br>prediction: 0.61</br>PAY_1: 3.46</br></br>LIMIT_BAL: 70000</br>AGE: 36.0</br>PAY_2: 0.0</br>PAY_3: 0.0</br>PAY_4: 0.0</br>PAY_5: 0.0</br>PAY_6: 0.0</br>BILL_AMT1: 68699.0</br>BILL_AMT2: 69120.0</br>BILL_AMT3: 68376.0</br>BILL_AMT4: 30163.0</br>BILL_AMT5: 14310.0</br>BILL_AMT6: 15085.0</br>PAY_AMT1: 4483.0</br>PAY_AMT2: 12496</br>PAY_AMT3: 3268.0</br>PAY_AMT4: 3000</br>PAY_AMT5: 3000.0</br>PAY_AMT6: 2000</br>GENDER_female: 1.0</br>GENDER_male: 0.0</br>EDUCATION_graduate: 0.0</br>... too many variables"
          ],
          [
           "</br>id: 2251</br>prediction: 0.59</br>PAY_1: 3.5199999999999996</br></br>LIMIT_BAL: 70000</br>AGE: 36.0</br>PAY_2: 0.0</br>PAY_3: 0.0</br>PAY_4: 0.0</br>PAY_5: 0.0</br>PAY_6: 0.0</br>BILL_AMT1: 68699.0</br>BILL_AMT2: 69120.0</br>BILL_AMT3: 68376.0</br>BILL_AMT4: 30163.0</br>BILL_AMT5: 14310.0</br>BILL_AMT6: 15085.0</br>PAY_AMT1: 4483.0</br>PAY_AMT2: 12496</br>PAY_AMT3: 3268.0</br>PAY_AMT4: 3000</br>PAY_AMT5: 3000.0</br>PAY_AMT6: 2000</br>GENDER_female: 1.0</br>GENDER_male: 0.0</br>EDUCATION_graduate: 0.0</br>... too many variables"
          ],
          [
           "</br>id: 2251</br>prediction: 0.59</br>PAY_1: 3.58</br></br>LIMIT_BAL: 70000</br>AGE: 36.0</br>PAY_2: 0.0</br>PAY_3: 0.0</br>PAY_4: 0.0</br>PAY_5: 0.0</br>PAY_6: 0.0</br>BILL_AMT1: 68699.0</br>BILL_AMT2: 69120.0</br>BILL_AMT3: 68376.0</br>BILL_AMT4: 30163.0</br>BILL_AMT5: 14310.0</br>BILL_AMT6: 15085.0</br>PAY_AMT1: 4483.0</br>PAY_AMT2: 12496</br>PAY_AMT3: 3268.0</br>PAY_AMT4: 3000</br>PAY_AMT5: 3000.0</br>PAY_AMT6: 2000</br>GENDER_female: 1.0</br>GENDER_male: 0.0</br>EDUCATION_graduate: 0.0</br>... too many variables"
          ],
          [
           "</br>id: 2251</br>prediction: 0.59</br>PAY_1: 3.6399999999999997</br></br>LIMIT_BAL: 70000</br>AGE: 36.0</br>PAY_2: 0.0</br>PAY_3: 0.0</br>PAY_4: 0.0</br>PAY_5: 0.0</br>PAY_6: 0.0</br>BILL_AMT1: 68699.0</br>BILL_AMT2: 69120.0</br>BILL_AMT3: 68376.0</br>BILL_AMT4: 30163.0</br>BILL_AMT5: 14310.0</br>BILL_AMT6: 15085.0</br>PAY_AMT1: 4483.0</br>PAY_AMT2: 12496</br>PAY_AMT3: 3268.0</br>PAY_AMT4: 3000</br>PAY_AMT5: 3000.0</br>PAY_AMT6: 2000</br>GENDER_female: 1.0</br>GENDER_male: 0.0</br>EDUCATION_graduate: 0.0</br>... too many variables"
          ],
          [
           "</br>id: 2251</br>prediction: 0.59</br>PAY_1: 3.7</br></br>LIMIT_BAL: 70000</br>AGE: 36.0</br>PAY_2: 0.0</br>PAY_3: 0.0</br>PAY_4: 0.0</br>PAY_5: 0.0</br>PAY_6: 0.0</br>BILL_AMT1: 68699.0</br>BILL_AMT2: 69120.0</br>BILL_AMT3: 68376.0</br>BILL_AMT4: 30163.0</br>BILL_AMT5: 14310.0</br>BILL_AMT6: 15085.0</br>PAY_AMT1: 4483.0</br>PAY_AMT2: 12496</br>PAY_AMT3: 3268.0</br>PAY_AMT4: 3000</br>PAY_AMT5: 3000.0</br>PAY_AMT6: 2000</br>GENDER_female: 1.0</br>GENDER_male: 0.0</br>EDUCATION_graduate: 0.0</br>EDUCATION_highschool: 0.0</br>... too many variables"
          ],
          [
           "</br>id: 2251</br>prediction: 0.59</br>PAY_1: 3.76</br></br>LIMIT_BAL: 70000</br>AGE: 36.0</br>PAY_2: 0.0</br>PAY_3: 0.0</br>PAY_4: 0.0</br>PAY_5: 0.0</br>PAY_6: 0.0</br>BILL_AMT1: 68699.0</br>BILL_AMT2: 69120.0</br>BILL_AMT3: 68376.0</br>BILL_AMT4: 30163.0</br>BILL_AMT5: 14310.0</br>BILL_AMT6: 15085.0</br>PAY_AMT1: 4483.0</br>PAY_AMT2: 12496</br>PAY_AMT3: 3268.0</br>PAY_AMT4: 3000</br>PAY_AMT5: 3000.0</br>PAY_AMT6: 2000</br>GENDER_female: 1.0</br>GENDER_male: 0.0</br>EDUCATION_graduate: 0.0</br>... too many variables"
          ],
          [
           "</br>id: 2251</br>prediction: 0.59</br>PAY_1: 3.8199999999999994</br></br>LIMIT_BAL: 70000</br>AGE: 36.0</br>PAY_2: 0.0</br>PAY_3: 0.0</br>PAY_4: 0.0</br>PAY_5: 0.0</br>PAY_6: 0.0</br>BILL_AMT1: 68699.0</br>BILL_AMT2: 69120.0</br>BILL_AMT3: 68376.0</br>BILL_AMT4: 30163.0</br>BILL_AMT5: 14310.0</br>BILL_AMT6: 15085.0</br>PAY_AMT1: 4483.0</br>PAY_AMT2: 12496</br>PAY_AMT3: 3268.0</br>PAY_AMT4: 3000</br>PAY_AMT5: 3000.0</br>PAY_AMT6: 2000</br>GENDER_female: 1.0</br>GENDER_male: 0.0</br>EDUCATION_graduate: 0.0</br>... too many variables"
          ],
          [
           "</br>id: 2251</br>prediction: 0.59</br>PAY_1: 3.88</br></br>LIMIT_BAL: 70000</br>AGE: 36.0</br>PAY_2: 0.0</br>PAY_3: 0.0</br>PAY_4: 0.0</br>PAY_5: 0.0</br>PAY_6: 0.0</br>BILL_AMT1: 68699.0</br>BILL_AMT2: 69120.0</br>BILL_AMT3: 68376.0</br>BILL_AMT4: 30163.0</br>BILL_AMT5: 14310.0</br>BILL_AMT6: 15085.0</br>PAY_AMT1: 4483.0</br>PAY_AMT2: 12496</br>PAY_AMT3: 3268.0</br>PAY_AMT4: 3000</br>PAY_AMT5: 3000.0</br>PAY_AMT6: 2000</br>GENDER_female: 1.0</br>GENDER_male: 0.0</br>EDUCATION_graduate: 0.0</br>... too many variables"
          ],
          [
           "</br>id: 2251</br>prediction: 0.59</br>PAY_1: 3.9399999999999995</br></br>LIMIT_BAL: 70000</br>AGE: 36.0</br>PAY_2: 0.0</br>PAY_3: 0.0</br>PAY_4: 0.0</br>PAY_5: 0.0</br>PAY_6: 0.0</br>BILL_AMT1: 68699.0</br>BILL_AMT2: 69120.0</br>BILL_AMT3: 68376.0</br>BILL_AMT4: 30163.0</br>BILL_AMT5: 14310.0</br>BILL_AMT6: 15085.0</br>PAY_AMT1: 4483.0</br>PAY_AMT2: 12496</br>PAY_AMT3: 3268.0</br>PAY_AMT4: 3000</br>PAY_AMT5: 3000.0</br>PAY_AMT6: 2000</br>GENDER_female: 1.0</br>GENDER_male: 0.0</br>EDUCATION_graduate: 0.0</br>... too many variables"
          ],
          [
           "</br>id: 2251</br>prediction: 0.59</br>PAY_1: 4.0</br></br>LIMIT_BAL: 70000</br>AGE: 36.0</br>PAY_2: 0.0</br>PAY_3: 0.0</br>PAY_4: 0.0</br>PAY_5: 0.0</br>PAY_6: 0.0</br>BILL_AMT1: 68699.0</br>BILL_AMT2: 69120.0</br>BILL_AMT3: 68376.0</br>BILL_AMT4: 30163.0</br>BILL_AMT5: 14310.0</br>BILL_AMT6: 15085.0</br>PAY_AMT1: 4483.0</br>PAY_AMT2: 12496</br>PAY_AMT3: 3268.0</br>PAY_AMT4: 3000</br>PAY_AMT5: 3000.0</br>PAY_AMT6: 2000</br>GENDER_female: 1.0</br>GENDER_male: 0.0</br>EDUCATION_graduate: 0.0</br>EDUCATION_highschool: 0.0</br>... too many variables"
          ]
         ],
         "hovertemplate": "%{customdata[0]}<extra></extra>",
         "legendgroup": "RandomForestClassifier",
         "line": {
          "color": "#46bac2",
          "dash": "solid",
          "width": 2
         },
         "mode": "lines",
         "name": "RandomForestClassifier",
         "opacity": 1,
         "orientation": "v",
         "showlegend": false,
         "type": "scatter",
         "x": [
          -2,
          -1.94,
          -1.88,
          -1.82,
          -1.76,
          -1.7,
          -1.6400000000000001,
          -1.58,
          -1.52,
          -1.46,
          -1.4,
          -1.34,
          -1.28,
          -1.22,
          -1.1600000000000001,
          -1.1,
          -1.04,
          -0.98,
          -0.9199999999999999,
          -0.8600000000000001,
          -0.8,
          -0.74,
          -0.6800000000000002,
          -0.6200000000000001,
          -0.56,
          -0.5,
          -0.43999999999999995,
          -0.3800000000000001,
          -0.32000000000000006,
          -0.26,
          -0.20000000000000018,
          -0.14000000000000012,
          -0.08000000000000007,
          -0.020000000000000018,
          0,
          0.040000000000000036,
          0.10000000000000009,
          0.16000000000000014,
          0.21999999999999975,
          0.2799999999999998,
          0.33999999999999986,
          0.3999999999999999,
          0.45999999999999996,
          0.52,
          0.5800000000000001,
          0.6399999999999997,
          0.6999999999999997,
          0.7599999999999998,
          0.8199999999999998,
          0.8799999999999999,
          0.94,
          1,
          1.06,
          1.12,
          1.1799999999999997,
          1.2399999999999998,
          1.2999999999999998,
          1.3599999999999999,
          1.42,
          1.48,
          1.54,
          1.5999999999999996,
          1.6599999999999997,
          1.7199999999999998,
          1.7799999999999998,
          1.8399999999999999,
          1.9,
          1.96,
          2.0199999999999996,
          2.08,
          2.1399999999999997,
          2.2,
          2.26,
          2.3200000000000003,
          2.38,
          2.4399999999999995,
          2.5,
          2.5599999999999996,
          2.62,
          2.6799999999999997,
          2.74,
          2.8,
          2.8599999999999994,
          2.92,
          2.9799999999999995,
          3.04,
          3.0999999999999996,
          3.16,
          3.2199999999999998,
          3.2799999999999994,
          3.34,
          3.3999999999999995,
          3.46,
          3.5199999999999996,
          3.58,
          3.6399999999999997,
          3.7,
          3.76,
          3.8199999999999994,
          3.88,
          3.9399999999999995,
          4
         ],
         "xaxis": "x2",
         "y": [
          0.13,
          0.13,
          0.13,
          0.13,
          0.13,
          0.13,
          0.13,
          0.13,
          0.13,
          0.13,
          0.13,
          0.13,
          0.13,
          0.13,
          0.13,
          0.13,
          0.13,
          0.13,
          0.13,
          0.13,
          0.13,
          0.13,
          0.13,
          0.13,
          0.13,
          0.13,
          0.11,
          0.11,
          0.11,
          0.11,
          0.11,
          0.11,
          0.11,
          0.11,
          0.11,
          0.11,
          0.11,
          0.11,
          0.11,
          0.11,
          0.11,
          0.11,
          0.11,
          0.17,
          0.17,
          0.17,
          0.17,
          0.17,
          0.17,
          0.17,
          0.17,
          0.17,
          0.18,
          0.18,
          0.18,
          0.18,
          0.18,
          0.18,
          0.18,
          0.18,
          0.61,
          0.61,
          0.61,
          0.61,
          0.61,
          0.61,
          0.61,
          0.61,
          0.61,
          0.61,
          0.61,
          0.61,
          0.61,
          0.61,
          0.61,
          0.61,
          0.61,
          0.61,
          0.61,
          0.61,
          0.61,
          0.61,
          0.61,
          0.61,
          0.61,
          0.61,
          0.61,
          0.61,
          0.61,
          0.61,
          0.61,
          0.61,
          0.61,
          0.59,
          0.59,
          0.59,
          0.59,
          0.59,
          0.59,
          0.59,
          0.59,
          0.59
         ],
         "yaxis": "y2"
        },
        {
         "customdata": [
          [
           "</br>id: 2251</br>prediction: 0.11</br>AGE: 36.0</br></br>LIMIT_BAL: 70000</br>PAY_1: 0.0</br>PAY_2: 0.0</br>PAY_3: 0.0</br>PAY_4: 0.0</br>PAY_5: 0.0</br>PAY_6: 0.0</br>BILL_AMT1: 68699.0</br>BILL_AMT2: 69120.0</br>BILL_AMT3: 68376.0</br>BILL_AMT4: 30163.0</br>BILL_AMT5: 14310.0</br>BILL_AMT6: 15085.0</br>PAY_AMT1: 4483.0</br>PAY_AMT2: 12496</br>PAY_AMT3: 3268.0</br>PAY_AMT4: 3000</br>PAY_AMT5: 3000.0</br>PAY_AMT6: 2000</br>GENDER_female: 1.0</br>GENDER_male: 0.0</br>EDUCATION_graduate: 0.0</br>EDUCATION_highschool: 0.0</br>... too many variables"
          ]
         ],
         "hovertemplate": "%{customdata[0]}<extra></extra>",
         "legendgroup": "",
         "marker": {
          "color": "#371ea3",
          "size": 10,
          "symbol": "circle"
         },
         "mode": "markers",
         "name": "",
         "opacity": 1,
         "orientation": "v",
         "showlegend": false,
         "type": "scatter",
         "x": [
          36
         ],
         "xaxis": "x",
         "y": [
          0.11
         ],
         "yaxis": "y"
        },
        {
         "customdata": [
          [
           "</br>id: 2251</br>prediction: 0.11</br>PAY_1: 0.0</br></br>LIMIT_BAL: 70000</br>AGE: 36.0</br>PAY_2: 0.0</br>PAY_3: 0.0</br>PAY_4: 0.0</br>PAY_5: 0.0</br>PAY_6: 0.0</br>BILL_AMT1: 68699.0</br>BILL_AMT2: 69120.0</br>BILL_AMT3: 68376.0</br>BILL_AMT4: 30163.0</br>BILL_AMT5: 14310.0</br>BILL_AMT6: 15085.0</br>PAY_AMT1: 4483.0</br>PAY_AMT2: 12496</br>PAY_AMT3: 3268.0</br>PAY_AMT4: 3000</br>PAY_AMT5: 3000.0</br>PAY_AMT6: 2000</br>GENDER_female: 1.0</br>GENDER_male: 0.0</br>EDUCATION_graduate: 0.0</br>EDUCATION_highschool: 0.0</br>... too many variables"
          ]
         ],
         "hovertemplate": "%{customdata[0]}<extra></extra>",
         "legendgroup": "",
         "marker": {
          "color": "#371ea3",
          "size": 10,
          "symbol": "circle"
         },
         "mode": "markers",
         "name": "",
         "opacity": 1,
         "orientation": "v",
         "showlegend": false,
         "type": "scatter",
         "x": [
          0
         ],
         "xaxis": "x2",
         "y": [
          0.11
         ],
         "yaxis": "y2"
        }
       ],
       "layout": {
        "annotations": [
         {
          "font": {
           "size": 13
          },
          "showarrow": false,
          "text": "AGE",
          "x": 0.2375,
          "xanchor": "center",
          "xref": "paper",
          "y": 1,
          "yanchor": "bottom",
          "yref": "paper"
         },
         {
          "font": {
           "size": 13
          },
          "showarrow": false,
          "text": "PAY_1",
          "x": 0.7625,
          "xanchor": "center",
          "xref": "paper",
          "y": 1,
          "yanchor": "bottom",
          "yref": "paper"
         },
         {
          "font": {
           "size": 13
          },
          "showarrow": false,
          "text": "prediction",
          "textangle": -90,
          "x": -0.07,
          "xref": "paper",
          "y": 0.5,
          "yref": "paper"
         }
        ],
        "font": {
         "color": "#371ea3"
        },
        "height": 489,
        "hoverlabel": {
         "bgcolor": "rgba(0,0,0,0.8)"
        },
        "hovermode": "closest",
        "legend": {
         "font": {
          "size": 11
         },
         "itemsizing": "constant",
         "orientation": "h",
         "title": {
          "font": {
           "size": 12
          },
          "text": "label"
         },
         "tracegroupgap": 0,
         "x": 1,
         "xanchor": "right",
         "y": 1.0613496932515338,
         "yanchor": "bottom"
        },
        "margin": {
         "b": 71,
         "r": 30,
         "t": 78
        },
        "template": {
         "data": {
          "scatter": [
           {
            "type": "scatter"
           }
          ]
         }
        },
        "title": {
         "font": {
          "size": 16
         },
         "text": "Ceteris Paribus Profiles",
         "x": 0.15
        },
        "xaxis": {
         "anchor": "y",
         "automargin": true,
         "domain": [
          0,
          0.475
         ],
         "fixedrange": true,
         "gridwidth": 2,
         "showticklabels": true,
         "tickcolor": "white",
         "ticklen": 3,
         "ticks": "outside",
         "title": {
          "text": ""
         },
         "type": "linear",
         "zeroline": false
        },
        "xaxis2": {
         "anchor": "y2",
         "automargin": true,
         "domain": [
          0.525,
          1
         ],
         "fixedrange": true,
         "gridwidth": 2,
         "showticklabels": true,
         "tickcolor": "white",
         "ticklen": 3,
         "ticks": "outside",
         "title": {
          "text": ""
         },
         "type": "linear",
         "zeroline": false
        },
        "yaxis": {
         "anchor": "x",
         "automargin": true,
         "domain": [
          0,
          1
         ],
         "fixedrange": true,
         "gridwidth": 2,
         "range": [
          0.03799999999999999,
          0.662
         ],
         "tickcolor": "white",
         "ticklen": 3,
         "ticks": "outside",
         "title": {
          "text": ""
         },
         "type": "linear",
         "zeroline": false
        },
        "yaxis2": {
         "anchor": "x2",
         "automargin": true,
         "domain": [
          0,
          1
         ],
         "fixedrange": true,
         "gridwidth": 2,
         "matches": "y",
         "range": [
          0.03799999999999999,
          0.662
         ],
         "showticklabels": false,
         "tickcolor": "white",
         "ticklen": 3,
         "ticks": "outside",
         "title": {
          "text": ""
         },
         "type": "linear",
         "zeroline": false
        }
       }
      }
     },
     "metadata": {}
    }
   ],
   "source": [
    "explainer.predict_profile(x_test.iloc[[0]]).plot(variables=['AGE', 'PAY_1'])"
   ]
  }
 ]
}