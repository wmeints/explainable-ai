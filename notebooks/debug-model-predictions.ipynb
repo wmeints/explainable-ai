{
 "cells": [
  {
   "cell_type": "markdown",
   "metadata": {},
   "source": [
    "# Debug model predictions\n",
    "\n",
    "In this notebook we're going to explore methods to debug a machine-learning model using explainers. We'll cover the following topics:\n",
    "\n",
    "* Breaking down predictions\n",
    "* What-if scenarios\n",
    "\n",
    "If you haven't read the README.md file yet, we encourage that you read that document first. It provides an important introduction to the use-case and dataset used in this notebook and other notebooks in the project.\n",
    "\n",
    "Let's start by preparing everything we need for this notebook."
   ]
  },
  {
   "cell_type": "markdown",
   "metadata": {},
   "source": [
    "## Preparation steps\n",
    "\n",
    "Before we can use an explainer on our model, we need to load a test dataset and the model itself. The model for this demo is based on the [UCI Credit card defaulters dataset](https://archive.ics.uci.edu/ml/datasets/default+of+credit+card+clients). You can learn more about training the model in `tasks/train-model.py`. For more details on the data preparation you can check out the `tasks/prepare-data.py` and `tasks/split-data.py` scripts.\n",
    "\n",
    "Let's start by loading up the necessary Python packages:"
   ]
  },
  {
   "cell_type": "code",
   "execution_count": 1,
   "metadata": {},
   "outputs": [],
   "source": [
    "import joblib\n",
    "import pandas as pd"
   ]
  },
  {
   "cell_type": "markdown",
   "metadata": {},
   "source": [
    "After loading the libraries for the model, let's load the model and some test data.\n",
    "You can use `df_test.head()` to see what's in the dataset if you want."
   ]
  },
  {
   "cell_type": "code",
   "execution_count": 2,
   "metadata": {},
   "outputs": [],
   "source": [
    "model = joblib.load('../models/classifier.bin')\n",
    "df_test = pd.read_csv('../data/processed/test.csv').sample(385)\n",
    "\n",
    "x_test = df_test.drop('LABEL', axis=1)\n",
    "y_test = df_test['LABEL']"
   ]
  },
  {
   "cell_type": "markdown",
   "metadata": {},
   "source": [
    "With the dataset and model ready to go, let's begin calculating feature importance information for the model."
   ]
  },
  {
   "cell_type": "markdown",
   "metadata": {},
   "source": [
    "## Breaking down predictions\n",
    "\n",
    "First, we're going to take a look at prediction-level explanations using the [iBreakDown algorithm](https://arxiv.org/pdf/1903.11420.pdf). This algorithm explains how the model came to a prediction by following the features from most important to least important. This shows you exactly what reasoning the model is following to come to a certain conclusion. Using this method you can determine which value could be causing a wrong prediction. This technique is also useful to explain to your customer how you came to a decision. Keep in mind though, the explainer is rather technical so it requires extra explanation if you're going to offer the explanation to your customer.\n",
    "\n",
    "Let's take a look at what the iBreakdown explainer can do."
   ]
  },
  {
   "cell_type": "code",
   "execution_count": 3,
   "metadata": {},
   "outputs": [],
   "source": [
    "import dalex as dx"
   ]
  },
  {
   "cell_type": "code",
   "execution_count": 4,
   "metadata": {},
   "outputs": [
    {
     "name": "stdout",
     "output_type": "stream",
     "text": [
      "Preparation of a new explainer is initiated\n",
      "\n",
      "  -> data              : 385 rows 29 cols\n",
      "  -> target variable   : Parameter 'y' was a pandas.Series. Converted to a numpy.ndarray.\n",
      "  -> target variable   : 385 values\n",
      "  -> model_class       : sklearn.ensemble._forest.RandomForestClassifier (default)\n",
      "  -> label             : LABEL\n",
      "  -> predict function  : <function yhat_proba_default at 0x0000013FED648C10> will be used (default)\n",
      "  -> predict function  : Accepts pandas.DataFrame and numpy.ndarray.\n",
      "  -> predicted values  : min = 0.0, mean = 0.233, max = 0.87\n",
      "  -> model type        : classifier will be used\n",
      "  -> residual function : difference between y and yhat (default)\n",
      "  -> residuals         : min = -0.835, mean = -0.00968, max = 0.98\n",
      "  -> model_info        : package sklearn\n",
      "\n",
      "A new explainer has been created!\n"
     ]
    }
   ],
   "source": [
    "explainer = dx.Explainer(model, x_test, y_test, model_type='classifier', label='LABEL')"
   ]
  },
  {
   "cell_type": "markdown",
   "metadata": {},
   "source": [
    "We're going to break down the prediction to see how the model came to make its prediction. First, let's look at the actual outcome of the model:"
   ]
  },
  {
   "cell_type": "code",
   "execution_count": 9,
   "metadata": {},
   "outputs": [
    {
     "data": {
      "text/plain": [
       "2178    0\n",
       "Name: LABEL, dtype: int64"
      ]
     },
     "execution_count": 9,
     "metadata": {},
     "output_type": "execute_result"
    }
   ],
   "source": [
    "y_test.iloc[[1]]"
   ]
  },
  {
   "cell_type": "markdown",
   "metadata": {},
   "source": [
    "Then, we can use the `explainer` object to get the explanation for a single prediction:"
   ]
  },
  {
   "cell_type": "code",
   "execution_count": 5,
   "metadata": {},
   "outputs": [
    {
     "data": {
      "application/vnd.plotly.v1+json": {
       "config": {
        "displaylogo": false,
        "modeBarButtonsToRemove": [
         "sendDataToCloud",
         "lasso2d",
         "autoScale2d",
         "select2d",
         "zoom2d",
         "pan2d",
         "zoomIn2d",
         "zoomOut2d",
         "resetScale2d",
         "toggleSpikelines",
         "hoverCompareCartesian",
         "hoverClosestCartesian"
        ],
        "plotlyServerURL": "https://plot.ly",
        "staticPlot": false,
        "toImageButtonOptions": {
         "height": null,
         "width": null
        }
       },
       "data": [
        {
         "base": 0.23305330859616577,
         "connector": {
          "line": {
           "color": "#371ea3",
           "dash": "solid",
           "width": 1
          },
          "mode": "spanning"
         },
         "decreasing": {
          "marker": {
           "color": "#f05a71"
          }
         },
         "hoverinfo": "text+delta",
         "hoverlabel": {
          "bgcolor": "rgba(0,0,0,0.8)"
         },
         "hovertext": [
          "Average response: 0.233<br>Prediction: 0.08",
          "LIMIT_BAL = 290000.0<br>decreases average response by",
          "PAY_1 = 0.0<br>decreases average response by",
          "PAY_AMT1:BILL_AMT2 = 15040.0:37740.0<br>decreases average response by",
          "BILL_AMT1 = 25530.0<br>decreases average response by",
          "BILL_AMT4 = 24100.0<br>increases average response by",
          "PAY_AMT2 = 1539.0<br>increases average response by",
          "BILL_AMT3 = 29640.0<br>decreases average response by",
          "PAY_AMT4:BILL_AMT5 = 10000.0:33810.0<br>increases average response by",
          "PAY_AMT5:BILL_AMT6 = 5000.0:32530.0<br>decreases average response by",
          "PAY_2 = 0.0<br>decreases average response by",
          "+ all other factors<br>decreases average response by",
          "Average response: 0.233<br>Prediction: 0.08"
         ],
         "increasing": {
          "marker": {
           "color": "#8bdcbe"
          }
         },
         "measure": [
          "relative",
          "relative",
          "relative",
          "relative",
          "relative",
          "relative",
          "relative",
          "relative",
          "relative",
          "relative",
          "relative",
          "relative",
          "total"
         ],
         "orientation": "h",
         "showlegend": false,
         "text": [
          "0.233",
          "-0.033",
          "-0.029",
          "-0.001",
          "-0.025",
          "+0.006",
          "+0.009",
          "-0.016",
          "+0.015",
          "-0.005",
          "-0.015",
          "-0.059",
          "0.08"
         ],
         "textposition": "outside",
         "totals": {
          "marker": {
           "color": "#371ea3"
          }
         },
         "type": "waterfall",
         "x": [
          0,
          -0.033,
          -0.029,
          -0.001,
          -0.025,
          0.006,
          0.009,
          -0.016,
          0.015,
          -0.005,
          -0.015,
          -0.059,
          -0.153
         ],
         "xaxis": "x",
         "y": [
          "intercept",
          "LIMIT_BAL = 290000.0",
          "PAY_1 = 0.0",
          "PAY_AMT1:BILL_AMT2 = 15040.0:37740.0",
          "BILL_AMT1 = 25530.0",
          "BILL_AMT4 = 24100.0",
          "PAY_AMT2 = 1539.0",
          "BILL_AMT3 = 29640.0",
          "PAY_AMT4:BILL_AMT5 = 10000.0:33810.0",
          "PAY_AMT5:BILL_AMT6 = 5000.0:32530.0",
          "PAY_2 = 0.0",
          "+ all other factors",
          "prediction"
         ],
         "yaxis": "y"
        }
       ],
       "layout": {
        "annotations": [
         {
          "font": {
           "size": 16
          },
          "showarrow": false,
          "text": "LABEL",
          "x": 0.5,
          "xanchor": "center",
          "xref": "paper",
          "y": 1,
          "yanchor": "bottom",
          "yref": "paper"
         },
         {
          "font": {
           "size": 16
          },
          "showarrow": false,
          "text": "contribution",
          "x": 0.5,
          "xanchor": "center",
          "xref": "paper",
          "y": 0,
          "yanchor": "top",
          "yref": "paper",
          "yshift": -30
         }
        ],
        "font": {
         "color": "#371ea3"
        },
        "height": 413,
        "margin": {
         "b": 71,
         "r": 30,
         "t": 78
        },
        "shapes": [
         {
          "line": {
           "color": "#371ea3",
           "dash": "dot",
           "width": 1.5
          },
          "type": "line",
          "x0": 0.23305330859616577,
          "x1": 0.23305330859616577,
          "xref": "x",
          "y0": -1,
          "y1": 13,
          "yref": "y"
         }
        ],
        "template": {
         "data": {
          "scatter": [
           {
            "type": "scatter"
           }
          ]
         }
        },
        "title": {
         "text": "Break Down",
         "x": 0.15
        },
        "xaxis": {
         "anchor": "y",
         "automargin": true,
         "domain": [
          0,
          1
         ],
         "fixedrange": true,
         "gridwidth": 2,
         "range": [
          0.057050000000000003,
          0.25595
         ],
         "tickcolor": "white",
         "ticklen": 3,
         "ticks": "outside",
         "type": "linear",
         "zeroline": false
        },
        "yaxis": {
         "anchor": "x",
         "automargin": true,
         "autorange": "reversed",
         "domain": [
          0,
          1
         ],
         "fixedrange": true,
         "gridwidth": 2,
         "tickcolor": "white",
         "ticklen": 10,
         "ticks": "outside",
         "type": "category"
        }
       }
      }
     },
     "metadata": {},
     "output_type": "display_data"
    }
   ],
   "source": [
    "explainer.predict_parts(x_test.iloc[[1]], type='break_down_interactions').plot()"
   ]
  },
  {
   "cell_type": "markdown",
   "metadata": {},
   "source": [
    "The explainer breaks down the prediction for each individual feature. You can follow the features from top to bottom to get a sense of what each feature contributes to the outcome of the model.\n",
    "\n",
    "As you can see, this is a great explainer for data scientists to debug their model. You can check the contribution of each feature to the outcome. Anything that stands out in this picture will help you find data errors or training problems."
   ]
  },
  {
   "cell_type": "markdown",
   "metadata": {},
   "source": [
    "Let's continue exploring the structure of the model by diving into the features a bit more. "
   ]
  },
  {
   "cell_type": "markdown",
   "metadata": {},
   "source": [
    "## What-if scenarios\n",
    "\n",
    "In the previous section we've covered how to break down a prediction. In this section we're taking a look at what-if scenarios for predictions. You can create a what-if scenario using the `predict_profile` method on the explainer. "
   ]
  },
  {
   "cell_type": "code",
   "execution_count": 6,
   "metadata": {},
   "outputs": [
    {
     "name": "stderr",
     "output_type": "stream",
     "text": [
      "Calculating ceteris paribus: 100%|██████████| 29/29 [00:00<00:00, 83.90it/s]\n"
     ]
    },
    {
     "data": {
      "application/vnd.plotly.v1+json": {
       "config": {
        "displaylogo": false,
        "modeBarButtonsToRemove": [
         "sendDataToCloud",
         "lasso2d",
         "autoScale2d",
         "select2d",
         "zoom2d",
         "pan2d",
         "zoomIn2d",
         "zoomOut2d",
         "resetScale2d",
         "toggleSpikelines",
         "hoverCompareCartesian",
         "hoverClosestCartesian"
        ],
        "plotlyServerURL": "https://plot.ly",
        "staticPlot": false,
        "toImageButtonOptions": {
         "height": null,
         "width": null
        }
       },
       "data": [
        {
         "customdata": [
          [
           "</br>id: 2470</br>prediction: 0.1</br>PAY_1: -2.0</br></br>LIMIT_BAL: 400000</br>AGE: 31.0</br>PAY_2: -2.0</br>PAY_3: -1.0</br>PAY_4: 0.0</br>PAY_5: 0.0</br>PAY_6: 0.0</br>BILL_AMT1: -166.0</br>BILL_AMT2: -490.0</br>BILL_AMT3: 29186.0</br>BILL_AMT4: 30789.0</br>BILL_AMT5: 7879.0</br>BILL_AMT6: 13928.0</br>PAY_AMT1: 1.0</br>PAY_AMT2: 30001.0</br>PAY_AMT3: 2128.0</br>PAY_AMT4: 3009.0</br>PAY_AMT5: 8006.0</br>PAY_AMT6: 1028.0</br>GENDER_female: 0.0</br>GENDER_male: 1.0</br>EDUCATION_graduate: 1.0</br>... too many variables"
          ],
          [
           "</br>id: 2470</br>prediction: 0.1</br>PAY_1: -1.9</br></br>LIMIT_BAL: 400000</br>AGE: 31.0</br>PAY_2: -2.0</br>PAY_3: -1.0</br>PAY_4: 0.0</br>PAY_5: 0.0</br>PAY_6: 0.0</br>BILL_AMT1: -166.0</br>BILL_AMT2: -490.0</br>BILL_AMT3: 29186.0</br>BILL_AMT4: 30789.0</br>BILL_AMT5: 7879.0</br>BILL_AMT6: 13928.0</br>PAY_AMT1: 1.0</br>PAY_AMT2: 30001.0</br>PAY_AMT3: 2128.0</br>PAY_AMT4: 3009.0</br>PAY_AMT5: 8006.0</br>PAY_AMT6: 1028.0</br>GENDER_female: 0.0</br>GENDER_male: 1.0</br>EDUCATION_graduate: 1.0</br>... too many variables"
          ],
          [
           "</br>id: 2470</br>prediction: 0.1</br>PAY_1: -1.8</br></br>LIMIT_BAL: 400000</br>AGE: 31.0</br>PAY_2: -2.0</br>PAY_3: -1.0</br>PAY_4: 0.0</br>PAY_5: 0.0</br>PAY_6: 0.0</br>BILL_AMT1: -166.0</br>BILL_AMT2: -490.0</br>BILL_AMT3: 29186.0</br>BILL_AMT4: 30789.0</br>BILL_AMT5: 7879.0</br>BILL_AMT6: 13928.0</br>PAY_AMT1: 1.0</br>PAY_AMT2: 30001.0</br>PAY_AMT3: 2128.0</br>PAY_AMT4: 3009.0</br>PAY_AMT5: 8006.0</br>PAY_AMT6: 1028.0</br>GENDER_female: 0.0</br>GENDER_male: 1.0</br>EDUCATION_graduate: 1.0</br>... too many variables"
          ],
          [
           "</br>id: 2470</br>prediction: 0.1</br>PAY_1: -1.7</br></br>LIMIT_BAL: 400000</br>AGE: 31.0</br>PAY_2: -2.0</br>PAY_3: -1.0</br>PAY_4: 0.0</br>PAY_5: 0.0</br>PAY_6: 0.0</br>BILL_AMT1: -166.0</br>BILL_AMT2: -490.0</br>BILL_AMT3: 29186.0</br>BILL_AMT4: 30789.0</br>BILL_AMT5: 7879.0</br>BILL_AMT6: 13928.0</br>PAY_AMT1: 1.0</br>PAY_AMT2: 30001.0</br>PAY_AMT3: 2128.0</br>PAY_AMT4: 3009.0</br>PAY_AMT5: 8006.0</br>PAY_AMT6: 1028.0</br>GENDER_female: 0.0</br>GENDER_male: 1.0</br>EDUCATION_graduate: 1.0</br>... too many variables"
          ],
          [
           "</br>id: 2470</br>prediction: 0.1</br>PAY_1: -1.6</br></br>LIMIT_BAL: 400000</br>AGE: 31.0</br>PAY_2: -2.0</br>PAY_3: -1.0</br>PAY_4: 0.0</br>PAY_5: 0.0</br>PAY_6: 0.0</br>BILL_AMT1: -166.0</br>BILL_AMT2: -490.0</br>BILL_AMT3: 29186.0</br>BILL_AMT4: 30789.0</br>BILL_AMT5: 7879.0</br>BILL_AMT6: 13928.0</br>PAY_AMT1: 1.0</br>PAY_AMT2: 30001.0</br>PAY_AMT3: 2128.0</br>PAY_AMT4: 3009.0</br>PAY_AMT5: 8006.0</br>PAY_AMT6: 1028.0</br>GENDER_female: 0.0</br>GENDER_male: 1.0</br>EDUCATION_graduate: 1.0</br>... too many variables"
          ],
          [
           "</br>id: 2470</br>prediction: 0.1</br>PAY_1: -1.5</br></br>LIMIT_BAL: 400000</br>AGE: 31.0</br>PAY_2: -2.0</br>PAY_3: -1.0</br>PAY_4: 0.0</br>PAY_5: 0.0</br>PAY_6: 0.0</br>BILL_AMT1: -166.0</br>BILL_AMT2: -490.0</br>BILL_AMT3: 29186.0</br>BILL_AMT4: 30789.0</br>BILL_AMT5: 7879.0</br>BILL_AMT6: 13928.0</br>PAY_AMT1: 1.0</br>PAY_AMT2: 30001.0</br>PAY_AMT3: 2128.0</br>PAY_AMT4: 3009.0</br>PAY_AMT5: 8006.0</br>PAY_AMT6: 1028.0</br>GENDER_female: 0.0</br>GENDER_male: 1.0</br>EDUCATION_graduate: 1.0</br>... too many variables"
          ],
          [
           "</br>id: 2470</br>prediction: 0.09</br>PAY_1: -1.4</br></br>LIMIT_BAL: 400000</br>AGE: 31.0</br>PAY_2: -2.0</br>PAY_3: -1.0</br>PAY_4: 0.0</br>PAY_5: 0.0</br>PAY_6: 0.0</br>BILL_AMT1: -166.0</br>BILL_AMT2: -490.0</br>BILL_AMT3: 29186.0</br>BILL_AMT4: 30789.0</br>BILL_AMT5: 7879.0</br>BILL_AMT6: 13928.0</br>PAY_AMT1: 1.0</br>PAY_AMT2: 30001.0</br>PAY_AMT3: 2128.0</br>PAY_AMT4: 3009.0</br>PAY_AMT5: 8006.0</br>PAY_AMT6: 1028.0</br>GENDER_female: 0.0</br>GENDER_male: 1.0</br>EDUCATION_graduate: 1.0</br>... too many variables"
          ],
          [
           "</br>id: 2470</br>prediction: 0.09</br>PAY_1: -1.2999999999999998</br></br>LIMIT_BAL: 400000</br>AGE: 31.0</br>PAY_2: -2.0</br>PAY_3: -1.0</br>PAY_4: 0.0</br>PAY_5: 0.0</br>PAY_6: 0.0</br>BILL_AMT1: -166.0</br>BILL_AMT2: -490.0</br>BILL_AMT3: 29186.0</br>BILL_AMT4: 30789.0</br>BILL_AMT5: 7879.0</br>BILL_AMT6: 13928.0</br>PAY_AMT1: 1.0</br>PAY_AMT2: 30001.0</br>PAY_AMT3: 2128.0</br>PAY_AMT4: 3009.0</br>PAY_AMT5: 8006.0</br>PAY_AMT6: 1028.0</br>GENDER_female: 0.0</br>GENDER_male: 1.0</br>EDUCATION_graduate: 1.0</br>... too many variables"
          ],
          [
           "</br>id: 2470</br>prediction: 0.09</br>PAY_1: -1.2</br></br>LIMIT_BAL: 400000</br>AGE: 31.0</br>PAY_2: -2.0</br>PAY_3: -1.0</br>PAY_4: 0.0</br>PAY_5: 0.0</br>PAY_6: 0.0</br>BILL_AMT1: -166.0</br>BILL_AMT2: -490.0</br>BILL_AMT3: 29186.0</br>BILL_AMT4: 30789.0</br>BILL_AMT5: 7879.0</br>BILL_AMT6: 13928.0</br>PAY_AMT1: 1.0</br>PAY_AMT2: 30001.0</br>PAY_AMT3: 2128.0</br>PAY_AMT4: 3009.0</br>PAY_AMT5: 8006.0</br>PAY_AMT6: 1028.0</br>GENDER_female: 0.0</br>GENDER_male: 1.0</br>EDUCATION_graduate: 1.0</br>... too many variables"
          ],
          [
           "</br>id: 2470</br>prediction: 0.09</br>PAY_1: -1.1</br></br>LIMIT_BAL: 400000</br>AGE: 31.0</br>PAY_2: -2.0</br>PAY_3: -1.0</br>PAY_4: 0.0</br>PAY_5: 0.0</br>PAY_6: 0.0</br>BILL_AMT1: -166.0</br>BILL_AMT2: -490.0</br>BILL_AMT3: 29186.0</br>BILL_AMT4: 30789.0</br>BILL_AMT5: 7879.0</br>BILL_AMT6: 13928.0</br>PAY_AMT1: 1.0</br>PAY_AMT2: 30001.0</br>PAY_AMT3: 2128.0</br>PAY_AMT4: 3009.0</br>PAY_AMT5: 8006.0</br>PAY_AMT6: 1028.0</br>GENDER_female: 0.0</br>GENDER_male: 1.0</br>EDUCATION_graduate: 1.0</br>... too many variables"
          ],
          [
           "</br>id: 2470</br>prediction: 0.09</br>PAY_1: -1.0</br></br>LIMIT_BAL: 400000</br>AGE: 31.0</br>PAY_2: -2.0</br>PAY_3: -1.0</br>PAY_4: 0.0</br>PAY_5: 0.0</br>PAY_6: 0.0</br>BILL_AMT1: -166.0</br>BILL_AMT2: -490.0</br>BILL_AMT3: 29186.0</br>BILL_AMT4: 30789.0</br>BILL_AMT5: 7879.0</br>BILL_AMT6: 13928.0</br>PAY_AMT1: 1.0</br>PAY_AMT2: 30001.0</br>PAY_AMT3: 2128.0</br>PAY_AMT4: 3009.0</br>PAY_AMT5: 8006.0</br>PAY_AMT6: 1028.0</br>GENDER_female: 0.0</br>GENDER_male: 1.0</br>EDUCATION_graduate: 1.0</br>... too many variables"
          ],
          [
           "</br>id: 2470</br>prediction: 0.09</br>PAY_1: -0.8999999999999999</br></br>LIMIT_BAL: 400000</br>AGE: 31.0</br>PAY_2: -2.0</br>PAY_3: -1.0</br>PAY_4: 0.0</br>PAY_5: 0.0</br>PAY_6: 0.0</br>BILL_AMT1: -166.0</br>BILL_AMT2: -490.0</br>BILL_AMT3: 29186.0</br>BILL_AMT4: 30789.0</br>BILL_AMT5: 7879.0</br>BILL_AMT6: 13928.0</br>PAY_AMT1: 1.0</br>PAY_AMT2: 30001.0</br>PAY_AMT3: 2128.0</br>PAY_AMT4: 3009.0</br>PAY_AMT5: 8006.0</br>PAY_AMT6: 1028.0</br>GENDER_female: 0.0</br>GENDER_male: 1.0</br>EDUCATION_graduate: 1.0</br>... too many variables"
          ],
          [
           "</br>id: 2470</br>prediction: 0.09</br>PAY_1: -0.7999999999999998</br></br>LIMIT_BAL: 400000</br>AGE: 31.0</br>PAY_2: -2.0</br>PAY_3: -1.0</br>PAY_4: 0.0</br>PAY_5: 0.0</br>PAY_6: 0.0</br>BILL_AMT1: -166.0</br>BILL_AMT2: -490.0</br>BILL_AMT3: 29186.0</br>BILL_AMT4: 30789.0</br>BILL_AMT5: 7879.0</br>BILL_AMT6: 13928.0</br>PAY_AMT1: 1.0</br>PAY_AMT2: 30001.0</br>PAY_AMT3: 2128.0</br>PAY_AMT4: 3009.0</br>PAY_AMT5: 8006.0</br>PAY_AMT6: 1028.0</br>GENDER_female: 0.0</br>GENDER_male: 1.0</br>EDUCATION_graduate: 1.0</br>... too many variables"
          ],
          [
           "</br>id: 2470</br>prediction: 0.09</br>PAY_1: -0.7</br></br>LIMIT_BAL: 400000</br>AGE: 31.0</br>PAY_2: -2.0</br>PAY_3: -1.0</br>PAY_4: 0.0</br>PAY_5: 0.0</br>PAY_6: 0.0</br>BILL_AMT1: -166.0</br>BILL_AMT2: -490.0</br>BILL_AMT3: 29186.0</br>BILL_AMT4: 30789.0</br>BILL_AMT5: 7879.0</br>BILL_AMT6: 13928.0</br>PAY_AMT1: 1.0</br>PAY_AMT2: 30001.0</br>PAY_AMT3: 2128.0</br>PAY_AMT4: 3009.0</br>PAY_AMT5: 8006.0</br>PAY_AMT6: 1028.0</br>GENDER_female: 0.0</br>GENDER_male: 1.0</br>EDUCATION_graduate: 1.0</br>... too many variables"
          ],
          [
           "</br>id: 2470</br>prediction: 0.09</br>PAY_1: -0.5999999999999999</br></br>LIMIT_BAL: 400000</br>AGE: 31.0</br>PAY_2: -2.0</br>PAY_3: -1.0</br>PAY_4: 0.0</br>PAY_5: 0.0</br>PAY_6: 0.0</br>BILL_AMT1: -166.0</br>BILL_AMT2: -490.0</br>BILL_AMT3: 29186.0</br>BILL_AMT4: 30789.0</br>BILL_AMT5: 7879.0</br>BILL_AMT6: 13928.0</br>PAY_AMT1: 1.0</br>PAY_AMT2: 30001.0</br>PAY_AMT3: 2128.0</br>PAY_AMT4: 3009.0</br>PAY_AMT5: 8006.0</br>PAY_AMT6: 1028.0</br>GENDER_female: 0.0</br>GENDER_male: 1.0</br>EDUCATION_graduate: 1.0</br>... too many variables"
          ],
          [
           "</br>id: 2470</br>prediction: 0.09</br>PAY_1: -0.5</br></br>LIMIT_BAL: 400000</br>AGE: 31.0</br>PAY_2: -2.0</br>PAY_3: -1.0</br>PAY_4: 0.0</br>PAY_5: 0.0</br>PAY_6: 0.0</br>BILL_AMT1: -166.0</br>BILL_AMT2: -490.0</br>BILL_AMT3: 29186.0</br>BILL_AMT4: 30789.0</br>BILL_AMT5: 7879.0</br>BILL_AMT6: 13928.0</br>PAY_AMT1: 1.0</br>PAY_AMT2: 30001.0</br>PAY_AMT3: 2128.0</br>PAY_AMT4: 3009.0</br>PAY_AMT5: 8006.0</br>PAY_AMT6: 1028.0</br>GENDER_female: 0.0</br>GENDER_male: 1.0</br>EDUCATION_graduate: 1.0</br>... too many variables"
          ],
          [
           "</br>id: 2470</br>prediction: 0.09</br>PAY_1: -0.3999999999999999</br></br>LIMIT_BAL: 400000</br>AGE: 31.0</br>PAY_2: -2.0</br>PAY_3: -1.0</br>PAY_4: 0.0</br>PAY_5: 0.0</br>PAY_6: 0.0</br>BILL_AMT1: -166.0</br>BILL_AMT2: -490.0</br>BILL_AMT3: 29186.0</br>BILL_AMT4: 30789.0</br>BILL_AMT5: 7879.0</br>BILL_AMT6: 13928.0</br>PAY_AMT1: 1.0</br>PAY_AMT2: 30001.0</br>PAY_AMT3: 2128.0</br>PAY_AMT4: 3009.0</br>PAY_AMT5: 8006.0</br>PAY_AMT6: 1028.0</br>GENDER_female: 0.0</br>GENDER_male: 1.0</br>EDUCATION_graduate: 1.0</br>... too many variables"
          ],
          [
           "</br>id: 2470</br>prediction: 0.09</br>PAY_1: -0.2999999999999998</br></br>LIMIT_BAL: 400000</br>AGE: 31.0</br>PAY_2: -2.0</br>PAY_3: -1.0</br>PAY_4: 0.0</br>PAY_5: 0.0</br>PAY_6: 0.0</br>BILL_AMT1: -166.0</br>BILL_AMT2: -490.0</br>BILL_AMT3: 29186.0</br>BILL_AMT4: 30789.0</br>BILL_AMT5: 7879.0</br>BILL_AMT6: 13928.0</br>PAY_AMT1: 1.0</br>PAY_AMT2: 30001.0</br>PAY_AMT3: 2128.0</br>PAY_AMT4: 3009.0</br>PAY_AMT5: 8006.0</br>PAY_AMT6: 1028.0</br>GENDER_female: 0.0</br>GENDER_male: 1.0</br>EDUCATION_graduate: 1.0</br>... too many variables"
          ],
          [
           "</br>id: 2470</br>prediction: 0.09</br>PAY_1: -0.19999999999999996</br></br>LIMIT_BAL: 400000</br>AGE: 31.0</br>PAY_2: -2.0</br>PAY_3: -1.0</br>PAY_4: 0.0</br>PAY_5: 0.0</br>PAY_6: 0.0</br>BILL_AMT1: -166.0</br>BILL_AMT2: -490.0</br>BILL_AMT3: 29186.0</br>BILL_AMT4: 30789.0</br>BILL_AMT5: 7879.0</br>BILL_AMT6: 13928.0</br>PAY_AMT1: 1.0</br>PAY_AMT2: 30001.0</br>PAY_AMT3: 2128.0</br>PAY_AMT4: 3009.0</br>PAY_AMT5: 8006.0</br>PAY_AMT6: 1028.0</br>GENDER_female: 0.0</br>GENDER_male: 1.0</br>EDUCATION_graduate: 1.0</br>... too many variables"
          ],
          [
           "</br>id: 2470</br>prediction: 0.09</br>PAY_1: -0.09999999999999987</br></br>LIMIT_BAL: 400000</br>AGE: 31.0</br>PAY_2: -2.0</br>PAY_3: -1.0</br>PAY_4: 0.0</br>PAY_5: 0.0</br>PAY_6: 0.0</br>BILL_AMT1: -166.0</br>BILL_AMT2: -490.0</br>BILL_AMT3: 29186.0</br>BILL_AMT4: 30789.0</br>BILL_AMT5: 7879.0</br>BILL_AMT6: 13928.0</br>PAY_AMT1: 1.0</br>PAY_AMT2: 30001.0</br>PAY_AMT3: 2128.0</br>PAY_AMT4: 3009.0</br>PAY_AMT5: 8006.0</br>PAY_AMT6: 1028.0</br>GENDER_female: 0.0</br>GENDER_male: 1.0</br>EDUCATION_graduate: 1.0</br>... too many variables"
          ],
          [
           "</br>id: 2470</br>prediction: 0.09</br>PAY_1: 0.0</br></br>LIMIT_BAL: 400000</br>AGE: 31.0</br>PAY_2: -2.0</br>PAY_3: -1.0</br>PAY_4: 0.0</br>PAY_5: 0.0</br>PAY_6: 0.0</br>BILL_AMT1: -166.0</br>BILL_AMT2: -490.0</br>BILL_AMT3: 29186.0</br>BILL_AMT4: 30789.0</br>BILL_AMT5: 7879.0</br>BILL_AMT6: 13928.0</br>PAY_AMT1: 1.0</br>PAY_AMT2: 30001.0</br>PAY_AMT3: 2128.0</br>PAY_AMT4: 3009.0</br>PAY_AMT5: 8006.0</br>PAY_AMT6: 1028.0</br>GENDER_female: 0.0</br>GENDER_male: 1.0</br>EDUCATION_graduate: 1.0</br>... too many variables"
          ],
          [
           "</br>id: 2470</br>prediction: 0.09</br>PAY_1: 0.10000000000000009</br></br>LIMIT_BAL: 400000</br>AGE: 31.0</br>PAY_2: -2.0</br>PAY_3: -1.0</br>PAY_4: 0.0</br>PAY_5: 0.0</br>PAY_6: 0.0</br>BILL_AMT1: -166.0</br>BILL_AMT2: -490.0</br>BILL_AMT3: 29186.0</br>BILL_AMT4: 30789.0</br>BILL_AMT5: 7879.0</br>BILL_AMT6: 13928.0</br>PAY_AMT1: 1.0</br>PAY_AMT2: 30001.0</br>PAY_AMT3: 2128.0</br>PAY_AMT4: 3009.0</br>PAY_AMT5: 8006.0</br>PAY_AMT6: 1028.0</br>GENDER_female: 0.0</br>GENDER_male: 1.0</br>EDUCATION_graduate: 1.0</br>... too many variables"
          ],
          [
           "</br>id: 2470</br>prediction: 0.09</br>PAY_1: 0.20000000000000018</br></br>LIMIT_BAL: 400000</br>AGE: 31.0</br>PAY_2: -2.0</br>PAY_3: -1.0</br>PAY_4: 0.0</br>PAY_5: 0.0</br>PAY_6: 0.0</br>BILL_AMT1: -166.0</br>BILL_AMT2: -490.0</br>BILL_AMT3: 29186.0</br>BILL_AMT4: 30789.0</br>BILL_AMT5: 7879.0</br>BILL_AMT6: 13928.0</br>PAY_AMT1: 1.0</br>PAY_AMT2: 30001.0</br>PAY_AMT3: 2128.0</br>PAY_AMT4: 3009.0</br>PAY_AMT5: 8006.0</br>PAY_AMT6: 1028.0</br>GENDER_female: 0.0</br>GENDER_male: 1.0</br>EDUCATION_graduate: 1.0</br>... too many variables"
          ],
          [
           "</br>id: 2470</br>prediction: 0.09</br>PAY_1: 0.30000000000000027</br></br>LIMIT_BAL: 400000</br>AGE: 31.0</br>PAY_2: -2.0</br>PAY_3: -1.0</br>PAY_4: 0.0</br>PAY_5: 0.0</br>PAY_6: 0.0</br>BILL_AMT1: -166.0</br>BILL_AMT2: -490.0</br>BILL_AMT3: 29186.0</br>BILL_AMT4: 30789.0</br>BILL_AMT5: 7879.0</br>BILL_AMT6: 13928.0</br>PAY_AMT1: 1.0</br>PAY_AMT2: 30001.0</br>PAY_AMT3: 2128.0</br>PAY_AMT4: 3009.0</br>PAY_AMT5: 8006.0</br>PAY_AMT6: 1028.0</br>GENDER_female: 0.0</br>GENDER_male: 1.0</br>EDUCATION_graduate: 1.0</br>... too many variables"
          ],
          [
           "</br>id: 2470</br>prediction: 0.09</br>PAY_1: 0.40000000000000036</br></br>LIMIT_BAL: 400000</br>AGE: 31.0</br>PAY_2: -2.0</br>PAY_3: -1.0</br>PAY_4: 0.0</br>PAY_5: 0.0</br>PAY_6: 0.0</br>BILL_AMT1: -166.0</br>BILL_AMT2: -490.0</br>BILL_AMT3: 29186.0</br>BILL_AMT4: 30789.0</br>BILL_AMT5: 7879.0</br>BILL_AMT6: 13928.0</br>PAY_AMT1: 1.0</br>PAY_AMT2: 30001.0</br>PAY_AMT3: 2128.0</br>PAY_AMT4: 3009.0</br>PAY_AMT5: 8006.0</br>PAY_AMT6: 1028.0</br>GENDER_female: 0.0</br>GENDER_male: 1.0</br>EDUCATION_graduate: 1.0</br>... too many variables"
          ],
          [
           "</br>id: 2470</br>prediction: 0.09</br>PAY_1: 0.5</br></br>LIMIT_BAL: 400000</br>AGE: 31.0</br>PAY_2: -2.0</br>PAY_3: -1.0</br>PAY_4: 0.0</br>PAY_5: 0.0</br>PAY_6: 0.0</br>BILL_AMT1: -166.0</br>BILL_AMT2: -490.0</br>BILL_AMT3: 29186.0</br>BILL_AMT4: 30789.0</br>BILL_AMT5: 7879.0</br>BILL_AMT6: 13928.0</br>PAY_AMT1: 1.0</br>PAY_AMT2: 30001.0</br>PAY_AMT3: 2128.0</br>PAY_AMT4: 3009.0</br>PAY_AMT5: 8006.0</br>PAY_AMT6: 1028.0</br>GENDER_female: 0.0</br>GENDER_male: 1.0</br>EDUCATION_graduate: 1.0</br>... too many variables"
          ],
          [
           "</br>id: 2470</br>prediction: 0.1</br>PAY_1: 0.6000000000000001</br></br>LIMIT_BAL: 400000</br>AGE: 31.0</br>PAY_2: -2.0</br>PAY_3: -1.0</br>PAY_4: 0.0</br>PAY_5: 0.0</br>PAY_6: 0.0</br>BILL_AMT1: -166.0</br>BILL_AMT2: -490.0</br>BILL_AMT3: 29186.0</br>BILL_AMT4: 30789.0</br>BILL_AMT5: 7879.0</br>BILL_AMT6: 13928.0</br>PAY_AMT1: 1.0</br>PAY_AMT2: 30001.0</br>PAY_AMT3: 2128.0</br>PAY_AMT4: 3009.0</br>PAY_AMT5: 8006.0</br>PAY_AMT6: 1028.0</br>GENDER_female: 0.0</br>GENDER_male: 1.0</br>EDUCATION_graduate: 1.0</br>... too many variables"
          ],
          [
           "</br>id: 2470</br>prediction: 0.1</br>PAY_1: 0.7000000000000002</br></br>LIMIT_BAL: 400000</br>AGE: 31.0</br>PAY_2: -2.0</br>PAY_3: -1.0</br>PAY_4: 0.0</br>PAY_5: 0.0</br>PAY_6: 0.0</br>BILL_AMT1: -166.0</br>BILL_AMT2: -490.0</br>BILL_AMT3: 29186.0</br>BILL_AMT4: 30789.0</br>BILL_AMT5: 7879.0</br>BILL_AMT6: 13928.0</br>PAY_AMT1: 1.0</br>PAY_AMT2: 30001.0</br>PAY_AMT3: 2128.0</br>PAY_AMT4: 3009.0</br>PAY_AMT5: 8006.0</br>PAY_AMT6: 1028.0</br>GENDER_female: 0.0</br>GENDER_male: 1.0</br>EDUCATION_graduate: 1.0</br>... too many variables"
          ],
          [
           "</br>id: 2470</br>prediction: 0.1</br>PAY_1: 0.8000000000000003</br></br>LIMIT_BAL: 400000</br>AGE: 31.0</br>PAY_2: -2.0</br>PAY_3: -1.0</br>PAY_4: 0.0</br>PAY_5: 0.0</br>PAY_6: 0.0</br>BILL_AMT1: -166.0</br>BILL_AMT2: -490.0</br>BILL_AMT3: 29186.0</br>BILL_AMT4: 30789.0</br>BILL_AMT5: 7879.0</br>BILL_AMT6: 13928.0</br>PAY_AMT1: 1.0</br>PAY_AMT2: 30001.0</br>PAY_AMT3: 2128.0</br>PAY_AMT4: 3009.0</br>PAY_AMT5: 8006.0</br>PAY_AMT6: 1028.0</br>GENDER_female: 0.0</br>GENDER_male: 1.0</br>EDUCATION_graduate: 1.0</br>... too many variables"
          ],
          [
           "</br>id: 2470</br>prediction: 0.1</br>PAY_1: 0.9000000000000004</br></br>LIMIT_BAL: 400000</br>AGE: 31.0</br>PAY_2: -2.0</br>PAY_3: -1.0</br>PAY_4: 0.0</br>PAY_5: 0.0</br>PAY_6: 0.0</br>BILL_AMT1: -166.0</br>BILL_AMT2: -490.0</br>BILL_AMT3: 29186.0</br>BILL_AMT4: 30789.0</br>BILL_AMT5: 7879.0</br>BILL_AMT6: 13928.0</br>PAY_AMT1: 1.0</br>PAY_AMT2: 30001.0</br>PAY_AMT3: 2128.0</br>PAY_AMT4: 3009.0</br>PAY_AMT5: 8006.0</br>PAY_AMT6: 1028.0</br>GENDER_female: 0.0</br>GENDER_male: 1.0</br>EDUCATION_graduate: 1.0</br>... too many variables"
          ],
          [
           "</br>id: 2470</br>prediction: 0.1</br>PAY_1: 1.0</br></br>LIMIT_BAL: 400000</br>AGE: 31.0</br>PAY_2: -2.0</br>PAY_3: -1.0</br>PAY_4: 0.0</br>PAY_5: 0.0</br>PAY_6: 0.0</br>BILL_AMT1: -166.0</br>BILL_AMT2: -490.0</br>BILL_AMT3: 29186.0</br>BILL_AMT4: 30789.0</br>BILL_AMT5: 7879.0</br>BILL_AMT6: 13928.0</br>PAY_AMT1: 1.0</br>PAY_AMT2: 30001.0</br>PAY_AMT3: 2128.0</br>PAY_AMT4: 3009.0</br>PAY_AMT5: 8006.0</br>PAY_AMT6: 1028.0</br>GENDER_female: 0.0</br>GENDER_male: 1.0</br>EDUCATION_graduate: 1.0</br>... too many variables"
          ],
          [
           "</br>id: 2470</br>prediction: 0.1</br>PAY_1: 1.1</br></br>LIMIT_BAL: 400000</br>AGE: 31.0</br>PAY_2: -2.0</br>PAY_3: -1.0</br>PAY_4: 0.0</br>PAY_5: 0.0</br>PAY_6: 0.0</br>BILL_AMT1: -166.0</br>BILL_AMT2: -490.0</br>BILL_AMT3: 29186.0</br>BILL_AMT4: 30789.0</br>BILL_AMT5: 7879.0</br>BILL_AMT6: 13928.0</br>PAY_AMT1: 1.0</br>PAY_AMT2: 30001.0</br>PAY_AMT3: 2128.0</br>PAY_AMT4: 3009.0</br>PAY_AMT5: 8006.0</br>PAY_AMT6: 1028.0</br>GENDER_female: 0.0</br>GENDER_male: 1.0</br>EDUCATION_graduate: 1.0</br>... too many variables"
          ],
          [
           "</br>id: 2470</br>prediction: 0.1</br>PAY_1: 1.2000000000000002</br></br>LIMIT_BAL: 400000</br>AGE: 31.0</br>PAY_2: -2.0</br>PAY_3: -1.0</br>PAY_4: 0.0</br>PAY_5: 0.0</br>PAY_6: 0.0</br>BILL_AMT1: -166.0</br>BILL_AMT2: -490.0</br>BILL_AMT3: 29186.0</br>BILL_AMT4: 30789.0</br>BILL_AMT5: 7879.0</br>BILL_AMT6: 13928.0</br>PAY_AMT1: 1.0</br>PAY_AMT2: 30001.0</br>PAY_AMT3: 2128.0</br>PAY_AMT4: 3009.0</br>PAY_AMT5: 8006.0</br>PAY_AMT6: 1028.0</br>GENDER_female: 0.0</br>GENDER_male: 1.0</br>EDUCATION_graduate: 1.0</br>... too many variables"
          ],
          [
           "</br>id: 2470</br>prediction: 0.1</br>PAY_1: 1.3000000000000003</br></br>LIMIT_BAL: 400000</br>AGE: 31.0</br>PAY_2: -2.0</br>PAY_3: -1.0</br>PAY_4: 0.0</br>PAY_5: 0.0</br>PAY_6: 0.0</br>BILL_AMT1: -166.0</br>BILL_AMT2: -490.0</br>BILL_AMT3: 29186.0</br>BILL_AMT4: 30789.0</br>BILL_AMT5: 7879.0</br>BILL_AMT6: 13928.0</br>PAY_AMT1: 1.0</br>PAY_AMT2: 30001.0</br>PAY_AMT3: 2128.0</br>PAY_AMT4: 3009.0</br>PAY_AMT5: 8006.0</br>PAY_AMT6: 1028.0</br>GENDER_female: 0.0</br>GENDER_male: 1.0</br>EDUCATION_graduate: 1.0</br>... too many variables"
          ],
          [
           "</br>id: 2470</br>prediction: 0.1</br>PAY_1: 1.4000000000000004</br></br>LIMIT_BAL: 400000</br>AGE: 31.0</br>PAY_2: -2.0</br>PAY_3: -1.0</br>PAY_4: 0.0</br>PAY_5: 0.0</br>PAY_6: 0.0</br>BILL_AMT1: -166.0</br>BILL_AMT2: -490.0</br>BILL_AMT3: 29186.0</br>BILL_AMT4: 30789.0</br>BILL_AMT5: 7879.0</br>BILL_AMT6: 13928.0</br>PAY_AMT1: 1.0</br>PAY_AMT2: 30001.0</br>PAY_AMT3: 2128.0</br>PAY_AMT4: 3009.0</br>PAY_AMT5: 8006.0</br>PAY_AMT6: 1028.0</br>GENDER_female: 0.0</br>GENDER_male: 1.0</br>EDUCATION_graduate: 1.0</br>... too many variables"
          ],
          [
           "</br>id: 2470</br>prediction: 0.1</br>PAY_1: 1.5</br></br>LIMIT_BAL: 400000</br>AGE: 31.0</br>PAY_2: -2.0</br>PAY_3: -1.0</br>PAY_4: 0.0</br>PAY_5: 0.0</br>PAY_6: 0.0</br>BILL_AMT1: -166.0</br>BILL_AMT2: -490.0</br>BILL_AMT3: 29186.0</br>BILL_AMT4: 30789.0</br>BILL_AMT5: 7879.0</br>BILL_AMT6: 13928.0</br>PAY_AMT1: 1.0</br>PAY_AMT2: 30001.0</br>PAY_AMT3: 2128.0</br>PAY_AMT4: 3009.0</br>PAY_AMT5: 8006.0</br>PAY_AMT6: 1028.0</br>GENDER_female: 0.0</br>GENDER_male: 1.0</br>EDUCATION_graduate: 1.0</br>... too many variables"
          ],
          [
           "</br>id: 2470</br>prediction: 0.36</br>PAY_1: 1.6</br></br>LIMIT_BAL: 400000</br>AGE: 31.0</br>PAY_2: -2.0</br>PAY_3: -1.0</br>PAY_4: 0.0</br>PAY_5: 0.0</br>PAY_6: 0.0</br>BILL_AMT1: -166.0</br>BILL_AMT2: -490.0</br>BILL_AMT3: 29186.0</br>BILL_AMT4: 30789.0</br>BILL_AMT5: 7879.0</br>BILL_AMT6: 13928.0</br>PAY_AMT1: 1.0</br>PAY_AMT2: 30001.0</br>PAY_AMT3: 2128.0</br>PAY_AMT4: 3009.0</br>PAY_AMT5: 8006.0</br>PAY_AMT6: 1028.0</br>GENDER_female: 0.0</br>GENDER_male: 1.0</br>EDUCATION_graduate: 1.0</br>... too many variables"
          ],
          [
           "</br>id: 2470</br>prediction: 0.36</br>PAY_1: 1.7000000000000002</br></br>LIMIT_BAL: 400000</br>AGE: 31.0</br>PAY_2: -2.0</br>PAY_3: -1.0</br>PAY_4: 0.0</br>PAY_5: 0.0</br>PAY_6: 0.0</br>BILL_AMT1: -166.0</br>BILL_AMT2: -490.0</br>BILL_AMT3: 29186.0</br>BILL_AMT4: 30789.0</br>BILL_AMT5: 7879.0</br>BILL_AMT6: 13928.0</br>PAY_AMT1: 1.0</br>PAY_AMT2: 30001.0</br>PAY_AMT3: 2128.0</br>PAY_AMT4: 3009.0</br>PAY_AMT5: 8006.0</br>PAY_AMT6: 1028.0</br>GENDER_female: 0.0</br>GENDER_male: 1.0</br>EDUCATION_graduate: 1.0</br>... too many variables"
          ],
          [
           "</br>id: 2470</br>prediction: 0.36</br>PAY_1: 1.8000000000000003</br></br>LIMIT_BAL: 400000</br>AGE: 31.0</br>PAY_2: -2.0</br>PAY_3: -1.0</br>PAY_4: 0.0</br>PAY_5: 0.0</br>PAY_6: 0.0</br>BILL_AMT1: -166.0</br>BILL_AMT2: -490.0</br>BILL_AMT3: 29186.0</br>BILL_AMT4: 30789.0</br>BILL_AMT5: 7879.0</br>BILL_AMT6: 13928.0</br>PAY_AMT1: 1.0</br>PAY_AMT2: 30001.0</br>PAY_AMT3: 2128.0</br>PAY_AMT4: 3009.0</br>PAY_AMT5: 8006.0</br>PAY_AMT6: 1028.0</br>GENDER_female: 0.0</br>GENDER_male: 1.0</br>EDUCATION_graduate: 1.0</br>... too many variables"
          ],
          [
           "</br>id: 2470</br>prediction: 0.36</br>PAY_1: 1.9000000000000004</br></br>LIMIT_BAL: 400000</br>AGE: 31.0</br>PAY_2: -2.0</br>PAY_3: -1.0</br>PAY_4: 0.0</br>PAY_5: 0.0</br>PAY_6: 0.0</br>BILL_AMT1: -166.0</br>BILL_AMT2: -490.0</br>BILL_AMT3: 29186.0</br>BILL_AMT4: 30789.0</br>BILL_AMT5: 7879.0</br>BILL_AMT6: 13928.0</br>PAY_AMT1: 1.0</br>PAY_AMT2: 30001.0</br>PAY_AMT3: 2128.0</br>PAY_AMT4: 3009.0</br>PAY_AMT5: 8006.0</br>PAY_AMT6: 1028.0</br>GENDER_female: 0.0</br>GENDER_male: 1.0</br>EDUCATION_graduate: 1.0</br>... too many variables"
          ],
          [
           "</br>id: 2470</br>prediction: 0.36</br>PAY_1: 2.0</br></br>LIMIT_BAL: 400000</br>AGE: 31.0</br>PAY_2: -2.0</br>PAY_3: -1.0</br>PAY_4: 0.0</br>PAY_5: 0.0</br>PAY_6: 0.0</br>BILL_AMT1: -166.0</br>BILL_AMT2: -490.0</br>BILL_AMT3: 29186.0</br>BILL_AMT4: 30789.0</br>BILL_AMT5: 7879.0</br>BILL_AMT6: 13928.0</br>PAY_AMT1: 1.0</br>PAY_AMT2: 30001.0</br>PAY_AMT3: 2128.0</br>PAY_AMT4: 3009.0</br>PAY_AMT5: 8006.0</br>PAY_AMT6: 1028.0</br>GENDER_female: 0.0</br>GENDER_male: 1.0</br>EDUCATION_graduate: 1.0</br>... too many variables"
          ],
          [
           "</br>id: 2470</br>prediction: 0.36</br>PAY_1: 2.1000000000000005</br></br>LIMIT_BAL: 400000</br>AGE: 31.0</br>PAY_2: -2.0</br>PAY_3: -1.0</br>PAY_4: 0.0</br>PAY_5: 0.0</br>PAY_6: 0.0</br>BILL_AMT1: -166.0</br>BILL_AMT2: -490.0</br>BILL_AMT3: 29186.0</br>BILL_AMT4: 30789.0</br>BILL_AMT5: 7879.0</br>BILL_AMT6: 13928.0</br>PAY_AMT1: 1.0</br>PAY_AMT2: 30001.0</br>PAY_AMT3: 2128.0</br>PAY_AMT4: 3009.0</br>PAY_AMT5: 8006.0</br>PAY_AMT6: 1028.0</br>GENDER_female: 0.0</br>GENDER_male: 1.0</br>EDUCATION_graduate: 1.0</br>... too many variables"
          ],
          [
           "</br>id: 2470</br>prediction: 0.36</br>PAY_1: 2.2</br></br>LIMIT_BAL: 400000</br>AGE: 31.0</br>PAY_2: -2.0</br>PAY_3: -1.0</br>PAY_4: 0.0</br>PAY_5: 0.0</br>PAY_6: 0.0</br>BILL_AMT1: -166.0</br>BILL_AMT2: -490.0</br>BILL_AMT3: 29186.0</br>BILL_AMT4: 30789.0</br>BILL_AMT5: 7879.0</br>BILL_AMT6: 13928.0</br>PAY_AMT1: 1.0</br>PAY_AMT2: 30001.0</br>PAY_AMT3: 2128.0</br>PAY_AMT4: 3009.0</br>PAY_AMT5: 8006.0</br>PAY_AMT6: 1028.0</br>GENDER_female: 0.0</br>GENDER_male: 1.0</br>EDUCATION_graduate: 1.0</br>... too many variables"
          ],
          [
           "</br>id: 2470</br>prediction: 0.36</br>PAY_1: 2.3</br></br>LIMIT_BAL: 400000</br>AGE: 31.0</br>PAY_2: -2.0</br>PAY_3: -1.0</br>PAY_4: 0.0</br>PAY_5: 0.0</br>PAY_6: 0.0</br>BILL_AMT1: -166.0</br>BILL_AMT2: -490.0</br>BILL_AMT3: 29186.0</br>BILL_AMT4: 30789.0</br>BILL_AMT5: 7879.0</br>BILL_AMT6: 13928.0</br>PAY_AMT1: 1.0</br>PAY_AMT2: 30001.0</br>PAY_AMT3: 2128.0</br>PAY_AMT4: 3009.0</br>PAY_AMT5: 8006.0</br>PAY_AMT6: 1028.0</br>GENDER_female: 0.0</br>GENDER_male: 1.0</br>EDUCATION_graduate: 1.0</br>... too many variables"
          ],
          [
           "</br>id: 2470</br>prediction: 0.36</br>PAY_1: 2.4000000000000004</br></br>LIMIT_BAL: 400000</br>AGE: 31.0</br>PAY_2: -2.0</br>PAY_3: -1.0</br>PAY_4: 0.0</br>PAY_5: 0.0</br>PAY_6: 0.0</br>BILL_AMT1: -166.0</br>BILL_AMT2: -490.0</br>BILL_AMT3: 29186.0</br>BILL_AMT4: 30789.0</br>BILL_AMT5: 7879.0</br>BILL_AMT6: 13928.0</br>PAY_AMT1: 1.0</br>PAY_AMT2: 30001.0</br>PAY_AMT3: 2128.0</br>PAY_AMT4: 3009.0</br>PAY_AMT5: 8006.0</br>PAY_AMT6: 1028.0</br>GENDER_female: 0.0</br>GENDER_male: 1.0</br>EDUCATION_graduate: 1.0</br>... too many variables"
          ],
          [
           "</br>id: 2470</br>prediction: 0.36</br>PAY_1: 2.5</br></br>LIMIT_BAL: 400000</br>AGE: 31.0</br>PAY_2: -2.0</br>PAY_3: -1.0</br>PAY_4: 0.0</br>PAY_5: 0.0</br>PAY_6: 0.0</br>BILL_AMT1: -166.0</br>BILL_AMT2: -490.0</br>BILL_AMT3: 29186.0</br>BILL_AMT4: 30789.0</br>BILL_AMT5: 7879.0</br>BILL_AMT6: 13928.0</br>PAY_AMT1: 1.0</br>PAY_AMT2: 30001.0</br>PAY_AMT3: 2128.0</br>PAY_AMT4: 3009.0</br>PAY_AMT5: 8006.0</br>PAY_AMT6: 1028.0</br>GENDER_female: 0.0</br>GENDER_male: 1.0</br>EDUCATION_graduate: 1.0</br>... too many variables"
          ],
          [
           "</br>id: 2470</br>prediction: 0.36</br>PAY_1: 2.6000000000000005</br></br>LIMIT_BAL: 400000</br>AGE: 31.0</br>PAY_2: -2.0</br>PAY_3: -1.0</br>PAY_4: 0.0</br>PAY_5: 0.0</br>PAY_6: 0.0</br>BILL_AMT1: -166.0</br>BILL_AMT2: -490.0</br>BILL_AMT3: 29186.0</br>BILL_AMT4: 30789.0</br>BILL_AMT5: 7879.0</br>BILL_AMT6: 13928.0</br>PAY_AMT1: 1.0</br>PAY_AMT2: 30001.0</br>PAY_AMT3: 2128.0</br>PAY_AMT4: 3009.0</br>PAY_AMT5: 8006.0</br>PAY_AMT6: 1028.0</br>GENDER_female: 0.0</br>GENDER_male: 1.0</br>EDUCATION_graduate: 1.0</br>... too many variables"
          ],
          [
           "</br>id: 2470</br>prediction: 0.36</br>PAY_1: 2.7</br></br>LIMIT_BAL: 400000</br>AGE: 31.0</br>PAY_2: -2.0</br>PAY_3: -1.0</br>PAY_4: 0.0</br>PAY_5: 0.0</br>PAY_6: 0.0</br>BILL_AMT1: -166.0</br>BILL_AMT2: -490.0</br>BILL_AMT3: 29186.0</br>BILL_AMT4: 30789.0</br>BILL_AMT5: 7879.0</br>BILL_AMT6: 13928.0</br>PAY_AMT1: 1.0</br>PAY_AMT2: 30001.0</br>PAY_AMT3: 2128.0</br>PAY_AMT4: 3009.0</br>PAY_AMT5: 8006.0</br>PAY_AMT6: 1028.0</br>GENDER_female: 0.0</br>GENDER_male: 1.0</br>EDUCATION_graduate: 1.0</br>... too many variables"
          ],
          [
           "</br>id: 2470</br>prediction: 0.36</br>PAY_1: 2.8000000000000007</br></br>LIMIT_BAL: 400000</br>AGE: 31.0</br>PAY_2: -2.0</br>PAY_3: -1.0</br>PAY_4: 0.0</br>PAY_5: 0.0</br>PAY_6: 0.0</br>BILL_AMT1: -166.0</br>BILL_AMT2: -490.0</br>BILL_AMT3: 29186.0</br>BILL_AMT4: 30789.0</br>BILL_AMT5: 7879.0</br>BILL_AMT6: 13928.0</br>PAY_AMT1: 1.0</br>PAY_AMT2: 30001.0</br>PAY_AMT3: 2128.0</br>PAY_AMT4: 3009.0</br>PAY_AMT5: 8006.0</br>PAY_AMT6: 1028.0</br>GENDER_female: 0.0</br>GENDER_male: 1.0</br>EDUCATION_graduate: 1.0</br>... too many variables"
          ],
          [
           "</br>id: 2470</br>prediction: 0.36</br>PAY_1: 2.9000000000000004</br></br>LIMIT_BAL: 400000</br>AGE: 31.0</br>PAY_2: -2.0</br>PAY_3: -1.0</br>PAY_4: 0.0</br>PAY_5: 0.0</br>PAY_6: 0.0</br>BILL_AMT1: -166.0</br>BILL_AMT2: -490.0</br>BILL_AMT3: 29186.0</br>BILL_AMT4: 30789.0</br>BILL_AMT5: 7879.0</br>BILL_AMT6: 13928.0</br>PAY_AMT1: 1.0</br>PAY_AMT2: 30001.0</br>PAY_AMT3: 2128.0</br>PAY_AMT4: 3009.0</br>PAY_AMT5: 8006.0</br>PAY_AMT6: 1028.0</br>GENDER_female: 0.0</br>GENDER_male: 1.0</br>EDUCATION_graduate: 1.0</br>... too many variables"
          ],
          [
           "</br>id: 2470</br>prediction: 0.36</br>PAY_1: 3.0</br></br>LIMIT_BAL: 400000</br>AGE: 31.0</br>PAY_2: -2.0</br>PAY_3: -1.0</br>PAY_4: 0.0</br>PAY_5: 0.0</br>PAY_6: 0.0</br>BILL_AMT1: -166.0</br>BILL_AMT2: -490.0</br>BILL_AMT3: 29186.0</br>BILL_AMT4: 30789.0</br>BILL_AMT5: 7879.0</br>BILL_AMT6: 13928.0</br>PAY_AMT1: 1.0</br>PAY_AMT2: 30001.0</br>PAY_AMT3: 2128.0</br>PAY_AMT4: 3009.0</br>PAY_AMT5: 8006.0</br>PAY_AMT6: 1028.0</br>GENDER_female: 0.0</br>GENDER_male: 1.0</br>EDUCATION_graduate: 1.0</br>... too many variables"
          ],
          [
           "</br>id: 2470</br>prediction: 0.36</br>PAY_1: 3.1000000000000005</br></br>LIMIT_BAL: 400000</br>AGE: 31.0</br>PAY_2: -2.0</br>PAY_3: -1.0</br>PAY_4: 0.0</br>PAY_5: 0.0</br>PAY_6: 0.0</br>BILL_AMT1: -166.0</br>BILL_AMT2: -490.0</br>BILL_AMT3: 29186.0</br>BILL_AMT4: 30789.0</br>BILL_AMT5: 7879.0</br>BILL_AMT6: 13928.0</br>PAY_AMT1: 1.0</br>PAY_AMT2: 30001.0</br>PAY_AMT3: 2128.0</br>PAY_AMT4: 3009.0</br>PAY_AMT5: 8006.0</br>PAY_AMT6: 1028.0</br>GENDER_female: 0.0</br>GENDER_male: 1.0</br>EDUCATION_graduate: 1.0</br>... too many variables"
          ],
          [
           "</br>id: 2470</br>prediction: 0.36</br>PAY_1: 3.2</br></br>LIMIT_BAL: 400000</br>AGE: 31.0</br>PAY_2: -2.0</br>PAY_3: -1.0</br>PAY_4: 0.0</br>PAY_5: 0.0</br>PAY_6: 0.0</br>BILL_AMT1: -166.0</br>BILL_AMT2: -490.0</br>BILL_AMT3: 29186.0</br>BILL_AMT4: 30789.0</br>BILL_AMT5: 7879.0</br>BILL_AMT6: 13928.0</br>PAY_AMT1: 1.0</br>PAY_AMT2: 30001.0</br>PAY_AMT3: 2128.0</br>PAY_AMT4: 3009.0</br>PAY_AMT5: 8006.0</br>PAY_AMT6: 1028.0</br>GENDER_female: 0.0</br>GENDER_male: 1.0</br>EDUCATION_graduate: 1.0</br>... too many variables"
          ],
          [
           "</br>id: 2470</br>prediction: 0.36</br>PAY_1: 3.3000000000000007</br></br>LIMIT_BAL: 400000</br>AGE: 31.0</br>PAY_2: -2.0</br>PAY_3: -1.0</br>PAY_4: 0.0</br>PAY_5: 0.0</br>PAY_6: 0.0</br>BILL_AMT1: -166.0</br>BILL_AMT2: -490.0</br>BILL_AMT3: 29186.0</br>BILL_AMT4: 30789.0</br>BILL_AMT5: 7879.0</br>BILL_AMT6: 13928.0</br>PAY_AMT1: 1.0</br>PAY_AMT2: 30001.0</br>PAY_AMT3: 2128.0</br>PAY_AMT4: 3009.0</br>PAY_AMT5: 8006.0</br>PAY_AMT6: 1028.0</br>GENDER_female: 0.0</br>GENDER_male: 1.0</br>EDUCATION_graduate: 1.0</br>... too many variables"
          ],
          [
           "</br>id: 2470</br>prediction: 0.36</br>PAY_1: 3.4000000000000004</br></br>LIMIT_BAL: 400000</br>AGE: 31.0</br>PAY_2: -2.0</br>PAY_3: -1.0</br>PAY_4: 0.0</br>PAY_5: 0.0</br>PAY_6: 0.0</br>BILL_AMT1: -166.0</br>BILL_AMT2: -490.0</br>BILL_AMT3: 29186.0</br>BILL_AMT4: 30789.0</br>BILL_AMT5: 7879.0</br>BILL_AMT6: 13928.0</br>PAY_AMT1: 1.0</br>PAY_AMT2: 30001.0</br>PAY_AMT3: 2128.0</br>PAY_AMT4: 3009.0</br>PAY_AMT5: 8006.0</br>PAY_AMT6: 1028.0</br>GENDER_female: 0.0</br>GENDER_male: 1.0</br>EDUCATION_graduate: 1.0</br>... too many variables"
          ],
          [
           "</br>id: 2470</br>prediction: 0.36</br>PAY_1: 3.5</br></br>LIMIT_BAL: 400000</br>AGE: 31.0</br>PAY_2: -2.0</br>PAY_3: -1.0</br>PAY_4: 0.0</br>PAY_5: 0.0</br>PAY_6: 0.0</br>BILL_AMT1: -166.0</br>BILL_AMT2: -490.0</br>BILL_AMT3: 29186.0</br>BILL_AMT4: 30789.0</br>BILL_AMT5: 7879.0</br>BILL_AMT6: 13928.0</br>PAY_AMT1: 1.0</br>PAY_AMT2: 30001.0</br>PAY_AMT3: 2128.0</br>PAY_AMT4: 3009.0</br>PAY_AMT5: 8006.0</br>PAY_AMT6: 1028.0</br>GENDER_female: 0.0</br>GENDER_male: 1.0</br>EDUCATION_graduate: 1.0</br>... too many variables"
          ],
          [
           "</br>id: 2470</br>prediction: 0.36</br>PAY_1: 3.6000000000000005</br></br>LIMIT_BAL: 400000</br>AGE: 31.0</br>PAY_2: -2.0</br>PAY_3: -1.0</br>PAY_4: 0.0</br>PAY_5: 0.0</br>PAY_6: 0.0</br>BILL_AMT1: -166.0</br>BILL_AMT2: -490.0</br>BILL_AMT3: 29186.0</br>BILL_AMT4: 30789.0</br>BILL_AMT5: 7879.0</br>BILL_AMT6: 13928.0</br>PAY_AMT1: 1.0</br>PAY_AMT2: 30001.0</br>PAY_AMT3: 2128.0</br>PAY_AMT4: 3009.0</br>PAY_AMT5: 8006.0</br>PAY_AMT6: 1028.0</br>GENDER_female: 0.0</br>GENDER_male: 1.0</br>EDUCATION_graduate: 1.0</br>... too many variables"
          ],
          [
           "</br>id: 2470</br>prediction: 0.36</br>PAY_1: 3.7</br></br>LIMIT_BAL: 400000</br>AGE: 31.0</br>PAY_2: -2.0</br>PAY_3: -1.0</br>PAY_4: 0.0</br>PAY_5: 0.0</br>PAY_6: 0.0</br>BILL_AMT1: -166.0</br>BILL_AMT2: -490.0</br>BILL_AMT3: 29186.0</br>BILL_AMT4: 30789.0</br>BILL_AMT5: 7879.0</br>BILL_AMT6: 13928.0</br>PAY_AMT1: 1.0</br>PAY_AMT2: 30001.0</br>PAY_AMT3: 2128.0</br>PAY_AMT4: 3009.0</br>PAY_AMT5: 8006.0</br>PAY_AMT6: 1028.0</br>GENDER_female: 0.0</br>GENDER_male: 1.0</br>EDUCATION_graduate: 1.0</br>... too many variables"
          ],
          [
           "</br>id: 2470</br>prediction: 0.36</br>PAY_1: 3.8000000000000007</br></br>LIMIT_BAL: 400000</br>AGE: 31.0</br>PAY_2: -2.0</br>PAY_3: -1.0</br>PAY_4: 0.0</br>PAY_5: 0.0</br>PAY_6: 0.0</br>BILL_AMT1: -166.0</br>BILL_AMT2: -490.0</br>BILL_AMT3: 29186.0</br>BILL_AMT4: 30789.0</br>BILL_AMT5: 7879.0</br>BILL_AMT6: 13928.0</br>PAY_AMT1: 1.0</br>PAY_AMT2: 30001.0</br>PAY_AMT3: 2128.0</br>PAY_AMT4: 3009.0</br>PAY_AMT5: 8006.0</br>PAY_AMT6: 1028.0</br>GENDER_female: 0.0</br>GENDER_male: 1.0</br>EDUCATION_graduate: 1.0</br>... too many variables"
          ],
          [
           "</br>id: 2470</br>prediction: 0.36</br>PAY_1: 3.9000000000000004</br></br>LIMIT_BAL: 400000</br>AGE: 31.0</br>PAY_2: -2.0</br>PAY_3: -1.0</br>PAY_4: 0.0</br>PAY_5: 0.0</br>PAY_6: 0.0</br>BILL_AMT1: -166.0</br>BILL_AMT2: -490.0</br>BILL_AMT3: 29186.0</br>BILL_AMT4: 30789.0</br>BILL_AMT5: 7879.0</br>BILL_AMT6: 13928.0</br>PAY_AMT1: 1.0</br>PAY_AMT2: 30001.0</br>PAY_AMT3: 2128.0</br>PAY_AMT4: 3009.0</br>PAY_AMT5: 8006.0</br>PAY_AMT6: 1028.0</br>GENDER_female: 0.0</br>GENDER_male: 1.0</br>EDUCATION_graduate: 1.0</br>... too many variables"
          ],
          [
           "</br>id: 2470</br>prediction: 0.36</br>PAY_1: 4.0</br></br>LIMIT_BAL: 400000</br>AGE: 31.0</br>PAY_2: -2.0</br>PAY_3: -1.0</br>PAY_4: 0.0</br>PAY_5: 0.0</br>PAY_6: 0.0</br>BILL_AMT1: -166.0</br>BILL_AMT2: -490.0</br>BILL_AMT3: 29186.0</br>BILL_AMT4: 30789.0</br>BILL_AMT5: 7879.0</br>BILL_AMT6: 13928.0</br>PAY_AMT1: 1.0</br>PAY_AMT2: 30001.0</br>PAY_AMT3: 2128.0</br>PAY_AMT4: 3009.0</br>PAY_AMT5: 8006.0</br>PAY_AMT6: 1028.0</br>GENDER_female: 0.0</br>GENDER_male: 1.0</br>EDUCATION_graduate: 1.0</br>... too many variables"
          ],
          [
           "</br>id: 2470</br>prediction: 0.36</br>PAY_1: 4.1000000000000005</br></br>LIMIT_BAL: 400000</br>AGE: 31.0</br>PAY_2: -2.0</br>PAY_3: -1.0</br>PAY_4: 0.0</br>PAY_5: 0.0</br>PAY_6: 0.0</br>BILL_AMT1: -166.0</br>BILL_AMT2: -490.0</br>BILL_AMT3: 29186.0</br>BILL_AMT4: 30789.0</br>BILL_AMT5: 7879.0</br>BILL_AMT6: 13928.0</br>PAY_AMT1: 1.0</br>PAY_AMT2: 30001.0</br>PAY_AMT3: 2128.0</br>PAY_AMT4: 3009.0</br>PAY_AMT5: 8006.0</br>PAY_AMT6: 1028.0</br>GENDER_female: 0.0</br>GENDER_male: 1.0</br>EDUCATION_graduate: 1.0</br>... too many variables"
          ],
          [
           "</br>id: 2470</br>prediction: 0.36</br>PAY_1: 4.2</br></br>LIMIT_BAL: 400000</br>AGE: 31.0</br>PAY_2: -2.0</br>PAY_3: -1.0</br>PAY_4: 0.0</br>PAY_5: 0.0</br>PAY_6: 0.0</br>BILL_AMT1: -166.0</br>BILL_AMT2: -490.0</br>BILL_AMT3: 29186.0</br>BILL_AMT4: 30789.0</br>BILL_AMT5: 7879.0</br>BILL_AMT6: 13928.0</br>PAY_AMT1: 1.0</br>PAY_AMT2: 30001.0</br>PAY_AMT3: 2128.0</br>PAY_AMT4: 3009.0</br>PAY_AMT5: 8006.0</br>PAY_AMT6: 1028.0</br>GENDER_female: 0.0</br>GENDER_male: 1.0</br>EDUCATION_graduate: 1.0</br>... too many variables"
          ],
          [
           "</br>id: 2470</br>prediction: 0.36</br>PAY_1: 4.300000000000001</br></br>LIMIT_BAL: 400000</br>AGE: 31.0</br>PAY_2: -2.0</br>PAY_3: -1.0</br>PAY_4: 0.0</br>PAY_5: 0.0</br>PAY_6: 0.0</br>BILL_AMT1: -166.0</br>BILL_AMT2: -490.0</br>BILL_AMT3: 29186.0</br>BILL_AMT4: 30789.0</br>BILL_AMT5: 7879.0</br>BILL_AMT6: 13928.0</br>PAY_AMT1: 1.0</br>PAY_AMT2: 30001.0</br>PAY_AMT3: 2128.0</br>PAY_AMT4: 3009.0</br>PAY_AMT5: 8006.0</br>PAY_AMT6: 1028.0</br>GENDER_female: 0.0</br>GENDER_male: 1.0</br>EDUCATION_graduate: 1.0</br>... too many variables"
          ],
          [
           "</br>id: 2470</br>prediction: 0.36</br>PAY_1: 4.4</br></br>LIMIT_BAL: 400000</br>AGE: 31.0</br>PAY_2: -2.0</br>PAY_3: -1.0</br>PAY_4: 0.0</br>PAY_5: 0.0</br>PAY_6: 0.0</br>BILL_AMT1: -166.0</br>BILL_AMT2: -490.0</br>BILL_AMT3: 29186.0</br>BILL_AMT4: 30789.0</br>BILL_AMT5: 7879.0</br>BILL_AMT6: 13928.0</br>PAY_AMT1: 1.0</br>PAY_AMT2: 30001.0</br>PAY_AMT3: 2128.0</br>PAY_AMT4: 3009.0</br>PAY_AMT5: 8006.0</br>PAY_AMT6: 1028.0</br>GENDER_female: 0.0</br>GENDER_male: 1.0</br>EDUCATION_graduate: 1.0</br>... too many variables"
          ],
          [
           "</br>id: 2470</br>prediction: 0.36</br>PAY_1: 4.5</br></br>LIMIT_BAL: 400000</br>AGE: 31.0</br>PAY_2: -2.0</br>PAY_3: -1.0</br>PAY_4: 0.0</br>PAY_5: 0.0</br>PAY_6: 0.0</br>BILL_AMT1: -166.0</br>BILL_AMT2: -490.0</br>BILL_AMT3: 29186.0</br>BILL_AMT4: 30789.0</br>BILL_AMT5: 7879.0</br>BILL_AMT6: 13928.0</br>PAY_AMT1: 1.0</br>PAY_AMT2: 30001.0</br>PAY_AMT3: 2128.0</br>PAY_AMT4: 3009.0</br>PAY_AMT5: 8006.0</br>PAY_AMT6: 1028.0</br>GENDER_female: 0.0</br>GENDER_male: 1.0</br>EDUCATION_graduate: 1.0</br>... too many variables"
          ],
          [
           "</br>id: 2470</br>prediction: 0.36</br>PAY_1: 4.6000000000000005</br></br>LIMIT_BAL: 400000</br>AGE: 31.0</br>PAY_2: -2.0</br>PAY_3: -1.0</br>PAY_4: 0.0</br>PAY_5: 0.0</br>PAY_6: 0.0</br>BILL_AMT1: -166.0</br>BILL_AMT2: -490.0</br>BILL_AMT3: 29186.0</br>BILL_AMT4: 30789.0</br>BILL_AMT5: 7879.0</br>BILL_AMT6: 13928.0</br>PAY_AMT1: 1.0</br>PAY_AMT2: 30001.0</br>PAY_AMT3: 2128.0</br>PAY_AMT4: 3009.0</br>PAY_AMT5: 8006.0</br>PAY_AMT6: 1028.0</br>GENDER_female: 0.0</br>GENDER_male: 1.0</br>EDUCATION_graduate: 1.0</br>... too many variables"
          ],
          [
           "</br>id: 2470</br>prediction: 0.36</br>PAY_1: 4.7</br></br>LIMIT_BAL: 400000</br>AGE: 31.0</br>PAY_2: -2.0</br>PAY_3: -1.0</br>PAY_4: 0.0</br>PAY_5: 0.0</br>PAY_6: 0.0</br>BILL_AMT1: -166.0</br>BILL_AMT2: -490.0</br>BILL_AMT3: 29186.0</br>BILL_AMT4: 30789.0</br>BILL_AMT5: 7879.0</br>BILL_AMT6: 13928.0</br>PAY_AMT1: 1.0</br>PAY_AMT2: 30001.0</br>PAY_AMT3: 2128.0</br>PAY_AMT4: 3009.0</br>PAY_AMT5: 8006.0</br>PAY_AMT6: 1028.0</br>GENDER_female: 0.0</br>GENDER_male: 1.0</br>EDUCATION_graduate: 1.0</br>... too many variables"
          ],
          [
           "</br>id: 2470</br>prediction: 0.36</br>PAY_1: 4.800000000000001</br></br>LIMIT_BAL: 400000</br>AGE: 31.0</br>PAY_2: -2.0</br>PAY_3: -1.0</br>PAY_4: 0.0</br>PAY_5: 0.0</br>PAY_6: 0.0</br>BILL_AMT1: -166.0</br>BILL_AMT2: -490.0</br>BILL_AMT3: 29186.0</br>BILL_AMT4: 30789.0</br>BILL_AMT5: 7879.0</br>BILL_AMT6: 13928.0</br>PAY_AMT1: 1.0</br>PAY_AMT2: 30001.0</br>PAY_AMT3: 2128.0</br>PAY_AMT4: 3009.0</br>PAY_AMT5: 8006.0</br>PAY_AMT6: 1028.0</br>GENDER_female: 0.0</br>GENDER_male: 1.0</br>EDUCATION_graduate: 1.0</br>... too many variables"
          ],
          [
           "</br>id: 2470</br>prediction: 0.36</br>PAY_1: 4.9</br></br>LIMIT_BAL: 400000</br>AGE: 31.0</br>PAY_2: -2.0</br>PAY_3: -1.0</br>PAY_4: 0.0</br>PAY_5: 0.0</br>PAY_6: 0.0</br>BILL_AMT1: -166.0</br>BILL_AMT2: -490.0</br>BILL_AMT3: 29186.0</br>BILL_AMT4: 30789.0</br>BILL_AMT5: 7879.0</br>BILL_AMT6: 13928.0</br>PAY_AMT1: 1.0</br>PAY_AMT2: 30001.0</br>PAY_AMT3: 2128.0</br>PAY_AMT4: 3009.0</br>PAY_AMT5: 8006.0</br>PAY_AMT6: 1028.0</br>GENDER_female: 0.0</br>GENDER_male: 1.0</br>EDUCATION_graduate: 1.0</br>... too many variables"
          ],
          [
           "</br>id: 2470</br>prediction: 0.36</br>PAY_1: 5.0</br></br>LIMIT_BAL: 400000</br>AGE: 31.0</br>PAY_2: -2.0</br>PAY_3: -1.0</br>PAY_4: 0.0</br>PAY_5: 0.0</br>PAY_6: 0.0</br>BILL_AMT1: -166.0</br>BILL_AMT2: -490.0</br>BILL_AMT3: 29186.0</br>BILL_AMT4: 30789.0</br>BILL_AMT5: 7879.0</br>BILL_AMT6: 13928.0</br>PAY_AMT1: 1.0</br>PAY_AMT2: 30001.0</br>PAY_AMT3: 2128.0</br>PAY_AMT4: 3009.0</br>PAY_AMT5: 8006.0</br>PAY_AMT6: 1028.0</br>GENDER_female: 0.0</br>GENDER_male: 1.0</br>EDUCATION_graduate: 1.0</br>... too many variables"
          ],
          [
           "</br>id: 2470</br>prediction: 0.36</br>PAY_1: 5.1000000000000005</br></br>LIMIT_BAL: 400000</br>AGE: 31.0</br>PAY_2: -2.0</br>PAY_3: -1.0</br>PAY_4: 0.0</br>PAY_5: 0.0</br>PAY_6: 0.0</br>BILL_AMT1: -166.0</br>BILL_AMT2: -490.0</br>BILL_AMT3: 29186.0</br>BILL_AMT4: 30789.0</br>BILL_AMT5: 7879.0</br>BILL_AMT6: 13928.0</br>PAY_AMT1: 1.0</br>PAY_AMT2: 30001.0</br>PAY_AMT3: 2128.0</br>PAY_AMT4: 3009.0</br>PAY_AMT5: 8006.0</br>PAY_AMT6: 1028.0</br>GENDER_female: 0.0</br>GENDER_male: 1.0</br>EDUCATION_graduate: 1.0</br>... too many variables"
          ],
          [
           "</br>id: 2470</br>prediction: 0.36</br>PAY_1: 5.2</br></br>LIMIT_BAL: 400000</br>AGE: 31.0</br>PAY_2: -2.0</br>PAY_3: -1.0</br>PAY_4: 0.0</br>PAY_5: 0.0</br>PAY_6: 0.0</br>BILL_AMT1: -166.0</br>BILL_AMT2: -490.0</br>BILL_AMT3: 29186.0</br>BILL_AMT4: 30789.0</br>BILL_AMT5: 7879.0</br>BILL_AMT6: 13928.0</br>PAY_AMT1: 1.0</br>PAY_AMT2: 30001.0</br>PAY_AMT3: 2128.0</br>PAY_AMT4: 3009.0</br>PAY_AMT5: 8006.0</br>PAY_AMT6: 1028.0</br>GENDER_female: 0.0</br>GENDER_male: 1.0</br>EDUCATION_graduate: 1.0</br>... too many variables"
          ],
          [
           "</br>id: 2470</br>prediction: 0.36</br>PAY_1: 5.300000000000001</br></br>LIMIT_BAL: 400000</br>AGE: 31.0</br>PAY_2: -2.0</br>PAY_3: -1.0</br>PAY_4: 0.0</br>PAY_5: 0.0</br>PAY_6: 0.0</br>BILL_AMT1: -166.0</br>BILL_AMT2: -490.0</br>BILL_AMT3: 29186.0</br>BILL_AMT4: 30789.0</br>BILL_AMT5: 7879.0</br>BILL_AMT6: 13928.0</br>PAY_AMT1: 1.0</br>PAY_AMT2: 30001.0</br>PAY_AMT3: 2128.0</br>PAY_AMT4: 3009.0</br>PAY_AMT5: 8006.0</br>PAY_AMT6: 1028.0</br>GENDER_female: 0.0</br>GENDER_male: 1.0</br>EDUCATION_graduate: 1.0</br>... too many variables"
          ],
          [
           "</br>id: 2470</br>prediction: 0.36</br>PAY_1: 5.4</br></br>LIMIT_BAL: 400000</br>AGE: 31.0</br>PAY_2: -2.0</br>PAY_3: -1.0</br>PAY_4: 0.0</br>PAY_5: 0.0</br>PAY_6: 0.0</br>BILL_AMT1: -166.0</br>BILL_AMT2: -490.0</br>BILL_AMT3: 29186.0</br>BILL_AMT4: 30789.0</br>BILL_AMT5: 7879.0</br>BILL_AMT6: 13928.0</br>PAY_AMT1: 1.0</br>PAY_AMT2: 30001.0</br>PAY_AMT3: 2128.0</br>PAY_AMT4: 3009.0</br>PAY_AMT5: 8006.0</br>PAY_AMT6: 1028.0</br>GENDER_female: 0.0</br>GENDER_male: 1.0</br>EDUCATION_graduate: 1.0</br>... too many variables"
          ],
          [
           "</br>id: 2470</br>prediction: 0.36</br>PAY_1: 5.5</br></br>LIMIT_BAL: 400000</br>AGE: 31.0</br>PAY_2: -2.0</br>PAY_3: -1.0</br>PAY_4: 0.0</br>PAY_5: 0.0</br>PAY_6: 0.0</br>BILL_AMT1: -166.0</br>BILL_AMT2: -490.0</br>BILL_AMT3: 29186.0</br>BILL_AMT4: 30789.0</br>BILL_AMT5: 7879.0</br>BILL_AMT6: 13928.0</br>PAY_AMT1: 1.0</br>PAY_AMT2: 30001.0</br>PAY_AMT3: 2128.0</br>PAY_AMT4: 3009.0</br>PAY_AMT5: 8006.0</br>PAY_AMT6: 1028.0</br>GENDER_female: 0.0</br>GENDER_male: 1.0</br>EDUCATION_graduate: 1.0</br>... too many variables"
          ],
          [
           "</br>id: 2470</br>prediction: 0.36</br>PAY_1: 5.6000000000000005</br></br>LIMIT_BAL: 400000</br>AGE: 31.0</br>PAY_2: -2.0</br>PAY_3: -1.0</br>PAY_4: 0.0</br>PAY_5: 0.0</br>PAY_6: 0.0</br>BILL_AMT1: -166.0</br>BILL_AMT2: -490.0</br>BILL_AMT3: 29186.0</br>BILL_AMT4: 30789.0</br>BILL_AMT5: 7879.0</br>BILL_AMT6: 13928.0</br>PAY_AMT1: 1.0</br>PAY_AMT2: 30001.0</br>PAY_AMT3: 2128.0</br>PAY_AMT4: 3009.0</br>PAY_AMT5: 8006.0</br>PAY_AMT6: 1028.0</br>GENDER_female: 0.0</br>GENDER_male: 1.0</br>EDUCATION_graduate: 1.0</br>... too many variables"
          ],
          [
           "</br>id: 2470</br>prediction: 0.36</br>PAY_1: 5.7</br></br>LIMIT_BAL: 400000</br>AGE: 31.0</br>PAY_2: -2.0</br>PAY_3: -1.0</br>PAY_4: 0.0</br>PAY_5: 0.0</br>PAY_6: 0.0</br>BILL_AMT1: -166.0</br>BILL_AMT2: -490.0</br>BILL_AMT3: 29186.0</br>BILL_AMT4: 30789.0</br>BILL_AMT5: 7879.0</br>BILL_AMT6: 13928.0</br>PAY_AMT1: 1.0</br>PAY_AMT2: 30001.0</br>PAY_AMT3: 2128.0</br>PAY_AMT4: 3009.0</br>PAY_AMT5: 8006.0</br>PAY_AMT6: 1028.0</br>GENDER_female: 0.0</br>GENDER_male: 1.0</br>EDUCATION_graduate: 1.0</br>... too many variables"
          ],
          [
           "</br>id: 2470</br>prediction: 0.36</br>PAY_1: 5.800000000000001</br></br>LIMIT_BAL: 400000</br>AGE: 31.0</br>PAY_2: -2.0</br>PAY_3: -1.0</br>PAY_4: 0.0</br>PAY_5: 0.0</br>PAY_6: 0.0</br>BILL_AMT1: -166.0</br>BILL_AMT2: -490.0</br>BILL_AMT3: 29186.0</br>BILL_AMT4: 30789.0</br>BILL_AMT5: 7879.0</br>BILL_AMT6: 13928.0</br>PAY_AMT1: 1.0</br>PAY_AMT2: 30001.0</br>PAY_AMT3: 2128.0</br>PAY_AMT4: 3009.0</br>PAY_AMT5: 8006.0</br>PAY_AMT6: 1028.0</br>GENDER_female: 0.0</br>GENDER_male: 1.0</br>EDUCATION_graduate: 1.0</br>... too many variables"
          ],
          [
           "</br>id: 2470</br>prediction: 0.36</br>PAY_1: 5.9</br></br>LIMIT_BAL: 400000</br>AGE: 31.0</br>PAY_2: -2.0</br>PAY_3: -1.0</br>PAY_4: 0.0</br>PAY_5: 0.0</br>PAY_6: 0.0</br>BILL_AMT1: -166.0</br>BILL_AMT2: -490.0</br>BILL_AMT3: 29186.0</br>BILL_AMT4: 30789.0</br>BILL_AMT5: 7879.0</br>BILL_AMT6: 13928.0</br>PAY_AMT1: 1.0</br>PAY_AMT2: 30001.0</br>PAY_AMT3: 2128.0</br>PAY_AMT4: 3009.0</br>PAY_AMT5: 8006.0</br>PAY_AMT6: 1028.0</br>GENDER_female: 0.0</br>GENDER_male: 1.0</br>EDUCATION_graduate: 1.0</br>... too many variables"
          ],
          [
           "</br>id: 2470</br>prediction: 0.36</br>PAY_1: 6.0</br></br>LIMIT_BAL: 400000</br>AGE: 31.0</br>PAY_2: -2.0</br>PAY_3: -1.0</br>PAY_4: 0.0</br>PAY_5: 0.0</br>PAY_6: 0.0</br>BILL_AMT1: -166.0</br>BILL_AMT2: -490.0</br>BILL_AMT3: 29186.0</br>BILL_AMT4: 30789.0</br>BILL_AMT5: 7879.0</br>BILL_AMT6: 13928.0</br>PAY_AMT1: 1.0</br>PAY_AMT2: 30001.0</br>PAY_AMT3: 2128.0</br>PAY_AMT4: 3009.0</br>PAY_AMT5: 8006.0</br>PAY_AMT6: 1028.0</br>GENDER_female: 0.0</br>GENDER_male: 1.0</br>EDUCATION_graduate: 1.0</br>... too many variables"
          ],
          [
           "</br>id: 2470</br>prediction: 0.36</br>PAY_1: 6.1</br></br>LIMIT_BAL: 400000</br>AGE: 31.0</br>PAY_2: -2.0</br>PAY_3: -1.0</br>PAY_4: 0.0</br>PAY_5: 0.0</br>PAY_6: 0.0</br>BILL_AMT1: -166.0</br>BILL_AMT2: -490.0</br>BILL_AMT3: 29186.0</br>BILL_AMT4: 30789.0</br>BILL_AMT5: 7879.0</br>BILL_AMT6: 13928.0</br>PAY_AMT1: 1.0</br>PAY_AMT2: 30001.0</br>PAY_AMT3: 2128.0</br>PAY_AMT4: 3009.0</br>PAY_AMT5: 8006.0</br>PAY_AMT6: 1028.0</br>GENDER_female: 0.0</br>GENDER_male: 1.0</br>EDUCATION_graduate: 1.0</br>... too many variables"
          ],
          [
           "</br>id: 2470</br>prediction: 0.36</br>PAY_1: 6.200000000000001</br></br>LIMIT_BAL: 400000</br>AGE: 31.0</br>PAY_2: -2.0</br>PAY_3: -1.0</br>PAY_4: 0.0</br>PAY_5: 0.0</br>PAY_6: 0.0</br>BILL_AMT1: -166.0</br>BILL_AMT2: -490.0</br>BILL_AMT3: 29186.0</br>BILL_AMT4: 30789.0</br>BILL_AMT5: 7879.0</br>BILL_AMT6: 13928.0</br>PAY_AMT1: 1.0</br>PAY_AMT2: 30001.0</br>PAY_AMT3: 2128.0</br>PAY_AMT4: 3009.0</br>PAY_AMT5: 8006.0</br>PAY_AMT6: 1028.0</br>GENDER_female: 0.0</br>GENDER_male: 1.0</br>EDUCATION_graduate: 1.0</br>... too many variables"
          ],
          [
           "</br>id: 2470</br>prediction: 0.36</br>PAY_1: 6.300000000000001</br></br>LIMIT_BAL: 400000</br>AGE: 31.0</br>PAY_2: -2.0</br>PAY_3: -1.0</br>PAY_4: 0.0</br>PAY_5: 0.0</br>PAY_6: 0.0</br>BILL_AMT1: -166.0</br>BILL_AMT2: -490.0</br>BILL_AMT3: 29186.0</br>BILL_AMT4: 30789.0</br>BILL_AMT5: 7879.0</br>BILL_AMT6: 13928.0</br>PAY_AMT1: 1.0</br>PAY_AMT2: 30001.0</br>PAY_AMT3: 2128.0</br>PAY_AMT4: 3009.0</br>PAY_AMT5: 8006.0</br>PAY_AMT6: 1028.0</br>GENDER_female: 0.0</br>GENDER_male: 1.0</br>EDUCATION_graduate: 1.0</br>... too many variables"
          ],
          [
           "</br>id: 2470</br>prediction: 0.36</br>PAY_1: 6.4</br></br>LIMIT_BAL: 400000</br>AGE: 31.0</br>PAY_2: -2.0</br>PAY_3: -1.0</br>PAY_4: 0.0</br>PAY_5: 0.0</br>PAY_6: 0.0</br>BILL_AMT1: -166.0</br>BILL_AMT2: -490.0</br>BILL_AMT3: 29186.0</br>BILL_AMT4: 30789.0</br>BILL_AMT5: 7879.0</br>BILL_AMT6: 13928.0</br>PAY_AMT1: 1.0</br>PAY_AMT2: 30001.0</br>PAY_AMT3: 2128.0</br>PAY_AMT4: 3009.0</br>PAY_AMT5: 8006.0</br>PAY_AMT6: 1028.0</br>GENDER_female: 0.0</br>GENDER_male: 1.0</br>EDUCATION_graduate: 1.0</br>... too many variables"
          ],
          [
           "</br>id: 2470</br>prediction: 0.36</br>PAY_1: 6.5</br></br>LIMIT_BAL: 400000</br>AGE: 31.0</br>PAY_2: -2.0</br>PAY_3: -1.0</br>PAY_4: 0.0</br>PAY_5: 0.0</br>PAY_6: 0.0</br>BILL_AMT1: -166.0</br>BILL_AMT2: -490.0</br>BILL_AMT3: 29186.0</br>BILL_AMT4: 30789.0</br>BILL_AMT5: 7879.0</br>BILL_AMT6: 13928.0</br>PAY_AMT1: 1.0</br>PAY_AMT2: 30001.0</br>PAY_AMT3: 2128.0</br>PAY_AMT4: 3009.0</br>PAY_AMT5: 8006.0</br>PAY_AMT6: 1028.0</br>GENDER_female: 0.0</br>GENDER_male: 1.0</br>EDUCATION_graduate: 1.0</br>... too many variables"
          ],
          [
           "</br>id: 2470</br>prediction: 0.36</br>PAY_1: 6.6</br></br>LIMIT_BAL: 400000</br>AGE: 31.0</br>PAY_2: -2.0</br>PAY_3: -1.0</br>PAY_4: 0.0</br>PAY_5: 0.0</br>PAY_6: 0.0</br>BILL_AMT1: -166.0</br>BILL_AMT2: -490.0</br>BILL_AMT3: 29186.0</br>BILL_AMT4: 30789.0</br>BILL_AMT5: 7879.0</br>BILL_AMT6: 13928.0</br>PAY_AMT1: 1.0</br>PAY_AMT2: 30001.0</br>PAY_AMT3: 2128.0</br>PAY_AMT4: 3009.0</br>PAY_AMT5: 8006.0</br>PAY_AMT6: 1028.0</br>GENDER_female: 0.0</br>GENDER_male: 1.0</br>EDUCATION_graduate: 1.0</br>... too many variables"
          ],
          [
           "</br>id: 2470</br>prediction: 0.36</br>PAY_1: 6.700000000000001</br></br>LIMIT_BAL: 400000</br>AGE: 31.0</br>PAY_2: -2.0</br>PAY_3: -1.0</br>PAY_4: 0.0</br>PAY_5: 0.0</br>PAY_6: 0.0</br>BILL_AMT1: -166.0</br>BILL_AMT2: -490.0</br>BILL_AMT3: 29186.0</br>BILL_AMT4: 30789.0</br>BILL_AMT5: 7879.0</br>BILL_AMT6: 13928.0</br>PAY_AMT1: 1.0</br>PAY_AMT2: 30001.0</br>PAY_AMT3: 2128.0</br>PAY_AMT4: 3009.0</br>PAY_AMT5: 8006.0</br>PAY_AMT6: 1028.0</br>GENDER_female: 0.0</br>GENDER_male: 1.0</br>EDUCATION_graduate: 1.0</br>... too many variables"
          ],
          [
           "</br>id: 2470</br>prediction: 0.36</br>PAY_1: 6.800000000000001</br></br>LIMIT_BAL: 400000</br>AGE: 31.0</br>PAY_2: -2.0</br>PAY_3: -1.0</br>PAY_4: 0.0</br>PAY_5: 0.0</br>PAY_6: 0.0</br>BILL_AMT1: -166.0</br>BILL_AMT2: -490.0</br>BILL_AMT3: 29186.0</br>BILL_AMT4: 30789.0</br>BILL_AMT5: 7879.0</br>BILL_AMT6: 13928.0</br>PAY_AMT1: 1.0</br>PAY_AMT2: 30001.0</br>PAY_AMT3: 2128.0</br>PAY_AMT4: 3009.0</br>PAY_AMT5: 8006.0</br>PAY_AMT6: 1028.0</br>GENDER_female: 0.0</br>GENDER_male: 1.0</br>EDUCATION_graduate: 1.0</br>... too many variables"
          ],
          [
           "</br>id: 2470</br>prediction: 0.36</br>PAY_1: 6.9</br></br>LIMIT_BAL: 400000</br>AGE: 31.0</br>PAY_2: -2.0</br>PAY_3: -1.0</br>PAY_4: 0.0</br>PAY_5: 0.0</br>PAY_6: 0.0</br>BILL_AMT1: -166.0</br>BILL_AMT2: -490.0</br>BILL_AMT3: 29186.0</br>BILL_AMT4: 30789.0</br>BILL_AMT5: 7879.0</br>BILL_AMT6: 13928.0</br>PAY_AMT1: 1.0</br>PAY_AMT2: 30001.0</br>PAY_AMT3: 2128.0</br>PAY_AMT4: 3009.0</br>PAY_AMT5: 8006.0</br>PAY_AMT6: 1028.0</br>GENDER_female: 0.0</br>GENDER_male: 1.0</br>EDUCATION_graduate: 1.0</br>... too many variables"
          ],
          [
           "</br>id: 2470</br>prediction: 0.36</br>PAY_1: 7.0</br></br>LIMIT_BAL: 400000</br>AGE: 31.0</br>PAY_2: -2.0</br>PAY_3: -1.0</br>PAY_4: 0.0</br>PAY_5: 0.0</br>PAY_6: 0.0</br>BILL_AMT1: -166.0</br>BILL_AMT2: -490.0</br>BILL_AMT3: 29186.0</br>BILL_AMT4: 30789.0</br>BILL_AMT5: 7879.0</br>BILL_AMT6: 13928.0</br>PAY_AMT1: 1.0</br>PAY_AMT2: 30001.0</br>PAY_AMT3: 2128.0</br>PAY_AMT4: 3009.0</br>PAY_AMT5: 8006.0</br>PAY_AMT6: 1028.0</br>GENDER_female: 0.0</br>GENDER_male: 1.0</br>EDUCATION_graduate: 1.0</br>... too many variables"
          ],
          [
           "</br>id: 2470</br>prediction: 0.36</br>PAY_1: 7.1</br></br>LIMIT_BAL: 400000</br>AGE: 31.0</br>PAY_2: -2.0</br>PAY_3: -1.0</br>PAY_4: 0.0</br>PAY_5: 0.0</br>PAY_6: 0.0</br>BILL_AMT1: -166.0</br>BILL_AMT2: -490.0</br>BILL_AMT3: 29186.0</br>BILL_AMT4: 30789.0</br>BILL_AMT5: 7879.0</br>BILL_AMT6: 13928.0</br>PAY_AMT1: 1.0</br>PAY_AMT2: 30001.0</br>PAY_AMT3: 2128.0</br>PAY_AMT4: 3009.0</br>PAY_AMT5: 8006.0</br>PAY_AMT6: 1028.0</br>GENDER_female: 0.0</br>GENDER_male: 1.0</br>EDUCATION_graduate: 1.0</br>... too many variables"
          ],
          [
           "</br>id: 2470</br>prediction: 0.36</br>PAY_1: 7.200000000000001</br></br>LIMIT_BAL: 400000</br>AGE: 31.0</br>PAY_2: -2.0</br>PAY_3: -1.0</br>PAY_4: 0.0</br>PAY_5: 0.0</br>PAY_6: 0.0</br>BILL_AMT1: -166.0</br>BILL_AMT2: -490.0</br>BILL_AMT3: 29186.0</br>BILL_AMT4: 30789.0</br>BILL_AMT5: 7879.0</br>BILL_AMT6: 13928.0</br>PAY_AMT1: 1.0</br>PAY_AMT2: 30001.0</br>PAY_AMT3: 2128.0</br>PAY_AMT4: 3009.0</br>PAY_AMT5: 8006.0</br>PAY_AMT6: 1028.0</br>GENDER_female: 0.0</br>GENDER_male: 1.0</br>EDUCATION_graduate: 1.0</br>... too many variables"
          ],
          [
           "</br>id: 2470</br>prediction: 0.36</br>PAY_1: 7.300000000000001</br></br>LIMIT_BAL: 400000</br>AGE: 31.0</br>PAY_2: -2.0</br>PAY_3: -1.0</br>PAY_4: 0.0</br>PAY_5: 0.0</br>PAY_6: 0.0</br>BILL_AMT1: -166.0</br>BILL_AMT2: -490.0</br>BILL_AMT3: 29186.0</br>BILL_AMT4: 30789.0</br>BILL_AMT5: 7879.0</br>BILL_AMT6: 13928.0</br>PAY_AMT1: 1.0</br>PAY_AMT2: 30001.0</br>PAY_AMT3: 2128.0</br>PAY_AMT4: 3009.0</br>PAY_AMT5: 8006.0</br>PAY_AMT6: 1028.0</br>GENDER_female: 0.0</br>GENDER_male: 1.0</br>EDUCATION_graduate: 1.0</br>... too many variables"
          ],
          [
           "</br>id: 2470</br>prediction: 0.36</br>PAY_1: 7.4</br></br>LIMIT_BAL: 400000</br>AGE: 31.0</br>PAY_2: -2.0</br>PAY_3: -1.0</br>PAY_4: 0.0</br>PAY_5: 0.0</br>PAY_6: 0.0</br>BILL_AMT1: -166.0</br>BILL_AMT2: -490.0</br>BILL_AMT3: 29186.0</br>BILL_AMT4: 30789.0</br>BILL_AMT5: 7879.0</br>BILL_AMT6: 13928.0</br>PAY_AMT1: 1.0</br>PAY_AMT2: 30001.0</br>PAY_AMT3: 2128.0</br>PAY_AMT4: 3009.0</br>PAY_AMT5: 8006.0</br>PAY_AMT6: 1028.0</br>GENDER_female: 0.0</br>GENDER_male: 1.0</br>EDUCATION_graduate: 1.0</br>... too many variables"
          ],
          [
           "</br>id: 2470</br>prediction: 0.36</br>PAY_1: 7.5</br></br>LIMIT_BAL: 400000</br>AGE: 31.0</br>PAY_2: -2.0</br>PAY_3: -1.0</br>PAY_4: 0.0</br>PAY_5: 0.0</br>PAY_6: 0.0</br>BILL_AMT1: -166.0</br>BILL_AMT2: -490.0</br>BILL_AMT3: 29186.0</br>BILL_AMT4: 30789.0</br>BILL_AMT5: 7879.0</br>BILL_AMT6: 13928.0</br>PAY_AMT1: 1.0</br>PAY_AMT2: 30001.0</br>PAY_AMT3: 2128.0</br>PAY_AMT4: 3009.0</br>PAY_AMT5: 8006.0</br>PAY_AMT6: 1028.0</br>GENDER_female: 0.0</br>GENDER_male: 1.0</br>EDUCATION_graduate: 1.0</br>... too many variables"
          ],
          [
           "</br>id: 2470</br>prediction: 0.36</br>PAY_1: 7.600000000000001</br></br>LIMIT_BAL: 400000</br>AGE: 31.0</br>PAY_2: -2.0</br>PAY_3: -1.0</br>PAY_4: 0.0</br>PAY_5: 0.0</br>PAY_6: 0.0</br>BILL_AMT1: -166.0</br>BILL_AMT2: -490.0</br>BILL_AMT3: 29186.0</br>BILL_AMT4: 30789.0</br>BILL_AMT5: 7879.0</br>BILL_AMT6: 13928.0</br>PAY_AMT1: 1.0</br>PAY_AMT2: 30001.0</br>PAY_AMT3: 2128.0</br>PAY_AMT4: 3009.0</br>PAY_AMT5: 8006.0</br>PAY_AMT6: 1028.0</br>GENDER_female: 0.0</br>GENDER_male: 1.0</br>EDUCATION_graduate: 1.0</br>... too many variables"
          ],
          [
           "</br>id: 2470</br>prediction: 0.36</br>PAY_1: 7.700000000000001</br></br>LIMIT_BAL: 400000</br>AGE: 31.0</br>PAY_2: -2.0</br>PAY_3: -1.0</br>PAY_4: 0.0</br>PAY_5: 0.0</br>PAY_6: 0.0</br>BILL_AMT1: -166.0</br>BILL_AMT2: -490.0</br>BILL_AMT3: 29186.0</br>BILL_AMT4: 30789.0</br>BILL_AMT5: 7879.0</br>BILL_AMT6: 13928.0</br>PAY_AMT1: 1.0</br>PAY_AMT2: 30001.0</br>PAY_AMT3: 2128.0</br>PAY_AMT4: 3009.0</br>PAY_AMT5: 8006.0</br>PAY_AMT6: 1028.0</br>GENDER_female: 0.0</br>GENDER_male: 1.0</br>EDUCATION_graduate: 1.0</br>... too many variables"
          ],
          [
           "</br>id: 2470</br>prediction: 0.36</br>PAY_1: 7.800000000000001</br></br>LIMIT_BAL: 400000</br>AGE: 31.0</br>PAY_2: -2.0</br>PAY_3: -1.0</br>PAY_4: 0.0</br>PAY_5: 0.0</br>PAY_6: 0.0</br>BILL_AMT1: -166.0</br>BILL_AMT2: -490.0</br>BILL_AMT3: 29186.0</br>BILL_AMT4: 30789.0</br>BILL_AMT5: 7879.0</br>BILL_AMT6: 13928.0</br>PAY_AMT1: 1.0</br>PAY_AMT2: 30001.0</br>PAY_AMT3: 2128.0</br>PAY_AMT4: 3009.0</br>PAY_AMT5: 8006.0</br>PAY_AMT6: 1028.0</br>GENDER_female: 0.0</br>GENDER_male: 1.0</br>EDUCATION_graduate: 1.0</br>... too many variables"
          ],
          [
           "</br>id: 2470</br>prediction: 0.36</br>PAY_1: 7.9</br></br>LIMIT_BAL: 400000</br>AGE: 31.0</br>PAY_2: -2.0</br>PAY_3: -1.0</br>PAY_4: 0.0</br>PAY_5: 0.0</br>PAY_6: 0.0</br>BILL_AMT1: -166.0</br>BILL_AMT2: -490.0</br>BILL_AMT3: 29186.0</br>BILL_AMT4: 30789.0</br>BILL_AMT5: 7879.0</br>BILL_AMT6: 13928.0</br>PAY_AMT1: 1.0</br>PAY_AMT2: 30001.0</br>PAY_AMT3: 2128.0</br>PAY_AMT4: 3009.0</br>PAY_AMT5: 8006.0</br>PAY_AMT6: 1028.0</br>GENDER_female: 0.0</br>GENDER_male: 1.0</br>EDUCATION_graduate: 1.0</br>... too many variables"
          ],
          [
           "</br>id: 2470</br>prediction: 0.36</br>PAY_1: 8.0</br></br>LIMIT_BAL: 400000</br>AGE: 31.0</br>PAY_2: -2.0</br>PAY_3: -1.0</br>PAY_4: 0.0</br>PAY_5: 0.0</br>PAY_6: 0.0</br>BILL_AMT1: -166.0</br>BILL_AMT2: -490.0</br>BILL_AMT3: 29186.0</br>BILL_AMT4: 30789.0</br>BILL_AMT5: 7879.0</br>BILL_AMT6: 13928.0</br>PAY_AMT1: 1.0</br>PAY_AMT2: 30001.0</br>PAY_AMT3: 2128.0</br>PAY_AMT4: 3009.0</br>PAY_AMT5: 8006.0</br>PAY_AMT6: 1028.0</br>GENDER_female: 0.0</br>GENDER_male: 1.0</br>EDUCATION_graduate: 1.0</br>... too many variables"
          ]
         ],
         "hovertemplate": "%{customdata[0]}<extra></extra>",
         "legendgroup": "LABEL",
         "line": {
          "color": "#46bac2",
          "dash": "solid",
          "width": 2
         },
         "mode": "lines",
         "name": "LABEL",
         "opacity": 1,
         "orientation": "v",
         "showlegend": true,
         "type": "scatter",
         "x": [
          -2,
          -1.9,
          -1.8,
          -1.7,
          -1.6,
          -1.5,
          -1.4,
          -1.2999999999999998,
          -1.2,
          -1.1,
          -1,
          -0.8999999999999999,
          -0.7999999999999998,
          -0.7,
          -0.5999999999999999,
          -0.5,
          -0.3999999999999999,
          -0.2999999999999998,
          -0.19999999999999996,
          -0.09999999999999987,
          0,
          0.10000000000000009,
          0.20000000000000018,
          0.30000000000000027,
          0.40000000000000036,
          0.5,
          0.6000000000000001,
          0.7000000000000002,
          0.8000000000000003,
          0.9000000000000004,
          1,
          1.1,
          1.2000000000000002,
          1.3000000000000003,
          1.4000000000000004,
          1.5,
          1.6,
          1.7000000000000002,
          1.8000000000000003,
          1.9000000000000004,
          2,
          2.1000000000000005,
          2.2,
          2.3,
          2.4000000000000004,
          2.5,
          2.6000000000000005,
          2.7,
          2.8000000000000007,
          2.9000000000000004,
          3,
          3.1000000000000005,
          3.2,
          3.3000000000000007,
          3.4000000000000004,
          3.5,
          3.6000000000000005,
          3.7,
          3.8000000000000007,
          3.9000000000000004,
          4,
          4.1000000000000005,
          4.2,
          4.300000000000001,
          4.4,
          4.5,
          4.6000000000000005,
          4.7,
          4.800000000000001,
          4.9,
          5,
          5.1000000000000005,
          5.2,
          5.300000000000001,
          5.4,
          5.5,
          5.6000000000000005,
          5.7,
          5.800000000000001,
          5.9,
          6,
          6.1,
          6.200000000000001,
          6.300000000000001,
          6.4,
          6.5,
          6.6,
          6.700000000000001,
          6.800000000000001,
          6.9,
          7,
          7.1,
          7.200000000000001,
          7.300000000000001,
          7.4,
          7.5,
          7.600000000000001,
          7.700000000000001,
          7.800000000000001,
          7.9,
          8
         ],
         "xaxis": "x",
         "y": [
          0.1,
          0.1,
          0.1,
          0.1,
          0.1,
          0.1,
          0.09,
          0.09,
          0.09,
          0.09,
          0.09,
          0.09,
          0.09,
          0.09,
          0.09,
          0.09,
          0.09,
          0.09,
          0.09,
          0.09,
          0.09,
          0.09,
          0.09,
          0.09,
          0.09,
          0.09,
          0.1,
          0.1,
          0.1,
          0.1,
          0.1,
          0.1,
          0.1,
          0.1,
          0.1,
          0.1,
          0.36,
          0.36,
          0.36,
          0.36,
          0.36,
          0.36,
          0.36,
          0.36,
          0.36,
          0.36,
          0.36,
          0.36,
          0.36,
          0.36,
          0.36,
          0.36,
          0.36,
          0.36,
          0.36,
          0.36,
          0.36,
          0.36,
          0.36,
          0.36,
          0.36,
          0.36,
          0.36,
          0.36,
          0.36,
          0.36,
          0.36,
          0.36,
          0.36,
          0.36,
          0.36,
          0.36,
          0.36,
          0.36,
          0.36,
          0.36,
          0.36,
          0.36,
          0.36,
          0.36,
          0.36,
          0.36,
          0.36,
          0.36,
          0.36,
          0.36,
          0.36,
          0.36,
          0.36,
          0.36,
          0.36,
          0.36,
          0.36,
          0.36,
          0.36,
          0.36,
          0.36,
          0.36,
          0.36,
          0.36,
          0.36
         ],
         "yaxis": "y"
        },
        {
         "customdata": [
          [
           "</br>id: 2470</br>prediction: 0.1</br>PAY_1: 1.0</br></br>LIMIT_BAL: 400000</br>AGE: 31.0</br>PAY_2: -2.0</br>PAY_3: -1.0</br>PAY_4: 0.0</br>PAY_5: 0.0</br>PAY_6: 0.0</br>BILL_AMT1: -166.0</br>BILL_AMT2: -490.0</br>BILL_AMT3: 29186.0</br>BILL_AMT4: 30789.0</br>BILL_AMT5: 7879.0</br>BILL_AMT6: 13928.0</br>PAY_AMT1: 1.0</br>PAY_AMT2: 30001.0</br>PAY_AMT3: 2128.0</br>PAY_AMT4: 3009.0</br>PAY_AMT5: 8006.0</br>PAY_AMT6: 1028.0</br>GENDER_female: 0.0</br>GENDER_male: 1.0</br>EDUCATION_graduate: 1.0</br>... too many variables"
          ]
         ],
         "hovertemplate": "%{customdata[0]}<extra></extra>",
         "legendgroup": "",
         "marker": {
          "color": "#371ea3",
          "size": 10,
          "symbol": "circle"
         },
         "mode": "markers",
         "name": "",
         "opacity": 1,
         "orientation": "v",
         "showlegend": false,
         "type": "scatter",
         "x": [
          1
         ],
         "xaxis": "x",
         "y": [
          0.1
         ],
         "yaxis": "y"
        }
       ],
       "layout": {
        "annotations": [
         {
          "font": {
           "size": 13
          },
          "showarrow": false,
          "text": "PAY_1",
          "x": 0.5,
          "xanchor": "center",
          "xref": "paper",
          "y": 1,
          "yanchor": "bottom",
          "yref": "paper"
         },
         {
          "font": {
           "size": 13
          },
          "showarrow": false,
          "text": "prediction",
          "textangle": -90,
          "x": -0.07,
          "xref": "paper",
          "y": 0.5,
          "yref": "paper"
         }
        ],
        "font": {
         "color": "#371ea3"
        },
        "height": 489,
        "hoverlabel": {
         "bgcolor": "rgba(0,0,0,0.8)"
        },
        "hovermode": "closest",
        "legend": {
         "font": {
          "size": 11
         },
         "itemsizing": "constant",
         "orientation": "h",
         "title": {
          "font": {
           "size": 12
          },
          "text": "label"
         },
         "tracegroupgap": 0,
         "x": 1,
         "xanchor": "right",
         "y": 1.0613496932515338,
         "yanchor": "bottom"
        },
        "margin": {
         "b": 71,
         "r": 30,
         "t": 78
        },
        "template": {
         "data": {
          "scatter": [
           {
            "type": "scatter"
           }
          ]
         }
        },
        "title": {
         "font": {
          "size": 16
         },
         "text": "Ceteris Paribus Profiles",
         "x": 0.15
        },
        "xaxis": {
         "anchor": "y",
         "automargin": true,
         "domain": [
          0,
          1
         ],
         "fixedrange": true,
         "gridwidth": 2,
         "showticklabels": true,
         "tickcolor": "white",
         "ticklen": 3,
         "ticks": "outside",
         "title": {
          "text": ""
         },
         "type": "linear",
         "zeroline": false
        },
        "yaxis": {
         "anchor": "x",
         "automargin": true,
         "domain": [
          0,
          1
         ],
         "fixedrange": true,
         "gridwidth": 2,
         "range": [
          0.063,
          0.387
         ],
         "tickcolor": "white",
         "ticklen": 3,
         "ticks": "outside",
         "title": {
          "text": ""
         },
         "type": "linear",
         "zeroline": false
        }
       }
      }
     },
     "metadata": {},
     "output_type": "display_data"
    }
   ],
   "source": [
    "explainer.predict_profile(x_test.iloc[[0]]).plot(variables=['PAY_1'])"
   ]
  },
  {
   "cell_type": "markdown",
   "metadata": {},
   "source": [
    "The plot shows the relationship between the value of `PAY_1` and the outcome of the model. On the x-axis we can see the values for the `PAY_1` feature. The y-axis shows the output value of the model. There's a dot on the plot that shows the value for `PAY_1` used in the prediction.\n",
    "\n",
    "This plot shows what would happen if you changed the value for `PAY_1` leaving all other values unmodified. For example,if we were to change the value for `PAY_1` to 2, the output of the model would go up to 0.35 thus making the customer more likely to default.\n",
    "\n",
    "Using the `predict_profile` method can help you gain a better understanding of what needs to change in the input to change the output of the model. "
   ]
  },
  {
   "cell_type": "markdown",
   "metadata": {},
   "source": [
    "## Summary\n",
    "\n",
    "In this notebook we've explored how to use explainers to debug machine learning models using explainers by looking at prediction-level explanations.\n",
    "\n",
    "I hope you enjoyed this series of notebooks on Explainable AI. If you have any questions, contact me on twitter: @willem_meints."
   ]
  }
 ],
 "metadata": {
  "interpreter": {
   "hash": "2968a23df92eba31d10fb28f66a1f92426e35108626ecd54e02ed28f2d676a12"
  },
  "kernelspec": {
   "display_name": "Python 3.9.7 64-bit ('explainable-ai-with-dalex-QT8H1uAs-py3.9': poetry)",
   "name": "python3"
  },
  "language_info": {
   "codemirror_mode": {
    "name": "ipython",
    "version": 3
   },
   "file_extension": ".py",
   "mimetype": "text/x-python",
   "name": "python",
   "nbconvert_exporter": "python",
   "pygments_lexer": "ipython3",
   "version": "3.9.7"
  },
  "orig_nbformat": 2
 },
 "nbformat": 4,
 "nbformat_minor": 2
}
