{
 "cells": [
  {
   "cell_type": "markdown",
   "metadata": {},
   "source": [
    "# Uncover model structure\n",
    "\n",
    "In this notebook we're going to explore methods to uncover the structure of your machine learning model. We'll cover the following topics:\n",
    "\n",
    "* Calculating feature importance\n",
    "* Creating a model profile\n",
    "\n",
    "If you haven't read the README.md file yet, we encourage that you read that document first. It provides an important introduction to the use-case and dataset used in this notebook and other notebooks in the project.\n",
    "\n",
    "Let's start by preparing everything we need for this notebook."
   ]
  },
  {
   "cell_type": "markdown",
   "metadata": {},
   "source": [
    "## Preparation steps\n",
    "\n",
    "Before we can use an explainer on our model, we need to load a test dataset and the model itself. The model for this demo is based on the [UCI Credit card defaulters dataset](https://archive.ics.uci.edu/ml/datasets/default+of+credit+card+clients). You can learn more about training the model in `tasks/train-model.py`. For more details on the data preparation you can check out the `tasks/prepare-data.py` and `tasks/split-data.py` scripts.\n",
    "\n",
    "Let's start by loading up the necessary Python packages:"
   ]
  },
  {
   "cell_type": "code",
   "execution_count": 1,
   "metadata": {},
   "outputs": [],
   "source": [
    "import joblib\n",
    "import pandas as pd"
   ]
  },
  {
   "cell_type": "markdown",
   "metadata": {},
   "source": [
    "After loading the libraries for the model, let's load the model and some test data.\n",
    "You can use `df_test.head()` to see what's in the dataset if you want."
   ]
  },
  {
   "cell_type": "code",
   "execution_count": 2,
   "metadata": {},
   "outputs": [],
   "source": [
    "model = joblib.load('../models/classifier.bin')\n",
    "df_test = pd.read_csv('../data/processed/test.csv').sample(385)\n",
    "\n",
    "x_test = df_test.drop('LABEL', axis=1)\n",
    "y_test = df_test['LABEL']"
   ]
  },
  {
   "cell_type": "markdown",
   "metadata": {},
   "source": [
    "With the dataset and model ready to go, let's begin calculating feature importance information for the model."
   ]
  },
  {
   "cell_type": "markdown",
   "metadata": {},
   "source": [
    "## Calculating feature importance\n",
    "\n",
    "One method to get more insight into the behavior of your model is to use a [permutation feature importance](https://scikit-learn.org/stable/modules/permutation_importance.html) algorithm. This algorithm calculates the impact of each feature on the outcome of your model. From the feature importance you can learn which features matter the most to your model. You can use this knowledge to target the model to the most important features and remove others that don't make a lot of sense. This can reduce the error margin in your model. Feature importance can also help improve the dataset by improving the data quality of the most important features.\n",
    "\n",
    "In Dalex, you can use the `model_parts` method to get the feature importance of your model:"
   ]
  },
  {
   "cell_type": "code",
   "execution_count": 3,
   "metadata": {},
   "outputs": [],
   "source": [
    "import dalex as dx"
   ]
  },
  {
   "cell_type": "code",
   "execution_count": 4,
   "metadata": {},
   "outputs": [
    {
     "name": "stdout",
     "output_type": "stream",
     "text": [
      "Preparation of a new explainer is initiated\n",
      "\n",
      "  -> data              : 385 rows 29 cols\n",
      "  -> target variable   : Parameter 'y' was a pandas.Series. Converted to a numpy.ndarray.\n",
      "  -> target variable   : 385 values\n",
      "  -> model_class       : sklearn.ensemble._forest.RandomForestClassifier (default)\n",
      "  -> label             : LABEL\n",
      "  -> predict function  : <function yhat_proba_default at 0x000002E3613BFCA0> will be used (default)\n",
      "  -> predict function  : Accepts pandas.DataFrame and numpy.ndarray.\n",
      "  -> predicted values  : min = 0.0, mean = 0.233, max = 0.89\n",
      "  -> model type        : classifier will be used\n",
      "  -> residual function : difference between y and yhat (default)\n",
      "  -> residuals         : min = -0.81, mean = -0.00922, max = 0.97\n",
      "  -> model_info        : package sklearn\n",
      "\n",
      "A new explainer has been created!\n"
     ]
    }
   ],
   "source": [
    "explainer = dx.Explainer(model, x_test, y_test, model_type='classifier', label='LABEL')"
   ]
  },
  {
   "cell_type": "code",
   "execution_count": 5,
   "metadata": {},
   "outputs": [
    {
     "data": {
      "application/vnd.plotly.v1+json": {
       "config": {
        "displaylogo": false,
        "modeBarButtonsToRemove": [
         "sendDataToCloud",
         "lasso2d",
         "autoScale2d",
         "select2d",
         "zoom2d",
         "pan2d",
         "zoomIn2d",
         "zoomOut2d",
         "resetScale2d",
         "toggleSpikelines",
         "hoverCompareCartesian",
         "hoverClosestCartesian"
        ],
        "plotlyServerURL": "https://plot.ly",
        "staticPlot": false,
        "toImageButtonOptions": {
         "height": null,
         "width": null
        }
       },
       "data": [
        {
         "base": 0.3749708309963911,
         "hoverinfo": "text",
         "hoverlabel": {
          "bgcolor": "rgba(0,0,0,0.8)"
         },
         "hovertext": [
          "Model: LABEL loss after<br>variable: PAY_1 is permuted: 0.411<br>Drop-out loss change: +0.036",
          "Model: LABEL loss after<br>variable: BILL_AMT1 is permuted: 0.384<br>Drop-out loss change: +0.009",
          "Model: LABEL loss after<br>variable: PAY_2 is permuted: 0.383<br>Drop-out loss change: +0.008",
          "Model: LABEL loss after<br>variable: PAY_AMT6 is permuted: 0.38<br>Drop-out loss change: +0.005",
          "Model: LABEL loss after<br>variable: LIMIT_BAL is permuted: 0.38<br>Drop-out loss change: +0.005",
          "Model: LABEL loss after<br>variable: AGE is permuted: 0.378<br>Drop-out loss change: +0.003",
          "Model: LABEL loss after<br>variable: PAY_AMT5 is permuted: 0.378<br>Drop-out loss change: +0.003",
          "Model: LABEL loss after<br>variable: BILL_AMT3 is permuted: 0.378<br>Drop-out loss change: +0.003",
          "Model: LABEL loss after<br>variable: PAY_3 is permuted: 0.378<br>Drop-out loss change: +0.003",
          "Model: LABEL loss after<br>variable: BILL_AMT2 is permuted: 0.378<br>Drop-out loss change: +0.003"
         ],
         "marker": {
          "color": "#46bac2"
         },
         "orientation": "h",
         "showlegend": false,
         "text": [
          "+0.036",
          "+0.009",
          "+0.008",
          "+0.005",
          "+0.005",
          "+0.003",
          "+0.003",
          "+0.003",
          "+0.003",
          "+0.003"
         ],
         "textposition": "outside",
         "type": "bar",
         "x": [
          0.03621821334753039,
          0.008704790057564138,
          0.008147847019758903,
          0.004745731564725131,
          0.004653306555539416,
          0.0034315673958566495,
          0.0031860064218772743,
          0.002994215353642027,
          0.002780666021397815,
          0.002559956038298228
         ],
         "xaxis": "x",
         "y": [
          "PAY_1",
          "BILL_AMT1",
          "PAY_2",
          "PAY_AMT6",
          "LIMIT_BAL",
          "AGE",
          "PAY_AMT5",
          "BILL_AMT3",
          "PAY_3",
          "BILL_AMT2"
         ],
         "yaxis": "y"
        }
       ],
       "layout": {
        "annotations": [
         {
          "font": {
           "size": 16
          },
          "showarrow": false,
          "text": "LABEL",
          "x": 0.5,
          "xanchor": "center",
          "xref": "paper",
          "y": 1,
          "yanchor": "bottom",
          "yref": "paper"
         },
         {
          "font": {
           "size": 16
          },
          "showarrow": false,
          "text": "drop-out loss",
          "x": 0.5,
          "xanchor": "center",
          "xref": "paper",
          "y": 0,
          "yanchor": "top",
          "yref": "paper",
          "yshift": -30
         }
        ],
        "font": {
         "color": "#371ea3"
        },
        "height": 383,
        "margin": {
         "b": 71,
         "r": 30,
         "t": 78
        },
        "shapes": [
         {
          "line": {
           "color": "#371ea3",
           "dash": "dot",
           "width": 1.5
          },
          "type": "line",
          "x0": 0.3749708309963911,
          "x1": 0.3749708309963911,
          "xref": "x",
          "y0": -1,
          "y1": 10,
          "yref": "y"
         }
        ],
        "template": {
         "data": {
          "scatter": [
           {
            "type": "scatter"
           }
          ]
         }
        },
        "title": {
         "text": "Variable Importance",
         "x": 0.15
        },
        "xaxis": {
         "anchor": "y",
         "automargin": true,
         "domain": [
          0,
          1
         ],
         "fixedrange": true,
         "gridwidth": 2,
         "range": [
          0.36806220525745303,
          0.41681428422476524
         ],
         "tickcolor": "white",
         "ticklen": 3,
         "ticks": "outside",
         "type": "linear",
         "zeroline": false
        },
        "yaxis": {
         "anchor": "x",
         "automargin": true,
         "autorange": "reversed",
         "domain": [
          0,
          1
         ],
         "fixedrange": true,
         "gridwidth": 2,
         "tickcolor": "white",
         "ticklen": 10,
         "ticks": "outside",
         "type": "category"
        }
       }
      }
     },
     "metadata": {},
     "output_type": "display_data"
    }
   ],
   "source": [
    "explainer.model_parts(type='variable_importance').plot()"
   ]
  },
  {
   "cell_type": "markdown",
   "metadata": {},
   "source": [
    "The explainer shows the features in order of importance. The key feature for this model is the `PAY_1` feature. This feature indicates whether someone payed on time in the first month, or later. Value -1 is on time, values higher indicate a delay in payments for the bill given in the first month. As this is a model that predicts defaulters, you could say that the payment status for the first month is a good indicator."
   ]
  },
  {
   "cell_type": "markdown",
   "metadata": {},
   "source": [
    "Let's continue exploring the structure of the model by diving into the features a bit more. "
   ]
  },
  {
   "cell_type": "markdown",
   "metadata": {},
   "source": [
    "## Creating a model profile\n",
    "\n",
    "You can learn more about features by profiling them on a model-level. This gives you information about the different values of a feature and the influence of that value on the outcome of the model.\n",
    "We're using the [accumulated local effects](https://arxiv.org/abs/1612.08468) algorithm to get the information. The model profile allows you to ask the question: \"What happens if I change the value of this one feature?\":"
   ]
  },
  {
   "cell_type": "code",
   "execution_count": 6,
   "metadata": {},
   "outputs": [
    {
     "name": "stderr",
     "output_type": "stream",
     "text": [
      "Calculating ceteris paribus: 100%|██████████| 29/29 [00:06<00:00,  4.18it/s]\n",
      "Calculating accumulated dependency: 100%|██████████| 29/29 [00:02<00:00, 10.42it/s]\n"
     ]
    },
    {
     "data": {
      "application/vnd.plotly.v1+json": {
       "config": {
        "displaylogo": false,
        "modeBarButtonsToRemove": [
         "sendDataToCloud",
         "lasso2d",
         "autoScale2d",
         "select2d",
         "zoom2d",
         "pan2d",
         "zoomIn2d",
         "zoomOut2d",
         "resetScale2d",
         "toggleSpikelines",
         "hoverCompareCartesian",
         "hoverClosestCartesian"
        ],
        "plotlyServerURL": "https://plot.ly",
        "staticPlot": false,
        "toImageButtonOptions": {
         "height": null,
         "width": null
        }
       },
       "data": [
        {
         "customdata": [
          [
           0.23736111111111113,
           "LABEL",
           "PAY_1"
          ],
          [
           0.23736111111111113,
           "LABEL",
           "PAY_1"
          ],
          [
           0.23736111111111113,
           "LABEL",
           "PAY_1"
          ],
          [
           0.23736111111111113,
           "LABEL",
           "PAY_1"
          ],
          [
           0.23736111111111113,
           "LABEL",
           "PAY_1"
          ],
          [
           0.23736111111111113,
           "LABEL",
           "PAY_1"
          ],
          [
           0.23736111111111113,
           "LABEL",
           "PAY_1"
          ],
          [
           0.23736111111111113,
           "LABEL",
           "PAY_1"
          ],
          [
           0.23736111111111113,
           "LABEL",
           "PAY_1"
          ],
          [
           0.23736111111111113,
           "LABEL",
           "PAY_1"
          ],
          [
           0.23736111111111113,
           "LABEL",
           "PAY_1"
          ],
          [
           0.23736111111111113,
           "LABEL",
           "PAY_1"
          ],
          [
           0.23736111111111113,
           "LABEL",
           "PAY_1"
          ],
          [
           0.23736111111111113,
           "LABEL",
           "PAY_1"
          ],
          [
           0.23736111111111113,
           "LABEL",
           "PAY_1"
          ],
          [
           0.23736111111111113,
           "LABEL",
           "PAY_1"
          ],
          [
           0.23736111111111113,
           "LABEL",
           "PAY_1"
          ],
          [
           0.23736111111111113,
           "LABEL",
           "PAY_1"
          ],
          [
           0.23736111111111113,
           "LABEL",
           "PAY_1"
          ],
          [
           0.23736111111111113,
           "LABEL",
           "PAY_1"
          ],
          [
           0.23736111111111113,
           "LABEL",
           "PAY_1"
          ],
          [
           0.23736111111111113,
           "LABEL",
           "PAY_1"
          ],
          [
           0.23736111111111113,
           "LABEL",
           "PAY_1"
          ],
          [
           0.23736111111111113,
           "LABEL",
           "PAY_1"
          ],
          [
           0.23736111111111113,
           "LABEL",
           "PAY_1"
          ],
          [
           0.23736111111111113,
           "LABEL",
           "PAY_1"
          ],
          [
           0.23736111111111113,
           "LABEL",
           "PAY_1"
          ],
          [
           0.23736111111111113,
           "LABEL",
           "PAY_1"
          ],
          [
           0.23736111111111113,
           "LABEL",
           "PAY_1"
          ],
          [
           0.23736111111111113,
           "LABEL",
           "PAY_1"
          ],
          [
           0.23736111111111113,
           "LABEL",
           "PAY_1"
          ],
          [
           0.23736111111111113,
           "LABEL",
           "PAY_1"
          ],
          [
           0.23736111111111113,
           "LABEL",
           "PAY_1"
          ],
          [
           0.23736111111111113,
           "LABEL",
           "PAY_1"
          ],
          [
           0.23736111111111113,
           "LABEL",
           "PAY_1"
          ],
          [
           0.23736111111111113,
           "LABEL",
           "PAY_1"
          ],
          [
           0.23736111111111113,
           "LABEL",
           "PAY_1"
          ],
          [
           0.23736111111111113,
           "LABEL",
           "PAY_1"
          ],
          [
           0.23736111111111113,
           "LABEL",
           "PAY_1"
          ],
          [
           0.23736111111111113,
           "LABEL",
           "PAY_1"
          ],
          [
           0.23736111111111113,
           "LABEL",
           "PAY_1"
          ],
          [
           0.23736111111111113,
           "LABEL",
           "PAY_1"
          ],
          [
           0.23736111111111113,
           "LABEL",
           "PAY_1"
          ],
          [
           0.23736111111111113,
           "LABEL",
           "PAY_1"
          ],
          [
           0.23736111111111113,
           "LABEL",
           "PAY_1"
          ],
          [
           0.23736111111111113,
           "LABEL",
           "PAY_1"
          ],
          [
           0.23736111111111113,
           "LABEL",
           "PAY_1"
          ],
          [
           0.23736111111111113,
           "LABEL",
           "PAY_1"
          ],
          [
           0.23736111111111113,
           "LABEL",
           "PAY_1"
          ],
          [
           0.23736111111111113,
           "LABEL",
           "PAY_1"
          ],
          [
           0.23736111111111113,
           "LABEL",
           "PAY_1"
          ],
          [
           0.23736111111111113,
           "LABEL",
           "PAY_1"
          ],
          [
           0.23736111111111113,
           "LABEL",
           "PAY_1"
          ],
          [
           0.23736111111111113,
           "LABEL",
           "PAY_1"
          ],
          [
           0.23736111111111113,
           "LABEL",
           "PAY_1"
          ],
          [
           0.23736111111111113,
           "LABEL",
           "PAY_1"
          ],
          [
           0.23736111111111113,
           "LABEL",
           "PAY_1"
          ],
          [
           0.23736111111111113,
           "LABEL",
           "PAY_1"
          ],
          [
           0.23736111111111113,
           "LABEL",
           "PAY_1"
          ],
          [
           0.23736111111111113,
           "LABEL",
           "PAY_1"
          ],
          [
           0.23736111111111113,
           "LABEL",
           "PAY_1"
          ],
          [
           0.23736111111111113,
           "LABEL",
           "PAY_1"
          ],
          [
           0.23736111111111113,
           "LABEL",
           "PAY_1"
          ],
          [
           0.23736111111111113,
           "LABEL",
           "PAY_1"
          ],
          [
           0.23736111111111113,
           "LABEL",
           "PAY_1"
          ],
          [
           0.23736111111111113,
           "LABEL",
           "PAY_1"
          ],
          [
           0.23736111111111113,
           "LABEL",
           "PAY_1"
          ],
          [
           0.23736111111111113,
           "LABEL",
           "PAY_1"
          ],
          [
           0.23736111111111113,
           "LABEL",
           "PAY_1"
          ],
          [
           0.23736111111111113,
           "LABEL",
           "PAY_1"
          ],
          [
           0.23736111111111113,
           "LABEL",
           "PAY_1"
          ],
          [
           0.23736111111111113,
           "LABEL",
           "PAY_1"
          ],
          [
           0.23736111111111113,
           "LABEL",
           "PAY_1"
          ],
          [
           0.23736111111111113,
           "LABEL",
           "PAY_1"
          ],
          [
           0.23736111111111113,
           "LABEL",
           "PAY_1"
          ],
          [
           0.23736111111111113,
           "LABEL",
           "PAY_1"
          ],
          [
           0.23736111111111113,
           "LABEL",
           "PAY_1"
          ],
          [
           0.23736111111111113,
           "LABEL",
           "PAY_1"
          ],
          [
           0.23736111111111113,
           "LABEL",
           "PAY_1"
          ],
          [
           0.23736111111111113,
           "LABEL",
           "PAY_1"
          ],
          [
           0.23736111111111113,
           "LABEL",
           "PAY_1"
          ],
          [
           0.23736111111111113,
           "LABEL",
           "PAY_1"
          ],
          [
           0.23736111111111113,
           "LABEL",
           "PAY_1"
          ],
          [
           0.23736111111111113,
           "LABEL",
           "PAY_1"
          ],
          [
           0.23736111111111113,
           "LABEL",
           "PAY_1"
          ],
          [
           0.23736111111111113,
           "LABEL",
           "PAY_1"
          ],
          [
           0.23736111111111113,
           "LABEL",
           "PAY_1"
          ],
          [
           0.23736111111111113,
           "LABEL",
           "PAY_1"
          ],
          [
           0.23736111111111113,
           "LABEL",
           "PAY_1"
          ],
          [
           0.23736111111111113,
           "LABEL",
           "PAY_1"
          ],
          [
           0.23736111111111113,
           "LABEL",
           "PAY_1"
          ],
          [
           0.23736111111111113,
           "LABEL",
           "PAY_1"
          ],
          [
           0.23736111111111113,
           "LABEL",
           "PAY_1"
          ],
          [
           0.23736111111111113,
           "LABEL",
           "PAY_1"
          ],
          [
           0.23736111111111113,
           "LABEL",
           "PAY_1"
          ],
          [
           0.23736111111111113,
           "LABEL",
           "PAY_1"
          ],
          [
           0.23736111111111113,
           "LABEL",
           "PAY_1"
          ],
          [
           0.23736111111111113,
           "LABEL",
           "PAY_1"
          ],
          [
           0.23736111111111113,
           "LABEL",
           "PAY_1"
          ],
          [
           0.23736111111111113,
           "LABEL",
           "PAY_1"
          ],
          [
           0.23736111111111113,
           "LABEL",
           "PAY_1"
          ]
         ],
         "hovertemplate": "<b>%{hovertext}</b><br><br>prediction=%{y:.3f}<br>mean_prediction=%{customdata[0]:.3f}<extra></extra>",
         "hovertext": [
          "LABEL",
          "LABEL",
          "LABEL",
          "LABEL",
          "LABEL",
          "LABEL",
          "LABEL",
          "LABEL",
          "LABEL",
          "LABEL",
          "LABEL",
          "LABEL",
          "LABEL",
          "LABEL",
          "LABEL",
          "LABEL",
          "LABEL",
          "LABEL",
          "LABEL",
          "LABEL",
          "LABEL",
          "LABEL",
          "LABEL",
          "LABEL",
          "LABEL",
          "LABEL",
          "LABEL",
          "LABEL",
          "LABEL",
          "LABEL",
          "LABEL",
          "LABEL",
          "LABEL",
          "LABEL",
          "LABEL",
          "LABEL",
          "LABEL",
          "LABEL",
          "LABEL",
          "LABEL",
          "LABEL",
          "LABEL",
          "LABEL",
          "LABEL",
          "LABEL",
          "LABEL",
          "LABEL",
          "LABEL",
          "LABEL",
          "LABEL",
          "LABEL",
          "LABEL",
          "LABEL",
          "LABEL",
          "LABEL",
          "LABEL",
          "LABEL",
          "LABEL",
          "LABEL",
          "LABEL",
          "LABEL",
          "LABEL",
          "LABEL",
          "LABEL",
          "LABEL",
          "LABEL",
          "LABEL",
          "LABEL",
          "LABEL",
          "LABEL",
          "LABEL",
          "LABEL",
          "LABEL",
          "LABEL",
          "LABEL",
          "LABEL",
          "LABEL",
          "LABEL",
          "LABEL",
          "LABEL",
          "LABEL",
          "LABEL",
          "LABEL",
          "LABEL",
          "LABEL",
          "LABEL",
          "LABEL",
          "LABEL",
          "LABEL",
          "LABEL",
          "LABEL",
          "LABEL",
          "LABEL",
          "LABEL",
          "LABEL",
          "LABEL",
          "LABEL",
          "LABEL",
          "LABEL",
          "LABEL",
          "LABEL"
         ],
         "legendgroup": "LABEL",
         "line": {
          "color": "#46bac2",
          "dash": "solid",
          "width": 2
         },
         "mode": "lines",
         "name": "LABEL",
         "opacity": 1,
         "orientation": "v",
         "showlegend": true,
         "type": "scatter",
         "x": [
          -2,
          -1.93,
          -1.8599999999999999,
          -1.79,
          -1.72,
          -1.65,
          -1.58,
          -1.51,
          -1.44,
          -1.3699999999999999,
          -1.2999999999999998,
          -1.23,
          -1.16,
          -1.0899999999999999,
          -1.02,
          -0.95,
          -0.8799999999999999,
          -0.8099999999999998,
          -0.7399999999999998,
          -0.6699999999999999,
          -0.5999999999999999,
          -0.5299999999999998,
          -0.45999999999999996,
          -0.3899999999999999,
          -0.31999999999999984,
          -0.24999999999999978,
          -0.17999999999999972,
          -0.10999999999999988,
          -0.039999999999999813,
          0.03000000000000025,
          0.10000000000000009,
          0.17000000000000037,
          0.2400000000000002,
          0.31000000000000005,
          0.38000000000000034,
          0.4500000000000002,
          0.5200000000000005,
          0.5900000000000003,
          0.6600000000000001,
          0.7300000000000004,
          0.8000000000000003,
          0.8700000000000001,
          0.9400000000000004,
          1.0100000000000002,
          1.08,
          1.1500000000000004,
          1.2200000000000002,
          1.2900000000000005,
          1.3600000000000003,
          1.4300000000000002,
          1.5000000000000004,
          1.5700000000000003,
          1.6400000000000006,
          1.7100000000000004,
          1.7800000000000002,
          1.8500000000000005,
          1.9200000000000004,
          1.9900000000000002,
          2.0600000000000005,
          2.130000000000001,
          2.2,
          2.2700000000000005,
          2.3400000000000007,
          2.41,
          2.4800000000000004,
          2.5500000000000007,
          2.62,
          2.6900000000000004,
          2.7600000000000007,
          2.83,
          2.9000000000000004,
          2.9700000000000006,
          3.040000000000001,
          3.1100000000000003,
          3.1800000000000006,
          3.250000000000001,
          3.3200000000000003,
          3.3900000000000006,
          3.460000000000001,
          3.5300000000000002,
          3.6000000000000005,
          3.670000000000001,
          3.74,
          3.8100000000000005,
          3.880000000000001,
          3.95,
          4.0200000000000005,
          4.090000000000001,
          4.16,
          4.23,
          4.300000000000001,
          4.370000000000001,
          4.44,
          4.510000000000001,
          4.580000000000001,
          4.65,
          4.720000000000001,
          4.790000000000001,
          4.86,
          4.930000000000001,
          5
         ],
         "xaxis": "x",
         "y": [
          0.22688741581152827,
          0.22688741581152827,
          0.22688741581152827,
          0.22688741581152827,
          0.22688741581152827,
          0.22688741581152827,
          0.22688741581152827,
          0.22688741581152827,
          0.22755181559782775,
          0.22755181559782775,
          0.22755181559782775,
          0.22755181559782775,
          0.22755181559782775,
          0.22755181559782775,
          0.22755181559782775,
          0.22753479827484438,
          0.22753479827484438,
          0.22753479827484438,
          0.22753479827484438,
          0.22753479827484438,
          0.22753479827484438,
          0.22753479827484438,
          0.2229812563238277,
          0.2229812563238277,
          0.2229812563238277,
          0.2229812563238277,
          0.2229812563238277,
          0.2229812563238277,
          0.2229812563238277,
          0.22401077114174944,
          0.22401077114174944,
          0.22401077114174944,
          0.22401077114174944,
          0.22401077114174944,
          0.22401077114174944,
          0.22401077114174944,
          0.2603175159718354,
          0.2603175159718354,
          0.2603175159718354,
          0.2603175159718354,
          0.2603175159718354,
          0.2603175159718354,
          0.2603175159718354,
          0.26792033039163077,
          0.26792033039163077,
          0.26792033039163077,
          0.26792033039163077,
          0.26792033039163077,
          0.26792033039163077,
          0.26792033039163077,
          0.26792033039163077,
          0.5974967559260083,
          0.5974967559260083,
          0.5974967559260083,
          0.5974967559260083,
          0.5974967559260083,
          0.5974967559260083,
          0.5974967559260083,
          0.5976095805584345,
          0.5976095805584345,
          0.5976095805584345,
          0.5976095805584345,
          0.5976095805584345,
          0.5976095805584345,
          0.5976095805584345,
          0.5965994093656426,
          0.5965994093656426,
          0.5965994093656426,
          0.5965994093656426,
          0.5965994093656426,
          0.5965994093656426,
          0.5965994093656426,
          0.5961114943650734,
          0.5961114943650734,
          0.5961114943650734,
          0.5961114943650734,
          0.5961114943650734,
          0.5961114943650734,
          0.5961114943650734,
          0.5879721711748054,
          0.5879721711748054,
          0.5879721711748054,
          0.5879721711748054,
          0.5879721711748054,
          0.5879721711748054,
          0.5879721711748054,
          0.5877991156727325,
          0.5877991156727325,
          0.5877991156727325,
          0.5877991156727325,
          0.5877991156727325,
          0.5877991156727325,
          0.5877991156727325,
          0.5857036077334818,
          0.5857036077334818,
          0.5857036077334818,
          0.5857036077334818,
          0.5857036077334818,
          0.5857036077334818,
          0.5857036077334818,
          0.5857036077334818
         ],
         "yaxis": "y"
        }
       ],
       "layout": {
        "annotations": [
         {
          "font": {
           "size": 13
          },
          "showarrow": false,
          "text": "PAY_1",
          "x": 0.5,
          "xanchor": "center",
          "xref": "paper",
          "y": 1,
          "yanchor": "bottom",
          "yref": "paper"
         },
         {
          "font": {
           "size": 13
          },
          "showarrow": false,
          "text": "prediction",
          "textangle": -90,
          "x": -0.07,
          "xref": "paper",
          "y": 0.5,
          "yref": "paper"
         }
        ],
        "font": {
         "color": "#371ea3"
        },
        "height": 489,
        "hovermode": "x unified",
        "legend": {
         "font": {
          "size": 11
         },
         "itemsizing": "constant",
         "orientation": "h",
         "title": {
          "font": {
           "size": 12
          },
          "text": "label"
         },
         "tracegroupgap": 0,
         "x": 1,
         "xanchor": "right",
         "y": 1.0613496932515338,
         "yanchor": "bottom"
        },
        "margin": {
         "b": 71,
         "r": 30,
         "t": 78
        },
        "template": {
         "data": {
          "scatter": [
           {
            "type": "scatter"
           }
          ]
         }
        },
        "title": {
         "font": {
          "size": 16
         },
         "text": "Aggregated Profiles",
         "x": 0.15
        },
        "xaxis": {
         "anchor": "y",
         "automargin": true,
         "domain": [
          0,
          1
         ],
         "fixedrange": true,
         "gridwidth": 2,
         "showticklabels": true,
         "tickcolor": "white",
         "ticklen": 3,
         "ticks": "outside",
         "title": {
          "text": ""
         },
         "type": "linear",
         "zeroline": false
        },
        "yaxis": {
         "anchor": "x",
         "automargin": true,
         "domain": [
          0,
          1
         ],
         "fixedrange": true,
         "gridwidth": 2,
         "range": [
          0.18551842390036702,
          0.6350724129818952
         ],
         "tickcolor": "white",
         "ticklen": 3,
         "ticks": "outside",
         "title": {
          "text": ""
         },
         "type": "linear",
         "zeroline": false
        }
       }
      }
     },
     "metadata": {},
     "output_type": "display_data"
    }
   ],
   "source": [
    "explainer.model_profile(type='accumulated').plot(variables=['PAY_1'])"
   ]
  },
  {
   "cell_type": "markdown",
   "metadata": {},
   "source": [
    "The model profile shows that the model does indeed depend a lot on the value of the `PAY_1` feature. So much so that if the payment delay is larger than one month, it's very likely you're a defaulter.\n",
    "\n",
    "Feel free to try out other variables from the dataset to see more profiles. You can leave the `variables=` argument out of the explainer call to show all variables."
   ]
  },
  {
   "cell_type": "markdown",
   "metadata": {},
   "source": [
    "## Summary\n",
    "\n",
    "In this notebook we've explored how to use explainers to uncover the structure of a machine-learning model. We've used feature importance permutation to get a better understanding of how important each feature is for the outcome of the model. We then used the Accumulated Local Effects plot to better understand the impact of the `PAY_1` feature on the outcome of the model. \n",
    "\n",
    "In the next notebook `debu-model-predictions.ipynb` we're going to dive into prediction-level explanations. The prediction-level explanations will tell us more about the behavior of the model when we present it with a single data sample."
   ]
  }
 ],
 "metadata": {
  "interpreter": {
   "hash": "2968a23df92eba31d10fb28f66a1f92426e35108626ecd54e02ed28f2d676a12"
  },
  "kernelspec": {
   "display_name": "Python 3.9.7 64-bit ('explainable-ai-with-dalex-QT8H1uAs-py3.9': poetry)",
   "name": "python3"
  },
  "language_info": {
   "codemirror_mode": {
    "name": "ipython",
    "version": 3
   },
   "file_extension": ".py",
   "mimetype": "text/x-python",
   "name": "python",
   "nbconvert_exporter": "python",
   "pygments_lexer": "ipython3",
   "version": "3.9.7"
  },
  "orig_nbformat": 2
 },
 "nbformat": 4,
 "nbformat_minor": 2
}
