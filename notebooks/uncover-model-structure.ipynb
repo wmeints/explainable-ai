{
 "metadata": {
  "language_info": {
   "codemirror_mode": {
    "name": "ipython",
    "version": 3
   },
   "file_extension": ".py",
   "mimetype": "text/x-python",
   "name": "python",
   "nbconvert_exporter": "python",
   "pygments_lexer": "ipython3",
   "version": "3.8.6"
  },
  "orig_nbformat": 2,
  "kernelspec": {
   "name": "python3",
   "display_name": "Python 3.8.6 64-bit ('explainable-ai-with-dalex-QT8H1uAs-py3.8': poetry)"
  },
  "interpreter": {
   "hash": "1529c841f0897af08fcd1f389687314b5ca1ee89ea8f2559d4ceef4a2a8a9a82"
  }
 },
 "nbformat": 4,
 "nbformat_minor": 2,
 "cells": [
  {
   "source": [
    "# Uncover model structure\n",
    "\n",
    "In this notebook we're going to explore methods to uncover the structure of your machine learning model. We'll cover the following topics:\n",
    "\n",
    "* Calculating feature importance\n",
    "* Creating a model profile\n",
    "\n",
    "If you haven't read the README.md file yet, we encourage that you read that document first. It provides an important introduction to the use-case and dataset used in this notebook and other notebooks in the project.\n",
    "\n",
    "Let's start by preparing everything we need for this notebook."
   ],
   "cell_type": "markdown",
   "metadata": {}
  },
  {
   "source": [
    "## Preparation steps\n",
    "\n",
    "Before we can use an explainer on our model, we need to load a test dataset and the model itself. The model for this demo is based on the [UCI Credit card defaulters dataset](https://archive.ics.uci.edu/ml/datasets/default+of+credit+card+clients). You can learn more about training the model in `tasks/train-model.py`. For more details on the data preparation you can check out the `tasks/prepare-data.py` and `tasks/split-data.py` scripts.\n",
    "\n",
    "Let's start by loading up the necessary Python packages:"
   ],
   "cell_type": "markdown",
   "metadata": {}
  },
  {
   "cell_type": "code",
   "execution_count": 1,
   "metadata": {},
   "outputs": [],
   "source": [
    "import joblib\n",
    "import pandas as pd"
   ]
  },
  {
   "source": [
    "After loading the libraries for the model, let's load the model and some test data.\n",
    "You can use `df_test.head()` to see what's in the dataset if you want."
   ],
   "cell_type": "markdown",
   "metadata": {}
  },
  {
   "cell_type": "code",
   "execution_count": 3,
   "metadata": {},
   "outputs": [],
   "source": [
    "model = joblib.load('../models/classifier.bin')\n",
    "df_test = pd.read_csv('../data/processed/test.csv').sample(385)\n",
    "\n",
    "x_test = df_test.drop('LABEL', axis=1)\n",
    "y_test = df_test['LABEL']"
   ]
  },
  {
   "source": [
    "With the dataset and model ready to go, let's begin calculating feature importance information for the model."
   ],
   "cell_type": "markdown",
   "metadata": {}
  },
  {
   "source": [
    "## Calculating feature importance\n",
    "\n",
    "One method to get more insight into the behavior of your model is to use a [permutation feature importance](https://scikit-learn.org/stable/modules/permutation_importance.html) algorithm. This algorithm calculates the impact of each feature on the outcome of your model. From the feature importance you can learn which features matter the most to your model. You can use this knowledge to target the model to the most important features and remove others that don't make a lot of sense. This can reduce the error margin in your model. Feature importance can also help improve the dataset by improving the data quality of the most important features.\n",
    "\n",
    "In Dalex, you can use the `model_parts` method to get the feature importance of your model:"
   ],
   "cell_type": "markdown",
   "metadata": {}
  },
  {
   "cell_type": "code",
   "execution_count": 5,
   "metadata": {},
   "outputs": [],
   "source": [
    "import dalex as dx"
   ]
  },
  {
   "cell_type": "code",
   "execution_count": 8,
   "metadata": {},
   "outputs": [
    {
     "output_type": "stream",
     "name": "stdout",
     "text": [
      "Preparation of a new explainer is initiated\n\n  -> data              : 385 rows 29 cols\n  -> target variable   : Parameter 'y' was a pandas.Series. Converted to a numpy.ndarray.\n  -> target variable   : 385 values\n  -> model_class       : sklearn.ensemble._forest.RandomForestClassifier (default)\n  -> label             : Not specified, model's class short name will be used. (default)\n  -> predict function  : <function yhat_proba_default at 0x000001888A8A1AF0> will be used (default)\n  -> predict function  : Accepts pandas.DataFrame and numpy.ndarray.\n  -> predicted values  : min = 0.0, mean = 0.237, max = 0.93\n  -> model type        : classifier will be used\n  -> residual function : difference between y and yhat (default)\n  -> residuals         : min = -0.78, mean = 0.0175, max = 0.98\n  -> model_info        : package sklearn\n\nA new explainer has been created!\n"
     ]
    }
   ],
   "source": [
    "explainer = dx.Explainer(model, x_test, y_test, model_type='classifier')"
   ]
  },
  {
   "cell_type": "code",
   "execution_count": 12,
   "metadata": {},
   "outputs": [
    {
     "output_type": "display_data",
     "data": {
      "application/vnd.plotly.v1+json": {
       "config": {
        "displaylogo": false,
        "modeBarButtonsToRemove": [
         "sendDataToCloud",
         "lasso2d",
         "autoScale2d",
         "select2d",
         "zoom2d",
         "pan2d",
         "zoomIn2d",
         "zoomOut2d",
         "resetScale2d",
         "toggleSpikelines",
         "hoverCompareCartesian",
         "hoverClosestCartesian"
        ],
        "plotlyServerURL": "https://plot.ly",
        "staticPlot": false,
        "toImageButtonOptions": {
         "height": null,
         "width": null
        }
       },
       "data": [
        {
         "base": 0.3939022960470894,
         "hoverinfo": "text",
         "hoverlabel": {
          "bgcolor": "rgba(0,0,0,0.8)"
         },
         "hovertext": [
          "Model: RandomForestClassifier loss after<br>variable: PAY_1 is permuted: 0.425<br>Drop-out loss change: +0.031",
          "Model: RandomForestClassifier loss after<br>variable: PAY_2 is permuted: 0.4<br>Drop-out loss change: +0.006",
          "Model: RandomForestClassifier loss after<br>variable: BILL_AMT2 is permuted: 0.397<br>Drop-out loss change: +0.003",
          "Model: RandomForestClassifier loss after<br>variable: BILL_AMT3 is permuted: 0.397<br>Drop-out loss change: +0.003",
          "Model: RandomForestClassifier loss after<br>variable: PAY_3 is permuted: 0.396<br>Drop-out loss change: +0.002",
          "Model: RandomForestClassifier loss after<br>variable: PAY_5 is permuted: 0.396<br>Drop-out loss change: +0.002",
          "Model: RandomForestClassifier loss after<br>variable: EDUCATION_university is permuted: 0.395<br>Drop-out loss change: +0.002",
          "Model: RandomForestClassifier loss after<br>variable: LIMIT_BAL is permuted: 0.395<br>Drop-out loss change: +0.001",
          "Model: RandomForestClassifier loss after<br>variable: AGE is permuted: 0.395<br>Drop-out loss change: +0.001",
          "Model: RandomForestClassifier loss after<br>variable: PAY_6 is permuted: 0.395<br>Drop-out loss change: +0.001"
         ],
         "marker": {
          "color": "#46bac2"
         },
         "orientation": "h",
         "showlegend": false,
         "text": [
          "+0.031",
          "+0.006",
          "+0.003",
          "+0.003",
          "+0.002",
          "+0.002",
          "+0.002",
          "+0.001",
          "+0.001",
          "+0.001"
         ],
         "textposition": "outside",
         "type": "bar",
         "x": [
          0.03120013873766564,
          0.006499432004388961,
          0.003079917209984462,
          0.003002688934510611,
          0.00194178357374708,
          0.0018991764270681055,
          0.0015805473726882568,
          0.0014779216262248984,
          0.0014684847198529472,
          0.001263517041597939
         ],
         "xaxis": "x",
         "y": [
          "PAY_1",
          "PAY_2",
          "BILL_AMT2",
          "BILL_AMT3",
          "PAY_3",
          "PAY_5",
          "EDUCATION_university",
          "LIMIT_BAL",
          "AGE",
          "PAY_6"
         ],
         "yaxis": "y"
        }
       ],
       "layout": {
        "annotations": [
         {
          "font": {
           "size": 16
          },
          "showarrow": false,
          "text": "RandomForestClassifier",
          "x": 0.5,
          "xanchor": "center",
          "xref": "paper",
          "y": 1,
          "yanchor": "bottom",
          "yref": "paper"
         },
         {
          "font": {
           "size": 16
          },
          "showarrow": false,
          "text": "drop-out loss",
          "x": 0.5,
          "xanchor": "center",
          "xref": "paper",
          "y": 0,
          "yanchor": "top",
          "yref": "paper",
          "yshift": -30
         }
        ],
        "font": {
         "color": "#371ea3"
        },
        "height": 383,
        "margin": {
         "b": 71,
         "r": 30,
         "t": 78
        },
        "shapes": [
         {
          "line": {
           "color": "#371ea3",
           "dash": "dot",
           "width": 1.5
          },
          "type": "line",
          "x0": 0.3939022960470894,
          "x1": 0.3939022960470894,
          "xref": "x",
          "y0": -1,
          "y1": 10,
          "yref": "y"
         }
        ],
        "template": {
         "data": {
          "scatter": [
           {
            "type": "scatter"
           }
          ]
         }
        },
        "title": {
         "text": "Variable Importance",
         "x": 0.15
        },
        "xaxis": {
         "anchor": "y",
         "automargin": true,
         "domain": [
          0,
          1
         ],
         "fixedrange": true,
         "gridwidth": 2,
         "range": [
          0.3846570390625777,
          0.43037792118329987
         ],
         "tickcolor": "white",
         "ticklen": 3,
         "ticks": "outside",
         "type": "linear",
         "zeroline": false
        },
        "yaxis": {
         "anchor": "x",
         "automargin": true,
         "autorange": "reversed",
         "domain": [
          0,
          1
         ],
         "fixedrange": true,
         "gridwidth": 2,
         "tickcolor": "white",
         "ticklen": 10,
         "ticks": "outside",
         "type": "category"
        }
       }
      }
     },
     "metadata": {}
    }
   ],
   "source": [
    "explainer.model_parts(type='variable_importance').plot()"
   ]
  },
  {
   "source": [
    "The explainer shows the features in order of importance. The key feature for this model is the `PAY_1` feature. This feature indicates whether someone payed on time in the first month, or later. Value -1 is on time, values higher indicate a delay in payments for the bill given in the first month. As this is a model that predicts defaulters, you could say that the payment status for the first month is a good indicator."
   ],
   "cell_type": "markdown",
   "metadata": {}
  },
  {
   "source": [
    "Let's continue exploring the structure of the model by diving into the features a bit more. "
   ],
   "cell_type": "markdown",
   "metadata": {}
  },
  {
   "source": [
    "## Creating a model profile\n",
    "\n",
    "You can learn more about features by profiling them on a model-level. This gives you information about the different values of a feature and the influence of that value on the outcome of the model.\n",
    "We're using the [accumulated local effects](https://arxiv.org/abs/1612.08468) algorithm to get the information. The model profile allows you to ask the question: \"What happens if I change the value of this one feature?\":"
   ],
   "cell_type": "markdown",
   "metadata": {}
  },
  {
   "cell_type": "code",
   "execution_count": 13,
   "metadata": {},
   "outputs": [
    {
     "output_type": "stream",
     "name": "stderr",
     "text": [
      "Calculating ceteris paribus: 100%|██████████| 29/29 [00:11<00:00,  2.60it/s]\n",
      "Calculating accumulated dependency: 100%|██████████| 29/29 [00:04<00:00,  6.43it/s]\n"
     ]
    },
    {
     "output_type": "display_data",
     "data": {
      "application/vnd.plotly.v1+json": {
       "config": {
        "displaylogo": false,
        "modeBarButtonsToRemove": [
         "sendDataToCloud",
         "lasso2d",
         "autoScale2d",
         "select2d",
         "zoom2d",
         "pan2d",
         "zoomIn2d",
         "zoomOut2d",
         "resetScale2d",
         "toggleSpikelines",
         "hoverCompareCartesian",
         "hoverClosestCartesian"
        ],
        "plotlyServerURL": "https://plot.ly",
        "staticPlot": false,
        "toImageButtonOptions": {
         "height": null,
         "width": null
        }
       },
       "data": [
        {
         "customdata": [
          [
           0.23721722222222222,
           "RandomForestClassifier",
           "PAY_1"
          ],
          [
           0.23721722222222222,
           "RandomForestClassifier",
           "PAY_1"
          ],
          [
           0.23721722222222222,
           "RandomForestClassifier",
           "PAY_1"
          ],
          [
           0.23721722222222222,
           "RandomForestClassifier",
           "PAY_1"
          ],
          [
           0.23721722222222222,
           "RandomForestClassifier",
           "PAY_1"
          ],
          [
           0.23721722222222222,
           "RandomForestClassifier",
           "PAY_1"
          ],
          [
           0.23721722222222222,
           "RandomForestClassifier",
           "PAY_1"
          ],
          [
           0.23721722222222222,
           "RandomForestClassifier",
           "PAY_1"
          ],
          [
           0.23721722222222222,
           "RandomForestClassifier",
           "PAY_1"
          ],
          [
           0.23721722222222222,
           "RandomForestClassifier",
           "PAY_1"
          ],
          [
           0.23721722222222222,
           "RandomForestClassifier",
           "PAY_1"
          ],
          [
           0.23721722222222222,
           "RandomForestClassifier",
           "PAY_1"
          ],
          [
           0.23721722222222222,
           "RandomForestClassifier",
           "PAY_1"
          ],
          [
           0.23721722222222222,
           "RandomForestClassifier",
           "PAY_1"
          ],
          [
           0.23721722222222222,
           "RandomForestClassifier",
           "PAY_1"
          ],
          [
           0.23721722222222222,
           "RandomForestClassifier",
           "PAY_1"
          ],
          [
           0.23721722222222222,
           "RandomForestClassifier",
           "PAY_1"
          ],
          [
           0.23721722222222222,
           "RandomForestClassifier",
           "PAY_1"
          ],
          [
           0.23721722222222222,
           "RandomForestClassifier",
           "PAY_1"
          ],
          [
           0.23721722222222222,
           "RandomForestClassifier",
           "PAY_1"
          ],
          [
           0.23721722222222222,
           "RandomForestClassifier",
           "PAY_1"
          ],
          [
           0.23721722222222222,
           "RandomForestClassifier",
           "PAY_1"
          ],
          [
           0.23721722222222222,
           "RandomForestClassifier",
           "PAY_1"
          ],
          [
           0.23721722222222222,
           "RandomForestClassifier",
           "PAY_1"
          ],
          [
           0.23721722222222222,
           "RandomForestClassifier",
           "PAY_1"
          ],
          [
           0.23721722222222222,
           "RandomForestClassifier",
           "PAY_1"
          ],
          [
           0.23721722222222222,
           "RandomForestClassifier",
           "PAY_1"
          ],
          [
           0.23721722222222222,
           "RandomForestClassifier",
           "PAY_1"
          ],
          [
           0.23721722222222222,
           "RandomForestClassifier",
           "PAY_1"
          ],
          [
           0.23721722222222222,
           "RandomForestClassifier",
           "PAY_1"
          ],
          [
           0.23721722222222222,
           "RandomForestClassifier",
           "PAY_1"
          ],
          [
           0.23721722222222222,
           "RandomForestClassifier",
           "PAY_1"
          ],
          [
           0.23721722222222222,
           "RandomForestClassifier",
           "PAY_1"
          ],
          [
           0.23721722222222222,
           "RandomForestClassifier",
           "PAY_1"
          ],
          [
           0.23721722222222222,
           "RandomForestClassifier",
           "PAY_1"
          ],
          [
           0.23721722222222222,
           "RandomForestClassifier",
           "PAY_1"
          ],
          [
           0.23721722222222222,
           "RandomForestClassifier",
           "PAY_1"
          ],
          [
           0.23721722222222222,
           "RandomForestClassifier",
           "PAY_1"
          ],
          [
           0.23721722222222222,
           "RandomForestClassifier",
           "PAY_1"
          ],
          [
           0.23721722222222222,
           "RandomForestClassifier",
           "PAY_1"
          ],
          [
           0.23721722222222222,
           "RandomForestClassifier",
           "PAY_1"
          ],
          [
           0.23721722222222222,
           "RandomForestClassifier",
           "PAY_1"
          ],
          [
           0.23721722222222222,
           "RandomForestClassifier",
           "PAY_1"
          ],
          [
           0.23721722222222222,
           "RandomForestClassifier",
           "PAY_1"
          ],
          [
           0.23721722222222222,
           "RandomForestClassifier",
           "PAY_1"
          ],
          [
           0.23721722222222222,
           "RandomForestClassifier",
           "PAY_1"
          ],
          [
           0.23721722222222222,
           "RandomForestClassifier",
           "PAY_1"
          ],
          [
           0.23721722222222222,
           "RandomForestClassifier",
           "PAY_1"
          ],
          [
           0.23721722222222222,
           "RandomForestClassifier",
           "PAY_1"
          ],
          [
           0.23721722222222222,
           "RandomForestClassifier",
           "PAY_1"
          ],
          [
           0.23721722222222222,
           "RandomForestClassifier",
           "PAY_1"
          ],
          [
           0.23721722222222222,
           "RandomForestClassifier",
           "PAY_1"
          ],
          [
           0.23721722222222222,
           "RandomForestClassifier",
           "PAY_1"
          ],
          [
           0.23721722222222222,
           "RandomForestClassifier",
           "PAY_1"
          ],
          [
           0.23721722222222222,
           "RandomForestClassifier",
           "PAY_1"
          ],
          [
           0.23721722222222222,
           "RandomForestClassifier",
           "PAY_1"
          ],
          [
           0.23721722222222222,
           "RandomForestClassifier",
           "PAY_1"
          ],
          [
           0.23721722222222222,
           "RandomForestClassifier",
           "PAY_1"
          ],
          [
           0.23721722222222222,
           "RandomForestClassifier",
           "PAY_1"
          ],
          [
           0.23721722222222222,
           "RandomForestClassifier",
           "PAY_1"
          ],
          [
           0.23721722222222222,
           "RandomForestClassifier",
           "PAY_1"
          ],
          [
           0.23721722222222222,
           "RandomForestClassifier",
           "PAY_1"
          ],
          [
           0.23721722222222222,
           "RandomForestClassifier",
           "PAY_1"
          ],
          [
           0.23721722222222222,
           "RandomForestClassifier",
           "PAY_1"
          ],
          [
           0.23721722222222222,
           "RandomForestClassifier",
           "PAY_1"
          ],
          [
           0.23721722222222222,
           "RandomForestClassifier",
           "PAY_1"
          ],
          [
           0.23721722222222222,
           "RandomForestClassifier",
           "PAY_1"
          ],
          [
           0.23721722222222222,
           "RandomForestClassifier",
           "PAY_1"
          ],
          [
           0.23721722222222222,
           "RandomForestClassifier",
           "PAY_1"
          ],
          [
           0.23721722222222222,
           "RandomForestClassifier",
           "PAY_1"
          ],
          [
           0.23721722222222222,
           "RandomForestClassifier",
           "PAY_1"
          ],
          [
           0.23721722222222222,
           "RandomForestClassifier",
           "PAY_1"
          ],
          [
           0.23721722222222222,
           "RandomForestClassifier",
           "PAY_1"
          ],
          [
           0.23721722222222222,
           "RandomForestClassifier",
           "PAY_1"
          ],
          [
           0.23721722222222222,
           "RandomForestClassifier",
           "PAY_1"
          ],
          [
           0.23721722222222222,
           "RandomForestClassifier",
           "PAY_1"
          ],
          [
           0.23721722222222222,
           "RandomForestClassifier",
           "PAY_1"
          ],
          [
           0.23721722222222222,
           "RandomForestClassifier",
           "PAY_1"
          ],
          [
           0.23721722222222222,
           "RandomForestClassifier",
           "PAY_1"
          ],
          [
           0.23721722222222222,
           "RandomForestClassifier",
           "PAY_1"
          ],
          [
           0.23721722222222222,
           "RandomForestClassifier",
           "PAY_1"
          ],
          [
           0.23721722222222222,
           "RandomForestClassifier",
           "PAY_1"
          ],
          [
           0.23721722222222222,
           "RandomForestClassifier",
           "PAY_1"
          ],
          [
           0.23721722222222222,
           "RandomForestClassifier",
           "PAY_1"
          ],
          [
           0.23721722222222222,
           "RandomForestClassifier",
           "PAY_1"
          ],
          [
           0.23721722222222222,
           "RandomForestClassifier",
           "PAY_1"
          ],
          [
           0.23721722222222222,
           "RandomForestClassifier",
           "PAY_1"
          ],
          [
           0.23721722222222222,
           "RandomForestClassifier",
           "PAY_1"
          ],
          [
           0.23721722222222222,
           "RandomForestClassifier",
           "PAY_1"
          ],
          [
           0.23721722222222222,
           "RandomForestClassifier",
           "PAY_1"
          ],
          [
           0.23721722222222222,
           "RandomForestClassifier",
           "PAY_1"
          ],
          [
           0.23721722222222222,
           "RandomForestClassifier",
           "PAY_1"
          ],
          [
           0.23721722222222222,
           "RandomForestClassifier",
           "PAY_1"
          ],
          [
           0.23721722222222222,
           "RandomForestClassifier",
           "PAY_1"
          ],
          [
           0.23721722222222222,
           "RandomForestClassifier",
           "PAY_1"
          ],
          [
           0.23721722222222222,
           "RandomForestClassifier",
           "PAY_1"
          ],
          [
           0.23721722222222222,
           "RandomForestClassifier",
           "PAY_1"
          ],
          [
           0.23721722222222222,
           "RandomForestClassifier",
           "PAY_1"
          ],
          [
           0.23721722222222222,
           "RandomForestClassifier",
           "PAY_1"
          ],
          [
           0.23721722222222222,
           "RandomForestClassifier",
           "PAY_1"
          ],
          [
           0.23721722222222222,
           "RandomForestClassifier",
           "PAY_1"
          ]
         ],
         "hovertemplate": "<b>%{hovertext}</b><br><br>prediction=%{y:.3f}<br>mean_prediction=%{customdata[0]:.3f}<extra></extra>",
         "hovertext": [
          "RandomForestClassifier",
          "RandomForestClassifier",
          "RandomForestClassifier",
          "RandomForestClassifier",
          "RandomForestClassifier",
          "RandomForestClassifier",
          "RandomForestClassifier",
          "RandomForestClassifier",
          "RandomForestClassifier",
          "RandomForestClassifier",
          "RandomForestClassifier",
          "RandomForestClassifier",
          "RandomForestClassifier",
          "RandomForestClassifier",
          "RandomForestClassifier",
          "RandomForestClassifier",
          "RandomForestClassifier",
          "RandomForestClassifier",
          "RandomForestClassifier",
          "RandomForestClassifier",
          "RandomForestClassifier",
          "RandomForestClassifier",
          "RandomForestClassifier",
          "RandomForestClassifier",
          "RandomForestClassifier",
          "RandomForestClassifier",
          "RandomForestClassifier",
          "RandomForestClassifier",
          "RandomForestClassifier",
          "RandomForestClassifier",
          "RandomForestClassifier",
          "RandomForestClassifier",
          "RandomForestClassifier",
          "RandomForestClassifier",
          "RandomForestClassifier",
          "RandomForestClassifier",
          "RandomForestClassifier",
          "RandomForestClassifier",
          "RandomForestClassifier",
          "RandomForestClassifier",
          "RandomForestClassifier",
          "RandomForestClassifier",
          "RandomForestClassifier",
          "RandomForestClassifier",
          "RandomForestClassifier",
          "RandomForestClassifier",
          "RandomForestClassifier",
          "RandomForestClassifier",
          "RandomForestClassifier",
          "RandomForestClassifier",
          "RandomForestClassifier",
          "RandomForestClassifier",
          "RandomForestClassifier",
          "RandomForestClassifier",
          "RandomForestClassifier",
          "RandomForestClassifier",
          "RandomForestClassifier",
          "RandomForestClassifier",
          "RandomForestClassifier",
          "RandomForestClassifier",
          "RandomForestClassifier",
          "RandomForestClassifier",
          "RandomForestClassifier",
          "RandomForestClassifier",
          "RandomForestClassifier",
          "RandomForestClassifier",
          "RandomForestClassifier",
          "RandomForestClassifier",
          "RandomForestClassifier",
          "RandomForestClassifier",
          "RandomForestClassifier",
          "RandomForestClassifier",
          "RandomForestClassifier",
          "RandomForestClassifier",
          "RandomForestClassifier",
          "RandomForestClassifier",
          "RandomForestClassifier",
          "RandomForestClassifier",
          "RandomForestClassifier",
          "RandomForestClassifier",
          "RandomForestClassifier",
          "RandomForestClassifier",
          "RandomForestClassifier",
          "RandomForestClassifier",
          "RandomForestClassifier",
          "RandomForestClassifier",
          "RandomForestClassifier",
          "RandomForestClassifier",
          "RandomForestClassifier",
          "RandomForestClassifier",
          "RandomForestClassifier",
          "RandomForestClassifier",
          "RandomForestClassifier",
          "RandomForestClassifier",
          "RandomForestClassifier",
          "RandomForestClassifier",
          "RandomForestClassifier",
          "RandomForestClassifier",
          "RandomForestClassifier",
          "RandomForestClassifier",
          "RandomForestClassifier"
         ],
         "legendgroup": "RandomForestClassifier",
         "line": {
          "color": "#46bac2",
          "dash": "solid",
          "width": 2
         },
         "mode": "lines",
         "name": "RandomForestClassifier",
         "opacity": 1,
         "orientation": "v",
         "showlegend": true,
         "type": "scatter",
         "x": [
          -2,
          -1.93,
          -1.8599999999999999,
          -1.79,
          -1.72,
          -1.65,
          -1.58,
          -1.51,
          -1.44,
          -1.3699999999999999,
          -1.2999999999999998,
          -1.23,
          -1.16,
          -1.0899999999999999,
          -1.02,
          -0.95,
          -0.8799999999999999,
          -0.8099999999999998,
          -0.7399999999999998,
          -0.6699999999999999,
          -0.5999999999999999,
          -0.5299999999999998,
          -0.45999999999999996,
          -0.3899999999999999,
          -0.31999999999999984,
          -0.24999999999999978,
          -0.17999999999999972,
          -0.10999999999999988,
          -0.039999999999999813,
          0.03000000000000025,
          0.10000000000000009,
          0.17000000000000037,
          0.2400000000000002,
          0.31000000000000005,
          0.38000000000000034,
          0.4500000000000002,
          0.5200000000000005,
          0.5900000000000003,
          0.6600000000000001,
          0.7300000000000004,
          0.8000000000000003,
          0.8700000000000001,
          0.9400000000000004,
          1.0100000000000002,
          1.08,
          1.1500000000000004,
          1.2200000000000002,
          1.2900000000000005,
          1.3600000000000003,
          1.4300000000000002,
          1.5000000000000004,
          1.5700000000000003,
          1.6400000000000006,
          1.7100000000000004,
          1.7800000000000002,
          1.8500000000000005,
          1.9200000000000004,
          1.9900000000000002,
          2.0600000000000005,
          2.130000000000001,
          2.2,
          2.2700000000000005,
          2.3400000000000007,
          2.41,
          2.4800000000000004,
          2.5500000000000007,
          2.62,
          2.6900000000000004,
          2.7600000000000007,
          2.83,
          2.9000000000000004,
          2.9700000000000006,
          3.040000000000001,
          3.1100000000000003,
          3.1800000000000006,
          3.250000000000001,
          3.3200000000000003,
          3.3900000000000006,
          3.460000000000001,
          3.5300000000000002,
          3.6000000000000005,
          3.670000000000001,
          3.74,
          3.8100000000000005,
          3.880000000000001,
          3.95,
          4.0200000000000005,
          4.090000000000001,
          4.16,
          4.23,
          4.300000000000001,
          4.370000000000001,
          4.44,
          4.510000000000001,
          4.580000000000001,
          4.65,
          4.720000000000001,
          4.790000000000001,
          4.86,
          4.930000000000001,
          5
         ],
         "xaxis": "x",
         "y": [
          0.2268444754855389,
          0.2268444754855389,
          0.2268444754855389,
          0.2268444754855389,
          0.2268444754855389,
          0.2268444754855389,
          0.2268444754855389,
          0.2268444754855389,
          0.22631667631958088,
          0.22631667631958088,
          0.22631667631958088,
          0.22631667631958088,
          0.22631667631958088,
          0.22631667631958088,
          0.22631667631958088,
          0.22637334783267418,
          0.22637334783267418,
          0.22637334783267418,
          0.22637334783267418,
          0.22637334783267418,
          0.22637334783267418,
          0.22637334783267418,
          0.22179502520678823,
          0.22179502520678823,
          0.22179502520678823,
          0.22179502520678823,
          0.22179502520678823,
          0.22179502520678823,
          0.22179502520678823,
          0.22290274123719547,
          0.22290274123719547,
          0.22290274123719547,
          0.22290274123719547,
          0.22290274123719547,
          0.22290274123719547,
          0.22290274123719547,
          0.2551675868437397,
          0.2551675868437397,
          0.2551675868437397,
          0.2551675868437397,
          0.2551675868437397,
          0.2551675868437397,
          0.2551675868437397,
          0.26231955366640985,
          0.26231955366640985,
          0.26231955366640985,
          0.26231955366640985,
          0.26231955366640985,
          0.26231955366640985,
          0.26231955366640985,
          0.26231955366640985,
          0.5631560320629996,
          0.5631560320629996,
          0.5631560320629996,
          0.5631560320629996,
          0.5631560320629996,
          0.5631560320629996,
          0.5631560320629996,
          0.5633938460405181,
          0.5633938460405181,
          0.5633938460405181,
          0.5633938460405181,
          0.5633938460405181,
          0.5633938460405181,
          0.5633938460405181,
          0.5660161555230366,
          0.5660161555230366,
          0.5660161555230366,
          0.5660161555230366,
          0.5660161555230366,
          0.5660161555230366,
          0.5660161555230366,
          0.5660763822579351,
          0.5660763822579351,
          0.5660763822579351,
          0.5660763822579351,
          0.5660763822579351,
          0.5660763822579351,
          0.5660763822579351,
          0.5582318628935234,
          0.5582318628935234,
          0.5582318628935234,
          0.5582318628935234,
          0.5582318628935234,
          0.5582318628935234,
          0.5582318628935234,
          0.5580433357449318,
          0.5580433357449318,
          0.5580433357449318,
          0.5580433357449318,
          0.5580433357449318,
          0.5580433357449318,
          0.5580433357449318,
          0.5555632770946413,
          0.5555632770946413,
          0.5555632770946413,
          0.5555632770946413,
          0.5555632770946413,
          0.5555632770946413,
          0.5555632770946413,
          0.5555632770946413
         ],
         "yaxis": "y"
        }
       ],
       "layout": {
        "annotations": [
         {
          "font": {
           "size": 13
          },
          "showarrow": false,
          "text": "PAY_1",
          "x": 0.5,
          "xanchor": "center",
          "xref": "paper",
          "y": 1,
          "yanchor": "bottom",
          "yref": "paper"
         },
         {
          "font": {
           "size": 13
          },
          "showarrow": false,
          "text": "prediction",
          "textangle": -90,
          "x": -0.07,
          "xref": "paper",
          "y": 0.5,
          "yref": "paper"
         }
        ],
        "font": {
         "color": "#371ea3"
        },
        "height": 489,
        "hovermode": "x unified",
        "legend": {
         "font": {
          "size": 11
         },
         "itemsizing": "constant",
         "orientation": "h",
         "title": {
          "font": {
           "size": 12
          },
          "text": "label"
         },
         "tracegroupgap": 0,
         "x": 1,
         "xanchor": "right",
         "y": 1.0613496932515338,
         "yanchor": "bottom"
        },
        "margin": {
         "b": 71,
         "r": 30,
         "t": 78
        },
        "template": {
         "data": {
          "scatter": [
           {
            "type": "scatter"
           }
          ]
         }
        },
        "title": {
         "font": {
          "size": 16
         },
         "text": "Aggregated Profiles",
         "x": 0.15
        },
        "xaxis": {
         "anchor": "y",
         "automargin": true,
         "domain": [
          0,
          1
         ],
         "fixedrange": true,
         "gridwidth": 2,
         "showticklabels": true,
         "tickcolor": "white",
         "ticklen": 3,
         "ticks": "outside",
         "title": {
          "text": ""
         },
         "type": "linear",
         "zeroline": false
        },
        "yaxis": {
         "anchor": "x",
         "automargin": true,
         "domain": [
          0,
          1
         ],
         "fixedrange": true,
         "gridwidth": 2,
         "range": [
          0.18736688950167354,
          0.6005045179630498
         ],
         "tickcolor": "white",
         "ticklen": 3,
         "ticks": "outside",
         "title": {
          "text": ""
         },
         "type": "linear",
         "zeroline": false
        }
       }
      }
     },
     "metadata": {}
    }
   ],
   "source": [
    "explainer.model_profile(type='accumulated').plot(variables=['PAY_1'])"
   ]
  },
  {
   "source": [
    "The model profile shows that the model does indeed depend a lot on the value of the `PAY_1` feature. So much so that if the payment delay is larger than one month, it's very likely you're a defaulter.\n",
    "\n",
    "Feel free to try out other variables from the dataset to see more profiles. You can leave the `variables=` argument out of the explainer call to show all variables."
   ],
   "cell_type": "markdown",
   "metadata": {}
  },
  {
   "source": [
    "## Summary\n",
    "\n",
    "In this notebook we've explored how to use explainers to uncover the structure of a machine-learning model. We've used feature importance permutation to get a better understanding of how important each feature is for the outcome of the model. We then used the Accumulated Local Effects plot to better understand the impact of the `PAY_1` feature on the outcome of the model. \n",
    "\n",
    "In the next notebook `debugging-with-explainers.ipynb` we're going to dive into prediction-level explanations. The prediction-level explanations will tell us more about the behavior of the model when we present it with a single data sample."
   ],
   "cell_type": "markdown",
   "metadata": {}
  }
 ]
}